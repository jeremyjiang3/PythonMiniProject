{
 "cells": [
  {
   "cell_type": "markdown",
   "metadata": {},
   "source": [
    "___\n",
    "\n",
    "<a href='http://www.pieriandata.com'> <img src='../Pierian_Data_Logo.png' /></a>\n",
    "___\n",
    "# Plotly and Cufflinks"
   ]
  },
  {
   "cell_type": "markdown",
   "metadata": {},
   "source": [
    "Plotly is a library that allows you to create interactive plots that you can use in dashboards or websites (you can save them as html files or static images).\n",
    "\n",
    "## Installation\n",
    "\n",
    "In order for this all to work, you'll need to install plotly and cufflinks to call plots directly off of a pandas dataframe. These libraries are not currently available through **conda** but are available through **pip**. Install the libraries at your command line/terminal using:\n",
    "\n",
    "    pip install plotly\n",
    "    pip install cufflinks\n",
    "\n",
    "** NOTE: Make sure you only have one installation of Python on your computer when you do this, otherwise the installation may not work. **\n",
    "\n",
    "    pip install chart-studio\n",
    "\n",
    "## Imports and Set-up"
   ]
  },
  {
   "cell_type": "code",
   "execution_count": 1,
   "metadata": {},
   "outputs": [],
   "source": [
    "\n",
    "\n",
    "import pandas as pd\n",
    "import numpy as np\n",
    "import chart_studio.plotly as py\n",
    "%matplotlib inline"
   ]
  },
  {
   "cell_type": "code",
   "execution_count": 2,
   "metadata": {},
   "outputs": [
    {
     "name": "stdout",
     "output_type": "stream",
     "text": [
      "4.9.0\n"
     ]
    }
   ],
   "source": [
    "from plotly import __version__\n",
    "from plotly.offline import download_plotlyjs, init_notebook_mode, plot, iplot\n",
    "\n",
    "print(__version__) # requires version >= 1.9.0"
   ]
  },
  {
   "cell_type": "code",
   "execution_count": 3,
   "metadata": {},
   "outputs": [],
   "source": [
    "import cufflinks as cf"
   ]
  },
  {
   "cell_type": "code",
   "execution_count": 4,
   "metadata": {},
   "outputs": [
    {
     "data": {
      "text/html": [
       "        <script type=\"text/javascript\">\n",
       "        window.PlotlyConfig = {MathJaxConfig: 'local'};\n",
       "        if (window.MathJax) {MathJax.Hub.Config({SVG: {font: \"STIX-Web\"}});}\n",
       "        if (typeof require !== 'undefined') {\n",
       "        require.undef(\"plotly\");\n",
       "        requirejs.config({\n",
       "            paths: {\n",
       "                'plotly': ['https://cdn.plot.ly/plotly-latest.min']\n",
       "            }\n",
       "        });\n",
       "        require(['plotly'], function(Plotly) {\n",
       "            window._Plotly = Plotly;\n",
       "        });\n",
       "        }\n",
       "        </script>\n",
       "        "
      ]
     },
     "metadata": {},
     "output_type": "display_data"
    }
   ],
   "source": [
    "# For Notebooks\n",
    "init_notebook_mode(connected=True)"
   ]
  },
  {
   "cell_type": "code",
   "execution_count": 5,
   "metadata": {},
   "outputs": [
    {
     "data": {
      "text/html": [
       "        <script type=\"text/javascript\">\n",
       "        window.PlotlyConfig = {MathJaxConfig: 'local'};\n",
       "        if (window.MathJax) {MathJax.Hub.Config({SVG: {font: \"STIX-Web\"}});}\n",
       "        if (typeof require !== 'undefined') {\n",
       "        require.undef(\"plotly\");\n",
       "        requirejs.config({\n",
       "            paths: {\n",
       "                'plotly': ['https://cdn.plot.ly/plotly-latest.min']\n",
       "            }\n",
       "        });\n",
       "        require(['plotly'], function(Plotly) {\n",
       "            window._Plotly = Plotly;\n",
       "        });\n",
       "        }\n",
       "        </script>\n",
       "        "
      ]
     },
     "metadata": {},
     "output_type": "display_data"
    }
   ],
   "source": [
    "# For offline use\n",
    "cf.go_offline()"
   ]
  },
  {
   "cell_type": "markdown",
   "metadata": {},
   "source": [
    "### Fake Data"
   ]
  },
  {
   "cell_type": "code",
   "execution_count": 6,
   "metadata": {},
   "outputs": [],
   "source": [
    "df = pd.DataFrame(np.random.randn(100,4),columns='A B C D'.split())"
   ]
  },
  {
   "cell_type": "code",
   "execution_count": 7,
   "metadata": {},
   "outputs": [
    {
     "data": {
      "text/html": [
       "<div>\n",
       "<style scoped>\n",
       "    .dataframe tbody tr th:only-of-type {\n",
       "        vertical-align: middle;\n",
       "    }\n",
       "\n",
       "    .dataframe tbody tr th {\n",
       "        vertical-align: top;\n",
       "    }\n",
       "\n",
       "    .dataframe thead th {\n",
       "        text-align: right;\n",
       "    }\n",
       "</style>\n",
       "<table border=\"1\" class=\"dataframe\">\n",
       "  <thead>\n",
       "    <tr style=\"text-align: right;\">\n",
       "      <th></th>\n",
       "      <th>A</th>\n",
       "      <th>B</th>\n",
       "      <th>C</th>\n",
       "      <th>D</th>\n",
       "    </tr>\n",
       "  </thead>\n",
       "  <tbody>\n",
       "    <tr>\n",
       "      <th>0</th>\n",
       "      <td>0.370588</td>\n",
       "      <td>-0.902618</td>\n",
       "      <td>-0.599892</td>\n",
       "      <td>-0.348429</td>\n",
       "    </tr>\n",
       "    <tr>\n",
       "      <th>1</th>\n",
       "      <td>-0.667834</td>\n",
       "      <td>-0.842968</td>\n",
       "      <td>1.040123</td>\n",
       "      <td>1.249332</td>\n",
       "    </tr>\n",
       "    <tr>\n",
       "      <th>2</th>\n",
       "      <td>1.138092</td>\n",
       "      <td>0.954073</td>\n",
       "      <td>-1.370139</td>\n",
       "      <td>0.619595</td>\n",
       "    </tr>\n",
       "    <tr>\n",
       "      <th>3</th>\n",
       "      <td>-0.675580</td>\n",
       "      <td>-0.232513</td>\n",
       "      <td>0.307367</td>\n",
       "      <td>-0.100076</td>\n",
       "    </tr>\n",
       "    <tr>\n",
       "      <th>4</th>\n",
       "      <td>1.726250</td>\n",
       "      <td>0.343496</td>\n",
       "      <td>-1.079904</td>\n",
       "      <td>-0.848660</td>\n",
       "    </tr>\n",
       "  </tbody>\n",
       "</table>\n",
       "</div>"
      ],
      "text/plain": [
       "          A         B         C         D\n",
       "0  0.370588 -0.902618 -0.599892 -0.348429\n",
       "1 -0.667834 -0.842968  1.040123  1.249332\n",
       "2  1.138092  0.954073 -1.370139  0.619595\n",
       "3 -0.675580 -0.232513  0.307367 -0.100076\n",
       "4  1.726250  0.343496 -1.079904 -0.848660"
      ]
     },
     "execution_count": 7,
     "metadata": {},
     "output_type": "execute_result"
    }
   ],
   "source": [
    "df.head()"
   ]
  },
  {
   "cell_type": "code",
   "execution_count": 8,
   "metadata": {},
   "outputs": [],
   "source": [
    "df2 = pd.DataFrame({'Category':['A','B','C'],'Values':[32,43,50]})"
   ]
  },
  {
   "cell_type": "code",
   "execution_count": 9,
   "metadata": {},
   "outputs": [
    {
     "data": {
      "text/html": [
       "<div>\n",
       "<style scoped>\n",
       "    .dataframe tbody tr th:only-of-type {\n",
       "        vertical-align: middle;\n",
       "    }\n",
       "\n",
       "    .dataframe tbody tr th {\n",
       "        vertical-align: top;\n",
       "    }\n",
       "\n",
       "    .dataframe thead th {\n",
       "        text-align: right;\n",
       "    }\n",
       "</style>\n",
       "<table border=\"1\" class=\"dataframe\">\n",
       "  <thead>\n",
       "    <tr style=\"text-align: right;\">\n",
       "      <th></th>\n",
       "      <th>Category</th>\n",
       "      <th>Values</th>\n",
       "    </tr>\n",
       "  </thead>\n",
       "  <tbody>\n",
       "    <tr>\n",
       "      <th>0</th>\n",
       "      <td>A</td>\n",
       "      <td>32</td>\n",
       "    </tr>\n",
       "    <tr>\n",
       "      <th>1</th>\n",
       "      <td>B</td>\n",
       "      <td>43</td>\n",
       "    </tr>\n",
       "    <tr>\n",
       "      <th>2</th>\n",
       "      <td>C</td>\n",
       "      <td>50</td>\n",
       "    </tr>\n",
       "  </tbody>\n",
       "</table>\n",
       "</div>"
      ],
      "text/plain": [
       "  Category  Values\n",
       "0        A      32\n",
       "1        B      43\n",
       "2        C      50"
      ]
     },
     "execution_count": 9,
     "metadata": {},
     "output_type": "execute_result"
    }
   ],
   "source": [
    "df2.head()"
   ]
  },
  {
   "cell_type": "markdown",
   "metadata": {},
   "source": [
    "## Using Cufflinks and iplot()\n",
    "\n",
    "* scatter\n",
    "* bar\n",
    "* box\n",
    "* spread\n",
    "* ratio\n",
    "* heatmap\n",
    "* surface\n",
    "* histogram\n",
    "* bubble"
   ]
  },
  {
   "cell_type": "code",
   "execution_count": 10,
   "metadata": {},
   "outputs": [
    {
     "data": {
      "text/plain": [
       "<matplotlib.axes._subplots.AxesSubplot at 0x122e766d0>"
      ]
     },
     "execution_count": 10,
     "metadata": {},
     "output_type": "execute_result"
    },
    {
     "data": {
      "image/png": "[encoded data removed]",
      "text/plain": [
       "<Figure size 432x288 with 1 Axes>"
      ]
     },
     "metadata": {
      "needs_background": "light"
     },
     "output_type": "display_data"
    }
   ],
   "source": [
    "df.plot()"
   ]
  },
  {
   "cell_type": "code",
   "execution_count": 12,
   "metadata": {},
   "outputs": [
    {
     "data": {
      "application/vnd.plotly.v1+json": {
       "config": {
        "linkText": "Export to plot.ly",
        "plotlyServerURL": "https://plot.ly",
        "showLink": true
       },
       "data": [
        {
         "line": {
          "color": "rgba(255, 153, 51, 1.0)",
          "dash": "solid",
          "shape": "linear",
          "width": 1.3
         },
         "mode": "lines",
         "name": "A",
         "text": "",
         "type": "scatter",
         "x": [
          0,
          1,
          2,
          3,
          4,
          5,
          6,
          7,
          8,
          9,
          10,
          11,
          12,
          13,
          14,
          15,
          16,
          17,
          18,
          19,
          20,
          21,
          22,
          23,
          24,
          25,
          26,
          27,
          28,
          29,
          30,
          31,
          32,
          33,
          34,
          35,
          36,
          37,
          38,
          39,
          40,
          41,
          42,
          43,
          44,
          45,
          46,
          47,
          48,
          49,
          50,
          51,
          52,
          53,
          54,
          55,
          56,
          57,
          58,
          59,
          60,
          61,
          62,
          63,
          64,
          65,
          66,
          67,
          68,
          69,
          70,
          71,
          72,
          73,
          74,
          75,
          76,
          77,
          78,
          79,
          80,
          81,
          82,
          83,
          84,
          85,
          86,
          87,
          88,
          89,
          90,
          91,
          92,
          93,
          94,
          95,
          96,
          97,
          98,
          99
         ],
         "y": [
          0.3705878037577684,
          -0.6678339547302442,
          1.1380918556405002,
          -0.675580051894025,
          1.7262495731372611,
          -0.7346738962061609,
          -0.9562145225408256,
          0.025148520483188185,
          -0.11730817837083653,
          -0.8875635029726676,
          0.7878568424078434,
          1.1653202219069316,
          1.2937559144192385,
          -1.0658594627738625,
          -0.09260441995537765,
          -0.5159981219517672,
          -0.8327586860733873,
          -1.3749779091900383,
          0.42018431850196075,
          0.14709265072578784,
          0.25214049237485664,
          -0.18919730285638245,
          -2.718182630893289,
          -2.4871101190238996,
          -1.0215669673578682,
          0.24635506388134681,
          -0.10770573439041783,
          0.3557554224870404,
          0.031566456058262665,
          0.1700452202575896,
          -0.9575259626465774,
          -0.21532599451762865,
          0.5236647751886957,
          1.94221152756419,
          1.0739362417570109,
          0.08712867977911695,
          -0.37107368322293466,
          -1.1447478368070039,
          2.129917673232524,
          -0.9693582650304164,
          -0.1869513636704791,
          2.2092637073763917,
          1.488229125167454,
          2.214050967163112,
          0.6384413413698313,
          -1.9283759167143864,
          -0.4511610664062786,
          -0.06721145376013846,
          -1.8119277914008352,
          -0.6415871282167186,
          -0.09212605207912067,
          -0.11015367934595786,
          -0.2885730054311169,
          0.17257802683078483,
          -0.34532000564412413,
          -0.12995888586272972,
          -0.4377511993519691,
          -1.876492612806514,
          -1.718838915583185,
          0.0936799439467252,
          0.47001537739454224,
          -2.8410006043336353,
          1.704730125268345,
          0.20259501783314926,
          -0.4206312134987387,
          0.839068083396662,
          -0.5043104052179739,
          0.4731676005007791,
          0.19311114687310646,
          0.4716117801712886,
          1.8908763742207517,
          -1.334644125974962,
          -0.11766425437807593,
          1.6565164720427392,
          -1.5568524437600175,
          -0.5680816820553658,
          -0.5344358887477514,
          0.1900277548085487,
          0.7565155724048774,
          1.9865304358054405,
          -0.3281632782126243,
          -2.127189864605686,
          -0.39679487724212614,
          -0.3050622209272501,
          -1.2578147927340104,
          -0.17726760140269482,
          -1.5401904883006807,
          -0.5614175852880462,
          -1.967164616628011,
          -0.38255077923662584,
          1.1503595634830022,
          0.2576042608917582,
          1.2135540045813504,
          -0.4161542112158181,
          2.1297943647777084,
          1.3264977923735735,
          -0.4404670901208818,
          0.48124473164937726,
          0.5839900293237509,
          1.076803896700854
         ]
        },
        {
         "line": {
          "color": "rgba(55, 128, 191, 1.0)",
          "dash": "solid",
          "shape": "linear",
          "width": 1.3
         },
         "mode": "lines",
         "name": "B",
         "text": "",
         "type": "scatter",
         "x": [
          0,
          1,
          2,
          3,
          4,
          5,
          6,
          7,
          8,
          9,
          10,
          11,
          12,
          13,
          14,
          15,
          16,
          17,
          18,
          19,
          20,
          21,
          22,
          23,
          24,
          25,
          26,
          27,
          28,
          29,
          30,
          31,
          32,
          33,
          34,
          35,
          36,
          37,
          38,
          39,
          40,
          41,
          42,
          43,
          44,
          45,
          46,
          47,
          48,
          49,
          50,
          51,
          52,
          53,
          54,
          55,
          56,
          57,
          58,
          59,
          60,
          61,
          62,
          63,
          64,
          65,
          66,
          67,
          68,
          69,
          70,
          71,
          72,
          73,
          74,
          75,
          76,
          77,
          78,
          79,
          80,
          81,
          82,
          83,
          84,
          85,
          86,
          87,
          88,
          89,
          90,
          91,
          92,
          93,
          94,
          95,
          96,
          97,
          98,
          99
         ],
         "y": [
          -0.9026182879513235,
          -0.8429681388249898,
          0.9540726979032438,
          -0.23251275860498477,
          0.34349554969697677,
          -0.6219462410445961,
          -2.0006622694901433,
          1.2051941291240547,
          -0.13994760501934572,
          1.4084984797743516,
          -1.4406185815567676,
          2.203571063939216,
          -0.7573170225475241,
          -1.3938894902922006,
          -1.5080691322024262,
          -0.14327068342977814,
          0.037417546547547115,
          1.6462587562862911,
          -0.09803460519806916,
          -0.14996665115790409,
          0.21163564577514976,
          1.0263341563855668,
          -2.1541928508243413,
          0.5266668698269917,
          -1.55295581817936,
          -0.1945656521063503,
          0.4888954405211421,
          -1.0860016057795432,
          0.6863853333595958,
          1.5301495976534594,
          0.9766721778910605,
          1.336524835836653,
          -1.2007448477602651,
          0.06634015015393542,
          1.2366217573413492,
          -0.8777425551106883,
          0.6838574049901874,
          1.4325415795887664,
          -0.9916589198409315,
          -1.4400899617991463,
          -1.2559540357374495,
          0.6110065450279094,
          -1.0390703837403927,
          0.7226262599610198,
          -2.676636290627523,
          -0.7200323899747009,
          0.0773058348349942,
          -1.123920139622418,
          -1.5943451488747178,
          0.09570172620242262,
          0.031109758935364544,
          0.5486092430934341,
          -0.9783856846534326,
          -0.37782591930038695,
          2.04289799639152,
          2.695461751334061,
          0.42866956560443514,
          0.06570107039637005,
          0.3406308372199238,
          -0.13963619271339842,
          2.08286852359131,
          -1.2438740075995987,
          -1.0244756191667646,
          -1.218721967500244,
          -0.574858657178294,
          2.92238752045327,
          0.49989326896154135,
          -1.228574562429567,
          0.96213081663357,
          -1.7825877071155352,
          -0.8255838017224469,
          -0.2647822588269775,
          1.3393791985468635,
          -0.39866530169448894,
          0.7530286903232385,
          0.702494600097855,
          -2.9359052065235454,
          1.737741342697497,
          -0.27851189827084305,
          2.519831534981045,
          0.9039598139975631,
          -0.11495144416259331,
          1.7927453018094415,
          1.0292143655851063,
          0.9950063877604468,
          0.7302318326789189,
          -1.0215696369523628,
          0.3528032997113076,
          -1.5412449038618279,
          -0.5806327163073665,
          0.5350868251094306,
          -1.6961570456962733,
          0.5796026289085382,
          -0.30485897618670443,
          -1.6535985994040143,
          1.0991402504723242,
          0.5477912575339169,
          -1.6636610596560424,
          0.48997625929201616,
          -2.015300619743853
         ]
        },
        {
         "line": {
          "color": "rgba(50, 171, 96, 1.0)",
          "dash": "solid",
          "shape": "linear",
          "width": 1.3
         },
         "mode": "lines",
         "name": "C",
         "text": "",
         "type": "scatter",
         "x": [
          0,
          1,
          2,
          3,
          4,
          5,
          6,
          7,
          8,
          9,
          10,
          11,
          12,
          13,
          14,
          15,
          16,
          17,
          18,
          19,
          20,
          21,
          22,
          23,
          24,
          25,
          26,
          27,
          28,
          29,
          30,
          31,
          32,
          33,
          34,
          35,
          36,
          37,
          38,
          39,
          40,
          41,
          42,
          43,
          44,
          45,
          46,
          47,
          48,
          49,
          50,
          51,
          52,
          53,
          54,
          55,
          56,
          57,
          58,
          59,
          60,
          61,
          62,
          63,
          64,
          65,
          66,
          67,
          68,
          69,
          70,
          71,
          72,
          73,
          74,
          75,
          76,
          77,
          78,
          79,
          80,
          81,
          82,
          83,
          84,
          85,
          86,
          87,
          88,
          89,
          90,
          91,
          92,
          93,
          94,
          95,
          96,
          97,
          98,
          99
         ],
         "y": [
          -0.5998922748226837,
          1.0401232639605857,
          -1.3701390540574003,
          0.307367401403588,
          -1.0799042915348378,
          -0.9813177044008539,
          0.4770731548160624,
          -0.5826732258653297,
          -0.6035195659833387,
          -0.0258865493970227,
          -0.8230608255643124,
          1.6943105314625253,
          -0.9563104649466695,
          1.4177953890193729,
          1.6273911971295223,
          -0.2578227224315953,
          0.26004100762205856,
          -1.697537184922374,
          -0.3812906397479519,
          0.1722461009838956,
          -0.4556650197368004,
          -2.495653667611221,
          1.097080665209218,
          -0.13077845197865856,
          1.1074694634752067,
          -1.7294470216683682,
          -0.26705895882833,
          0.3251636428314838,
          0.5361169732425961,
          1.589969134302654,
          -0.15735546537356165,
          -0.7995419169077077,
          1.8376619277966697,
          -0.15187825852893375,
          0.04374985851141635,
          -0.23823958694361272,
          0.764467916710477,
          -0.7554188593905685,
          0.6921743026950641,
          0.03290908332584349,
          2.0433745991251198,
          0.6102966937575419,
          -0.17802755313353924,
          0.8218065247920904,
          0.12142670746890857,
          0.09815011007935072,
          -0.29780293511282513,
          -0.4526326974716961,
          -0.12252382350765847,
          -0.7900818595884559,
          -1.1008843446675154,
          -0.07630183113288294,
          0.2802494823029372,
          1.0161020693800689,
          -0.071570854643028,
          -0.5531877476244556,
          -1.9807446325723932,
          -0.8091256988385362,
          -1.7009786854539621,
          0.24777396683941133,
          -0.2699730156670374,
          0.7299970552803603,
          -0.556742101854421,
          -1.6052585106866015,
          -0.7802709940324564,
          1.0178771189571585,
          0.3065709276649882,
          -1.3304863582651418,
          -0.2865475537453356,
          0.9070300290159293,
          0.4843256513077551,
          0.17691226867134244,
          -0.609623055568708,
          -1.0861291448568933,
          0.7194756521047455,
          0.6065091377263108,
          0.33760317323029176,
          0.39774407638368164,
          -0.7590447844571399,
          0.8520210686986877,
          0.44533746837968435,
          0.4507753644951477,
          -1.088986892953632,
          0.4693496772868247,
          1.0556025178684072,
          -1.4878323098061323,
          1.3625106657117196,
          -1.8917699176948377,
          0.4095272296787832,
          -0.9221182812831743,
          -1.4542834127024287,
          -0.18464768530778417,
          1.0959242606698392,
          -0.8935725350190782,
          1.4342173284967896,
          1.8371179074984076,
          -0.5299449866725706,
          1.2646796592685872,
          1.3239105830431595,
          0.6861574912304074
         ]
        },
        {
         "line": {
          "color": "rgba(128, 0, 128, 1.0)",
          "dash": "solid",
          "shape": "linear",
          "width": 1.3
         },
         "mode": "lines",
         "name": "D",
         "text": "",
         "type": "scatter",
         "x": [
          0,
          1,
          2,
          3,
          4,
          5,
          6,
          7,
          8,
          9,
          10,
          11,
          12,
          13,
          14,
          15,
          16,
          17,
          18,
          19,
          20,
          21,
          22,
          23,
          24,
          25,
          26,
          27,
          28,
          29,
          30,
          31,
          32,
          33,
          34,
          35,
          36,
          37,
          38,
          39,
          40,
          41,
          42,
          43,
          44,
          45,
          46,
          47,
          48,
          49,
          50,
          51,
          52,
          53,
          54,
          55,
          56,
          57,
          58,
          59,
          60,
          61,
          62,
          63,
          64,
          65,
          66,
          67,
          68,
          69,
          70,
          71,
          72,
          73,
          74,
          75,
          76,
          77,
          78,
          79,
          80,
          81,
          82,
          83,
          84,
          85,
          86,
          87,
          88,
          89,
          90,
          91,
          92,
          93,
          94,
          95,
          96,
          97,
          98,
          99
         ],
         "y": [
          -0.3484290193324681,
          1.2493318120026027,
          0.6195953989316635,
          -0.10007648659084645,
          -0.848659613914679,
          -1.2072222170818043,
          0.1331176062784441,
          -0.01646742972146636,
          -0.37225133150837864,
          0.11229352710673653,
          0.6366971125581358,
          1.545579307785409,
          0.15580916850848148,
          -0.3314672607660011,
          0.7929866166535395,
          0.8941052725838416,
          -0.14329935045522949,
          1.3196350077045846,
          -0.096788026963216,
          -0.8346083847204316,
          1.2032145169230912,
          -0.38071240368744474,
          -0.3098611358309325,
          -1.736361585718667,
          -2.1199279881649593,
          -1.5794355446796786,
          -1.2791643506642554,
          -1.4992239299870747,
          -0.03425548013030693,
          -0.1206142170620143,
          0.3451768520894632,
          0.6844729058258141,
          -0.8376759964545056,
          1.241591779090792,
          -1.3881052068053508,
          1.1012224452147994,
          -1.0975287473015383,
          0.5041699155349165,
          0.7160675347296979,
          -1.2093109533153736,
          -0.24711334829147724,
          -0.5889737991894741,
          -0.5366652084809301,
          0.3310628341514247,
          0.06631259446541207,
          -0.28759721211797773,
          -1.1155536161178887,
          -0.11610402773542693,
          -0.4429351529770189,
          1.4270945875382393,
          0.6491689023501485,
          0.4883187223682674,
          0.14973969661131312,
          1.3875615203236902,
          0.035749576155775536,
          0.17155751012655765,
          -0.08973447587317929,
          0.6232701155816891,
          -0.34499518674366153,
          -2.1703151733281087,
          0.1797106006356278,
          -0.9074164273981294,
          -0.531983574715416,
          -0.8338018217815336,
          -0.7465538070712631,
          0.3789556341758663,
          3.075277236055962,
          -0.19053133737678485,
          0.8643667689060618,
          2.4980523172364046,
          -0.04232670805240006,
          1.2480572144201294,
          1.541103715916894,
          -1.7373434081652341,
          1.4565399138714257,
          -0.4710155743441887,
          0.6801057596111969,
          0.18764949278207416,
          0.4735916382674086,
          -3.356995673638782,
          -0.3019626812744328,
          -2.2403559426949933,
          -1.6319267400086224,
          0.8824560086615363,
          1.1468628425988923,
          -0.53925633992263,
          -0.1995850040866459,
          0.005847650698243115,
          2.410480925201785,
          -0.44772196459658326,
          -1.6552711703176686,
          -0.23346162577694834,
          -0.06260196282696313,
          -0.4749436357111602,
          -1.587230525836392,
          0.46603024198579857,
          -0.003303137021653763,
          -0.6821232266716004,
          0.8182169465651061,
          -0.6364533045515591
         ]
        }
       ],
       "layout": {
        "legend": {
         "bgcolor": "#F5F6F9",
         "font": {
          "color": "#4D5663"
         }
        },
        "paper_bgcolor": "#F5F6F9",
        "plot_bgcolor": "#F5F6F9",
        "template": {
         "data": {
          "bar": [
           {
            "error_x": {
             "color": "#2a3f5f"
            },
            "error_y": {
             "color": "#2a3f5f"
            },
            "marker": {
             "line": {
              "color": "#E5ECF6",
              "width": 0.5
             }
            },
            "type": "bar"
           }
          ],
          "barpolar": [
           {
            "marker": {
             "line": {
              "color": "#E5ECF6",
              "width": 0.5
             }
            },
            "type": "barpolar"
           }
          ],
          "carpet": [
           {
            "aaxis": {
             "endlinecolor": "#2a3f5f",
             "gridcolor": "white",
             "linecolor": "white",
             "minorgridcolor": "white",
             "startlinecolor": "#2a3f5f"
            },
            "baxis": {
             "endlinecolor": "#2a3f5f",
             "gridcolor": "white",
             "linecolor": "white",
             "minorgridcolor": "white",
             "startlinecolor": "#2a3f5f"
            },
            "type": "carpet"
           }
          ],
          "choropleth": [
           {
            "colorbar": {
             "outlinewidth": 0,
             "ticks": ""
            },
            "type": "choropleth"
           }
          ],
          "contour": [
           {
            "colorbar": {
             "outlinewidth": 0,
             "ticks": ""
            },
            "colorscale": [
             [
              0,
              "#0d0887"
             ],
             [
              0.1111111111111111,
              "#46039f"
             ],
             [
              0.2222222222222222,
              "#7201a8"
             ],
             [
              0.3333333333333333,
              "#9c179e"
             ],
             [
              0.4444444444444444,
              "#bd3786"
             ],
             [
              0.5555555555555556,
              "#d8576b"
             ],
             [
              0.6666666666666666,
              "#ed7953"
             ],
             [
              0.7777777777777778,
              "#fb9f3a"
             ],
             [
              0.8888888888888888,
              "#fdca26"
             ],
             [
              1,
              "#f0f921"
             ]
            ],
            "type": "contour"
           }
          ],
          "contourcarpet": [
           {
            "colorbar": {
             "outlinewidth": 0,
             "ticks": ""
            },
            "type": "contourcarpet"
           }
          ],
          "heatmap": [
           {
            "colorbar": {
             "outlinewidth": 0,
             "ticks": ""
            },
            "colorscale": [
             [
              0,
              "#0d0887"
             ],
             [
              0.1111111111111111,
              "#46039f"
             ],
             [
              0.2222222222222222,
              "#7201a8"
             ],
             [
              0.3333333333333333,
              "#9c179e"
             ],
             [
              0.4444444444444444,
              "#bd3786"
             ],
             [
              0.5555555555555556,
              "#d8576b"
             ],
             [
              0.6666666666666666,
              "#ed7953"
             ],
             [
              0.7777777777777778,
              "#fb9f3a"
             ],
             [
              0.8888888888888888,
              "#fdca26"
             ],
             [
              1,
              "#f0f921"
             ]
            ],
            "type": "heatmap"
           }
          ],
          "heatmapgl": [
           {
            "colorbar": {
             "outlinewidth": 0,
             "ticks": ""
            },
            "colorscale": [
             [
              0,
              "#0d0887"
             ],
             [
              0.1111111111111111,
              "#46039f"
             ],
             [
              0.2222222222222222,
              "#7201a8"
             ],
             [
              0.3333333333333333,
              "#9c179e"
             ],
             [
              0.4444444444444444,
              "#bd3786"
             ],
             [
              0.5555555555555556,
              "#d8576b"
             ],
             [
              0.6666666666666666,
              "#ed7953"
             ],
             [
              0.7777777777777778,
              "#fb9f3a"
             ],
             [
              0.8888888888888888,
              "#fdca26"
             ],
             [
              1,
              "#f0f921"
             ]
            ],
            "type": "heatmapgl"
           }
          ],
          "histogram": [
           {
            "marker": {
             "colorbar": {
              "outlinewidth": 0,
              "ticks": ""
             }
            },
            "type": "histogram"
           }
          ],
          "histogram2d": [
           {
            "colorbar": {
             "outlinewidth": 0,
             "ticks": ""
            },
            "colorscale": [
             [
              0,
              "#0d0887"
             ],
             [
              0.1111111111111111,
              "#46039f"
             ],
             [
              0.2222222222222222,
              "#7201a8"
             ],
             [
              0.3333333333333333,
              "#9c179e"
             ],
             [
              0.4444444444444444,
              "#bd3786"
             ],
             [
              0.5555555555555556,
              "#d8576b"
             ],
             [
              0.6666666666666666,
              "#ed7953"
             ],
             [
              0.7777777777777778,
              "#fb9f3a"
             ],
             [
              0.8888888888888888,
              "#fdca26"
             ],
             [
              1,
              "#f0f921"
             ]
            ],
            "type": "histogram2d"
           }
          ],
          "histogram2dcontour": [
           {
            "colorbar": {
             "outlinewidth": 0,
             "ticks": ""
            },
            "colorscale": [
             [
              0,
              "#0d0887"
             ],
             [
              0.1111111111111111,
              "#46039f"
             ],
             [
              0.2222222222222222,
              "#7201a8"
             ],
             [
              0.3333333333333333,
              "#9c179e"
             ],
             [
              0.4444444444444444,
              "#bd3786"
             ],
             [
              0.5555555555555556,
              "#d8576b"
             ],
             [
              0.6666666666666666,
              "#ed7953"
             ],
             [
              0.7777777777777778,
              "#fb9f3a"
             ],
             [
              0.8888888888888888,
              "#fdca26"
             ],
             [
              1,
              "#f0f921"
             ]
            ],
            "type": "histogram2dcontour"
           }
          ],
          "mesh3d": [
           {
            "colorbar": {
             "outlinewidth": 0,
             "ticks": ""
            },
            "type": "mesh3d"
           }
          ],
          "parcoords": [
           {
            "line": {
             "colorbar": {
              "outlinewidth": 0,
              "ticks": ""
             }
            },
            "type": "parcoords"
           }
          ],
          "pie": [
           {
            "automargin": true,
            "type": "pie"
           }
          ],
          "scatter": [
           {
            "marker": {
             "colorbar": {
              "outlinewidth": 0,
              "ticks": ""
             }
            },
            "type": "scatter"
           }
          ],
          "scatter3d": [
           {
            "line": {
             "colorbar": {
              "outlinewidth": 0,
              "ticks": ""
             }
            },
            "marker": {
             "colorbar": {
              "outlinewidth": 0,
              "ticks": ""
             }
            },
            "type": "scatter3d"
           }
          ],
          "scattercarpet": [
           {
            "marker": {
             "colorbar": {
              "outlinewidth": 0,
              "ticks": ""
             }
            },
            "type": "scattercarpet"
           }
          ],
          "scattergeo": [
           {
            "marker": {
             "colorbar": {
              "outlinewidth": 0,
              "ticks": ""
             }
            },
            "type": "scattergeo"
           }
          ],
          "scattergl": [
           {
            "marker": {
             "colorbar": {
              "outlinewidth": 0,
              "ticks": ""
             }
            },
            "type": "scattergl"
           }
          ],
          "scattermapbox": [
           {
            "marker": {
             "colorbar": {
              "outlinewidth": 0,
              "ticks": ""
             }
            },
            "type": "scattermapbox"
           }
          ],
          "scatterpolar": [
           {
            "marker": {
             "colorbar": {
              "outlinewidth": 0,
              "ticks": ""
             }
            },
            "type": "scatterpolar"
           }
          ],
          "scatterpolargl": [
           {
            "marker": {
             "colorbar": {
              "outlinewidth": 0,
              "ticks": ""
             }
            },
            "type": "scatterpolargl"
           }
          ],
          "scatterternary": [
           {
            "marker": {
             "colorbar": {
              "outlinewidth": 0,
              "ticks": ""
             }
            },
            "type": "scatterternary"
           }
          ],
          "surface": [
           {
            "colorbar": {
             "outlinewidth": 0,
             "ticks": ""
            },
            "colorscale": [
             [
              0,
              "#0d0887"
             ],
             [
              0.1111111111111111,
              "#46039f"
             ],
             [
              0.2222222222222222,
              "#7201a8"
             ],
             [
              0.3333333333333333,
              "#9c179e"
             ],
             [
              0.4444444444444444,
              "#bd3786"
             ],
             [
              0.5555555555555556,
              "#d8576b"
             ],
             [
              0.6666666666666666,
              "#ed7953"
             ],
             [
              0.7777777777777778,
              "#fb9f3a"
             ],
             [
              0.8888888888888888,
              "#fdca26"
             ],
             [
              1,
              "#f0f921"
             ]
            ],
            "type": "surface"
           }
          ],
          "table": [
           {
            "cells": {
             "fill": {
              "color": "#EBF0F8"
             },
             "line": {
              "color": "white"
             }
            },
            "header": {
             "fill": {
              "color": "#C8D4E3"
             },
             "line": {
              "color": "white"
             }
            },
            "type": "table"
           }
          ]
         },
         "layout": {
          "annotationdefaults": {
           "arrowcolor": "#2a3f5f",
           "arrowhead": 0,
           "arrowwidth": 1
          },
          "coloraxis": {
           "colorbar": {
            "outlinewidth": 0,
            "ticks": ""
           }
          },
          "colorscale": {
           "diverging": [
            [
             0,
             "#8e0152"
            ],
            [
             0.1,
             "#c51b7d"
            ],
            [
             0.2,
             "#de77ae"
            ],
            [
             0.3,
             "#f1b6da"
            ],
            [
             0.4,
             "#fde0ef"
            ],
            [
             0.5,
             "#f7f7f7"
            ],
            [
             0.6,
             "#e6f5d0"
            ],
            [
             0.7,
             "#b8e186"
            ],
            [
             0.8,
             "#7fbc41"
            ],
            [
             0.9,
             "#4d9221"
            ],
            [
             1,
             "#276419"
            ]
           ],
           "sequential": [
            [
             0,
             "#0d0887"
            ],
            [
             0.1111111111111111,
             "#46039f"
            ],
            [
             0.2222222222222222,
             "#7201a8"
            ],
            [
             0.3333333333333333,
             "#9c179e"
            ],
            [
             0.4444444444444444,
             "#bd3786"
            ],
            [
             0.5555555555555556,
             "#d8576b"
            ],
            [
             0.6666666666666666,
             "#ed7953"
            ],
            [
             0.7777777777777778,
             "#fb9f3a"
            ],
            [
             0.8888888888888888,
             "#fdca26"
            ],
            [
             1,
             "#f0f921"
            ]
           ],
           "sequentialminus": [
            [
             0,
             "#0d0887"
            ],
            [
             0.1111111111111111,
             "#46039f"
            ],
            [
             0.2222222222222222,
             "#7201a8"
            ],
            [
             0.3333333333333333,
             "#9c179e"
            ],
            [
             0.4444444444444444,
             "#bd3786"
            ],
            [
             0.5555555555555556,
             "#d8576b"
            ],
            [
             0.6666666666666666,
             "#ed7953"
            ],
            [
             0.7777777777777778,
             "#fb9f3a"
            ],
            [
             0.8888888888888888,
             "#fdca26"
            ],
            [
             1,
             "#f0f921"
            ]
           ]
          },
          "colorway": [
           "#636efa",
           "#EF553B",
           "#00cc96",
           "#ab63fa",
           "#FFA15A",
           "#19d3f3",
           "#FF6692",
           "#B6E880",
           "#FF97FF",
           "#FECB52"
          ],
          "font": {
           "color": "#2a3f5f"
          },
          "geo": {
           "bgcolor": "white",
           "lakecolor": "white",
           "landcolor": "#E5ECF6",
           "showlakes": true,
           "showland": true,
           "subunitcolor": "white"
          },
          "hoverlabel": {
           "align": "left"
          },
          "hovermode": "closest",
          "mapbox": {
           "style": "light"
          },
          "paper_bgcolor": "white",
          "plot_bgcolor": "#E5ECF6",
          "polar": {
           "angularaxis": {
            "gridcolor": "white",
            "linecolor": "white",
            "ticks": ""
           },
           "bgcolor": "#E5ECF6",
           "radialaxis": {
            "gridcolor": "white",
            "linecolor": "white",
            "ticks": ""
           }
          },
          "scene": {
           "xaxis": {
            "backgroundcolor": "#E5ECF6",
            "gridcolor": "white",
            "gridwidth": 2,
            "linecolor": "white",
            "showbackground": true,
            "ticks": "",
            "zerolinecolor": "white"
           },
           "yaxis": {
            "backgroundcolor": "#E5ECF6",
            "gridcolor": "white",
            "gridwidth": 2,
            "linecolor": "white",
            "showbackground": true,
            "ticks": "",
            "zerolinecolor": "white"
           },
           "zaxis": {
            "backgroundcolor": "#E5ECF6",
            "gridcolor": "white",
            "gridwidth": 2,
            "linecolor": "white",
            "showbackground": true,
            "ticks": "",
            "zerolinecolor": "white"
           }
          },
          "shapedefaults": {
           "line": {
            "color": "#2a3f5f"
           }
          },
          "ternary": {
           "aaxis": {
            "gridcolor": "white",
            "linecolor": "white",
            "ticks": ""
           },
           "baxis": {
            "gridcolor": "white",
            "linecolor": "white",
            "ticks": ""
           },
           "bgcolor": "#E5ECF6",
           "caxis": {
            "gridcolor": "white",
            "linecolor": "white",
            "ticks": ""
           }
          },
          "title": {
           "x": 0.05
          },
          "xaxis": {
           "automargin": true,
           "gridcolor": "white",
           "linecolor": "white",
           "ticks": "",
           "title": {
            "standoff": 15
           },
           "zerolinecolor": "white",
           "zerolinewidth": 2
          },
          "yaxis": {
           "automargin": true,
           "gridcolor": "white",
           "linecolor": "white",
           "ticks": "",
           "title": {
            "standoff": 15
           },
           "zerolinecolor": "white",
           "zerolinewidth": 2
          }
         }
        },
        "title": {
         "font": {
          "color": "#4D5663"
         }
        },
        "xaxis": {
         "gridcolor": "#E1E5ED",
         "showgrid": true,
         "tickfont": {
          "color": "#4D5663"
         },
         "title": {
          "font": {
           "color": "#4D5663"
          },
          "text": ""
         },
         "zerolinecolor": "#E1E5ED"
        },
        "yaxis": {
         "gridcolor": "#E1E5ED",
         "showgrid": true,
         "tickfont": {
          "color": "#4D5663"
         },
         "title": {
          "font": {
           "color": "#4D5663"
          },
          "text": ""
         },
         "zerolinecolor": "#E1E5ED"
        }
       }
      },
      "text/html": [
       "<div>\n",
       "        \n",
       "        \n",
       "            <div id=\"60099d83-7d28-4472-a57a-762e80c93508\" class=\"plotly-graph-div\" style=\"height:525px; width:100%;\"></div>\n",
       "            <script type=\"text/javascript\">\n",
       "                require([\"plotly\"], function(Plotly) {\n",
       "                    window.PLOTLYENV=window.PLOTLYENV || {};\n",
       "                    window.PLOTLYENV.BASE_URL='https://plot.ly';\n",
       "                    \n",
       "                if (document.getElementById(\"60099d83-7d28-4472-a57a-762e80c93508\")) {\n",
       "                    Plotly.newPlot(\n",
       "                        '60099d83-7d28-4472-a57a-762e80c93508',\n",
       "                        [{\"line\": {\"color\": \"rgba(255, 153, 51, 1.0)\", \"dash\": \"solid\", \"shape\": \"linear\", \"width\": 1.3}, \"mode\": \"lines\", \"name\": \"A\", \"text\": \"\", \"type\": \"scatter\", \"x\": [0, 1, 2, 3, 4, 5, 6, 7, 8, 9, 10, 11, 12, 13, 14, 15, 16, 17, 18, 19, 20, 21, 22, 23, 24, 25, 26, 27, 28, 29, 30, 31, 32, 33, 34, 35, 36, 37, 38, 39, 40, 41, 42, 43, 44, 45, 46, 47, 48, 49, 50, 51, 52, 53, 54, 55, 56, 57, 58, 59, 60, 61, 62, 63, 64, 65, 66, 67, 68, 69, 70, 71, 72, 73, 74, 75, 76, 77, 78, 79, 80, 81, 82, 83, 84, 85, 86, 87, 88, 89, 90, 91, 92, 93, 94, 95, 96, 97, 98, 99], \"y\": [0.3705878037577684, -0.6678339547302442, 1.1380918556405002, -0.675580051894025, 1.7262495731372611, -0.7346738962061609, -0.9562145225408256, 0.025148520483188185, -0.11730817837083653, -0.8875635029726676, 0.7878568424078434, 1.1653202219069316, 1.2937559144192385, -1.0658594627738625, -0.09260441995537765, -0.5159981219517672, -0.8327586860733873, -1.3749779091900383, 0.42018431850196075, 0.14709265072578784, 0.25214049237485664, -0.18919730285638245, -2.718182630893289, -2.4871101190238996, -1.0215669673578682, 0.24635506388134681, -0.10770573439041783, 0.3557554224870404, 0.031566456058262665, 0.1700452202575896, -0.9575259626465774, -0.21532599451762865, 0.5236647751886957, 1.94221152756419, 1.0739362417570109, 0.08712867977911695, -0.37107368322293466, -1.1447478368070039, 2.129917673232524, -0.9693582650304164, -0.1869513636704791, 2.2092637073763917, 1.488229125167454, 2.214050967163112, 0.6384413413698313, -1.9283759167143864, -0.4511610664062786, -0.06721145376013846, -1.8119277914008352, -0.6415871282167186, -0.09212605207912067, -0.11015367934595786, -0.2885730054311169, 0.17257802683078483, -0.34532000564412413, -0.12995888586272972, -0.4377511993519691, -1.876492612806514, -1.718838915583185, 0.0936799439467252, 0.47001537739454224, -2.8410006043336353, 1.704730125268345, 0.20259501783314926, -0.4206312134987387, 0.839068083396662, -0.5043104052179739, 0.4731676005007791, 0.19311114687310646, 0.4716117801712886, 1.8908763742207517, -1.334644125974962, -0.11766425437807593, 1.6565164720427392, -1.5568524437600175, -0.5680816820553658, -0.5344358887477514, 0.1900277548085487, 0.7565155724048774, 1.9865304358054405, -0.3281632782126243, -2.127189864605686, -0.39679487724212614, -0.3050622209272501, -1.2578147927340104, -0.17726760140269482, -1.5401904883006807, -0.5614175852880462, -1.967164616628011, -0.38255077923662584, 1.1503595634830022, 0.2576042608917582, 1.2135540045813504, -0.4161542112158181, 2.1297943647777084, 1.3264977923735735, -0.4404670901208818, 0.48124473164937726, 0.5839900293237509, 1.076803896700854]}, {\"line\": {\"color\": \"rgba(55, 128, 191, 1.0)\", \"dash\": \"solid\", \"shape\": \"linear\", \"width\": 1.3}, \"mode\": \"lines\", \"name\": \"B\", \"text\": \"\", \"type\": \"scatter\", \"x\": [0, 1, 2, 3, 4, 5, 6, 7, 8, 9, 10, 11, 12, 13, 14, 15, 16, 17, 18, 19, 20, 21, 22, 23, 24, 25, 26, 27, 28, 29, 30, 31, 32, 33, 34, 35, 36, 37, 38, 39, 40, 41, 42, 43, 44, 45, 46, 47, 48, 49, 50, 51, 52, 53, 54, 55, 56, 57, 58, 59, 60, 61, 62, 63, 64, 65, 66, 67, 68, 69, 70, 71, 72, 73, 74, 75, 76, 77, 78, 79, 80, 81, 82, 83, 84, 85, 86, 87, 88, 89, 90, 91, 92, 93, 94, 95, 96, 97, 98, 99], \"y\": [-0.9026182879513235, -0.8429681388249898, 0.9540726979032438, -0.23251275860498477, 0.34349554969697677, -0.6219462410445961, -2.0006622694901433, 1.2051941291240547, -0.13994760501934572, 1.4084984797743516, -1.4406185815567676, 2.203571063939216, -0.7573170225475241, -1.3938894902922006, -1.5080691322024262, -0.14327068342977814, 0.037417546547547115, 1.6462587562862911, -0.09803460519806916, -0.14996665115790409, 0.21163564577514976, 1.0263341563855668, -2.1541928508243413, 0.5266668698269917, -1.55295581817936, -0.1945656521063503, 0.4888954405211421, -1.0860016057795432, 0.6863853333595958, 1.5301495976534594, 0.9766721778910605, 1.336524835836653, -1.2007448477602651, 0.06634015015393542, 1.2366217573413492, -0.8777425551106883, 0.6838574049901874, 1.4325415795887664, -0.9916589198409315, -1.4400899617991463, -1.2559540357374495, 0.6110065450279094, -1.0390703837403927, 0.7226262599610198, -2.676636290627523, -0.7200323899747009, 0.0773058348349942, -1.123920139622418, -1.5943451488747178, 0.09570172620242262, 0.031109758935364544, 0.5486092430934341, -0.9783856846534326, -0.37782591930038695, 2.04289799639152, 2.695461751334061, 0.42866956560443514, 0.06570107039637005, 0.3406308372199238, -0.13963619271339842, 2.08286852359131, -1.2438740075995987, -1.0244756191667646, -1.218721967500244, -0.574858657178294, 2.92238752045327, 0.49989326896154135, -1.228574562429567, 0.96213081663357, -1.7825877071155352, -0.8255838017224469, -0.2647822588269775, 1.3393791985468635, -0.39866530169448894, 0.7530286903232385, 0.702494600097855, -2.9359052065235454, 1.737741342697497, -0.27851189827084305, 2.519831534981045, 0.9039598139975631, -0.11495144416259331, 1.7927453018094415, 1.0292143655851063, 0.9950063877604468, 0.7302318326789189, -1.0215696369523628, 0.3528032997113076, -1.5412449038618279, -0.5806327163073665, 0.5350868251094306, -1.6961570456962733, 0.5796026289085382, -0.30485897618670443, -1.6535985994040143, 1.0991402504723242, 0.5477912575339169, -1.6636610596560424, 0.48997625929201616, -2.015300619743853]}, {\"line\": {\"color\": \"rgba(50, 171, 96, 1.0)\", \"dash\": \"solid\", \"shape\": \"linear\", \"width\": 1.3}, \"mode\": \"lines\", \"name\": \"C\", \"text\": \"\", \"type\": \"scatter\", \"x\": [0, 1, 2, 3, 4, 5, 6, 7, 8, 9, 10, 11, 12, 13, 14, 15, 16, 17, 18, 19, 20, 21, 22, 23, 24, 25, 26, 27, 28, 29, 30, 31, 32, 33, 34, 35, 36, 37, 38, 39, 40, 41, 42, 43, 44, 45, 46, 47, 48, 49, 50, 51, 52, 53, 54, 55, 56, 57, 58, 59, 60, 61, 62, 63, 64, 65, 66, 67, 68, 69, 70, 71, 72, 73, 74, 75, 76, 77, 78, 79, 80, 81, 82, 83, 84, 85, 86, 87, 88, 89, 90, 91, 92, 93, 94, 95, 96, 97, 98, 99], \"y\": [-0.5998922748226837, 1.0401232639605857, -1.3701390540574003, 0.307367401403588, -1.0799042915348378, -0.9813177044008539, 0.4770731548160624, -0.5826732258653297, -0.6035195659833387, -0.0258865493970227, -0.8230608255643124, 1.6943105314625253, -0.9563104649466695, 1.4177953890193729, 1.6273911971295223, -0.2578227224315953, 0.26004100762205856, -1.697537184922374, -0.3812906397479519, 0.1722461009838956, -0.4556650197368004, -2.495653667611221, 1.097080665209218, -0.13077845197865856, 1.1074694634752067, -1.7294470216683682, -0.26705895882833, 0.3251636428314838, 0.5361169732425961, 1.589969134302654, -0.15735546537356165, -0.7995419169077077, 1.8376619277966697, -0.15187825852893375, 0.04374985851141635, -0.23823958694361272, 0.764467916710477, -0.7554188593905685, 0.6921743026950641, 0.03290908332584349, 2.0433745991251198, 0.6102966937575419, -0.17802755313353924, 0.8218065247920904, 0.12142670746890857, 0.09815011007935072, -0.29780293511282513, -0.4526326974716961, -0.12252382350765847, -0.7900818595884559, -1.1008843446675154, -0.07630183113288294, 0.2802494823029372, 1.0161020693800689, -0.071570854643028, -0.5531877476244556, -1.9807446325723932, -0.8091256988385362, -1.7009786854539621, 0.24777396683941133, -0.2699730156670374, 0.7299970552803603, -0.556742101854421, -1.6052585106866015, -0.7802709940324564, 1.0178771189571585, 0.3065709276649882, -1.3304863582651418, -0.2865475537453356, 0.9070300290159293, 0.4843256513077551, 0.17691226867134244, -0.609623055568708, -1.0861291448568933, 0.7194756521047455, 0.6065091377263108, 0.33760317323029176, 0.39774407638368164, -0.7590447844571399, 0.8520210686986877, 0.44533746837968435, 0.4507753644951477, -1.088986892953632, 0.4693496772868247, 1.0556025178684072, -1.4878323098061323, 1.3625106657117196, -1.8917699176948377, 0.4095272296787832, -0.9221182812831743, -1.4542834127024287, -0.18464768530778417, 1.0959242606698392, -0.8935725350190782, 1.4342173284967896, 1.8371179074984076, -0.5299449866725706, 1.2646796592685872, 1.3239105830431595, 0.6861574912304074]}, {\"line\": {\"color\": \"rgba(128, 0, 128, 1.0)\", \"dash\": \"solid\", \"shape\": \"linear\", \"width\": 1.3}, \"mode\": \"lines\", \"name\": \"D\", \"text\": \"\", \"type\": \"scatter\", \"x\": [0, 1, 2, 3, 4, 5, 6, 7, 8, 9, 10, 11, 12, 13, 14, 15, 16, 17, 18, 19, 20, 21, 22, 23, 24, 25, 26, 27, 28, 29, 30, 31, 32, 33, 34, 35, 36, 37, 38, 39, 40, 41, 42, 43, 44, 45, 46, 47, 48, 49, 50, 51, 52, 53, 54, 55, 56, 57, 58, 59, 60, 61, 62, 63, 64, 65, 66, 67, 68, 69, 70, 71, 72, 73, 74, 75, 76, 77, 78, 79, 80, 81, 82, 83, 84, 85, 86, 87, 88, 89, 90, 91, 92, 93, 94, 95, 96, 97, 98, 99], \"y\": [-0.3484290193324681, 1.2493318120026027, 0.6195953989316635, -0.10007648659084645, -0.848659613914679, -1.2072222170818043, 0.1331176062784441, -0.01646742972146636, -0.37225133150837864, 0.11229352710673653, 0.6366971125581358, 1.545579307785409, 0.15580916850848148, -0.3314672607660011, 0.7929866166535395, 0.8941052725838416, -0.14329935045522949, 1.3196350077045846, -0.096788026963216, -0.8346083847204316, 1.2032145169230912, -0.38071240368744474, -0.3098611358309325, -1.736361585718667, -2.1199279881649593, -1.5794355446796786, -1.2791643506642554, -1.4992239299870747, -0.03425548013030693, -0.1206142170620143, 0.3451768520894632, 0.6844729058258141, -0.8376759964545056, 1.241591779090792, -1.3881052068053508, 1.1012224452147994, -1.0975287473015383, 0.5041699155349165, 0.7160675347296979, -1.2093109533153736, -0.24711334829147724, -0.5889737991894741, -0.5366652084809301, 0.3310628341514247, 0.06631259446541207, -0.28759721211797773, -1.1155536161178887, -0.11610402773542693, -0.4429351529770189, 1.4270945875382393, 0.6491689023501485, 0.4883187223682674, 0.14973969661131312, 1.3875615203236902, 0.035749576155775536, 0.17155751012655765, -0.08973447587317929, 0.6232701155816891, -0.34499518674366153, -2.1703151733281087, 0.1797106006356278, -0.9074164273981294, -0.531983574715416, -0.8338018217815336, -0.7465538070712631, 0.3789556341758663, 3.075277236055962, -0.19053133737678485, 0.8643667689060618, 2.4980523172364046, -0.04232670805240006, 1.2480572144201294, 1.541103715916894, -1.7373434081652341, 1.4565399138714257, -0.4710155743441887, 0.6801057596111969, 0.18764949278207416, 0.4735916382674086, -3.356995673638782, -0.3019626812744328, -2.2403559426949933, -1.6319267400086224, 0.8824560086615363, 1.1468628425988923, -0.53925633992263, -0.1995850040866459, 0.005847650698243115, 2.410480925201785, -0.44772196459658326, -1.6552711703176686, -0.23346162577694834, -0.06260196282696313, -0.4749436357111602, -1.587230525836392, 0.46603024198579857, -0.003303137021653763, -0.6821232266716004, 0.8182169465651061, -0.6364533045515591]}],\n",
       "                        {\"legend\": {\"bgcolor\": \"#F5F6F9\", \"font\": {\"color\": \"#4D5663\"}}, \"paper_bgcolor\": \"#F5F6F9\", \"plot_bgcolor\": \"#F5F6F9\", \"template\": {\"data\": {\"bar\": [{\"error_x\": {\"color\": \"#2a3f5f\"}, \"error_y\": {\"color\": \"#2a3f5f\"}, \"marker\": {\"line\": {\"color\": \"#E5ECF6\", \"width\": 0.5}}, \"type\": \"bar\"}], \"barpolar\": [{\"marker\": {\"line\": {\"color\": \"#E5ECF6\", \"width\": 0.5}}, \"type\": \"barpolar\"}], \"carpet\": [{\"aaxis\": {\"endlinecolor\": \"#2a3f5f\", \"gridcolor\": \"white\", \"linecolor\": \"white\", \"minorgridcolor\": \"white\", \"startlinecolor\": \"#2a3f5f\"}, \"baxis\": {\"endlinecolor\": \"#2a3f5f\", \"gridcolor\": \"white\", \"linecolor\": \"white\", \"minorgridcolor\": \"white\", \"startlinecolor\": \"#2a3f5f\"}, \"type\": \"carpet\"}], \"choropleth\": [{\"colorbar\": {\"outlinewidth\": 0, \"ticks\": \"\"}, \"type\": \"choropleth\"}], \"contour\": [{\"colorbar\": {\"outlinewidth\": 0, \"ticks\": \"\"}, \"colorscale\": [[0.0, \"#0d0887\"], [0.1111111111111111, \"#46039f\"], [0.2222222222222222, \"#7201a8\"], [0.3333333333333333, \"#9c179e\"], [0.4444444444444444, \"#bd3786\"], [0.5555555555555556, \"#d8576b\"], [0.6666666666666666, \"#ed7953\"], [0.7777777777777778, \"#fb9f3a\"], [0.8888888888888888, \"#fdca26\"], [1.0, \"#f0f921\"]], \"type\": \"contour\"}], \"contourcarpet\": [{\"colorbar\": {\"outlinewidth\": 0, \"ticks\": \"\"}, \"type\": \"contourcarpet\"}], \"heatmap\": [{\"colorbar\": {\"outlinewidth\": 0, \"ticks\": \"\"}, \"colorscale\": [[0.0, \"#0d0887\"], [0.1111111111111111, \"#46039f\"], [0.2222222222222222, \"#7201a8\"], [0.3333333333333333, \"#9c179e\"], [0.4444444444444444, \"#bd3786\"], [0.5555555555555556, \"#d8576b\"], [0.6666666666666666, \"#ed7953\"], [0.7777777777777778, \"#fb9f3a\"], [0.8888888888888888, \"#fdca26\"], [1.0, \"#f0f921\"]], \"type\": \"heatmap\"}], \"heatmapgl\": [{\"colorbar\": {\"outlinewidth\": 0, \"ticks\": \"\"}, \"colorscale\": [[0.0, \"#0d0887\"], [0.1111111111111111, \"#46039f\"], [0.2222222222222222, \"#7201a8\"], [0.3333333333333333, \"#9c179e\"], [0.4444444444444444, \"#bd3786\"], [0.5555555555555556, \"#d8576b\"], [0.6666666666666666, \"#ed7953\"], [0.7777777777777778, \"#fb9f3a\"], [0.8888888888888888, \"#fdca26\"], [1.0, \"#f0f921\"]], \"type\": \"heatmapgl\"}], \"histogram\": [{\"marker\": {\"colorbar\": {\"outlinewidth\": 0, \"ticks\": \"\"}}, \"type\": \"histogram\"}], \"histogram2d\": [{\"colorbar\": {\"outlinewidth\": 0, \"ticks\": \"\"}, \"colorscale\": [[0.0, \"#0d0887\"], [0.1111111111111111, \"#46039f\"], [0.2222222222222222, \"#7201a8\"], [0.3333333333333333, \"#9c179e\"], [0.4444444444444444, \"#bd3786\"], [0.5555555555555556, \"#d8576b\"], [0.6666666666666666, \"#ed7953\"], [0.7777777777777778, \"#fb9f3a\"], [0.8888888888888888, \"#fdca26\"], [1.0, \"#f0f921\"]], \"type\": \"histogram2d\"}], \"histogram2dcontour\": [{\"colorbar\": {\"outlinewidth\": 0, \"ticks\": \"\"}, \"colorscale\": [[0.0, \"#0d0887\"], [0.1111111111111111, \"#46039f\"], [0.2222222222222222, \"#7201a8\"], [0.3333333333333333, \"#9c179e\"], [0.4444444444444444, \"#bd3786\"], [0.5555555555555556, \"#d8576b\"], [0.6666666666666666, \"#ed7953\"], [0.7777777777777778, \"#fb9f3a\"], [0.8888888888888888, \"#fdca26\"], [1.0, \"#f0f921\"]], \"type\": \"histogram2dcontour\"}], \"mesh3d\": [{\"colorbar\": {\"outlinewidth\": 0, \"ticks\": \"\"}, \"type\": \"mesh3d\"}], \"parcoords\": [{\"line\": {\"colorbar\": {\"outlinewidth\": 0, \"ticks\": \"\"}}, \"type\": \"parcoords\"}], \"pie\": [{\"automargin\": true, \"type\": \"pie\"}], \"scatter\": [{\"marker\": {\"colorbar\": {\"outlinewidth\": 0, \"ticks\": \"\"}}, \"type\": \"scatter\"}], \"scatter3d\": [{\"line\": {\"colorbar\": {\"outlinewidth\": 0, \"ticks\": \"\"}}, \"marker\": {\"colorbar\": {\"outlinewidth\": 0, \"ticks\": \"\"}}, \"type\": \"scatter3d\"}], \"scattercarpet\": [{\"marker\": {\"colorbar\": {\"outlinewidth\": 0, \"ticks\": \"\"}}, \"type\": \"scattercarpet\"}], \"scattergeo\": [{\"marker\": {\"colorbar\": {\"outlinewidth\": 0, \"ticks\": \"\"}}, \"type\": \"scattergeo\"}], \"scattergl\": [{\"marker\": {\"colorbar\": {\"outlinewidth\": 0, \"ticks\": \"\"}}, \"type\": \"scattergl\"}], \"scattermapbox\": [{\"marker\": {\"colorbar\": {\"outlinewidth\": 0, \"ticks\": \"\"}}, \"type\": \"scattermapbox\"}], \"scatterpolar\": [{\"marker\": {\"colorbar\": {\"outlinewidth\": 0, \"ticks\": \"\"}}, \"type\": \"scatterpolar\"}], \"scatterpolargl\": [{\"marker\": {\"colorbar\": {\"outlinewidth\": 0, \"ticks\": \"\"}}, \"type\": \"scatterpolargl\"}], \"scatterternary\": [{\"marker\": {\"colorbar\": {\"outlinewidth\": 0, \"ticks\": \"\"}}, \"type\": \"scatterternary\"}], \"surface\": [{\"colorbar\": {\"outlinewidth\": 0, \"ticks\": \"\"}, \"colorscale\": [[0.0, \"#0d0887\"], [0.1111111111111111, \"#46039f\"], [0.2222222222222222, \"#7201a8\"], [0.3333333333333333, \"#9c179e\"], [0.4444444444444444, \"#bd3786\"], [0.5555555555555556, \"#d8576b\"], [0.6666666666666666, \"#ed7953\"], [0.7777777777777778, \"#fb9f3a\"], [0.8888888888888888, \"#fdca26\"], [1.0, \"#f0f921\"]], \"type\": \"surface\"}], \"table\": [{\"cells\": {\"fill\": {\"color\": \"#EBF0F8\"}, \"line\": {\"color\": \"white\"}}, \"header\": {\"fill\": {\"color\": \"#C8D4E3\"}, \"line\": {\"color\": \"white\"}}, \"type\": \"table\"}]}, \"layout\": {\"annotationdefaults\": {\"arrowcolor\": \"#2a3f5f\", \"arrowhead\": 0, \"arrowwidth\": 1}, \"coloraxis\": {\"colorbar\": {\"outlinewidth\": 0, \"ticks\": \"\"}}, \"colorscale\": {\"diverging\": [[0, \"#8e0152\"], [0.1, \"#c51b7d\"], [0.2, \"#de77ae\"], [0.3, \"#f1b6da\"], [0.4, \"#fde0ef\"], [0.5, \"#f7f7f7\"], [0.6, \"#e6f5d0\"], [0.7, \"#b8e186\"], [0.8, \"#7fbc41\"], [0.9, \"#4d9221\"], [1, \"#276419\"]], \"sequential\": [[0.0, \"#0d0887\"], [0.1111111111111111, \"#46039f\"], [0.2222222222222222, \"#7201a8\"], [0.3333333333333333, \"#9c179e\"], [0.4444444444444444, \"#bd3786\"], [0.5555555555555556, \"#d8576b\"], [0.6666666666666666, \"#ed7953\"], [0.7777777777777778, \"#fb9f3a\"], [0.8888888888888888, \"#fdca26\"], [1.0, \"#f0f921\"]], \"sequentialminus\": [[0.0, \"#0d0887\"], [0.1111111111111111, \"#46039f\"], [0.2222222222222222, \"#7201a8\"], [0.3333333333333333, \"#9c179e\"], [0.4444444444444444, \"#bd3786\"], [0.5555555555555556, \"#d8576b\"], [0.6666666666666666, \"#ed7953\"], [0.7777777777777778, \"#fb9f3a\"], [0.8888888888888888, \"#fdca26\"], [1.0, \"#f0f921\"]]}, \"colorway\": [\"#636efa\", \"#EF553B\", \"#00cc96\", \"#ab63fa\", \"#FFA15A\", \"#19d3f3\", \"#FF6692\", \"#B6E880\", \"#FF97FF\", \"#FECB52\"], \"font\": {\"color\": \"#2a3f5f\"}, \"geo\": {\"bgcolor\": \"white\", \"lakecolor\": \"white\", \"landcolor\": \"#E5ECF6\", \"showlakes\": true, \"showland\": true, \"subunitcolor\": \"white\"}, \"hoverlabel\": {\"align\": \"left\"}, \"hovermode\": \"closest\", \"mapbox\": {\"style\": \"light\"}, \"paper_bgcolor\": \"white\", \"plot_bgcolor\": \"#E5ECF6\", \"polar\": {\"angularaxis\": {\"gridcolor\": \"white\", \"linecolor\": \"white\", \"ticks\": \"\"}, \"bgcolor\": \"#E5ECF6\", \"radialaxis\": {\"gridcolor\": \"white\", \"linecolor\": \"white\", \"ticks\": \"\"}}, \"scene\": {\"xaxis\": {\"backgroundcolor\": \"#E5ECF6\", \"gridcolor\": \"white\", \"gridwidth\": 2, \"linecolor\": \"white\", \"showbackground\": true, \"ticks\": \"\", \"zerolinecolor\": \"white\"}, \"yaxis\": {\"backgroundcolor\": \"#E5ECF6\", \"gridcolor\": \"white\", \"gridwidth\": 2, \"linecolor\": \"white\", \"showbackground\": true, \"ticks\": \"\", \"zerolinecolor\": \"white\"}, \"zaxis\": {\"backgroundcolor\": \"#E5ECF6\", \"gridcolor\": \"white\", \"gridwidth\": 2, \"linecolor\": \"white\", \"showbackground\": true, \"ticks\": \"\", \"zerolinecolor\": \"white\"}}, \"shapedefaults\": {\"line\": {\"color\": \"#2a3f5f\"}}, \"ternary\": {\"aaxis\": {\"gridcolor\": \"white\", \"linecolor\": \"white\", \"ticks\": \"\"}, \"baxis\": {\"gridcolor\": \"white\", \"linecolor\": \"white\", \"ticks\": \"\"}, \"bgcolor\": \"#E5ECF6\", \"caxis\": {\"gridcolor\": \"white\", \"linecolor\": \"white\", \"ticks\": \"\"}}, \"title\": {\"x\": 0.05}, \"xaxis\": {\"automargin\": true, \"gridcolor\": \"white\", \"linecolor\": \"white\", \"ticks\": \"\", \"title\": {\"standoff\": 15}, \"zerolinecolor\": \"white\", \"zerolinewidth\": 2}, \"yaxis\": {\"automargin\": true, \"gridcolor\": \"white\", \"linecolor\": \"white\", \"ticks\": \"\", \"title\": {\"standoff\": 15}, \"zerolinecolor\": \"white\", \"zerolinewidth\": 2}}}, \"title\": {\"font\": {\"color\": \"#4D5663\"}}, \"xaxis\": {\"gridcolor\": \"#E1E5ED\", \"showgrid\": true, \"tickfont\": {\"color\": \"#4D5663\"}, \"title\": {\"font\": {\"color\": \"#4D5663\"}, \"text\": \"\"}, \"zerolinecolor\": \"#E1E5ED\"}, \"yaxis\": {\"gridcolor\": \"#E1E5ED\", \"showgrid\": true, \"tickfont\": {\"color\": \"#4D5663\"}, \"title\": {\"font\": {\"color\": \"#4D5663\"}, \"text\": \"\"}, \"zerolinecolor\": \"#E1E5ED\"}},\n",
       "                        {\"showLink\": true, \"linkText\": \"Export to plot.ly\", \"plotlyServerURL\": \"https://plot.ly\", \"responsive\": true}\n",
       "                    ).then(function(){\n",
       "                            \n",
       "var gd = document.getElementById('60099d83-7d28-4472-a57a-762e80c93508');\n",
       "var x = new MutationObserver(function (mutations, observer) {{\n",
       "        var display = window.getComputedStyle(gd).display;\n",
       "        if (!display || display === 'none') {{\n",
       "            console.log([gd, 'removed!']);\n",
       "            Plotly.purge(gd);\n",
       "            observer.disconnect();\n",
       "        }}\n",
       "}});\n",
       "\n",
       "// Listen for the removal of the full notebook cells\n",
       "var notebookContainer = gd.closest('#notebook-container');\n",
       "if (notebookContainer) {{\n",
       "    x.observe(notebookContainer, {childList: true});\n",
       "}}\n",
       "\n",
       "// Listen for the clearing of the current output cell\n",
       "var outputEl = gd.closest('.output');\n",
       "if (outputEl) {{\n",
       "    x.observe(outputEl, {childList: true});\n",
       "}}\n",
       "\n",
       "                        })\n",
       "                };\n",
       "                });\n",
       "            </script>\n",
       "        </div>"
      ]
     },
     "metadata": {},
     "output_type": "display_data"
    }
   ],
   "source": [
    "df.iplot()"
   ]
  },
  {
   "cell_type": "markdown",
   "metadata": {},
   "source": [
    "## Scatter"
   ]
  },
  {
   "cell_type": "code",
   "execution_count": 11,
   "metadata": {},
   "outputs": [
    {
     "data": {
      "application/vnd.plotly.v1+json": {
       "config": {
        "linkText": "Export to plot.ly",
        "plotlyServerURL": "https://plot.ly",
        "showLink": true
       },
       "data": [
        {
         "line": {
          "color": "rgba(255, 153, 51, 1.0)",
          "dash": "solid",
          "shape": "linear",
          "width": 1.3
         },
         "marker": {
          "size": 10,
          "symbol": "circle"
         },
         "mode": "markers",
         "name": "B",
         "text": "",
         "type": "scatter",
         "x": [
          0.3705878037577684,
          -0.6678339547302442,
          1.1380918556405002,
          -0.675580051894025,
          1.7262495731372611,
          -0.7346738962061609,
          -0.9562145225408256,
          0.025148520483188185,
          -0.11730817837083653,
          -0.8875635029726676,
          0.7878568424078434,
          1.1653202219069316,
          1.2937559144192385,
          -1.0658594627738625,
          -0.09260441995537765,
          -0.5159981219517672,
          -0.8327586860733873,
          -1.3749779091900383,
          0.42018431850196075,
          0.14709265072578784,
          0.25214049237485664,
          -0.18919730285638245,
          -2.718182630893289,
          -2.4871101190238996,
          -1.0215669673578682,
          0.24635506388134681,
          -0.10770573439041783,
          0.3557554224870404,
          0.031566456058262665,
          0.1700452202575896,
          -0.9575259626465774,
          -0.21532599451762865,
          0.5236647751886957,
          1.94221152756419,
          1.0739362417570109,
          0.08712867977911695,
          -0.37107368322293466,
          -1.1447478368070039,
          2.129917673232524,
          -0.9693582650304164,
          -0.1869513636704791,
          2.2092637073763917,
          1.488229125167454,
          2.214050967163112,
          0.6384413413698313,
          -1.9283759167143864,
          -0.4511610664062786,
          -0.06721145376013846,
          -1.8119277914008352,
          -0.6415871282167186,
          -0.09212605207912067,
          -0.11015367934595786,
          -0.2885730054311169,
          0.17257802683078483,
          -0.34532000564412413,
          -0.12995888586272972,
          -0.4377511993519691,
          -1.876492612806514,
          -1.718838915583185,
          0.0936799439467252,
          0.47001537739454224,
          -2.8410006043336353,
          1.704730125268345,
          0.20259501783314926,
          -0.4206312134987387,
          0.839068083396662,
          -0.5043104052179739,
          0.4731676005007791,
          0.19311114687310646,
          0.4716117801712886,
          1.8908763742207517,
          -1.334644125974962,
          -0.11766425437807593,
          1.6565164720427392,
          -1.5568524437600175,
          -0.5680816820553658,
          -0.5344358887477514,
          0.1900277548085487,
          0.7565155724048774,
          1.9865304358054405,
          -0.3281632782126243,
          -2.127189864605686,
          -0.39679487724212614,
          -0.3050622209272501,
          -1.2578147927340104,
          -0.17726760140269482,
          -1.5401904883006807,
          -0.5614175852880462,
          -1.967164616628011,
          -0.38255077923662584,
          1.1503595634830022,
          0.2576042608917582,
          1.2135540045813504,
          -0.4161542112158181,
          2.1297943647777084,
          1.3264977923735735,
          -0.4404670901208818,
          0.48124473164937726,
          0.5839900293237509,
          1.076803896700854
         ],
         "y": [
          -0.9026182879513235,
          -0.8429681388249898,
          0.9540726979032438,
          -0.23251275860498477,
          0.34349554969697677,
          -0.6219462410445961,
          -2.0006622694901433,
          1.2051941291240547,
          -0.13994760501934572,
          1.4084984797743516,
          -1.4406185815567676,
          2.203571063939216,
          -0.7573170225475241,
          -1.3938894902922006,
          -1.5080691322024262,
          -0.14327068342977814,
          0.037417546547547115,
          1.6462587562862911,
          -0.09803460519806916,
          -0.14996665115790409,
          0.21163564577514976,
          1.0263341563855668,
          -2.1541928508243413,
          0.5266668698269917,
          -1.55295581817936,
          -0.1945656521063503,
          0.4888954405211421,
          -1.0860016057795432,
          0.6863853333595958,
          1.5301495976534594,
          0.9766721778910605,
          1.336524835836653,
          -1.2007448477602651,
          0.06634015015393542,
          1.2366217573413492,
          -0.8777425551106883,
          0.6838574049901874,
          1.4325415795887664,
          -0.9916589198409315,
          -1.4400899617991463,
          -1.2559540357374495,
          0.6110065450279094,
          -1.0390703837403927,
          0.7226262599610198,
          -2.676636290627523,
          -0.7200323899747009,
          0.0773058348349942,
          -1.123920139622418,
          -1.5943451488747178,
          0.09570172620242262,
          0.031109758935364544,
          0.5486092430934341,
          -0.9783856846534326,
          -0.37782591930038695,
          2.04289799639152,
          2.695461751334061,
          0.42866956560443514,
          0.06570107039637005,
          0.3406308372199238,
          -0.13963619271339842,
          2.08286852359131,
          -1.2438740075995987,
          -1.0244756191667646,
          -1.218721967500244,
          -0.574858657178294,
          2.92238752045327,
          0.49989326896154135,
          -1.228574562429567,
          0.96213081663357,
          -1.7825877071155352,
          -0.8255838017224469,
          -0.2647822588269775,
          1.3393791985468635,
          -0.39866530169448894,
          0.7530286903232385,
          0.702494600097855,
          -2.9359052065235454,
          1.737741342697497,
          -0.27851189827084305,
          2.519831534981045,
          0.9039598139975631,
          -0.11495144416259331,
          1.7927453018094415,
          1.0292143655851063,
          0.9950063877604468,
          0.7302318326789189,
          -1.0215696369523628,
          0.3528032997113076,
          -1.5412449038618279,
          -0.5806327163073665,
          0.5350868251094306,
          -1.6961570456962733,
          0.5796026289085382,
          -0.30485897618670443,
          -1.6535985994040143,
          1.0991402504723242,
          0.5477912575339169,
          -1.6636610596560424,
          0.48997625929201616,
          -2.015300619743853
         ]
        }
       ],
       "layout": {
        "legend": {
         "bgcolor": "#F5F6F9",
         "font": {
          "color": "#4D5663"
         }
        },
        "paper_bgcolor": "#F5F6F9",
        "plot_bgcolor": "#F5F6F9",
        "template": {
         "data": {
          "bar": [
           {
            "error_x": {
             "color": "#2a3f5f"
            },
            "error_y": {
             "color": "#2a3f5f"
            },
            "marker": {
             "line": {
              "color": "#E5ECF6",
              "width": 0.5
             }
            },
            "type": "bar"
           }
          ],
          "barpolar": [
           {
            "marker": {
             "line": {
              "color": "#E5ECF6",
              "width": 0.5
             }
            },
            "type": "barpolar"
           }
          ],
          "carpet": [
           {
            "aaxis": {
             "endlinecolor": "#2a3f5f",
             "gridcolor": "white",
             "linecolor": "white",
             "minorgridcolor": "white",
             "startlinecolor": "#2a3f5f"
            },
            "baxis": {
             "endlinecolor": "#2a3f5f",
             "gridcolor": "white",
             "linecolor": "white",
             "minorgridcolor": "white",
             "startlinecolor": "#2a3f5f"
            },
            "type": "carpet"
           }
          ],
          "choropleth": [
           {
            "colorbar": {
             "outlinewidth": 0,
             "ticks": ""
            },
            "type": "choropleth"
           }
          ],
          "contour": [
           {
            "colorbar": {
             "outlinewidth": 0,
             "ticks": ""
            },
            "colorscale": [
             [
              0,
              "#0d0887"
             ],
             [
              0.1111111111111111,
              "#46039f"
             ],
             [
              0.2222222222222222,
              "#7201a8"
             ],
             [
              0.3333333333333333,
              "#9c179e"
             ],
             [
              0.4444444444444444,
              "#bd3786"
             ],
             [
              0.5555555555555556,
              "#d8576b"
             ],
             [
              0.6666666666666666,
              "#ed7953"
             ],
             [
              0.7777777777777778,
              "#fb9f3a"
             ],
             [
              0.8888888888888888,
              "#fdca26"
             ],
             [
              1,
              "#f0f921"
             ]
            ],
            "type": "contour"
           }
          ],
          "contourcarpet": [
           {
            "colorbar": {
             "outlinewidth": 0,
             "ticks": ""
            },
            "type": "contourcarpet"
           }
          ],
          "heatmap": [
           {
            "colorbar": {
             "outlinewidth": 0,
             "ticks": ""
            },
            "colorscale": [
             [
              0,
              "#0d0887"
             ],
             [
              0.1111111111111111,
              "#46039f"
             ],
             [
              0.2222222222222222,
              "#7201a8"
             ],
             [
              0.3333333333333333,
              "#9c179e"
             ],
             [
              0.4444444444444444,
              "#bd3786"
             ],
             [
              0.5555555555555556,
              "#d8576b"
             ],
             [
              0.6666666666666666,
              "#ed7953"
             ],
             [
              0.7777777777777778,
              "#fb9f3a"
             ],
             [
              0.8888888888888888,
              "#fdca26"
             ],
             [
              1,
              "#f0f921"
             ]
            ],
            "type": "heatmap"
           }
          ],
          "heatmapgl": [
           {
            "colorbar": {
             "outlinewidth": 0,
             "ticks": ""
            },
            "colorscale": [
             [
              0,
              "#0d0887"
             ],
             [
              0.1111111111111111,
              "#46039f"
             ],
             [
              0.2222222222222222,
              "#7201a8"
             ],
             [
              0.3333333333333333,
              "#9c179e"
             ],
             [
              0.4444444444444444,
              "#bd3786"
             ],
             [
              0.5555555555555556,
              "#d8576b"
             ],
             [
              0.6666666666666666,
              "#ed7953"
             ],
             [
              0.7777777777777778,
              "#fb9f3a"
             ],
             [
              0.8888888888888888,
              "#fdca26"
             ],
             [
              1,
              "#f0f921"
             ]
            ],
            "type": "heatmapgl"
           }
          ],
          "histogram": [
           {
            "marker": {
             "colorbar": {
              "outlinewidth": 0,
              "ticks": ""
             }
            },
            "type": "histogram"
           }
          ],
          "histogram2d": [
           {
            "colorbar": {
             "outlinewidth": 0,
             "ticks": ""
            },
            "colorscale": [
             [
              0,
              "#0d0887"
             ],
             [
              0.1111111111111111,
              "#46039f"
             ],
             [
              0.2222222222222222,
              "#7201a8"
             ],
             [
              0.3333333333333333,
              "#9c179e"
             ],
             [
              0.4444444444444444,
              "#bd3786"
             ],
             [
              0.5555555555555556,
              "#d8576b"
             ],
             [
              0.6666666666666666,
              "#ed7953"
             ],
             [
              0.7777777777777778,
              "#fb9f3a"
             ],
             [
              0.8888888888888888,
              "#fdca26"
             ],
             [
              1,
              "#f0f921"
             ]
            ],
            "type": "histogram2d"
           }
          ],
          "histogram2dcontour": [
           {
            "colorbar": {
             "outlinewidth": 0,
             "ticks": ""
            },
            "colorscale": [
             [
              0,
              "#0d0887"
             ],
             [
              0.1111111111111111,
              "#46039f"
             ],
             [
              0.2222222222222222,
              "#7201a8"
             ],
             [
              0.3333333333333333,
              "#9c179e"
             ],
             [
              0.4444444444444444,
              "#bd3786"
             ],
             [
              0.5555555555555556,
              "#d8576b"
             ],
             [
              0.6666666666666666,
              "#ed7953"
             ],
             [
              0.7777777777777778,
              "#fb9f3a"
             ],
             [
              0.8888888888888888,
              "#fdca26"
             ],
             [
              1,
              "#f0f921"
             ]
            ],
            "type": "histogram2dcontour"
           }
          ],
          "mesh3d": [
           {
            "colorbar": {
             "outlinewidth": 0,
             "ticks": ""
            },
            "type": "mesh3d"
           }
          ],
          "parcoords": [
           {
            "line": {
             "colorbar": {
              "outlinewidth": 0,
              "ticks": ""
             }
            },
            "type": "parcoords"
           }
          ],
          "pie": [
           {
            "automargin": true,
            "type": "pie"
           }
          ],
          "scatter": [
           {
            "marker": {
             "colorbar": {
              "outlinewidth": 0,
              "ticks": ""
             }
            },
            "type": "scatter"
           }
          ],
          "scatter3d": [
           {
            "line": {
             "colorbar": {
              "outlinewidth": 0,
              "ticks": ""
             }
            },
            "marker": {
             "colorbar": {
              "outlinewidth": 0,
              "ticks": ""
             }
            },
            "type": "scatter3d"
           }
          ],
          "scattercarpet": [
           {
            "marker": {
             "colorbar": {
              "outlinewidth": 0,
              "ticks": ""
             }
            },
            "type": "scattercarpet"
           }
          ],
          "scattergeo": [
           {
            "marker": {
             "colorbar": {
              "outlinewidth": 0,
              "ticks": ""
             }
            },
            "type": "scattergeo"
           }
          ],
          "scattergl": [
           {
            "marker": {
             "colorbar": {
              "outlinewidth": 0,
              "ticks": ""
             }
            },
            "type": "scattergl"
           }
          ],
          "scattermapbox": [
           {
            "marker": {
             "colorbar": {
              "outlinewidth": 0,
              "ticks": ""
             }
            },
            "type": "scattermapbox"
           }
          ],
          "scatterpolar": [
           {
            "marker": {
             "colorbar": {
              "outlinewidth": 0,
              "ticks": ""
             }
            },
            "type": "scatterpolar"
           }
          ],
          "scatterpolargl": [
           {
            "marker": {
             "colorbar": {
              "outlinewidth": 0,
              "ticks": ""
             }
            },
            "type": "scatterpolargl"
           }
          ],
          "scatterternary": [
           {
            "marker": {
             "colorbar": {
              "outlinewidth": 0,
              "ticks": ""
             }
            },
            "type": "scatterternary"
           }
          ],
          "surface": [
           {
            "colorbar": {
             "outlinewidth": 0,
             "ticks": ""
            },
            "colorscale": [
             [
              0,
              "#0d0887"
             ],
             [
              0.1111111111111111,
              "#46039f"
             ],
             [
              0.2222222222222222,
              "#7201a8"
             ],
             [
              0.3333333333333333,
              "#9c179e"
             ],
             [
              0.4444444444444444,
              "#bd3786"
             ],
             [
              0.5555555555555556,
              "#d8576b"
             ],
             [
              0.6666666666666666,
              "#ed7953"
             ],
             [
              0.7777777777777778,
              "#fb9f3a"
             ],
             [
              0.8888888888888888,
              "#fdca26"
             ],
             [
              1,
              "#f0f921"
             ]
            ],
            "type": "surface"
           }
          ],
          "table": [
           {
            "cells": {
             "fill": {
              "color": "#EBF0F8"
             },
             "line": {
              "color": "white"
             }
            },
            "header": {
             "fill": {
              "color": "#C8D4E3"
             },
             "line": {
              "color": "white"
             }
            },
            "type": "table"
           }
          ]
         },
         "layout": {
          "annotationdefaults": {
           "arrowcolor": "#2a3f5f",
           "arrowhead": 0,
           "arrowwidth": 1
          },
          "coloraxis": {
           "colorbar": {
            "outlinewidth": 0,
            "ticks": ""
           }
          },
          "colorscale": {
           "diverging": [
            [
             0,
             "#8e0152"
            ],
            [
             0.1,
             "#c51b7d"
            ],
            [
             0.2,
             "#de77ae"
            ],
            [
             0.3,
             "#f1b6da"
            ],
            [
             0.4,
             "#fde0ef"
            ],
            [
             0.5,
             "#f7f7f7"
            ],
            [
             0.6,
             "#e6f5d0"
            ],
            [
             0.7,
             "#b8e186"
            ],
            [
             0.8,
             "#7fbc41"
            ],
            [
             0.9,
             "#4d9221"
            ],
            [
             1,
             "#276419"
            ]
           ],
           "sequential": [
            [
             0,
             "#0d0887"
            ],
            [
             0.1111111111111111,
             "#46039f"
            ],
            [
             0.2222222222222222,
             "#7201a8"
            ],
            [
             0.3333333333333333,
             "#9c179e"
            ],
            [
             0.4444444444444444,
             "#bd3786"
            ],
            [
             0.5555555555555556,
             "#d8576b"
            ],
            [
             0.6666666666666666,
             "#ed7953"
            ],
            [
             0.7777777777777778,
             "#fb9f3a"
            ],
            [
             0.8888888888888888,
             "#fdca26"
            ],
            [
             1,
             "#f0f921"
            ]
           ],
           "sequentialminus": [
            [
             0,
             "#0d0887"
            ],
            [
             0.1111111111111111,
             "#46039f"
            ],
            [
             0.2222222222222222,
             "#7201a8"
            ],
            [
             0.3333333333333333,
             "#9c179e"
            ],
            [
             0.4444444444444444,
             "#bd3786"
            ],
            [
             0.5555555555555556,
             "#d8576b"
            ],
            [
             0.6666666666666666,
             "#ed7953"
            ],
            [
             0.7777777777777778,
             "#fb9f3a"
            ],
            [
             0.8888888888888888,
             "#fdca26"
            ],
            [
             1,
             "#f0f921"
            ]
           ]
          },
          "colorway": [
           "#636efa",
           "#EF553B",
           "#00cc96",
           "#ab63fa",
           "#FFA15A",
           "#19d3f3",
           "#FF6692",
           "#B6E880",
           "#FF97FF",
           "#FECB52"
          ],
          "font": {
           "color": "#2a3f5f"
          },
          "geo": {
           "bgcolor": "white",
           "lakecolor": "white",
           "landcolor": "#E5ECF6",
           "showlakes": true,
           "showland": true,
           "subunitcolor": "white"
          },
          "hoverlabel": {
           "align": "left"
          },
          "hovermode": "closest",
          "mapbox": {
           "style": "light"
          },
          "paper_bgcolor": "white",
          "plot_bgcolor": "#E5ECF6",
          "polar": {
           "angularaxis": {
            "gridcolor": "white",
            "linecolor": "white",
            "ticks": ""
           },
           "bgcolor": "#E5ECF6",
           "radialaxis": {
            "gridcolor": "white",
            "linecolor": "white",
            "ticks": ""
           }
          },
          "scene": {
           "xaxis": {
            "backgroundcolor": "#E5ECF6",
            "gridcolor": "white",
            "gridwidth": 2,
            "linecolor": "white",
            "showbackground": true,
            "ticks": "",
            "zerolinecolor": "white"
           },
           "yaxis": {
            "backgroundcolor": "#E5ECF6",
            "gridcolor": "white",
            "gridwidth": 2,
            "linecolor": "white",
            "showbackground": true,
            "ticks": "",
            "zerolinecolor": "white"
           },
           "zaxis": {
            "backgroundcolor": "#E5ECF6",
            "gridcolor": "white",
            "gridwidth": 2,
            "linecolor": "white",
            "showbackground": true,
            "ticks": "",
            "zerolinecolor": "white"
           }
          },
          "shapedefaults": {
           "line": {
            "color": "#2a3f5f"
           }
          },
          "ternary": {
           "aaxis": {
            "gridcolor": "white",
            "linecolor": "white",
            "ticks": ""
           },
           "baxis": {
            "gridcolor": "white",
            "linecolor": "white",
            "ticks": ""
           },
           "bgcolor": "#E5ECF6",
           "caxis": {
            "gridcolor": "white",
            "linecolor": "white",
            "ticks": ""
           }
          },
          "title": {
           "x": 0.05
          },
          "xaxis": {
           "automargin": true,
           "gridcolor": "white",
           "linecolor": "white",
           "ticks": "",
           "title": {
            "standoff": 15
           },
           "zerolinecolor": "white",
           "zerolinewidth": 2
          },
          "yaxis": {
           "automargin": true,
           "gridcolor": "white",
           "linecolor": "white",
           "ticks": "",
           "title": {
            "standoff": 15
           },
           "zerolinecolor": "white",
           "zerolinewidth": 2
          }
         }
        },
        "title": {
         "font": {
          "color": "#4D5663"
         }
        },
        "xaxis": {
         "gridcolor": "#E1E5ED",
         "showgrid": true,
         "tickfont": {
          "color": "#4D5663"
         },
         "title": {
          "font": {
           "color": "#4D5663"
          },
          "text": ""
         },
         "zerolinecolor": "#E1E5ED"
        },
        "yaxis": {
         "gridcolor": "#E1E5ED",
         "showgrid": true,
         "tickfont": {
          "color": "#4D5663"
         },
         "title": {
          "font": {
           "color": "#4D5663"
          },
          "text": ""
         },
         "zerolinecolor": "#E1E5ED"
        }
       }
      },
      "text/html": [
       "<div>\n",
       "        \n",
       "        \n",
       "            <div id=\"ecfd1ee4-0311-4339-a3f9-bbf9912ddf78\" class=\"plotly-graph-div\" style=\"height:525px; width:100%;\"></div>\n",
       "            <script type=\"text/javascript\">\n",
       "                require([\"plotly\"], function(Plotly) {\n",
       "                    window.PLOTLYENV=window.PLOTLYENV || {};\n",
       "                    window.PLOTLYENV.BASE_URL='https://plot.ly';\n",
       "                    \n",
       "                if (document.getElementById(\"ecfd1ee4-0311-4339-a3f9-bbf9912ddf78\")) {\n",
       "                    Plotly.newPlot(\n",
       "                        'ecfd1ee4-0311-4339-a3f9-bbf9912ddf78',\n",
       "                        [{\"line\": {\"color\": \"rgba(255, 153, 51, 1.0)\", \"dash\": \"solid\", \"shape\": \"linear\", \"width\": 1.3}, \"marker\": {\"size\": 10, \"symbol\": \"circle\"}, \"mode\": \"markers\", \"name\": \"B\", \"text\": \"\", \"type\": \"scatter\", \"x\": [0.3705878037577684, -0.6678339547302442, 1.1380918556405002, -0.675580051894025, 1.7262495731372611, -0.7346738962061609, -0.9562145225408256, 0.025148520483188185, -0.11730817837083653, -0.8875635029726676, 0.7878568424078434, 1.1653202219069316, 1.2937559144192385, -1.0658594627738625, -0.09260441995537765, -0.5159981219517672, -0.8327586860733873, -1.3749779091900383, 0.42018431850196075, 0.14709265072578784, 0.25214049237485664, -0.18919730285638245, -2.718182630893289, -2.4871101190238996, -1.0215669673578682, 0.24635506388134681, -0.10770573439041783, 0.3557554224870404, 0.031566456058262665, 0.1700452202575896, -0.9575259626465774, -0.21532599451762865, 0.5236647751886957, 1.94221152756419, 1.0739362417570109, 0.08712867977911695, -0.37107368322293466, -1.1447478368070039, 2.129917673232524, -0.9693582650304164, -0.1869513636704791, 2.2092637073763917, 1.488229125167454, 2.214050967163112, 0.6384413413698313, -1.9283759167143864, -0.4511610664062786, -0.06721145376013846, -1.8119277914008352, -0.6415871282167186, -0.09212605207912067, -0.11015367934595786, -0.2885730054311169, 0.17257802683078483, -0.34532000564412413, -0.12995888586272972, -0.4377511993519691, -1.876492612806514, -1.718838915583185, 0.0936799439467252, 0.47001537739454224, -2.8410006043336353, 1.704730125268345, 0.20259501783314926, -0.4206312134987387, 0.839068083396662, -0.5043104052179739, 0.4731676005007791, 0.19311114687310646, 0.4716117801712886, 1.8908763742207517, -1.334644125974962, -0.11766425437807593, 1.6565164720427392, -1.5568524437600175, -0.5680816820553658, -0.5344358887477514, 0.1900277548085487, 0.7565155724048774, 1.9865304358054405, -0.3281632782126243, -2.127189864605686, -0.39679487724212614, -0.3050622209272501, -1.2578147927340104, -0.17726760140269482, -1.5401904883006807, -0.5614175852880462, -1.967164616628011, -0.38255077923662584, 1.1503595634830022, 0.2576042608917582, 1.2135540045813504, -0.4161542112158181, 2.1297943647777084, 1.3264977923735735, -0.4404670901208818, 0.48124473164937726, 0.5839900293237509, 1.076803896700854], \"y\": [-0.9026182879513235, -0.8429681388249898, 0.9540726979032438, -0.23251275860498477, 0.34349554969697677, -0.6219462410445961, -2.0006622694901433, 1.2051941291240547, -0.13994760501934572, 1.4084984797743516, -1.4406185815567676, 2.203571063939216, -0.7573170225475241, -1.3938894902922006, -1.5080691322024262, -0.14327068342977814, 0.037417546547547115, 1.6462587562862911, -0.09803460519806916, -0.14996665115790409, 0.21163564577514976, 1.0263341563855668, -2.1541928508243413, 0.5266668698269917, -1.55295581817936, -0.1945656521063503, 0.4888954405211421, -1.0860016057795432, 0.6863853333595958, 1.5301495976534594, 0.9766721778910605, 1.336524835836653, -1.2007448477602651, 0.06634015015393542, 1.2366217573413492, -0.8777425551106883, 0.6838574049901874, 1.4325415795887664, -0.9916589198409315, -1.4400899617991463, -1.2559540357374495, 0.6110065450279094, -1.0390703837403927, 0.7226262599610198, -2.676636290627523, -0.7200323899747009, 0.0773058348349942, -1.123920139622418, -1.5943451488747178, 0.09570172620242262, 0.031109758935364544, 0.5486092430934341, -0.9783856846534326, -0.37782591930038695, 2.04289799639152, 2.695461751334061, 0.42866956560443514, 0.06570107039637005, 0.3406308372199238, -0.13963619271339842, 2.08286852359131, -1.2438740075995987, -1.0244756191667646, -1.218721967500244, -0.574858657178294, 2.92238752045327, 0.49989326896154135, -1.228574562429567, 0.96213081663357, -1.7825877071155352, -0.8255838017224469, -0.2647822588269775, 1.3393791985468635, -0.39866530169448894, 0.7530286903232385, 0.702494600097855, -2.9359052065235454, 1.737741342697497, -0.27851189827084305, 2.519831534981045, 0.9039598139975631, -0.11495144416259331, 1.7927453018094415, 1.0292143655851063, 0.9950063877604468, 0.7302318326789189, -1.0215696369523628, 0.3528032997113076, -1.5412449038618279, -0.5806327163073665, 0.5350868251094306, -1.6961570456962733, 0.5796026289085382, -0.30485897618670443, -1.6535985994040143, 1.0991402504723242, 0.5477912575339169, -1.6636610596560424, 0.48997625929201616, -2.015300619743853]}],\n",
       "                        {\"legend\": {\"bgcolor\": \"#F5F6F9\", \"font\": {\"color\": \"#4D5663\"}}, \"paper_bgcolor\": \"#F5F6F9\", \"plot_bgcolor\": \"#F5F6F9\", \"template\": {\"data\": {\"bar\": [{\"error_x\": {\"color\": \"#2a3f5f\"}, \"error_y\": {\"color\": \"#2a3f5f\"}, \"marker\": {\"line\": {\"color\": \"#E5ECF6\", \"width\": 0.5}}, \"type\": \"bar\"}], \"barpolar\": [{\"marker\": {\"line\": {\"color\": \"#E5ECF6\", \"width\": 0.5}}, \"type\": \"barpolar\"}], \"carpet\": [{\"aaxis\": {\"endlinecolor\": \"#2a3f5f\", \"gridcolor\": \"white\", \"linecolor\": \"white\", \"minorgridcolor\": \"white\", \"startlinecolor\": \"#2a3f5f\"}, \"baxis\": {\"endlinecolor\": \"#2a3f5f\", \"gridcolor\": \"white\", \"linecolor\": \"white\", \"minorgridcolor\": \"white\", \"startlinecolor\": \"#2a3f5f\"}, \"type\": \"carpet\"}], \"choropleth\": [{\"colorbar\": {\"outlinewidth\": 0, \"ticks\": \"\"}, \"type\": \"choropleth\"}], \"contour\": [{\"colorbar\": {\"outlinewidth\": 0, \"ticks\": \"\"}, \"colorscale\": [[0.0, \"#0d0887\"], [0.1111111111111111, \"#46039f\"], [0.2222222222222222, \"#7201a8\"], [0.3333333333333333, \"#9c179e\"], [0.4444444444444444, \"#bd3786\"], [0.5555555555555556, \"#d8576b\"], [0.6666666666666666, \"#ed7953\"], [0.7777777777777778, \"#fb9f3a\"], [0.8888888888888888, \"#fdca26\"], [1.0, \"#f0f921\"]], \"type\": \"contour\"}], \"contourcarpet\": [{\"colorbar\": {\"outlinewidth\": 0, \"ticks\": \"\"}, \"type\": \"contourcarpet\"}], \"heatmap\": [{\"colorbar\": {\"outlinewidth\": 0, \"ticks\": \"\"}, \"colorscale\": [[0.0, \"#0d0887\"], [0.1111111111111111, \"#46039f\"], [0.2222222222222222, \"#7201a8\"], [0.3333333333333333, \"#9c179e\"], [0.4444444444444444, \"#bd3786\"], [0.5555555555555556, \"#d8576b\"], [0.6666666666666666, \"#ed7953\"], [0.7777777777777778, \"#fb9f3a\"], [0.8888888888888888, \"#fdca26\"], [1.0, \"#f0f921\"]], \"type\": \"heatmap\"}], \"heatmapgl\": [{\"colorbar\": {\"outlinewidth\": 0, \"ticks\": \"\"}, \"colorscale\": [[0.0, \"#0d0887\"], [0.1111111111111111, \"#46039f\"], [0.2222222222222222, \"#7201a8\"], [0.3333333333333333, \"#9c179e\"], [0.4444444444444444, \"#bd3786\"], [0.5555555555555556, \"#d8576b\"], [0.6666666666666666, \"#ed7953\"], [0.7777777777777778, \"#fb9f3a\"], [0.8888888888888888, \"#fdca26\"], [1.0, \"#f0f921\"]], \"type\": \"heatmapgl\"}], \"histogram\": [{\"marker\": {\"colorbar\": {\"outlinewidth\": 0, \"ticks\": \"\"}}, \"type\": \"histogram\"}], \"histogram2d\": [{\"colorbar\": {\"outlinewidth\": 0, \"ticks\": \"\"}, \"colorscale\": [[0.0, \"#0d0887\"], [0.1111111111111111, \"#46039f\"], [0.2222222222222222, \"#7201a8\"], [0.3333333333333333, \"#9c179e\"], [0.4444444444444444, \"#bd3786\"], [0.5555555555555556, \"#d8576b\"], [0.6666666666666666, \"#ed7953\"], [0.7777777777777778, \"#fb9f3a\"], [0.8888888888888888, \"#fdca26\"], [1.0, \"#f0f921\"]], \"type\": \"histogram2d\"}], \"histogram2dcontour\": [{\"colorbar\": {\"outlinewidth\": 0, \"ticks\": \"\"}, \"colorscale\": [[0.0, \"#0d0887\"], [0.1111111111111111, \"#46039f\"], [0.2222222222222222, \"#7201a8\"], [0.3333333333333333, \"#9c179e\"], [0.4444444444444444, \"#bd3786\"], [0.5555555555555556, \"#d8576b\"], [0.6666666666666666, \"#ed7953\"], [0.7777777777777778, \"#fb9f3a\"], [0.8888888888888888, \"#fdca26\"], [1.0, \"#f0f921\"]], \"type\": \"histogram2dcontour\"}], \"mesh3d\": [{\"colorbar\": {\"outlinewidth\": 0, \"ticks\": \"\"}, \"type\": \"mesh3d\"}], \"parcoords\": [{\"line\": {\"colorbar\": {\"outlinewidth\": 0, \"ticks\": \"\"}}, \"type\": \"parcoords\"}], \"pie\": [{\"automargin\": true, \"type\": \"pie\"}], \"scatter\": [{\"marker\": {\"colorbar\": {\"outlinewidth\": 0, \"ticks\": \"\"}}, \"type\": \"scatter\"}], \"scatter3d\": [{\"line\": {\"colorbar\": {\"outlinewidth\": 0, \"ticks\": \"\"}}, \"marker\": {\"colorbar\": {\"outlinewidth\": 0, \"ticks\": \"\"}}, \"type\": \"scatter3d\"}], \"scattercarpet\": [{\"marker\": {\"colorbar\": {\"outlinewidth\": 0, \"ticks\": \"\"}}, \"type\": \"scattercarpet\"}], \"scattergeo\": [{\"marker\": {\"colorbar\": {\"outlinewidth\": 0, \"ticks\": \"\"}}, \"type\": \"scattergeo\"}], \"scattergl\": [{\"marker\": {\"colorbar\": {\"outlinewidth\": 0, \"ticks\": \"\"}}, \"type\": \"scattergl\"}], \"scattermapbox\": [{\"marker\": {\"colorbar\": {\"outlinewidth\": 0, \"ticks\": \"\"}}, \"type\": \"scattermapbox\"}], \"scatterpolar\": [{\"marker\": {\"colorbar\": {\"outlinewidth\": 0, \"ticks\": \"\"}}, \"type\": \"scatterpolar\"}], \"scatterpolargl\": [{\"marker\": {\"colorbar\": {\"outlinewidth\": 0, \"ticks\": \"\"}}, \"type\": \"scatterpolargl\"}], \"scatterternary\": [{\"marker\": {\"colorbar\": {\"outlinewidth\": 0, \"ticks\": \"\"}}, \"type\": \"scatterternary\"}], \"surface\": [{\"colorbar\": {\"outlinewidth\": 0, \"ticks\": \"\"}, \"colorscale\": [[0.0, \"#0d0887\"], [0.1111111111111111, \"#46039f\"], [0.2222222222222222, \"#7201a8\"], [0.3333333333333333, \"#9c179e\"], [0.4444444444444444, \"#bd3786\"], [0.5555555555555556, \"#d8576b\"], [0.6666666666666666, \"#ed7953\"], [0.7777777777777778, \"#fb9f3a\"], [0.8888888888888888, \"#fdca26\"], [1.0, \"#f0f921\"]], \"type\": \"surface\"}], \"table\": [{\"cells\": {\"fill\": {\"color\": \"#EBF0F8\"}, \"line\": {\"color\": \"white\"}}, \"header\": {\"fill\": {\"color\": \"#C8D4E3\"}, \"line\": {\"color\": \"white\"}}, \"type\": \"table\"}]}, \"layout\": {\"annotationdefaults\": {\"arrowcolor\": \"#2a3f5f\", \"arrowhead\": 0, \"arrowwidth\": 1}, \"coloraxis\": {\"colorbar\": {\"outlinewidth\": 0, \"ticks\": \"\"}}, \"colorscale\": {\"diverging\": [[0, \"#8e0152\"], [0.1, \"#c51b7d\"], [0.2, \"#de77ae\"], [0.3, \"#f1b6da\"], [0.4, \"#fde0ef\"], [0.5, \"#f7f7f7\"], [0.6, \"#e6f5d0\"], [0.7, \"#b8e186\"], [0.8, \"#7fbc41\"], [0.9, \"#4d9221\"], [1, \"#276419\"]], \"sequential\": [[0.0, \"#0d0887\"], [0.1111111111111111, \"#46039f\"], [0.2222222222222222, \"#7201a8\"], [0.3333333333333333, \"#9c179e\"], [0.4444444444444444, \"#bd3786\"], [0.5555555555555556, \"#d8576b\"], [0.6666666666666666, \"#ed7953\"], [0.7777777777777778, \"#fb9f3a\"], [0.8888888888888888, \"#fdca26\"], [1.0, \"#f0f921\"]], \"sequentialminus\": [[0.0, \"#0d0887\"], [0.1111111111111111, \"#46039f\"], [0.2222222222222222, \"#7201a8\"], [0.3333333333333333, \"#9c179e\"], [0.4444444444444444, \"#bd3786\"], [0.5555555555555556, \"#d8576b\"], [0.6666666666666666, \"#ed7953\"], [0.7777777777777778, \"#fb9f3a\"], [0.8888888888888888, \"#fdca26\"], [1.0, \"#f0f921\"]]}, \"colorway\": [\"#636efa\", \"#EF553B\", \"#00cc96\", \"#ab63fa\", \"#FFA15A\", \"#19d3f3\", \"#FF6692\", \"#B6E880\", \"#FF97FF\", \"#FECB52\"], \"font\": {\"color\": \"#2a3f5f\"}, \"geo\": {\"bgcolor\": \"white\", \"lakecolor\": \"white\", \"landcolor\": \"#E5ECF6\", \"showlakes\": true, \"showland\": true, \"subunitcolor\": \"white\"}, \"hoverlabel\": {\"align\": \"left\"}, \"hovermode\": \"closest\", \"mapbox\": {\"style\": \"light\"}, \"paper_bgcolor\": \"white\", \"plot_bgcolor\": \"#E5ECF6\", \"polar\": {\"angularaxis\": {\"gridcolor\": \"white\", \"linecolor\": \"white\", \"ticks\": \"\"}, \"bgcolor\": \"#E5ECF6\", \"radialaxis\": {\"gridcolor\": \"white\", \"linecolor\": \"white\", \"ticks\": \"\"}}, \"scene\": {\"xaxis\": {\"backgroundcolor\": \"#E5ECF6\", \"gridcolor\": \"white\", \"gridwidth\": 2, \"linecolor\": \"white\", \"showbackground\": true, \"ticks\": \"\", \"zerolinecolor\": \"white\"}, \"yaxis\": {\"backgroundcolor\": \"#E5ECF6\", \"gridcolor\": \"white\", \"gridwidth\": 2, \"linecolor\": \"white\", \"showbackground\": true, \"ticks\": \"\", \"zerolinecolor\": \"white\"}, \"zaxis\": {\"backgroundcolor\": \"#E5ECF6\", \"gridcolor\": \"white\", \"gridwidth\": 2, \"linecolor\": \"white\", \"showbackground\": true, \"ticks\": \"\", \"zerolinecolor\": \"white\"}}, \"shapedefaults\": {\"line\": {\"color\": \"#2a3f5f\"}}, \"ternary\": {\"aaxis\": {\"gridcolor\": \"white\", \"linecolor\": \"white\", \"ticks\": \"\"}, \"baxis\": {\"gridcolor\": \"white\", \"linecolor\": \"white\", \"ticks\": \"\"}, \"bgcolor\": \"#E5ECF6\", \"caxis\": {\"gridcolor\": \"white\", \"linecolor\": \"white\", \"ticks\": \"\"}}, \"title\": {\"x\": 0.05}, \"xaxis\": {\"automargin\": true, \"gridcolor\": \"white\", \"linecolor\": \"white\", \"ticks\": \"\", \"title\": {\"standoff\": 15}, \"zerolinecolor\": \"white\", \"zerolinewidth\": 2}, \"yaxis\": {\"automargin\": true, \"gridcolor\": \"white\", \"linecolor\": \"white\", \"ticks\": \"\", \"title\": {\"standoff\": 15}, \"zerolinecolor\": \"white\", \"zerolinewidth\": 2}}}, \"title\": {\"font\": {\"color\": \"#4D5663\"}}, \"xaxis\": {\"gridcolor\": \"#E1E5ED\", \"showgrid\": true, \"tickfont\": {\"color\": \"#4D5663\"}, \"title\": {\"font\": {\"color\": \"#4D5663\"}, \"text\": \"\"}, \"zerolinecolor\": \"#E1E5ED\"}, \"yaxis\": {\"gridcolor\": \"#E1E5ED\", \"showgrid\": true, \"tickfont\": {\"color\": \"#4D5663\"}, \"title\": {\"font\": {\"color\": \"#4D5663\"}, \"text\": \"\"}, \"zerolinecolor\": \"#E1E5ED\"}},\n",
       "                        {\"showLink\": true, \"linkText\": \"Export to plot.ly\", \"plotlyServerURL\": \"https://plot.ly\", \"responsive\": true}\n",
       "                    ).then(function(){\n",
       "                            \n",
       "var gd = document.getElementById('ecfd1ee4-0311-4339-a3f9-bbf9912ddf78');\n",
       "var x = new MutationObserver(function (mutations, observer) {{\n",
       "        var display = window.getComputedStyle(gd).display;\n",
       "        if (!display || display === 'none') {{\n",
       "            console.log([gd, 'removed!']);\n",
       "            Plotly.purge(gd);\n",
       "            observer.disconnect();\n",
       "        }}\n",
       "}});\n",
       "\n",
       "// Listen for the removal of the full notebook cells\n",
       "var notebookContainer = gd.closest('#notebook-container');\n",
       "if (notebookContainer) {{\n",
       "    x.observe(notebookContainer, {childList: true});\n",
       "}}\n",
       "\n",
       "// Listen for the clearing of the current output cell\n",
       "var outputEl = gd.closest('.output');\n",
       "if (outputEl) {{\n",
       "    x.observe(outputEl, {childList: true});\n",
       "}}\n",
       "\n",
       "                        })\n",
       "                };\n",
       "                });\n",
       "            </script>\n",
       "        </div>"
      ]
     },
     "metadata": {},
     "output_type": "display_data"
    }
   ],
   "source": [
    "df.iplot(kind='scatter',x='A',y='B',mode='markers',size=10)"
   ]
  },
  {
   "cell_type": "markdown",
   "metadata": {},
   "source": [
    "## Bar Plots"
   ]
  },
  {
   "cell_type": "code",
   "execution_count": 13,
   "metadata": {},
   "outputs": [
    {
     "data": {
      "application/vnd.plotly.v1+json": {
       "config": {
        "linkText": "Export to plot.ly",
        "plotlyServerURL": "https://plot.ly",
        "showLink": true
       },
       "data": [
        {
         "marker": {
          "color": "rgba(255, 153, 51, 0.6)",
          "line": {
           "color": "rgba(255, 153, 51, 1.0)",
           "width": 1
          }
         },
         "name": "Values",
         "orientation": "v",
         "text": "",
         "type": "bar",
         "x": [
          "A",
          "B",
          "C"
         ],
         "y": [
          32,
          43,
          50
         ]
        }
       ],
       "layout": {
        "legend": {
         "bgcolor": "#F5F6F9",
         "font": {
          "color": "#4D5663"
         }
        },
        "paper_bgcolor": "#F5F6F9",
        "plot_bgcolor": "#F5F6F9",
        "template": {
         "data": {
          "bar": [
           {
            "error_x": {
             "color": "#2a3f5f"
            },
            "error_y": {
             "color": "#2a3f5f"
            },
            "marker": {
             "line": {
              "color": "#E5ECF6",
              "width": 0.5
             }
            },
            "type": "bar"
           }
          ],
          "barpolar": [
           {
            "marker": {
             "line": {
              "color": "#E5ECF6",
              "width": 0.5
             }
            },
            "type": "barpolar"
           }
          ],
          "carpet": [
           {
            "aaxis": {
             "endlinecolor": "#2a3f5f",
             "gridcolor": "white",
             "linecolor": "white",
             "minorgridcolor": "white",
             "startlinecolor": "#2a3f5f"
            },
            "baxis": {
             "endlinecolor": "#2a3f5f",
             "gridcolor": "white",
             "linecolor": "white",
             "minorgridcolor": "white",
             "startlinecolor": "#2a3f5f"
            },
            "type": "carpet"
           }
          ],
          "choropleth": [
           {
            "colorbar": {
             "outlinewidth": 0,
             "ticks": ""
            },
            "type": "choropleth"
           }
          ],
          "contour": [
           {
            "colorbar": {
             "outlinewidth": 0,
             "ticks": ""
            },
            "colorscale": [
             [
              0,
              "#0d0887"
             ],
             [
              0.1111111111111111,
              "#46039f"
             ],
             [
              0.2222222222222222,
              "#7201a8"
             ],
             [
              0.3333333333333333,
              "#9c179e"
             ],
             [
              0.4444444444444444,
              "#bd3786"
             ],
             [
              0.5555555555555556,
              "#d8576b"
             ],
             [
              0.6666666666666666,
              "#ed7953"
             ],
             [
              0.7777777777777778,
              "#fb9f3a"
             ],
             [
              0.8888888888888888,
              "#fdca26"
             ],
             [
              1,
              "#f0f921"
             ]
            ],
            "type": "contour"
           }
          ],
          "contourcarpet": [
           {
            "colorbar": {
             "outlinewidth": 0,
             "ticks": ""
            },
            "type": "contourcarpet"
           }
          ],
          "heatmap": [
           {
            "colorbar": {
             "outlinewidth": 0,
             "ticks": ""
            },
            "colorscale": [
             [
              0,
              "#0d0887"
             ],
             [
              0.1111111111111111,
              "#46039f"
             ],
             [
              0.2222222222222222,
              "#7201a8"
             ],
             [
              0.3333333333333333,
              "#9c179e"
             ],
             [
              0.4444444444444444,
              "#bd3786"
             ],
             [
              0.5555555555555556,
              "#d8576b"
             ],
             [
              0.6666666666666666,
              "#ed7953"
             ],
             [
              0.7777777777777778,
              "#fb9f3a"
             ],
             [
              0.8888888888888888,
              "#fdca26"
             ],
             [
              1,
              "#f0f921"
             ]
            ],
            "type": "heatmap"
           }
          ],
          "heatmapgl": [
           {
            "colorbar": {
             "outlinewidth": 0,
             "ticks": ""
            },
            "colorscale": [
             [
              0,
              "#0d0887"
             ],
             [
              0.1111111111111111,
              "#46039f"
             ],
             [
              0.2222222222222222,
              "#7201a8"
             ],
             [
              0.3333333333333333,
              "#9c179e"
             ],
             [
              0.4444444444444444,
              "#bd3786"
             ],
             [
              0.5555555555555556,
              "#d8576b"
             ],
             [
              0.6666666666666666,
              "#ed7953"
             ],
             [
              0.7777777777777778,
              "#fb9f3a"
             ],
             [
              0.8888888888888888,
              "#fdca26"
             ],
             [
              1,
              "#f0f921"
             ]
            ],
            "type": "heatmapgl"
           }
          ],
          "histogram": [
           {
            "marker": {
             "colorbar": {
              "outlinewidth": 0,
              "ticks": ""
             }
            },
            "type": "histogram"
           }
          ],
          "histogram2d": [
           {
            "colorbar": {
             "outlinewidth": 0,
             "ticks": ""
            },
            "colorscale": [
             [
              0,
              "#0d0887"
             ],
             [
              0.1111111111111111,
              "#46039f"
             ],
             [
              0.2222222222222222,
              "#7201a8"
             ],
             [
              0.3333333333333333,
              "#9c179e"
             ],
             [
              0.4444444444444444,
              "#bd3786"
             ],
             [
              0.5555555555555556,
              "#d8576b"
             ],
             [
              0.6666666666666666,
              "#ed7953"
             ],
             [
              0.7777777777777778,
              "#fb9f3a"
             ],
             [
              0.8888888888888888,
              "#fdca26"
             ],
             [
              1,
              "#f0f921"
             ]
            ],
            "type": "histogram2d"
           }
          ],
          "histogram2dcontour": [
           {
            "colorbar": {
             "outlinewidth": 0,
             "ticks": ""
            },
            "colorscale": [
             [
              0,
              "#0d0887"
             ],
             [
              0.1111111111111111,
              "#46039f"
             ],
             [
              0.2222222222222222,
              "#7201a8"
             ],
             [
              0.3333333333333333,
              "#9c179e"
             ],
             [
              0.4444444444444444,
              "#bd3786"
             ],
             [
              0.5555555555555556,
              "#d8576b"
             ],
             [
              0.6666666666666666,
              "#ed7953"
             ],
             [
              0.7777777777777778,
              "#fb9f3a"
             ],
             [
              0.8888888888888888,
              "#fdca26"
             ],
             [
              1,
              "#f0f921"
             ]
            ],
            "type": "histogram2dcontour"
           }
          ],
          "mesh3d": [
           {
            "colorbar": {
             "outlinewidth": 0,
             "ticks": ""
            },
            "type": "mesh3d"
           }
          ],
          "parcoords": [
           {
            "line": {
             "colorbar": {
              "outlinewidth": 0,
              "ticks": ""
             }
            },
            "type": "parcoords"
           }
          ],
          "pie": [
           {
            "automargin": true,
            "type": "pie"
           }
          ],
          "scatter": [
           {
            "marker": {
             "colorbar": {
              "outlinewidth": 0,
              "ticks": ""
             }
            },
            "type": "scatter"
           }
          ],
          "scatter3d": [
           {
            "line": {
             "colorbar": {
              "outlinewidth": 0,
              "ticks": ""
             }
            },
            "marker": {
             "colorbar": {
              "outlinewidth": 0,
              "ticks": ""
             }
            },
            "type": "scatter3d"
           }
          ],
          "scattercarpet": [
           {
            "marker": {
             "colorbar": {
              "outlinewidth": 0,
              "ticks": ""
             }
            },
            "type": "scattercarpet"
           }
          ],
          "scattergeo": [
           {
            "marker": {
             "colorbar": {
              "outlinewidth": 0,
              "ticks": ""
             }
            },
            "type": "scattergeo"
           }
          ],
          "scattergl": [
           {
            "marker": {
             "colorbar": {
              "outlinewidth": 0,
              "ticks": ""
             }
            },
            "type": "scattergl"
           }
          ],
          "scattermapbox": [
           {
            "marker": {
             "colorbar": {
              "outlinewidth": 0,
              "ticks": ""
             }
            },
            "type": "scattermapbox"
           }
          ],
          "scatterpolar": [
           {
            "marker": {
             "colorbar": {
              "outlinewidth": 0,
              "ticks": ""
             }
            },
            "type": "scatterpolar"
           }
          ],
          "scatterpolargl": [
           {
            "marker": {
             "colorbar": {
              "outlinewidth": 0,
              "ticks": ""
             }
            },
            "type": "scatterpolargl"
           }
          ],
          "scatterternary": [
           {
            "marker": {
             "colorbar": {
              "outlinewidth": 0,
              "ticks": ""
             }
            },
            "type": "scatterternary"
           }
          ],
          "surface": [
           {
            "colorbar": {
             "outlinewidth": 0,
             "ticks": ""
            },
            "colorscale": [
             [
              0,
              "#0d0887"
             ],
             [
              0.1111111111111111,
              "#46039f"
             ],
             [
              0.2222222222222222,
              "#7201a8"
             ],
             [
              0.3333333333333333,
              "#9c179e"
             ],
             [
              0.4444444444444444,
              "#bd3786"
             ],
             [
              0.5555555555555556,
              "#d8576b"
             ],
             [
              0.6666666666666666,
              "#ed7953"
             ],
             [
              0.7777777777777778,
              "#fb9f3a"
             ],
             [
              0.8888888888888888,
              "#fdca26"
             ],
             [
              1,
              "#f0f921"
             ]
            ],
            "type": "surface"
           }
          ],
          "table": [
           {
            "cells": {
             "fill": {
              "color": "#EBF0F8"
             },
             "line": {
              "color": "white"
             }
            },
            "header": {
             "fill": {
              "color": "#C8D4E3"
             },
             "line": {
              "color": "white"
             }
            },
            "type": "table"
           }
          ]
         },
         "layout": {
          "annotationdefaults": {
           "arrowcolor": "#2a3f5f",
           "arrowhead": 0,
           "arrowwidth": 1
          },
          "coloraxis": {
           "colorbar": {
            "outlinewidth": 0,
            "ticks": ""
           }
          },
          "colorscale": {
           "diverging": [
            [
             0,
             "#8e0152"
            ],
            [
             0.1,
             "#c51b7d"
            ],
            [
             0.2,
             "#de77ae"
            ],
            [
             0.3,
             "#f1b6da"
            ],
            [
             0.4,
             "#fde0ef"
            ],
            [
             0.5,
             "#f7f7f7"
            ],
            [
             0.6,
             "#e6f5d0"
            ],
            [
             0.7,
             "#b8e186"
            ],
            [
             0.8,
             "#7fbc41"
            ],
            [
             0.9,
             "#4d9221"
            ],
            [
             1,
             "#276419"
            ]
           ],
           "sequential": [
            [
             0,
             "#0d0887"
            ],
            [
             0.1111111111111111,
             "#46039f"
            ],
            [
             0.2222222222222222,
             "#7201a8"
            ],
            [
             0.3333333333333333,
             "#9c179e"
            ],
            [
             0.4444444444444444,
             "#bd3786"
            ],
            [
             0.5555555555555556,
             "#d8576b"
            ],
            [
             0.6666666666666666,
             "#ed7953"
            ],
            [
             0.7777777777777778,
             "#fb9f3a"
            ],
            [
             0.8888888888888888,
             "#fdca26"
            ],
            [
             1,
             "#f0f921"
            ]
           ],
           "sequentialminus": [
            [
             0,
             "#0d0887"
            ],
            [
             0.1111111111111111,
             "#46039f"
            ],
            [
             0.2222222222222222,
             "#7201a8"
            ],
            [
             0.3333333333333333,
             "#9c179e"
            ],
            [
             0.4444444444444444,
             "#bd3786"
            ],
            [
             0.5555555555555556,
             "#d8576b"
            ],
            [
             0.6666666666666666,
             "#ed7953"
            ],
            [
             0.7777777777777778,
             "#fb9f3a"
            ],
            [
             0.8888888888888888,
             "#fdca26"
            ],
            [
             1,
             "#f0f921"
            ]
           ]
          },
          "colorway": [
           "#636efa",
           "#EF553B",
           "#00cc96",
           "#ab63fa",
           "#FFA15A",
           "#19d3f3",
           "#FF6692",
           "#B6E880",
           "#FF97FF",
           "#FECB52"
          ],
          "font": {
           "color": "#2a3f5f"
          },
          "geo": {
           "bgcolor": "white",
           "lakecolor": "white",
           "landcolor": "#E5ECF6",
           "showlakes": true,
           "showland": true,
           "subunitcolor": "white"
          },
          "hoverlabel": {
           "align": "left"
          },
          "hovermode": "closest",
          "mapbox": {
           "style": "light"
          },
          "paper_bgcolor": "white",
          "plot_bgcolor": "#E5ECF6",
          "polar": {
           "angularaxis": {
            "gridcolor": "white",
            "linecolor": "white",
            "ticks": ""
           },
           "bgcolor": "#E5ECF6",
           "radialaxis": {
            "gridcolor": "white",
            "linecolor": "white",
            "ticks": ""
           }
          },
          "scene": {
           "xaxis": {
            "backgroundcolor": "#E5ECF6",
            "gridcolor": "white",
            "gridwidth": 2,
            "linecolor": "white",
            "showbackground": true,
            "ticks": "",
            "zerolinecolor": "white"
           },
           "yaxis": {
            "backgroundcolor": "#E5ECF6",
            "gridcolor": "white",
            "gridwidth": 2,
            "linecolor": "white",
            "showbackground": true,
            "ticks": "",
            "zerolinecolor": "white"
           },
           "zaxis": {
            "backgroundcolor": "#E5ECF6",
            "gridcolor": "white",
            "gridwidth": 2,
            "linecolor": "white",
            "showbackground": true,
            "ticks": "",
            "zerolinecolor": "white"
           }
          },
          "shapedefaults": {
           "line": {
            "color": "#2a3f5f"
           }
          },
          "ternary": {
           "aaxis": {
            "gridcolor": "white",
            "linecolor": "white",
            "ticks": ""
           },
           "baxis": {
            "gridcolor": "white",
            "linecolor": "white",
            "ticks": ""
           },
           "bgcolor": "#E5ECF6",
           "caxis": {
            "gridcolor": "white",
            "linecolor": "white",
            "ticks": ""
           }
          },
          "title": {
           "x": 0.05
          },
          "xaxis": {
           "automargin": true,
           "gridcolor": "white",
           "linecolor": "white",
           "ticks": "",
           "title": {
            "standoff": 15
           },
           "zerolinecolor": "white",
           "zerolinewidth": 2
          },
          "yaxis": {
           "automargin": true,
           "gridcolor": "white",
           "linecolor": "white",
           "ticks": "",
           "title": {
            "standoff": 15
           },
           "zerolinecolor": "white",
           "zerolinewidth": 2
          }
         }
        },
        "title": {
         "font": {
          "color": "#4D5663"
         }
        },
        "xaxis": {
         "gridcolor": "#E1E5ED",
         "showgrid": true,
         "tickfont": {
          "color": "#4D5663"
         },
         "title": {
          "font": {
           "color": "#4D5663"
          },
          "text": ""
         },
         "zerolinecolor": "#E1E5ED"
        },
        "yaxis": {
         "gridcolor": "#E1E5ED",
         "showgrid": true,
         "tickfont": {
          "color": "#4D5663"
         },
         "title": {
          "font": {
           "color": "#4D5663"
          },
          "text": ""
         },
         "zerolinecolor": "#E1E5ED"
        }
       }
      },
      "text/html": [
       "<div>\n",
       "        \n",
       "        \n",
       "            <div id=\"f1331882-3039-43d3-9582-d6acea718a53\" class=\"plotly-graph-div\" style=\"height:525px; width:100%;\"></div>\n",
       "            <script type=\"text/javascript\">\n",
       "                require([\"plotly\"], function(Plotly) {\n",
       "                    window.PLOTLYENV=window.PLOTLYENV || {};\n",
       "                    window.PLOTLYENV.BASE_URL='https://plot.ly';\n",
       "                    \n",
       "                if (document.getElementById(\"f1331882-3039-43d3-9582-d6acea718a53\")) {\n",
       "                    Plotly.newPlot(\n",
       "                        'f1331882-3039-43d3-9582-d6acea718a53',\n",
       "                        [{\"marker\": {\"color\": \"rgba(255, 153, 51, 0.6)\", \"line\": {\"color\": \"rgba(255, 153, 51, 1.0)\", \"width\": 1}}, \"name\": \"Values\", \"orientation\": \"v\", \"text\": \"\", \"type\": \"bar\", \"x\": [\"A\", \"B\", \"C\"], \"y\": [32, 43, 50]}],\n",
       "                        {\"legend\": {\"bgcolor\": \"#F5F6F9\", \"font\": {\"color\": \"#4D5663\"}}, \"paper_bgcolor\": \"#F5F6F9\", \"plot_bgcolor\": \"#F5F6F9\", \"template\": {\"data\": {\"bar\": [{\"error_x\": {\"color\": \"#2a3f5f\"}, \"error_y\": {\"color\": \"#2a3f5f\"}, \"marker\": {\"line\": {\"color\": \"#E5ECF6\", \"width\": 0.5}}, \"type\": \"bar\"}], \"barpolar\": [{\"marker\": {\"line\": {\"color\": \"#E5ECF6\", \"width\": 0.5}}, \"type\": \"barpolar\"}], \"carpet\": [{\"aaxis\": {\"endlinecolor\": \"#2a3f5f\", \"gridcolor\": \"white\", \"linecolor\": \"white\", \"minorgridcolor\": \"white\", \"startlinecolor\": \"#2a3f5f\"}, \"baxis\": {\"endlinecolor\": \"#2a3f5f\", \"gridcolor\": \"white\", \"linecolor\": \"white\", \"minorgridcolor\": \"white\", \"startlinecolor\": \"#2a3f5f\"}, \"type\": \"carpet\"}], \"choropleth\": [{\"colorbar\": {\"outlinewidth\": 0, \"ticks\": \"\"}, \"type\": \"choropleth\"}], \"contour\": [{\"colorbar\": {\"outlinewidth\": 0, \"ticks\": \"\"}, \"colorscale\": [[0.0, \"#0d0887\"], [0.1111111111111111, \"#46039f\"], [0.2222222222222222, \"#7201a8\"], [0.3333333333333333, \"#9c179e\"], [0.4444444444444444, \"#bd3786\"], [0.5555555555555556, \"#d8576b\"], [0.6666666666666666, \"#ed7953\"], [0.7777777777777778, \"#fb9f3a\"], [0.8888888888888888, \"#fdca26\"], [1.0, \"#f0f921\"]], \"type\": \"contour\"}], \"contourcarpet\": [{\"colorbar\": {\"outlinewidth\": 0, \"ticks\": \"\"}, \"type\": \"contourcarpet\"}], \"heatmap\": [{\"colorbar\": {\"outlinewidth\": 0, \"ticks\": \"\"}, \"colorscale\": [[0.0, \"#0d0887\"], [0.1111111111111111, \"#46039f\"], [0.2222222222222222, \"#7201a8\"], [0.3333333333333333, \"#9c179e\"], [0.4444444444444444, \"#bd3786\"], [0.5555555555555556, \"#d8576b\"], [0.6666666666666666, \"#ed7953\"], [0.7777777777777778, \"#fb9f3a\"], [0.8888888888888888, \"#fdca26\"], [1.0, \"#f0f921\"]], \"type\": \"heatmap\"}], \"heatmapgl\": [{\"colorbar\": {\"outlinewidth\": 0, \"ticks\": \"\"}, \"colorscale\": [[0.0, \"#0d0887\"], [0.1111111111111111, \"#46039f\"], [0.2222222222222222, \"#7201a8\"], [0.3333333333333333, \"#9c179e\"], [0.4444444444444444, \"#bd3786\"], [0.5555555555555556, \"#d8576b\"], [0.6666666666666666, \"#ed7953\"], [0.7777777777777778, \"#fb9f3a\"], [0.8888888888888888, \"#fdca26\"], [1.0, \"#f0f921\"]], \"type\": \"heatmapgl\"}], \"histogram\": [{\"marker\": {\"colorbar\": {\"outlinewidth\": 0, \"ticks\": \"\"}}, \"type\": \"histogram\"}], \"histogram2d\": [{\"colorbar\": {\"outlinewidth\": 0, \"ticks\": \"\"}, \"colorscale\": [[0.0, \"#0d0887\"], [0.1111111111111111, \"#46039f\"], [0.2222222222222222, \"#7201a8\"], [0.3333333333333333, \"#9c179e\"], [0.4444444444444444, \"#bd3786\"], [0.5555555555555556, \"#d8576b\"], [0.6666666666666666, \"#ed7953\"], [0.7777777777777778, \"#fb9f3a\"], [0.8888888888888888, \"#fdca26\"], [1.0, \"#f0f921\"]], \"type\": \"histogram2d\"}], \"histogram2dcontour\": [{\"colorbar\": {\"outlinewidth\": 0, \"ticks\": \"\"}, \"colorscale\": [[0.0, \"#0d0887\"], [0.1111111111111111, \"#46039f\"], [0.2222222222222222, \"#7201a8\"], [0.3333333333333333, \"#9c179e\"], [0.4444444444444444, \"#bd3786\"], [0.5555555555555556, \"#d8576b\"], [0.6666666666666666, \"#ed7953\"], [0.7777777777777778, \"#fb9f3a\"], [0.8888888888888888, \"#fdca26\"], [1.0, \"#f0f921\"]], \"type\": \"histogram2dcontour\"}], \"mesh3d\": [{\"colorbar\": {\"outlinewidth\": 0, \"ticks\": \"\"}, \"type\": \"mesh3d\"}], \"parcoords\": [{\"line\": {\"colorbar\": {\"outlinewidth\": 0, \"ticks\": \"\"}}, \"type\": \"parcoords\"}], \"pie\": [{\"automargin\": true, \"type\": \"pie\"}], \"scatter\": [{\"marker\": {\"colorbar\": {\"outlinewidth\": 0, \"ticks\": \"\"}}, \"type\": \"scatter\"}], \"scatter3d\": [{\"line\": {\"colorbar\": {\"outlinewidth\": 0, \"ticks\": \"\"}}, \"marker\": {\"colorbar\": {\"outlinewidth\": 0, \"ticks\": \"\"}}, \"type\": \"scatter3d\"}], \"scattercarpet\": [{\"marker\": {\"colorbar\": {\"outlinewidth\": 0, \"ticks\": \"\"}}, \"type\": \"scattercarpet\"}], \"scattergeo\": [{\"marker\": {\"colorbar\": {\"outlinewidth\": 0, \"ticks\": \"\"}}, \"type\": \"scattergeo\"}], \"scattergl\": [{\"marker\": {\"colorbar\": {\"outlinewidth\": 0, \"ticks\": \"\"}}, \"type\": \"scattergl\"}], \"scattermapbox\": [{\"marker\": {\"colorbar\": {\"outlinewidth\": 0, \"ticks\": \"\"}}, \"type\": \"scattermapbox\"}], \"scatterpolar\": [{\"marker\": {\"colorbar\": {\"outlinewidth\": 0, \"ticks\": \"\"}}, \"type\": \"scatterpolar\"}], \"scatterpolargl\": [{\"marker\": {\"colorbar\": {\"outlinewidth\": 0, \"ticks\": \"\"}}, \"type\": \"scatterpolargl\"}], \"scatterternary\": [{\"marker\": {\"colorbar\": {\"outlinewidth\": 0, \"ticks\": \"\"}}, \"type\": \"scatterternary\"}], \"surface\": [{\"colorbar\": {\"outlinewidth\": 0, \"ticks\": \"\"}, \"colorscale\": [[0.0, \"#0d0887\"], [0.1111111111111111, \"#46039f\"], [0.2222222222222222, \"#7201a8\"], [0.3333333333333333, \"#9c179e\"], [0.4444444444444444, \"#bd3786\"], [0.5555555555555556, \"#d8576b\"], [0.6666666666666666, \"#ed7953\"], [0.7777777777777778, \"#fb9f3a\"], [0.8888888888888888, \"#fdca26\"], [1.0, \"#f0f921\"]], \"type\": \"surface\"}], \"table\": [{\"cells\": {\"fill\": {\"color\": \"#EBF0F8\"}, \"line\": {\"color\": \"white\"}}, \"header\": {\"fill\": {\"color\": \"#C8D4E3\"}, \"line\": {\"color\": \"white\"}}, \"type\": \"table\"}]}, \"layout\": {\"annotationdefaults\": {\"arrowcolor\": \"#2a3f5f\", \"arrowhead\": 0, \"arrowwidth\": 1}, \"coloraxis\": {\"colorbar\": {\"outlinewidth\": 0, \"ticks\": \"\"}}, \"colorscale\": {\"diverging\": [[0, \"#8e0152\"], [0.1, \"#c51b7d\"], [0.2, \"#de77ae\"], [0.3, \"#f1b6da\"], [0.4, \"#fde0ef\"], [0.5, \"#f7f7f7\"], [0.6, \"#e6f5d0\"], [0.7, \"#b8e186\"], [0.8, \"#7fbc41\"], [0.9, \"#4d9221\"], [1, \"#276419\"]], \"sequential\": [[0.0, \"#0d0887\"], [0.1111111111111111, \"#46039f\"], [0.2222222222222222, \"#7201a8\"], [0.3333333333333333, \"#9c179e\"], [0.4444444444444444, \"#bd3786\"], [0.5555555555555556, \"#d8576b\"], [0.6666666666666666, \"#ed7953\"], [0.7777777777777778, \"#fb9f3a\"], [0.8888888888888888, \"#fdca26\"], [1.0, \"#f0f921\"]], \"sequentialminus\": [[0.0, \"#0d0887\"], [0.1111111111111111, \"#46039f\"], [0.2222222222222222, \"#7201a8\"], [0.3333333333333333, \"#9c179e\"], [0.4444444444444444, \"#bd3786\"], [0.5555555555555556, \"#d8576b\"], [0.6666666666666666, \"#ed7953\"], [0.7777777777777778, \"#fb9f3a\"], [0.8888888888888888, \"#fdca26\"], [1.0, \"#f0f921\"]]}, \"colorway\": [\"#636efa\", \"#EF553B\", \"#00cc96\", \"#ab63fa\", \"#FFA15A\", \"#19d3f3\", \"#FF6692\", \"#B6E880\", \"#FF97FF\", \"#FECB52\"], \"font\": {\"color\": \"#2a3f5f\"}, \"geo\": {\"bgcolor\": \"white\", \"lakecolor\": \"white\", \"landcolor\": \"#E5ECF6\", \"showlakes\": true, \"showland\": true, \"subunitcolor\": \"white\"}, \"hoverlabel\": {\"align\": \"left\"}, \"hovermode\": \"closest\", \"mapbox\": {\"style\": \"light\"}, \"paper_bgcolor\": \"white\", \"plot_bgcolor\": \"#E5ECF6\", \"polar\": {\"angularaxis\": {\"gridcolor\": \"white\", \"linecolor\": \"white\", \"ticks\": \"\"}, \"bgcolor\": \"#E5ECF6\", \"radialaxis\": {\"gridcolor\": \"white\", \"linecolor\": \"white\", \"ticks\": \"\"}}, \"scene\": {\"xaxis\": {\"backgroundcolor\": \"#E5ECF6\", \"gridcolor\": \"white\", \"gridwidth\": 2, \"linecolor\": \"white\", \"showbackground\": true, \"ticks\": \"\", \"zerolinecolor\": \"white\"}, \"yaxis\": {\"backgroundcolor\": \"#E5ECF6\", \"gridcolor\": \"white\", \"gridwidth\": 2, \"linecolor\": \"white\", \"showbackground\": true, \"ticks\": \"\", \"zerolinecolor\": \"white\"}, \"zaxis\": {\"backgroundcolor\": \"#E5ECF6\", \"gridcolor\": \"white\", \"gridwidth\": 2, \"linecolor\": \"white\", \"showbackground\": true, \"ticks\": \"\", \"zerolinecolor\": \"white\"}}, \"shapedefaults\": {\"line\": {\"color\": \"#2a3f5f\"}}, \"ternary\": {\"aaxis\": {\"gridcolor\": \"white\", \"linecolor\": \"white\", \"ticks\": \"\"}, \"baxis\": {\"gridcolor\": \"white\", \"linecolor\": \"white\", \"ticks\": \"\"}, \"bgcolor\": \"#E5ECF6\", \"caxis\": {\"gridcolor\": \"white\", \"linecolor\": \"white\", \"ticks\": \"\"}}, \"title\": {\"x\": 0.05}, \"xaxis\": {\"automargin\": true, \"gridcolor\": \"white\", \"linecolor\": \"white\", \"ticks\": \"\", \"title\": {\"standoff\": 15}, \"zerolinecolor\": \"white\", \"zerolinewidth\": 2}, \"yaxis\": {\"automargin\": true, \"gridcolor\": \"white\", \"linecolor\": \"white\", \"ticks\": \"\", \"title\": {\"standoff\": 15}, \"zerolinecolor\": \"white\", \"zerolinewidth\": 2}}}, \"title\": {\"font\": {\"color\": \"#4D5663\"}}, \"xaxis\": {\"gridcolor\": \"#E1E5ED\", \"showgrid\": true, \"tickfont\": {\"color\": \"#4D5663\"}, \"title\": {\"font\": {\"color\": \"#4D5663\"}, \"text\": \"\"}, \"zerolinecolor\": \"#E1E5ED\"}, \"yaxis\": {\"gridcolor\": \"#E1E5ED\", \"showgrid\": true, \"tickfont\": {\"color\": \"#4D5663\"}, \"title\": {\"font\": {\"color\": \"#4D5663\"}, \"text\": \"\"}, \"zerolinecolor\": \"#E1E5ED\"}},\n",
       "                        {\"showLink\": true, \"linkText\": \"Export to plot.ly\", \"plotlyServerURL\": \"https://plot.ly\", \"responsive\": true}\n",
       "                    ).then(function(){\n",
       "                            \n",
       "var gd = document.getElementById('f1331882-3039-43d3-9582-d6acea718a53');\n",
       "var x = new MutationObserver(function (mutations, observer) {{\n",
       "        var display = window.getComputedStyle(gd).display;\n",
       "        if (!display || display === 'none') {{\n",
       "            console.log([gd, 'removed!']);\n",
       "            Plotly.purge(gd);\n",
       "            observer.disconnect();\n",
       "        }}\n",
       "}});\n",
       "\n",
       "// Listen for the removal of the full notebook cells\n",
       "var notebookContainer = gd.closest('#notebook-container');\n",
       "if (notebookContainer) {{\n",
       "    x.observe(notebookContainer, {childList: true});\n",
       "}}\n",
       "\n",
       "// Listen for the clearing of the current output cell\n",
       "var outputEl = gd.closest('.output');\n",
       "if (outputEl) {{\n",
       "    x.observe(outputEl, {childList: true});\n",
       "}}\n",
       "\n",
       "                        })\n",
       "                };\n",
       "                });\n",
       "            </script>\n",
       "        </div>"
      ]
     },
     "metadata": {},
     "output_type": "display_data"
    }
   ],
   "source": [
    "df2.iplot(kind='bar',x='Category',y='Values')"
   ]
  },
  {
   "cell_type": "code",
   "execution_count": 14,
   "metadata": {},
   "outputs": [
    {
     "data": {
      "application/vnd.plotly.v1+json": {
       "config": {
        "linkText": "Export to plot.ly",
        "plotlyServerURL": "https://plot.ly",
        "showLink": true
       },
       "data": [
        {
         "marker": {
          "color": "rgba(255, 153, 51, 0.6)",
          "line": {
           "color": "rgba(255, 153, 51, 1.0)",
           "width": 1
          }
         },
         "name": "None",
         "orientation": "v",
         "text": "",
         "type": "bar",
         "x": [
          "A",
          "B",
          "C",
          "D"
         ],
         "y": [
          100,
          100,
          100,
          100
         ]
        }
       ],
       "layout": {
        "legend": {
         "bgcolor": "#F5F6F9",
         "font": {
          "color": "#4D5663"
         }
        },
        "paper_bgcolor": "#F5F6F9",
        "plot_bgcolor": "#F5F6F9",
        "template": {
         "data": {
          "bar": [
           {
            "error_x": {
             "color": "#2a3f5f"
            },
            "error_y": {
             "color": "#2a3f5f"
            },
            "marker": {
             "line": {
              "color": "#E5ECF6",
              "width": 0.5
             }
            },
            "type": "bar"
           }
          ],
          "barpolar": [
           {
            "marker": {
             "line": {
              "color": "#E5ECF6",
              "width": 0.5
             }
            },
            "type": "barpolar"
           }
          ],
          "carpet": [
           {
            "aaxis": {
             "endlinecolor": "#2a3f5f",
             "gridcolor": "white",
             "linecolor": "white",
             "minorgridcolor": "white",
             "startlinecolor": "#2a3f5f"
            },
            "baxis": {
             "endlinecolor": "#2a3f5f",
             "gridcolor": "white",
             "linecolor": "white",
             "minorgridcolor": "white",
             "startlinecolor": "#2a3f5f"
            },
            "type": "carpet"
           }
          ],
          "choropleth": [
           {
            "colorbar": {
             "outlinewidth": 0,
             "ticks": ""
            },
            "type": "choropleth"
           }
          ],
          "contour": [
           {
            "colorbar": {
             "outlinewidth": 0,
             "ticks": ""
            },
            "colorscale": [
             [
              0,
              "#0d0887"
             ],
             [
              0.1111111111111111,
              "#46039f"
             ],
             [
              0.2222222222222222,
              "#7201a8"
             ],
             [
              0.3333333333333333,
              "#9c179e"
             ],
             [
              0.4444444444444444,
              "#bd3786"
             ],
             [
              0.5555555555555556,
              "#d8576b"
             ],
             [
              0.6666666666666666,
              "#ed7953"
             ],
             [
              0.7777777777777778,
              "#fb9f3a"
             ],
             [
              0.8888888888888888,
              "#fdca26"
             ],
             [
              1,
              "#f0f921"
             ]
            ],
            "type": "contour"
           }
          ],
          "contourcarpet": [
           {
            "colorbar": {
             "outlinewidth": 0,
             "ticks": ""
            },
            "type": "contourcarpet"
           }
          ],
          "heatmap": [
           {
            "colorbar": {
             "outlinewidth": 0,
             "ticks": ""
            },
            "colorscale": [
             [
              0,
              "#0d0887"
             ],
             [
              0.1111111111111111,
              "#46039f"
             ],
             [
              0.2222222222222222,
              "#7201a8"
             ],
             [
              0.3333333333333333,
              "#9c179e"
             ],
             [
              0.4444444444444444,
              "#bd3786"
             ],
             [
              0.5555555555555556,
              "#d8576b"
             ],
             [
              0.6666666666666666,
              "#ed7953"
             ],
             [
              0.7777777777777778,
              "#fb9f3a"
             ],
             [
              0.8888888888888888,
              "#fdca26"
             ],
             [
              1,
              "#f0f921"
             ]
            ],
            "type": "heatmap"
           }
          ],
          "heatmapgl": [
           {
            "colorbar": {
             "outlinewidth": 0,
             "ticks": ""
            },
            "colorscale": [
             [
              0,
              "#0d0887"
             ],
             [
              0.1111111111111111,
              "#46039f"
             ],
             [
              0.2222222222222222,
              "#7201a8"
             ],
             [
              0.3333333333333333,
              "#9c179e"
             ],
             [
              0.4444444444444444,
              "#bd3786"
             ],
             [
              0.5555555555555556,
              "#d8576b"
             ],
             [
              0.6666666666666666,
              "#ed7953"
             ],
             [
              0.7777777777777778,
              "#fb9f3a"
             ],
             [
              0.8888888888888888,
              "#fdca26"
             ],
             [
              1,
              "#f0f921"
             ]
            ],
            "type": "heatmapgl"
           }
          ],
          "histogram": [
           {
            "marker": {
             "colorbar": {
              "outlinewidth": 0,
              "ticks": ""
             }
            },
            "type": "histogram"
           }
          ],
          "histogram2d": [
           {
            "colorbar": {
             "outlinewidth": 0,
             "ticks": ""
            },
            "colorscale": [
             [
              0,
              "#0d0887"
             ],
             [
              0.1111111111111111,
              "#46039f"
             ],
             [
              0.2222222222222222,
              "#7201a8"
             ],
             [
              0.3333333333333333,
              "#9c179e"
             ],
             [
              0.4444444444444444,
              "#bd3786"
             ],
             [
              0.5555555555555556,
              "#d8576b"
             ],
             [
              0.6666666666666666,
              "#ed7953"
             ],
             [
              0.7777777777777778,
              "#fb9f3a"
             ],
             [
              0.8888888888888888,
              "#fdca26"
             ],
             [
              1,
              "#f0f921"
             ]
            ],
            "type": "histogram2d"
           }
          ],
          "histogram2dcontour": [
           {
            "colorbar": {
             "outlinewidth": 0,
             "ticks": ""
            },
            "colorscale": [
             [
              0,
              "#0d0887"
             ],
             [
              0.1111111111111111,
              "#46039f"
             ],
             [
              0.2222222222222222,
              "#7201a8"
             ],
             [
              0.3333333333333333,
              "#9c179e"
             ],
             [
              0.4444444444444444,
              "#bd3786"
             ],
             [
              0.5555555555555556,
              "#d8576b"
             ],
             [
              0.6666666666666666,
              "#ed7953"
             ],
             [
              0.7777777777777778,
              "#fb9f3a"
             ],
             [
              0.8888888888888888,
              "#fdca26"
             ],
             [
              1,
              "#f0f921"
             ]
            ],
            "type": "histogram2dcontour"
           }
          ],
          "mesh3d": [
           {
            "colorbar": {
             "outlinewidth": 0,
             "ticks": ""
            },
            "type": "mesh3d"
           }
          ],
          "parcoords": [
           {
            "line": {
             "colorbar": {
              "outlinewidth": 0,
              "ticks": ""
             }
            },
            "type": "parcoords"
           }
          ],
          "pie": [
           {
            "automargin": true,
            "type": "pie"
           }
          ],
          "scatter": [
           {
            "marker": {
             "colorbar": {
              "outlinewidth": 0,
              "ticks": ""
             }
            },
            "type": "scatter"
           }
          ],
          "scatter3d": [
           {
            "line": {
             "colorbar": {
              "outlinewidth": 0,
              "ticks": ""
             }
            },
            "marker": {
             "colorbar": {
              "outlinewidth": 0,
              "ticks": ""
             }
            },
            "type": "scatter3d"
           }
          ],
          "scattercarpet": [
           {
            "marker": {
             "colorbar": {
              "outlinewidth": 0,
              "ticks": ""
             }
            },
            "type": "scattercarpet"
           }
          ],
          "scattergeo": [
           {
            "marker": {
             "colorbar": {
              "outlinewidth": 0,
              "ticks": ""
             }
            },
            "type": "scattergeo"
           }
          ],
          "scattergl": [
           {
            "marker": {
             "colorbar": {
              "outlinewidth": 0,
              "ticks": ""
             }
            },
            "type": "scattergl"
           }
          ],
          "scattermapbox": [
           {
            "marker": {
             "colorbar": {
              "outlinewidth": 0,
              "ticks": ""
             }
            },
            "type": "scattermapbox"
           }
          ],
          "scatterpolar": [
           {
            "marker": {
             "colorbar": {
              "outlinewidth": 0,
              "ticks": ""
             }
            },
            "type": "scatterpolar"
           }
          ],
          "scatterpolargl": [
           {
            "marker": {
             "colorbar": {
              "outlinewidth": 0,
              "ticks": ""
             }
            },
            "type": "scatterpolargl"
           }
          ],
          "scatterternary": [
           {
            "marker": {
             "colorbar": {
              "outlinewidth": 0,
              "ticks": ""
             }
            },
            "type": "scatterternary"
           }
          ],
          "surface": [
           {
            "colorbar": {
             "outlinewidth": 0,
             "ticks": ""
            },
            "colorscale": [
             [
              0,
              "#0d0887"
             ],
             [
              0.1111111111111111,
              "#46039f"
             ],
             [
              0.2222222222222222,
              "#7201a8"
             ],
             [
              0.3333333333333333,
              "#9c179e"
             ],
             [
              0.4444444444444444,
              "#bd3786"
             ],
             [
              0.5555555555555556,
              "#d8576b"
             ],
             [
              0.6666666666666666,
              "#ed7953"
             ],
             [
              0.7777777777777778,
              "#fb9f3a"
             ],
             [
              0.8888888888888888,
              "#fdca26"
             ],
             [
              1,
              "#f0f921"
             ]
            ],
            "type": "surface"
           }
          ],
          "table": [
           {
            "cells": {
             "fill": {
              "color": "#EBF0F8"
             },
             "line": {
              "color": "white"
             }
            },
            "header": {
             "fill": {
              "color": "#C8D4E3"
             },
             "line": {
              "color": "white"
             }
            },
            "type": "table"
           }
          ]
         },
         "layout": {
          "annotationdefaults": {
           "arrowcolor": "#2a3f5f",
           "arrowhead": 0,
           "arrowwidth": 1
          },
          "coloraxis": {
           "colorbar": {
            "outlinewidth": 0,
            "ticks": ""
           }
          },
          "colorscale": {
           "diverging": [
            [
             0,
             "#8e0152"
            ],
            [
             0.1,
             "#c51b7d"
            ],
            [
             0.2,
             "#de77ae"
            ],
            [
             0.3,
             "#f1b6da"
            ],
            [
             0.4,
             "#fde0ef"
            ],
            [
             0.5,
             "#f7f7f7"
            ],
            [
             0.6,
             "#e6f5d0"
            ],
            [
             0.7,
             "#b8e186"
            ],
            [
             0.8,
             "#7fbc41"
            ],
            [
             0.9,
             "#4d9221"
            ],
            [
             1,
             "#276419"
            ]
           ],
           "sequential": [
            [
             0,
             "#0d0887"
            ],
            [
             0.1111111111111111,
             "#46039f"
            ],
            [
             0.2222222222222222,
             "#7201a8"
            ],
            [
             0.3333333333333333,
             "#9c179e"
            ],
            [
             0.4444444444444444,
             "#bd3786"
            ],
            [
             0.5555555555555556,
             "#d8576b"
            ],
            [
             0.6666666666666666,
             "#ed7953"
            ],
            [
             0.7777777777777778,
             "#fb9f3a"
            ],
            [
             0.8888888888888888,
             "#fdca26"
            ],
            [
             1,
             "#f0f921"
            ]
           ],
           "sequentialminus": [
            [
             0,
             "#0d0887"
            ],
            [
             0.1111111111111111,
             "#46039f"
            ],
            [
             0.2222222222222222,
             "#7201a8"
            ],
            [
             0.3333333333333333,
             "#9c179e"
            ],
            [
             0.4444444444444444,
             "#bd3786"
            ],
            [
             0.5555555555555556,
             "#d8576b"
            ],
            [
             0.6666666666666666,
             "#ed7953"
            ],
            [
             0.7777777777777778,
             "#fb9f3a"
            ],
            [
             0.8888888888888888,
             "#fdca26"
            ],
            [
             1,
             "#f0f921"
            ]
           ]
          },
          "colorway": [
           "#636efa",
           "#EF553B",
           "#00cc96",
           "#ab63fa",
           "#FFA15A",
           "#19d3f3",
           "#FF6692",
           "#B6E880",
           "#FF97FF",
           "#FECB52"
          ],
          "font": {
           "color": "#2a3f5f"
          },
          "geo": {
           "bgcolor": "white",
           "lakecolor": "white",
           "landcolor": "#E5ECF6",
           "showlakes": true,
           "showland": true,
           "subunitcolor": "white"
          },
          "hoverlabel": {
           "align": "left"
          },
          "hovermode": "closest",
          "mapbox": {
           "style": "light"
          },
          "paper_bgcolor": "white",
          "plot_bgcolor": "#E5ECF6",
          "polar": {
           "angularaxis": {
            "gridcolor": "white",
            "linecolor": "white",
            "ticks": ""
           },
           "bgcolor": "#E5ECF6",
           "radialaxis": {
            "gridcolor": "white",
            "linecolor": "white",
            "ticks": ""
           }
          },
          "scene": {
           "xaxis": {
            "backgroundcolor": "#E5ECF6",
            "gridcolor": "white",
            "gridwidth": 2,
            "linecolor": "white",
            "showbackground": true,
            "ticks": "",
            "zerolinecolor": "white"
           },
           "yaxis": {
            "backgroundcolor": "#E5ECF6",
            "gridcolor": "white",
            "gridwidth": 2,
            "linecolor": "white",
            "showbackground": true,
            "ticks": "",
            "zerolinecolor": "white"
           },
           "zaxis": {
            "backgroundcolor": "#E5ECF6",
            "gridcolor": "white",
            "gridwidth": 2,
            "linecolor": "white",
            "showbackground": true,
            "ticks": "",
            "zerolinecolor": "white"
           }
          },
          "shapedefaults": {
           "line": {
            "color": "#2a3f5f"
           }
          },
          "ternary": {
           "aaxis": {
            "gridcolor": "white",
            "linecolor": "white",
            "ticks": ""
           },
           "baxis": {
            "gridcolor": "white",
            "linecolor": "white",
            "ticks": ""
           },
           "bgcolor": "#E5ECF6",
           "caxis": {
            "gridcolor": "white",
            "linecolor": "white",
            "ticks": ""
           }
          },
          "title": {
           "x": 0.05
          },
          "xaxis": {
           "automargin": true,
           "gridcolor": "white",
           "linecolor": "white",
           "ticks": "",
           "title": {
            "standoff": 15
           },
           "zerolinecolor": "white",
           "zerolinewidth": 2
          },
          "yaxis": {
           "automargin": true,
           "gridcolor": "white",
           "linecolor": "white",
           "ticks": "",
           "title": {
            "standoff": 15
           },
           "zerolinecolor": "white",
           "zerolinewidth": 2
          }
         }
        },
        "title": {
         "font": {
          "color": "#4D5663"
         }
        },
        "xaxis": {
         "gridcolor": "#E1E5ED",
         "showgrid": true,
         "tickfont": {
          "color": "#4D5663"
         },
         "title": {
          "font": {
           "color": "#4D5663"
          },
          "text": ""
         },
         "zerolinecolor": "#E1E5ED"
        },
        "yaxis": {
         "gridcolor": "#E1E5ED",
         "showgrid": true,
         "tickfont": {
          "color": "#4D5663"
         },
         "title": {
          "font": {
           "color": "#4D5663"
          },
          "text": ""
         },
         "zerolinecolor": "#E1E5ED"
        }
       }
      },
      "text/html": [
       "<div>\n",
       "        \n",
       "        \n",
       "            <div id=\"eca79fd3-d422-44f0-aab0-985cf9a9388d\" class=\"plotly-graph-div\" style=\"height:525px; width:100%;\"></div>\n",
       "            <script type=\"text/javascript\">\n",
       "                require([\"plotly\"], function(Plotly) {\n",
       "                    window.PLOTLYENV=window.PLOTLYENV || {};\n",
       "                    window.PLOTLYENV.BASE_URL='https://plot.ly';\n",
       "                    \n",
       "                if (document.getElementById(\"eca79fd3-d422-44f0-aab0-985cf9a9388d\")) {\n",
       "                    Plotly.newPlot(\n",
       "                        'eca79fd3-d422-44f0-aab0-985cf9a9388d',\n",
       "                        [{\"marker\": {\"color\": \"rgba(255, 153, 51, 0.6)\", \"line\": {\"color\": \"rgba(255, 153, 51, 1.0)\", \"width\": 1}}, \"name\": \"None\", \"orientation\": \"v\", \"text\": \"\", \"type\": \"bar\", \"x\": [\"A\", \"B\", \"C\", \"D\"], \"y\": [100, 100, 100, 100]}],\n",
       "                        {\"legend\": {\"bgcolor\": \"#F5F6F9\", \"font\": {\"color\": \"#4D5663\"}}, \"paper_bgcolor\": \"#F5F6F9\", \"plot_bgcolor\": \"#F5F6F9\", \"template\": {\"data\": {\"bar\": [{\"error_x\": {\"color\": \"#2a3f5f\"}, \"error_y\": {\"color\": \"#2a3f5f\"}, \"marker\": {\"line\": {\"color\": \"#E5ECF6\", \"width\": 0.5}}, \"type\": \"bar\"}], \"barpolar\": [{\"marker\": {\"line\": {\"color\": \"#E5ECF6\", \"width\": 0.5}}, \"type\": \"barpolar\"}], \"carpet\": [{\"aaxis\": {\"endlinecolor\": \"#2a3f5f\", \"gridcolor\": \"white\", \"linecolor\": \"white\", \"minorgridcolor\": \"white\", \"startlinecolor\": \"#2a3f5f\"}, \"baxis\": {\"endlinecolor\": \"#2a3f5f\", \"gridcolor\": \"white\", \"linecolor\": \"white\", \"minorgridcolor\": \"white\", \"startlinecolor\": \"#2a3f5f\"}, \"type\": \"carpet\"}], \"choropleth\": [{\"colorbar\": {\"outlinewidth\": 0, \"ticks\": \"\"}, \"type\": \"choropleth\"}], \"contour\": [{\"colorbar\": {\"outlinewidth\": 0, \"ticks\": \"\"}, \"colorscale\": [[0.0, \"#0d0887\"], [0.1111111111111111, \"#46039f\"], [0.2222222222222222, \"#7201a8\"], [0.3333333333333333, \"#9c179e\"], [0.4444444444444444, \"#bd3786\"], [0.5555555555555556, \"#d8576b\"], [0.6666666666666666, \"#ed7953\"], [0.7777777777777778, \"#fb9f3a\"], [0.8888888888888888, \"#fdca26\"], [1.0, \"#f0f921\"]], \"type\": \"contour\"}], \"contourcarpet\": [{\"colorbar\": {\"outlinewidth\": 0, \"ticks\": \"\"}, \"type\": \"contourcarpet\"}], \"heatmap\": [{\"colorbar\": {\"outlinewidth\": 0, \"ticks\": \"\"}, \"colorscale\": [[0.0, \"#0d0887\"], [0.1111111111111111, \"#46039f\"], [0.2222222222222222, \"#7201a8\"], [0.3333333333333333, \"#9c179e\"], [0.4444444444444444, \"#bd3786\"], [0.5555555555555556, \"#d8576b\"], [0.6666666666666666, \"#ed7953\"], [0.7777777777777778, \"#fb9f3a\"], [0.8888888888888888, \"#fdca26\"], [1.0, \"#f0f921\"]], \"type\": \"heatmap\"}], \"heatmapgl\": [{\"colorbar\": {\"outlinewidth\": 0, \"ticks\": \"\"}, \"colorscale\": [[0.0, \"#0d0887\"], [0.1111111111111111, \"#46039f\"], [0.2222222222222222, \"#7201a8\"], [0.3333333333333333, \"#9c179e\"], [0.4444444444444444, \"#bd3786\"], [0.5555555555555556, \"#d8576b\"], [0.6666666666666666, \"#ed7953\"], [0.7777777777777778, \"#fb9f3a\"], [0.8888888888888888, \"#fdca26\"], [1.0, \"#f0f921\"]], \"type\": \"heatmapgl\"}], \"histogram\": [{\"marker\": {\"colorbar\": {\"outlinewidth\": 0, \"ticks\": \"\"}}, \"type\": \"histogram\"}], \"histogram2d\": [{\"colorbar\": {\"outlinewidth\": 0, \"ticks\": \"\"}, \"colorscale\": [[0.0, \"#0d0887\"], [0.1111111111111111, \"#46039f\"], [0.2222222222222222, \"#7201a8\"], [0.3333333333333333, \"#9c179e\"], [0.4444444444444444, \"#bd3786\"], [0.5555555555555556, \"#d8576b\"], [0.6666666666666666, \"#ed7953\"], [0.7777777777777778, \"#fb9f3a\"], [0.8888888888888888, \"#fdca26\"], [1.0, \"#f0f921\"]], \"type\": \"histogram2d\"}], \"histogram2dcontour\": [{\"colorbar\": {\"outlinewidth\": 0, \"ticks\": \"\"}, \"colorscale\": [[0.0, \"#0d0887\"], [0.1111111111111111, \"#46039f\"], [0.2222222222222222, \"#7201a8\"], [0.3333333333333333, \"#9c179e\"], [0.4444444444444444, \"#bd3786\"], [0.5555555555555556, \"#d8576b\"], [0.6666666666666666, \"#ed7953\"], [0.7777777777777778, \"#fb9f3a\"], [0.8888888888888888, \"#fdca26\"], [1.0, \"#f0f921\"]], \"type\": \"histogram2dcontour\"}], \"mesh3d\": [{\"colorbar\": {\"outlinewidth\": 0, \"ticks\": \"\"}, \"type\": \"mesh3d\"}], \"parcoords\": [{\"line\": {\"colorbar\": {\"outlinewidth\": 0, \"ticks\": \"\"}}, \"type\": \"parcoords\"}], \"pie\": [{\"automargin\": true, \"type\": \"pie\"}], \"scatter\": [{\"marker\": {\"colorbar\": {\"outlinewidth\": 0, \"ticks\": \"\"}}, \"type\": \"scatter\"}], \"scatter3d\": [{\"line\": {\"colorbar\": {\"outlinewidth\": 0, \"ticks\": \"\"}}, \"marker\": {\"colorbar\": {\"outlinewidth\": 0, \"ticks\": \"\"}}, \"type\": \"scatter3d\"}], \"scattercarpet\": [{\"marker\": {\"colorbar\": {\"outlinewidth\": 0, \"ticks\": \"\"}}, \"type\": \"scattercarpet\"}], \"scattergeo\": [{\"marker\": {\"colorbar\": {\"outlinewidth\": 0, \"ticks\": \"\"}}, \"type\": \"scattergeo\"}], \"scattergl\": [{\"marker\": {\"colorbar\": {\"outlinewidth\": 0, \"ticks\": \"\"}}, \"type\": \"scattergl\"}], \"scattermapbox\": [{\"marker\": {\"colorbar\": {\"outlinewidth\": 0, \"ticks\": \"\"}}, \"type\": \"scattermapbox\"}], \"scatterpolar\": [{\"marker\": {\"colorbar\": {\"outlinewidth\": 0, \"ticks\": \"\"}}, \"type\": \"scatterpolar\"}], \"scatterpolargl\": [{\"marker\": {\"colorbar\": {\"outlinewidth\": 0, \"ticks\": \"\"}}, \"type\": \"scatterpolargl\"}], \"scatterternary\": [{\"marker\": {\"colorbar\": {\"outlinewidth\": 0, \"ticks\": \"\"}}, \"type\": \"scatterternary\"}], \"surface\": [{\"colorbar\": {\"outlinewidth\": 0, \"ticks\": \"\"}, \"colorscale\": [[0.0, \"#0d0887\"], [0.1111111111111111, \"#46039f\"], [0.2222222222222222, \"#7201a8\"], [0.3333333333333333, \"#9c179e\"], [0.4444444444444444, \"#bd3786\"], [0.5555555555555556, \"#d8576b\"], [0.6666666666666666, \"#ed7953\"], [0.7777777777777778, \"#fb9f3a\"], [0.8888888888888888, \"#fdca26\"], [1.0, \"#f0f921\"]], \"type\": \"surface\"}], \"table\": [{\"cells\": {\"fill\": {\"color\": \"#EBF0F8\"}, \"line\": {\"color\": \"white\"}}, \"header\": {\"fill\": {\"color\": \"#C8D4E3\"}, \"line\": {\"color\": \"white\"}}, \"type\": \"table\"}]}, \"layout\": {\"annotationdefaults\": {\"arrowcolor\": \"#2a3f5f\", \"arrowhead\": 0, \"arrowwidth\": 1}, \"coloraxis\": {\"colorbar\": {\"outlinewidth\": 0, \"ticks\": \"\"}}, \"colorscale\": {\"diverging\": [[0, \"#8e0152\"], [0.1, \"#c51b7d\"], [0.2, \"#de77ae\"], [0.3, \"#f1b6da\"], [0.4, \"#fde0ef\"], [0.5, \"#f7f7f7\"], [0.6, \"#e6f5d0\"], [0.7, \"#b8e186\"], [0.8, \"#7fbc41\"], [0.9, \"#4d9221\"], [1, \"#276419\"]], \"sequential\": [[0.0, \"#0d0887\"], [0.1111111111111111, \"#46039f\"], [0.2222222222222222, \"#7201a8\"], [0.3333333333333333, \"#9c179e\"], [0.4444444444444444, \"#bd3786\"], [0.5555555555555556, \"#d8576b\"], [0.6666666666666666, \"#ed7953\"], [0.7777777777777778, \"#fb9f3a\"], [0.8888888888888888, \"#fdca26\"], [1.0, \"#f0f921\"]], \"sequentialminus\": [[0.0, \"#0d0887\"], [0.1111111111111111, \"#46039f\"], [0.2222222222222222, \"#7201a8\"], [0.3333333333333333, \"#9c179e\"], [0.4444444444444444, \"#bd3786\"], [0.5555555555555556, \"#d8576b\"], [0.6666666666666666, \"#ed7953\"], [0.7777777777777778, \"#fb9f3a\"], [0.8888888888888888, \"#fdca26\"], [1.0, \"#f0f921\"]]}, \"colorway\": [\"#636efa\", \"#EF553B\", \"#00cc96\", \"#ab63fa\", \"#FFA15A\", \"#19d3f3\", \"#FF6692\", \"#B6E880\", \"#FF97FF\", \"#FECB52\"], \"font\": {\"color\": \"#2a3f5f\"}, \"geo\": {\"bgcolor\": \"white\", \"lakecolor\": \"white\", \"landcolor\": \"#E5ECF6\", \"showlakes\": true, \"showland\": true, \"subunitcolor\": \"white\"}, \"hoverlabel\": {\"align\": \"left\"}, \"hovermode\": \"closest\", \"mapbox\": {\"style\": \"light\"}, \"paper_bgcolor\": \"white\", \"plot_bgcolor\": \"#E5ECF6\", \"polar\": {\"angularaxis\": {\"gridcolor\": \"white\", \"linecolor\": \"white\", \"ticks\": \"\"}, \"bgcolor\": \"#E5ECF6\", \"radialaxis\": {\"gridcolor\": \"white\", \"linecolor\": \"white\", \"ticks\": \"\"}}, \"scene\": {\"xaxis\": {\"backgroundcolor\": \"#E5ECF6\", \"gridcolor\": \"white\", \"gridwidth\": 2, \"linecolor\": \"white\", \"showbackground\": true, \"ticks\": \"\", \"zerolinecolor\": \"white\"}, \"yaxis\": {\"backgroundcolor\": \"#E5ECF6\", \"gridcolor\": \"white\", \"gridwidth\": 2, \"linecolor\": \"white\", \"showbackground\": true, \"ticks\": \"\", \"zerolinecolor\": \"white\"}, \"zaxis\": {\"backgroundcolor\": \"#E5ECF6\", \"gridcolor\": \"white\", \"gridwidth\": 2, \"linecolor\": \"white\", \"showbackground\": true, \"ticks\": \"\", \"zerolinecolor\": \"white\"}}, \"shapedefaults\": {\"line\": {\"color\": \"#2a3f5f\"}}, \"ternary\": {\"aaxis\": {\"gridcolor\": \"white\", \"linecolor\": \"white\", \"ticks\": \"\"}, \"baxis\": {\"gridcolor\": \"white\", \"linecolor\": \"white\", \"ticks\": \"\"}, \"bgcolor\": \"#E5ECF6\", \"caxis\": {\"gridcolor\": \"white\", \"linecolor\": \"white\", \"ticks\": \"\"}}, \"title\": {\"x\": 0.05}, \"xaxis\": {\"automargin\": true, \"gridcolor\": \"white\", \"linecolor\": \"white\", \"ticks\": \"\", \"title\": {\"standoff\": 15}, \"zerolinecolor\": \"white\", \"zerolinewidth\": 2}, \"yaxis\": {\"automargin\": true, \"gridcolor\": \"white\", \"linecolor\": \"white\", \"ticks\": \"\", \"title\": {\"standoff\": 15}, \"zerolinecolor\": \"white\", \"zerolinewidth\": 2}}}, \"title\": {\"font\": {\"color\": \"#4D5663\"}}, \"xaxis\": {\"gridcolor\": \"#E1E5ED\", \"showgrid\": true, \"tickfont\": {\"color\": \"#4D5663\"}, \"title\": {\"font\": {\"color\": \"#4D5663\"}, \"text\": \"\"}, \"zerolinecolor\": \"#E1E5ED\"}, \"yaxis\": {\"gridcolor\": \"#E1E5ED\", \"showgrid\": true, \"tickfont\": {\"color\": \"#4D5663\"}, \"title\": {\"font\": {\"color\": \"#4D5663\"}, \"text\": \"\"}, \"zerolinecolor\": \"#E1E5ED\"}},\n",
       "                        {\"showLink\": true, \"linkText\": \"Export to plot.ly\", \"plotlyServerURL\": \"https://plot.ly\", \"responsive\": true}\n",
       "                    ).then(function(){\n",
       "                            \n",
       "var gd = document.getElementById('eca79fd3-d422-44f0-aab0-985cf9a9388d');\n",
       "var x = new MutationObserver(function (mutations, observer) {{\n",
       "        var display = window.getComputedStyle(gd).display;\n",
       "        if (!display || display === 'none') {{\n",
       "            console.log([gd, 'removed!']);\n",
       "            Plotly.purge(gd);\n",
       "            observer.disconnect();\n",
       "        }}\n",
       "}});\n",
       "\n",
       "// Listen for the removal of the full notebook cells\n",
       "var notebookContainer = gd.closest('#notebook-container');\n",
       "if (notebookContainer) {{\n",
       "    x.observe(notebookContainer, {childList: true});\n",
       "}}\n",
       "\n",
       "// Listen for the clearing of the current output cell\n",
       "var outputEl = gd.closest('.output');\n",
       "if (outputEl) {{\n",
       "    x.observe(outputEl, {childList: true});\n",
       "}}\n",
       "\n",
       "                        })\n",
       "                };\n",
       "                });\n",
       "            </script>\n",
       "        </div>"
      ]
     },
     "metadata": {},
     "output_type": "display_data"
    }
   ],
   "source": [
    "df.count().iplot(kind='bar')"
   ]
  },
  {
   "cell_type": "markdown",
   "metadata": {},
   "source": [
    "## Boxplots"
   ]
  },
  {
   "cell_type": "code",
   "execution_count": 15,
   "metadata": {},
   "outputs": [
    {
     "data": {
      "application/vnd.plotly.v1+json": {
       "config": {
        "linkText": "Export to plot.ly",
        "plotlyServerURL": "https://plot.ly",
        "showLink": true
       },
       "data": [
        {
         "boxpoints": false,
         "line": {
          "width": 1.3
         },
         "marker": {
          "color": "rgba(255, 153, 51, 1.0)"
         },
         "name": "A",
         "orientation": "v",
         "type": "box",
         "y": [
          0.3705878037577684,
          -0.6678339547302442,
          1.1380918556405002,
          -0.675580051894025,
          1.7262495731372611,
          -0.7346738962061609,
          -0.9562145225408256,
          0.025148520483188185,
          -0.11730817837083653,
          -0.8875635029726676,
          0.7878568424078434,
          1.1653202219069316,
          1.2937559144192385,
          -1.0658594627738625,
          -0.09260441995537765,
          -0.5159981219517672,
          -0.8327586860733873,
          -1.3749779091900383,
          0.42018431850196075,
          0.14709265072578784,
          0.25214049237485664,
          -0.18919730285638245,
          -2.718182630893289,
          -2.4871101190238996,
          -1.0215669673578682,
          0.24635506388134681,
          -0.10770573439041783,
          0.3557554224870404,
          0.031566456058262665,
          0.1700452202575896,
          -0.9575259626465774,
          -0.21532599451762865,
          0.5236647751886957,
          1.94221152756419,
          1.0739362417570109,
          0.08712867977911695,
          -0.37107368322293466,
          -1.1447478368070039,
          2.129917673232524,
          -0.9693582650304164,
          -0.1869513636704791,
          2.2092637073763917,
          1.488229125167454,
          2.214050967163112,
          0.6384413413698313,
          -1.9283759167143864,
          -0.4511610664062786,
          -0.06721145376013846,
          -1.8119277914008352,
          -0.6415871282167186,
          -0.09212605207912067,
          -0.11015367934595786,
          -0.2885730054311169,
          0.17257802683078483,
          -0.34532000564412413,
          -0.12995888586272972,
          -0.4377511993519691,
          -1.876492612806514,
          -1.718838915583185,
          0.0936799439467252,
          0.47001537739454224,
          -2.8410006043336353,
          1.704730125268345,
          0.20259501783314926,
          -0.4206312134987387,
          0.839068083396662,
          -0.5043104052179739,
          0.4731676005007791,
          0.19311114687310646,
          0.4716117801712886,
          1.8908763742207517,
          -1.334644125974962,
          -0.11766425437807593,
          1.6565164720427392,
          -1.5568524437600175,
          -0.5680816820553658,
          -0.5344358887477514,
          0.1900277548085487,
          0.7565155724048774,
          1.9865304358054405,
          -0.3281632782126243,
          -2.127189864605686,
          -0.39679487724212614,
          -0.3050622209272501,
          -1.2578147927340104,
          -0.17726760140269482,
          -1.5401904883006807,
          -0.5614175852880462,
          -1.967164616628011,
          -0.38255077923662584,
          1.1503595634830022,
          0.2576042608917582,
          1.2135540045813504,
          -0.4161542112158181,
          2.1297943647777084,
          1.3264977923735735,
          -0.4404670901208818,
          0.48124473164937726,
          0.5839900293237509,
          1.076803896700854
         ]
        },
        {
         "boxpoints": false,
         "line": {
          "width": 1.3
         },
         "marker": {
          "color": "rgba(55, 128, 191, 1.0)"
         },
         "name": "B",
         "orientation": "v",
         "type": "box",
         "y": [
          -0.9026182879513235,
          -0.8429681388249898,
          0.9540726979032438,
          -0.23251275860498477,
          0.34349554969697677,
          -0.6219462410445961,
          -2.0006622694901433,
          1.2051941291240547,
          -0.13994760501934572,
          1.4084984797743516,
          -1.4406185815567676,
          2.203571063939216,
          -0.7573170225475241,
          -1.3938894902922006,
          -1.5080691322024262,
          -0.14327068342977814,
          0.037417546547547115,
          1.6462587562862911,
          -0.09803460519806916,
          -0.14996665115790409,
          0.21163564577514976,
          1.0263341563855668,
          -2.1541928508243413,
          0.5266668698269917,
          -1.55295581817936,
          -0.1945656521063503,
          0.4888954405211421,
          -1.0860016057795432,
          0.6863853333595958,
          1.5301495976534594,
          0.9766721778910605,
          1.336524835836653,
          -1.2007448477602651,
          0.06634015015393542,
          1.2366217573413492,
          -0.8777425551106883,
          0.6838574049901874,
          1.4325415795887664,
          -0.9916589198409315,
          -1.4400899617991463,
          -1.2559540357374495,
          0.6110065450279094,
          -1.0390703837403927,
          0.7226262599610198,
          -2.676636290627523,
          -0.7200323899747009,
          0.0773058348349942,
          -1.123920139622418,
          -1.5943451488747178,
          0.09570172620242262,
          0.031109758935364544,
          0.5486092430934341,
          -0.9783856846534326,
          -0.37782591930038695,
          2.04289799639152,
          2.695461751334061,
          0.42866956560443514,
          0.06570107039637005,
          0.3406308372199238,
          -0.13963619271339842,
          2.08286852359131,
          -1.2438740075995987,
          -1.0244756191667646,
          -1.218721967500244,
          -0.574858657178294,
          2.92238752045327,
          0.49989326896154135,
          -1.228574562429567,
          0.96213081663357,
          -1.7825877071155352,
          -0.8255838017224469,
          -0.2647822588269775,
          1.3393791985468635,
          -0.39866530169448894,
          0.7530286903232385,
          0.702494600097855,
          -2.9359052065235454,
          1.737741342697497,
          -0.27851189827084305,
          2.519831534981045,
          0.9039598139975631,
          -0.11495144416259331,
          1.7927453018094415,
          1.0292143655851063,
          0.9950063877604468,
          0.7302318326789189,
          -1.0215696369523628,
          0.3528032997113076,
          -1.5412449038618279,
          -0.5806327163073665,
          0.5350868251094306,
          -1.6961570456962733,
          0.5796026289085382,
          -0.30485897618670443,
          -1.6535985994040143,
          1.0991402504723242,
          0.5477912575339169,
          -1.6636610596560424,
          0.48997625929201616,
          -2.015300619743853
         ]
        },
        {
         "boxpoints": false,
         "line": {
          "width": 1.3
         },
         "marker": {
          "color": "rgba(50, 171, 96, 1.0)"
         },
         "name": "C",
         "orientation": "v",
         "type": "box",
         "y": [
          -0.5998922748226837,
          1.0401232639605857,
          -1.3701390540574003,
          0.307367401403588,
          -1.0799042915348378,
          -0.9813177044008539,
          0.4770731548160624,
          -0.5826732258653297,
          -0.6035195659833387,
          -0.0258865493970227,
          -0.8230608255643124,
          1.6943105314625253,
          -0.9563104649466695,
          1.4177953890193729,
          1.6273911971295223,
          -0.2578227224315953,
          0.26004100762205856,
          -1.697537184922374,
          -0.3812906397479519,
          0.1722461009838956,
          -0.4556650197368004,
          -2.495653667611221,
          1.097080665209218,
          -0.13077845197865856,
          1.1074694634752067,
          -1.7294470216683682,
          -0.26705895882833,
          0.3251636428314838,
          0.5361169732425961,
          1.589969134302654,
          -0.15735546537356165,
          -0.7995419169077077,
          1.8376619277966697,
          -0.15187825852893375,
          0.04374985851141635,
          -0.23823958694361272,
          0.764467916710477,
          -0.7554188593905685,
          0.6921743026950641,
          0.03290908332584349,
          2.0433745991251198,
          0.6102966937575419,
          -0.17802755313353924,
          0.8218065247920904,
          0.12142670746890857,
          0.09815011007935072,
          -0.29780293511282513,
          -0.4526326974716961,
          -0.12252382350765847,
          -0.7900818595884559,
          -1.1008843446675154,
          -0.07630183113288294,
          0.2802494823029372,
          1.0161020693800689,
          -0.071570854643028,
          -0.5531877476244556,
          -1.9807446325723932,
          -0.8091256988385362,
          -1.7009786854539621,
          0.24777396683941133,
          -0.2699730156670374,
          0.7299970552803603,
          -0.556742101854421,
          -1.6052585106866015,
          -0.7802709940324564,
          1.0178771189571585,
          0.3065709276649882,
          -1.3304863582651418,
          -0.2865475537453356,
          0.9070300290159293,
          0.4843256513077551,
          0.17691226867134244,
          -0.609623055568708,
          -1.0861291448568933,
          0.7194756521047455,
          0.6065091377263108,
          0.33760317323029176,
          0.39774407638368164,
          -0.7590447844571399,
          0.8520210686986877,
          0.44533746837968435,
          0.4507753644951477,
          -1.088986892953632,
          0.4693496772868247,
          1.0556025178684072,
          -1.4878323098061323,
          1.3625106657117196,
          -1.8917699176948377,
          0.4095272296787832,
          -0.9221182812831743,
          -1.4542834127024287,
          -0.18464768530778417,
          1.0959242606698392,
          -0.8935725350190782,
          1.4342173284967896,
          1.8371179074984076,
          -0.5299449866725706,
          1.2646796592685872,
          1.3239105830431595,
          0.6861574912304074
         ]
        },
        {
         "boxpoints": false,
         "line": {
          "width": 1.3
         },
         "marker": {
          "color": "rgba(128, 0, 128, 1.0)"
         },
         "name": "D",
         "orientation": "v",
         "type": "box",
         "y": [
          -0.3484290193324681,
          1.2493318120026027,
          0.6195953989316635,
          -0.10007648659084645,
          -0.848659613914679,
          -1.2072222170818043,
          0.1331176062784441,
          -0.01646742972146636,
          -0.37225133150837864,
          0.11229352710673653,
          0.6366971125581358,
          1.545579307785409,
          0.15580916850848148,
          -0.3314672607660011,
          0.7929866166535395,
          0.8941052725838416,
          -0.14329935045522949,
          1.3196350077045846,
          -0.096788026963216,
          -0.8346083847204316,
          1.2032145169230912,
          -0.38071240368744474,
          -0.3098611358309325,
          -1.736361585718667,
          -2.1199279881649593,
          -1.5794355446796786,
          -1.2791643506642554,
          -1.4992239299870747,
          -0.03425548013030693,
          -0.1206142170620143,
          0.3451768520894632,
          0.6844729058258141,
          -0.8376759964545056,
          1.241591779090792,
          -1.3881052068053508,
          1.1012224452147994,
          -1.0975287473015383,
          0.5041699155349165,
          0.7160675347296979,
          -1.2093109533153736,
          -0.24711334829147724,
          -0.5889737991894741,
          -0.5366652084809301,
          0.3310628341514247,
          0.06631259446541207,
          -0.28759721211797773,
          -1.1155536161178887,
          -0.11610402773542693,
          -0.4429351529770189,
          1.4270945875382393,
          0.6491689023501485,
          0.4883187223682674,
          0.14973969661131312,
          1.3875615203236902,
          0.035749576155775536,
          0.17155751012655765,
          -0.08973447587317929,
          0.6232701155816891,
          -0.34499518674366153,
          -2.1703151733281087,
          0.1797106006356278,
          -0.9074164273981294,
          -0.531983574715416,
          -0.8338018217815336,
          -0.7465538070712631,
          0.3789556341758663,
          3.075277236055962,
          -0.19053133737678485,
          0.8643667689060618,
          2.4980523172364046,
          -0.04232670805240006,
          1.2480572144201294,
          1.541103715916894,
          -1.7373434081652341,
          1.4565399138714257,
          -0.4710155743441887,
          0.6801057596111969,
          0.18764949278207416,
          0.4735916382674086,
          -3.356995673638782,
          -0.3019626812744328,
          -2.2403559426949933,
          -1.6319267400086224,
          0.8824560086615363,
          1.1468628425988923,
          -0.53925633992263,
          -0.1995850040866459,
          0.005847650698243115,
          2.410480925201785,
          -0.44772196459658326,
          -1.6552711703176686,
          -0.23346162577694834,
          -0.06260196282696313,
          -0.4749436357111602,
          -1.587230525836392,
          0.46603024198579857,
          -0.003303137021653763,
          -0.6821232266716004,
          0.8182169465651061,
          -0.6364533045515591
         ]
        }
       ],
       "layout": {
        "legend": {
         "bgcolor": "#F5F6F9",
         "font": {
          "color": "#4D5663"
         }
        },
        "paper_bgcolor": "#F5F6F9",
        "plot_bgcolor": "#F5F6F9",
        "template": {
         "data": {
          "bar": [
           {
            "error_x": {
             "color": "#2a3f5f"
            },
            "error_y": {
             "color": "#2a3f5f"
            },
            "marker": {
             "line": {
              "color": "#E5ECF6",
              "width": 0.5
             }
            },
            "type": "bar"
           }
          ],
          "barpolar": [
           {
            "marker": {
             "line": {
              "color": "#E5ECF6",
              "width": 0.5
             }
            },
            "type": "barpolar"
           }
          ],
          "carpet": [
           {
            "aaxis": {
             "endlinecolor": "#2a3f5f",
             "gridcolor": "white",
             "linecolor": "white",
             "minorgridcolor": "white",
             "startlinecolor": "#2a3f5f"
            },
            "baxis": {
             "endlinecolor": "#2a3f5f",
             "gridcolor": "white",
             "linecolor": "white",
             "minorgridcolor": "white",
             "startlinecolor": "#2a3f5f"
            },
            "type": "carpet"
           }
          ],
          "choropleth": [
           {
            "colorbar": {
             "outlinewidth": 0,
             "ticks": ""
            },
            "type": "choropleth"
           }
          ],
          "contour": [
           {
            "colorbar": {
             "outlinewidth": 0,
             "ticks": ""
            },
            "colorscale": [
             [
              0,
              "#0d0887"
             ],
             [
              0.1111111111111111,
              "#46039f"
             ],
             [
              0.2222222222222222,
              "#7201a8"
             ],
             [
              0.3333333333333333,
              "#9c179e"
             ],
             [
              0.4444444444444444,
              "#bd3786"
             ],
             [
              0.5555555555555556,
              "#d8576b"
             ],
             [
              0.6666666666666666,
              "#ed7953"
             ],
             [
              0.7777777777777778,
              "#fb9f3a"
             ],
             [
              0.8888888888888888,
              "#fdca26"
             ],
             [
              1,
              "#f0f921"
             ]
            ],
            "type": "contour"
           }
          ],
          "contourcarpet": [
           {
            "colorbar": {
             "outlinewidth": 0,
             "ticks": ""
            },
            "type": "contourcarpet"
           }
          ],
          "heatmap": [
           {
            "colorbar": {
             "outlinewidth": 0,
             "ticks": ""
            },
            "colorscale": [
             [
              0,
              "#0d0887"
             ],
             [
              0.1111111111111111,
              "#46039f"
             ],
             [
              0.2222222222222222,
              "#7201a8"
             ],
             [
              0.3333333333333333,
              "#9c179e"
             ],
             [
              0.4444444444444444,
              "#bd3786"
             ],
             [
              0.5555555555555556,
              "#d8576b"
             ],
             [
              0.6666666666666666,
              "#ed7953"
             ],
             [
              0.7777777777777778,
              "#fb9f3a"
             ],
             [
              0.8888888888888888,
              "#fdca26"
             ],
             [
              1,
              "#f0f921"
             ]
            ],
            "type": "heatmap"
           }
          ],
          "heatmapgl": [
           {
            "colorbar": {
             "outlinewidth": 0,
             "ticks": ""
            },
            "colorscale": [
             [
              0,
              "#0d0887"
             ],
             [
              0.1111111111111111,
              "#46039f"
             ],
             [
              0.2222222222222222,
              "#7201a8"
             ],
             [
              0.3333333333333333,
              "#9c179e"
             ],
             [
              0.4444444444444444,
              "#bd3786"
             ],
             [
              0.5555555555555556,
              "#d8576b"
             ],
             [
              0.6666666666666666,
              "#ed7953"
             ],
             [
              0.7777777777777778,
              "#fb9f3a"
             ],
             [
              0.8888888888888888,
              "#fdca26"
             ],
             [
              1,
              "#f0f921"
             ]
            ],
            "type": "heatmapgl"
           }
          ],
          "histogram": [
           {
            "marker": {
             "colorbar": {
              "outlinewidth": 0,
              "ticks": ""
             }
            },
            "type": "histogram"
           }
          ],
          "histogram2d": [
           {
            "colorbar": {
             "outlinewidth": 0,
             "ticks": ""
            },
            "colorscale": [
             [
              0,
              "#0d0887"
             ],
             [
              0.1111111111111111,
              "#46039f"
             ],
             [
              0.2222222222222222,
              "#7201a8"
             ],
             [
              0.3333333333333333,
              "#9c179e"
             ],
             [
              0.4444444444444444,
              "#bd3786"
             ],
             [
              0.5555555555555556,
              "#d8576b"
             ],
             [
              0.6666666666666666,
              "#ed7953"
             ],
             [
              0.7777777777777778,
              "#fb9f3a"
             ],
             [
              0.8888888888888888,
              "#fdca26"
             ],
             [
              1,
              "#f0f921"
             ]
            ],
            "type": "histogram2d"
           }
          ],
          "histogram2dcontour": [
           {
            "colorbar": {
             "outlinewidth": 0,
             "ticks": ""
            },
            "colorscale": [
             [
              0,
              "#0d0887"
             ],
             [
              0.1111111111111111,
              "#46039f"
             ],
             [
              0.2222222222222222,
              "#7201a8"
             ],
             [
              0.3333333333333333,
              "#9c179e"
             ],
             [
              0.4444444444444444,
              "#bd3786"
             ],
             [
              0.5555555555555556,
              "#d8576b"
             ],
             [
              0.6666666666666666,
              "#ed7953"
             ],
             [
              0.7777777777777778,
              "#fb9f3a"
             ],
             [
              0.8888888888888888,
              "#fdca26"
             ],
             [
              1,
              "#f0f921"
             ]
            ],
            "type": "histogram2dcontour"
           }
          ],
          "mesh3d": [
           {
            "colorbar": {
             "outlinewidth": 0,
             "ticks": ""
            },
            "type": "mesh3d"
           }
          ],
          "parcoords": [
           {
            "line": {
             "colorbar": {
              "outlinewidth": 0,
              "ticks": ""
             }
            },
            "type": "parcoords"
           }
          ],
          "pie": [
           {
            "automargin": true,
            "type": "pie"
           }
          ],
          "scatter": [
           {
            "marker": {
             "colorbar": {
              "outlinewidth": 0,
              "ticks": ""
             }
            },
            "type": "scatter"
           }
          ],
          "scatter3d": [
           {
            "line": {
             "colorbar": {
              "outlinewidth": 0,
              "ticks": ""
             }
            },
            "marker": {
             "colorbar": {
              "outlinewidth": 0,
              "ticks": ""
             }
            },
            "type": "scatter3d"
           }
          ],
          "scattercarpet": [
           {
            "marker": {
             "colorbar": {
              "outlinewidth": 0,
              "ticks": ""
             }
            },
            "type": "scattercarpet"
           }
          ],
          "scattergeo": [
           {
            "marker": {
             "colorbar": {
              "outlinewidth": 0,
              "ticks": ""
             }
            },
            "type": "scattergeo"
           }
          ],
          "scattergl": [
           {
            "marker": {
             "colorbar": {
              "outlinewidth": 0,
              "ticks": ""
             }
            },
            "type": "scattergl"
           }
          ],
          "scattermapbox": [
           {
            "marker": {
             "colorbar": {
              "outlinewidth": 0,
              "ticks": ""
             }
            },
            "type": "scattermapbox"
           }
          ],
          "scatterpolar": [
           {
            "marker": {
             "colorbar": {
              "outlinewidth": 0,
              "ticks": ""
             }
            },
            "type": "scatterpolar"
           }
          ],
          "scatterpolargl": [
           {
            "marker": {
             "colorbar": {
              "outlinewidth": 0,
              "ticks": ""
             }
            },
            "type": "scatterpolargl"
           }
          ],
          "scatterternary": [
           {
            "marker": {
             "colorbar": {
              "outlinewidth": 0,
              "ticks": ""
             }
            },
            "type": "scatterternary"
           }
          ],
          "surface": [
           {
            "colorbar": {
             "outlinewidth": 0,
             "ticks": ""
            },
            "colorscale": [
             [
              0,
              "#0d0887"
             ],
             [
              0.1111111111111111,
              "#46039f"
             ],
             [
              0.2222222222222222,
              "#7201a8"
             ],
             [
              0.3333333333333333,
              "#9c179e"
             ],
             [
              0.4444444444444444,
              "#bd3786"
             ],
             [
              0.5555555555555556,
              "#d8576b"
             ],
             [
              0.6666666666666666,
              "#ed7953"
             ],
             [
              0.7777777777777778,
              "#fb9f3a"
             ],
             [
              0.8888888888888888,
              "#fdca26"
             ],
             [
              1,
              "#f0f921"
             ]
            ],
            "type": "surface"
           }
          ],
          "table": [
           {
            "cells": {
             "fill": {
              "color": "#EBF0F8"
             },
             "line": {
              "color": "white"
             }
            },
            "header": {
             "fill": {
              "color": "#C8D4E3"
             },
             "line": {
              "color": "white"
             }
            },
            "type": "table"
           }
          ]
         },
         "layout": {
          "annotationdefaults": {
           "arrowcolor": "#2a3f5f",
           "arrowhead": 0,
           "arrowwidth": 1
          },
          "coloraxis": {
           "colorbar": {
            "outlinewidth": 0,
            "ticks": ""
           }
          },
          "colorscale": {
           "diverging": [
            [
             0,
             "#8e0152"
            ],
            [
             0.1,
             "#c51b7d"
            ],
            [
             0.2,
             "#de77ae"
            ],
            [
             0.3,
             "#f1b6da"
            ],
            [
             0.4,
             "#fde0ef"
            ],
            [
             0.5,
             "#f7f7f7"
            ],
            [
             0.6,
             "#e6f5d0"
            ],
            [
             0.7,
             "#b8e186"
            ],
            [
             0.8,
             "#7fbc41"
            ],
            [
             0.9,
             "#4d9221"
            ],
            [
             1,
             "#276419"
            ]
           ],
           "sequential": [
            [
             0,
             "#0d0887"
            ],
            [
             0.1111111111111111,
             "#46039f"
            ],
            [
             0.2222222222222222,
             "#7201a8"
            ],
            [
             0.3333333333333333,
             "#9c179e"
            ],
            [
             0.4444444444444444,
             "#bd3786"
            ],
            [
             0.5555555555555556,
             "#d8576b"
            ],
            [
             0.6666666666666666,
             "#ed7953"
            ],
            [
             0.7777777777777778,
             "#fb9f3a"
            ],
            [
             0.8888888888888888,
             "#fdca26"
            ],
            [
             1,
             "#f0f921"
            ]
           ],
           "sequentialminus": [
            [
             0,
             "#0d0887"
            ],
            [
             0.1111111111111111,
             "#46039f"
            ],
            [
             0.2222222222222222,
             "#7201a8"
            ],
            [
             0.3333333333333333,
             "#9c179e"
            ],
            [
             0.4444444444444444,
             "#bd3786"
            ],
            [
             0.5555555555555556,
             "#d8576b"
            ],
            [
             0.6666666666666666,
             "#ed7953"
            ],
            [
             0.7777777777777778,
             "#fb9f3a"
            ],
            [
             0.8888888888888888,
             "#fdca26"
            ],
            [
             1,
             "#f0f921"
            ]
           ]
          },
          "colorway": [
           "#636efa",
           "#EF553B",
           "#00cc96",
           "#ab63fa",
           "#FFA15A",
           "#19d3f3",
           "#FF6692",
           "#B6E880",
           "#FF97FF",
           "#FECB52"
          ],
          "font": {
           "color": "#2a3f5f"
          },
          "geo": {
           "bgcolor": "white",
           "lakecolor": "white",
           "landcolor": "#E5ECF6",
           "showlakes": true,
           "showland": true,
           "subunitcolor": "white"
          },
          "hoverlabel": {
           "align": "left"
          },
          "hovermode": "closest",
          "mapbox": {
           "style": "light"
          },
          "paper_bgcolor": "white",
          "plot_bgcolor": "#E5ECF6",
          "polar": {
           "angularaxis": {
            "gridcolor": "white",
            "linecolor": "white",
            "ticks": ""
           },
           "bgcolor": "#E5ECF6",
           "radialaxis": {
            "gridcolor": "white",
            "linecolor": "white",
            "ticks": ""
           }
          },
          "scene": {
           "xaxis": {
            "backgroundcolor": "#E5ECF6",
            "gridcolor": "white",
            "gridwidth": 2,
            "linecolor": "white",
            "showbackground": true,
            "ticks": "",
            "zerolinecolor": "white"
           },
           "yaxis": {
            "backgroundcolor": "#E5ECF6",
            "gridcolor": "white",
            "gridwidth": 2,
            "linecolor": "white",
            "showbackground": true,
            "ticks": "",
            "zerolinecolor": "white"
           },
           "zaxis": {
            "backgroundcolor": "#E5ECF6",
            "gridcolor": "white",
            "gridwidth": 2,
            "linecolor": "white",
            "showbackground": true,
            "ticks": "",
            "zerolinecolor": "white"
           }
          },
          "shapedefaults": {
           "line": {
            "color": "#2a3f5f"
           }
          },
          "ternary": {
           "aaxis": {
            "gridcolor": "white",
            "linecolor": "white",
            "ticks": ""
           },
           "baxis": {
            "gridcolor": "white",
            "linecolor": "white",
            "ticks": ""
           },
           "bgcolor": "#E5ECF6",
           "caxis": {
            "gridcolor": "white",
            "linecolor": "white",
            "ticks": ""
           }
          },
          "title": {
           "x": 0.05
          },
          "xaxis": {
           "automargin": true,
           "gridcolor": "white",
           "linecolor": "white",
           "ticks": "",
           "title": {
            "standoff": 15
           },
           "zerolinecolor": "white",
           "zerolinewidth": 2
          },
          "yaxis": {
           "automargin": true,
           "gridcolor": "white",
           "linecolor": "white",
           "ticks": "",
           "title": {
            "standoff": 15
           },
           "zerolinecolor": "white",
           "zerolinewidth": 2
          }
         }
        },
        "title": {
         "font": {
          "color": "#4D5663"
         }
        },
        "xaxis": {
         "gridcolor": "#E1E5ED",
         "showgrid": true,
         "tickfont": {
          "color": "#4D5663"
         },
         "title": {
          "font": {
           "color": "#4D5663"
          },
          "text": ""
         },
         "zerolinecolor": "#E1E5ED"
        },
        "yaxis": {
         "gridcolor": "#E1E5ED",
         "showgrid": true,
         "tickfont": {
          "color": "#4D5663"
         },
         "title": {
          "font": {
           "color": "#4D5663"
          },
          "text": ""
         },
         "zerolinecolor": "#E1E5ED"
        }
       }
      },
      "text/html": [
       "<div>\n",
       "        \n",
       "        \n",
       "            <div id=\"3a11cff8-862f-48cf-967f-8b7e76751e85\" class=\"plotly-graph-div\" style=\"height:525px; width:100%;\"></div>\n",
       "            <script type=\"text/javascript\">\n",
       "                require([\"plotly\"], function(Plotly) {\n",
       "                    window.PLOTLYENV=window.PLOTLYENV || {};\n",
       "                    window.PLOTLYENV.BASE_URL='https://plot.ly';\n",
       "                    \n",
       "                if (document.getElementById(\"3a11cff8-862f-48cf-967f-8b7e76751e85\")) {\n",
       "                    Plotly.newPlot(\n",
       "                        '3a11cff8-862f-48cf-967f-8b7e76751e85',\n",
       "                        [{\"boxpoints\": false, \"line\": {\"width\": 1.3}, \"marker\": {\"color\": \"rgba(255, 153, 51, 1.0)\"}, \"name\": \"A\", \"orientation\": \"v\", \"type\": \"box\", \"y\": [0.3705878037577684, -0.6678339547302442, 1.1380918556405002, -0.675580051894025, 1.7262495731372611, -0.7346738962061609, -0.9562145225408256, 0.025148520483188185, -0.11730817837083653, -0.8875635029726676, 0.7878568424078434, 1.1653202219069316, 1.2937559144192385, -1.0658594627738625, -0.09260441995537765, -0.5159981219517672, -0.8327586860733873, -1.3749779091900383, 0.42018431850196075, 0.14709265072578784, 0.25214049237485664, -0.18919730285638245, -2.718182630893289, -2.4871101190238996, -1.0215669673578682, 0.24635506388134681, -0.10770573439041783, 0.3557554224870404, 0.031566456058262665, 0.1700452202575896, -0.9575259626465774, -0.21532599451762865, 0.5236647751886957, 1.94221152756419, 1.0739362417570109, 0.08712867977911695, -0.37107368322293466, -1.1447478368070039, 2.129917673232524, -0.9693582650304164, -0.1869513636704791, 2.2092637073763917, 1.488229125167454, 2.214050967163112, 0.6384413413698313, -1.9283759167143864, -0.4511610664062786, -0.06721145376013846, -1.8119277914008352, -0.6415871282167186, -0.09212605207912067, -0.11015367934595786, -0.2885730054311169, 0.17257802683078483, -0.34532000564412413, -0.12995888586272972, -0.4377511993519691, -1.876492612806514, -1.718838915583185, 0.0936799439467252, 0.47001537739454224, -2.8410006043336353, 1.704730125268345, 0.20259501783314926, -0.4206312134987387, 0.839068083396662, -0.5043104052179739, 0.4731676005007791, 0.19311114687310646, 0.4716117801712886, 1.8908763742207517, -1.334644125974962, -0.11766425437807593, 1.6565164720427392, -1.5568524437600175, -0.5680816820553658, -0.5344358887477514, 0.1900277548085487, 0.7565155724048774, 1.9865304358054405, -0.3281632782126243, -2.127189864605686, -0.39679487724212614, -0.3050622209272501, -1.2578147927340104, -0.17726760140269482, -1.5401904883006807, -0.5614175852880462, -1.967164616628011, -0.38255077923662584, 1.1503595634830022, 0.2576042608917582, 1.2135540045813504, -0.4161542112158181, 2.1297943647777084, 1.3264977923735735, -0.4404670901208818, 0.48124473164937726, 0.5839900293237509, 1.076803896700854]}, {\"boxpoints\": false, \"line\": {\"width\": 1.3}, \"marker\": {\"color\": \"rgba(55, 128, 191, 1.0)\"}, \"name\": \"B\", \"orientation\": \"v\", \"type\": \"box\", \"y\": [-0.9026182879513235, -0.8429681388249898, 0.9540726979032438, -0.23251275860498477, 0.34349554969697677, -0.6219462410445961, -2.0006622694901433, 1.2051941291240547, -0.13994760501934572, 1.4084984797743516, -1.4406185815567676, 2.203571063939216, -0.7573170225475241, -1.3938894902922006, -1.5080691322024262, -0.14327068342977814, 0.037417546547547115, 1.6462587562862911, -0.09803460519806916, -0.14996665115790409, 0.21163564577514976, 1.0263341563855668, -2.1541928508243413, 0.5266668698269917, -1.55295581817936, -0.1945656521063503, 0.4888954405211421, -1.0860016057795432, 0.6863853333595958, 1.5301495976534594, 0.9766721778910605, 1.336524835836653, -1.2007448477602651, 0.06634015015393542, 1.2366217573413492, -0.8777425551106883, 0.6838574049901874, 1.4325415795887664, -0.9916589198409315, -1.4400899617991463, -1.2559540357374495, 0.6110065450279094, -1.0390703837403927, 0.7226262599610198, -2.676636290627523, -0.7200323899747009, 0.0773058348349942, -1.123920139622418, -1.5943451488747178, 0.09570172620242262, 0.031109758935364544, 0.5486092430934341, -0.9783856846534326, -0.37782591930038695, 2.04289799639152, 2.695461751334061, 0.42866956560443514, 0.06570107039637005, 0.3406308372199238, -0.13963619271339842, 2.08286852359131, -1.2438740075995987, -1.0244756191667646, -1.218721967500244, -0.574858657178294, 2.92238752045327, 0.49989326896154135, -1.228574562429567, 0.96213081663357, -1.7825877071155352, -0.8255838017224469, -0.2647822588269775, 1.3393791985468635, -0.39866530169448894, 0.7530286903232385, 0.702494600097855, -2.9359052065235454, 1.737741342697497, -0.27851189827084305, 2.519831534981045, 0.9039598139975631, -0.11495144416259331, 1.7927453018094415, 1.0292143655851063, 0.9950063877604468, 0.7302318326789189, -1.0215696369523628, 0.3528032997113076, -1.5412449038618279, -0.5806327163073665, 0.5350868251094306, -1.6961570456962733, 0.5796026289085382, -0.30485897618670443, -1.6535985994040143, 1.0991402504723242, 0.5477912575339169, -1.6636610596560424, 0.48997625929201616, -2.015300619743853]}, {\"boxpoints\": false, \"line\": {\"width\": 1.3}, \"marker\": {\"color\": \"rgba(50, 171, 96, 1.0)\"}, \"name\": \"C\", \"orientation\": \"v\", \"type\": \"box\", \"y\": [-0.5998922748226837, 1.0401232639605857, -1.3701390540574003, 0.307367401403588, -1.0799042915348378, -0.9813177044008539, 0.4770731548160624, -0.5826732258653297, -0.6035195659833387, -0.0258865493970227, -0.8230608255643124, 1.6943105314625253, -0.9563104649466695, 1.4177953890193729, 1.6273911971295223, -0.2578227224315953, 0.26004100762205856, -1.697537184922374, -0.3812906397479519, 0.1722461009838956, -0.4556650197368004, -2.495653667611221, 1.097080665209218, -0.13077845197865856, 1.1074694634752067, -1.7294470216683682, -0.26705895882833, 0.3251636428314838, 0.5361169732425961, 1.589969134302654, -0.15735546537356165, -0.7995419169077077, 1.8376619277966697, -0.15187825852893375, 0.04374985851141635, -0.23823958694361272, 0.764467916710477, -0.7554188593905685, 0.6921743026950641, 0.03290908332584349, 2.0433745991251198, 0.6102966937575419, -0.17802755313353924, 0.8218065247920904, 0.12142670746890857, 0.09815011007935072, -0.29780293511282513, -0.4526326974716961, -0.12252382350765847, -0.7900818595884559, -1.1008843446675154, -0.07630183113288294, 0.2802494823029372, 1.0161020693800689, -0.071570854643028, -0.5531877476244556, -1.9807446325723932, -0.8091256988385362, -1.7009786854539621, 0.24777396683941133, -0.2699730156670374, 0.7299970552803603, -0.556742101854421, -1.6052585106866015, -0.7802709940324564, 1.0178771189571585, 0.3065709276649882, -1.3304863582651418, -0.2865475537453356, 0.9070300290159293, 0.4843256513077551, 0.17691226867134244, -0.609623055568708, -1.0861291448568933, 0.7194756521047455, 0.6065091377263108, 0.33760317323029176, 0.39774407638368164, -0.7590447844571399, 0.8520210686986877, 0.44533746837968435, 0.4507753644951477, -1.088986892953632, 0.4693496772868247, 1.0556025178684072, -1.4878323098061323, 1.3625106657117196, -1.8917699176948377, 0.4095272296787832, -0.9221182812831743, -1.4542834127024287, -0.18464768530778417, 1.0959242606698392, -0.8935725350190782, 1.4342173284967896, 1.8371179074984076, -0.5299449866725706, 1.2646796592685872, 1.3239105830431595, 0.6861574912304074]}, {\"boxpoints\": false, \"line\": {\"width\": 1.3}, \"marker\": {\"color\": \"rgba(128, 0, 128, 1.0)\"}, \"name\": \"D\", \"orientation\": \"v\", \"type\": \"box\", \"y\": [-0.3484290193324681, 1.2493318120026027, 0.6195953989316635, -0.10007648659084645, -0.848659613914679, -1.2072222170818043, 0.1331176062784441, -0.01646742972146636, -0.37225133150837864, 0.11229352710673653, 0.6366971125581358, 1.545579307785409, 0.15580916850848148, -0.3314672607660011, 0.7929866166535395, 0.8941052725838416, -0.14329935045522949, 1.3196350077045846, -0.096788026963216, -0.8346083847204316, 1.2032145169230912, -0.38071240368744474, -0.3098611358309325, -1.736361585718667, -2.1199279881649593, -1.5794355446796786, -1.2791643506642554, -1.4992239299870747, -0.03425548013030693, -0.1206142170620143, 0.3451768520894632, 0.6844729058258141, -0.8376759964545056, 1.241591779090792, -1.3881052068053508, 1.1012224452147994, -1.0975287473015383, 0.5041699155349165, 0.7160675347296979, -1.2093109533153736, -0.24711334829147724, -0.5889737991894741, -0.5366652084809301, 0.3310628341514247, 0.06631259446541207, -0.28759721211797773, -1.1155536161178887, -0.11610402773542693, -0.4429351529770189, 1.4270945875382393, 0.6491689023501485, 0.4883187223682674, 0.14973969661131312, 1.3875615203236902, 0.035749576155775536, 0.17155751012655765, -0.08973447587317929, 0.6232701155816891, -0.34499518674366153, -2.1703151733281087, 0.1797106006356278, -0.9074164273981294, -0.531983574715416, -0.8338018217815336, -0.7465538070712631, 0.3789556341758663, 3.075277236055962, -0.19053133737678485, 0.8643667689060618, 2.4980523172364046, -0.04232670805240006, 1.2480572144201294, 1.541103715916894, -1.7373434081652341, 1.4565399138714257, -0.4710155743441887, 0.6801057596111969, 0.18764949278207416, 0.4735916382674086, -3.356995673638782, -0.3019626812744328, -2.2403559426949933, -1.6319267400086224, 0.8824560086615363, 1.1468628425988923, -0.53925633992263, -0.1995850040866459, 0.005847650698243115, 2.410480925201785, -0.44772196459658326, -1.6552711703176686, -0.23346162577694834, -0.06260196282696313, -0.4749436357111602, -1.587230525836392, 0.46603024198579857, -0.003303137021653763, -0.6821232266716004, 0.8182169465651061, -0.6364533045515591]}],\n",
       "                        {\"legend\": {\"bgcolor\": \"#F5F6F9\", \"font\": {\"color\": \"#4D5663\"}}, \"paper_bgcolor\": \"#F5F6F9\", \"plot_bgcolor\": \"#F5F6F9\", \"template\": {\"data\": {\"bar\": [{\"error_x\": {\"color\": \"#2a3f5f\"}, \"error_y\": {\"color\": \"#2a3f5f\"}, \"marker\": {\"line\": {\"color\": \"#E5ECF6\", \"width\": 0.5}}, \"type\": \"bar\"}], \"barpolar\": [{\"marker\": {\"line\": {\"color\": \"#E5ECF6\", \"width\": 0.5}}, \"type\": \"barpolar\"}], \"carpet\": [{\"aaxis\": {\"endlinecolor\": \"#2a3f5f\", \"gridcolor\": \"white\", \"linecolor\": \"white\", \"minorgridcolor\": \"white\", \"startlinecolor\": \"#2a3f5f\"}, \"baxis\": {\"endlinecolor\": \"#2a3f5f\", \"gridcolor\": \"white\", \"linecolor\": \"white\", \"minorgridcolor\": \"white\", \"startlinecolor\": \"#2a3f5f\"}, \"type\": \"carpet\"}], \"choropleth\": [{\"colorbar\": {\"outlinewidth\": 0, \"ticks\": \"\"}, \"type\": \"choropleth\"}], \"contour\": [{\"colorbar\": {\"outlinewidth\": 0, \"ticks\": \"\"}, \"colorscale\": [[0.0, \"#0d0887\"], [0.1111111111111111, \"#46039f\"], [0.2222222222222222, \"#7201a8\"], [0.3333333333333333, \"#9c179e\"], [0.4444444444444444, \"#bd3786\"], [0.5555555555555556, \"#d8576b\"], [0.6666666666666666, \"#ed7953\"], [0.7777777777777778, \"#fb9f3a\"], [0.8888888888888888, \"#fdca26\"], [1.0, \"#f0f921\"]], \"type\": \"contour\"}], \"contourcarpet\": [{\"colorbar\": {\"outlinewidth\": 0, \"ticks\": \"\"}, \"type\": \"contourcarpet\"}], \"heatmap\": [{\"colorbar\": {\"outlinewidth\": 0, \"ticks\": \"\"}, \"colorscale\": [[0.0, \"#0d0887\"], [0.1111111111111111, \"#46039f\"], [0.2222222222222222, \"#7201a8\"], [0.3333333333333333, \"#9c179e\"], [0.4444444444444444, \"#bd3786\"], [0.5555555555555556, \"#d8576b\"], [0.6666666666666666, \"#ed7953\"], [0.7777777777777778, \"#fb9f3a\"], [0.8888888888888888, \"#fdca26\"], [1.0, \"#f0f921\"]], \"type\": \"heatmap\"}], \"heatmapgl\": [{\"colorbar\": {\"outlinewidth\": 0, \"ticks\": \"\"}, \"colorscale\": [[0.0, \"#0d0887\"], [0.1111111111111111, \"#46039f\"], [0.2222222222222222, \"#7201a8\"], [0.3333333333333333, \"#9c179e\"], [0.4444444444444444, \"#bd3786\"], [0.5555555555555556, \"#d8576b\"], [0.6666666666666666, \"#ed7953\"], [0.7777777777777778, \"#fb9f3a\"], [0.8888888888888888, \"#fdca26\"], [1.0, \"#f0f921\"]], \"type\": \"heatmapgl\"}], \"histogram\": [{\"marker\": {\"colorbar\": {\"outlinewidth\": 0, \"ticks\": \"\"}}, \"type\": \"histogram\"}], \"histogram2d\": [{\"colorbar\": {\"outlinewidth\": 0, \"ticks\": \"\"}, \"colorscale\": [[0.0, \"#0d0887\"], [0.1111111111111111, \"#46039f\"], [0.2222222222222222, \"#7201a8\"], [0.3333333333333333, \"#9c179e\"], [0.4444444444444444, \"#bd3786\"], [0.5555555555555556, \"#d8576b\"], [0.6666666666666666, \"#ed7953\"], [0.7777777777777778, \"#fb9f3a\"], [0.8888888888888888, \"#fdca26\"], [1.0, \"#f0f921\"]], \"type\": \"histogram2d\"}], \"histogram2dcontour\": [{\"colorbar\": {\"outlinewidth\": 0, \"ticks\": \"\"}, \"colorscale\": [[0.0, \"#0d0887\"], [0.1111111111111111, \"#46039f\"], [0.2222222222222222, \"#7201a8\"], [0.3333333333333333, \"#9c179e\"], [0.4444444444444444, \"#bd3786\"], [0.5555555555555556, \"#d8576b\"], [0.6666666666666666, \"#ed7953\"], [0.7777777777777778, \"#fb9f3a\"], [0.8888888888888888, \"#fdca26\"], [1.0, \"#f0f921\"]], \"type\": \"histogram2dcontour\"}], \"mesh3d\": [{\"colorbar\": {\"outlinewidth\": 0, \"ticks\": \"\"}, \"type\": \"mesh3d\"}], \"parcoords\": [{\"line\": {\"colorbar\": {\"outlinewidth\": 0, \"ticks\": \"\"}}, \"type\": \"parcoords\"}], \"pie\": [{\"automargin\": true, \"type\": \"pie\"}], \"scatter\": [{\"marker\": {\"colorbar\": {\"outlinewidth\": 0, \"ticks\": \"\"}}, \"type\": \"scatter\"}], \"scatter3d\": [{\"line\": {\"colorbar\": {\"outlinewidth\": 0, \"ticks\": \"\"}}, \"marker\": {\"colorbar\": {\"outlinewidth\": 0, \"ticks\": \"\"}}, \"type\": \"scatter3d\"}], \"scattercarpet\": [{\"marker\": {\"colorbar\": {\"outlinewidth\": 0, \"ticks\": \"\"}}, \"type\": \"scattercarpet\"}], \"scattergeo\": [{\"marker\": {\"colorbar\": {\"outlinewidth\": 0, \"ticks\": \"\"}}, \"type\": \"scattergeo\"}], \"scattergl\": [{\"marker\": {\"colorbar\": {\"outlinewidth\": 0, \"ticks\": \"\"}}, \"type\": \"scattergl\"}], \"scattermapbox\": [{\"marker\": {\"colorbar\": {\"outlinewidth\": 0, \"ticks\": \"\"}}, \"type\": \"scattermapbox\"}], \"scatterpolar\": [{\"marker\": {\"colorbar\": {\"outlinewidth\": 0, \"ticks\": \"\"}}, \"type\": \"scatterpolar\"}], \"scatterpolargl\": [{\"marker\": {\"colorbar\": {\"outlinewidth\": 0, \"ticks\": \"\"}}, \"type\": \"scatterpolargl\"}], \"scatterternary\": [{\"marker\": {\"colorbar\": {\"outlinewidth\": 0, \"ticks\": \"\"}}, \"type\": \"scatterternary\"}], \"surface\": [{\"colorbar\": {\"outlinewidth\": 0, \"ticks\": \"\"}, \"colorscale\": [[0.0, \"#0d0887\"], [0.1111111111111111, \"#46039f\"], [0.2222222222222222, \"#7201a8\"], [0.3333333333333333, \"#9c179e\"], [0.4444444444444444, \"#bd3786\"], [0.5555555555555556, \"#d8576b\"], [0.6666666666666666, \"#ed7953\"], [0.7777777777777778, \"#fb9f3a\"], [0.8888888888888888, \"#fdca26\"], [1.0, \"#f0f921\"]], \"type\": \"surface\"}], \"table\": [{\"cells\": {\"fill\": {\"color\": \"#EBF0F8\"}, \"line\": {\"color\": \"white\"}}, \"header\": {\"fill\": {\"color\": \"#C8D4E3\"}, \"line\": {\"color\": \"white\"}}, \"type\": \"table\"}]}, \"layout\": {\"annotationdefaults\": {\"arrowcolor\": \"#2a3f5f\", \"arrowhead\": 0, \"arrowwidth\": 1}, \"coloraxis\": {\"colorbar\": {\"outlinewidth\": 0, \"ticks\": \"\"}}, \"colorscale\": {\"diverging\": [[0, \"#8e0152\"], [0.1, \"#c51b7d\"], [0.2, \"#de77ae\"], [0.3, \"#f1b6da\"], [0.4, \"#fde0ef\"], [0.5, \"#f7f7f7\"], [0.6, \"#e6f5d0\"], [0.7, \"#b8e186\"], [0.8, \"#7fbc41\"], [0.9, \"#4d9221\"], [1, \"#276419\"]], \"sequential\": [[0.0, \"#0d0887\"], [0.1111111111111111, \"#46039f\"], [0.2222222222222222, \"#7201a8\"], [0.3333333333333333, \"#9c179e\"], [0.4444444444444444, \"#bd3786\"], [0.5555555555555556, \"#d8576b\"], [0.6666666666666666, \"#ed7953\"], [0.7777777777777778, \"#fb9f3a\"], [0.8888888888888888, \"#fdca26\"], [1.0, \"#f0f921\"]], \"sequentialminus\": [[0.0, \"#0d0887\"], [0.1111111111111111, \"#46039f\"], [0.2222222222222222, \"#7201a8\"], [0.3333333333333333, \"#9c179e\"], [0.4444444444444444, \"#bd3786\"], [0.5555555555555556, \"#d8576b\"], [0.6666666666666666, \"#ed7953\"], [0.7777777777777778, \"#fb9f3a\"], [0.8888888888888888, \"#fdca26\"], [1.0, \"#f0f921\"]]}, \"colorway\": [\"#636efa\", \"#EF553B\", \"#00cc96\", \"#ab63fa\", \"#FFA15A\", \"#19d3f3\", \"#FF6692\", \"#B6E880\", \"#FF97FF\", \"#FECB52\"], \"font\": {\"color\": \"#2a3f5f\"}, \"geo\": {\"bgcolor\": \"white\", \"lakecolor\": \"white\", \"landcolor\": \"#E5ECF6\", \"showlakes\": true, \"showland\": true, \"subunitcolor\": \"white\"}, \"hoverlabel\": {\"align\": \"left\"}, \"hovermode\": \"closest\", \"mapbox\": {\"style\": \"light\"}, \"paper_bgcolor\": \"white\", \"plot_bgcolor\": \"#E5ECF6\", \"polar\": {\"angularaxis\": {\"gridcolor\": \"white\", \"linecolor\": \"white\", \"ticks\": \"\"}, \"bgcolor\": \"#E5ECF6\", \"radialaxis\": {\"gridcolor\": \"white\", \"linecolor\": \"white\", \"ticks\": \"\"}}, \"scene\": {\"xaxis\": {\"backgroundcolor\": \"#E5ECF6\", \"gridcolor\": \"white\", \"gridwidth\": 2, \"linecolor\": \"white\", \"showbackground\": true, \"ticks\": \"\", \"zerolinecolor\": \"white\"}, \"yaxis\": {\"backgroundcolor\": \"#E5ECF6\", \"gridcolor\": \"white\", \"gridwidth\": 2, \"linecolor\": \"white\", \"showbackground\": true, \"ticks\": \"\", \"zerolinecolor\": \"white\"}, \"zaxis\": {\"backgroundcolor\": \"#E5ECF6\", \"gridcolor\": \"white\", \"gridwidth\": 2, \"linecolor\": \"white\", \"showbackground\": true, \"ticks\": \"\", \"zerolinecolor\": \"white\"}}, \"shapedefaults\": {\"line\": {\"color\": \"#2a3f5f\"}}, \"ternary\": {\"aaxis\": {\"gridcolor\": \"white\", \"linecolor\": \"white\", \"ticks\": \"\"}, \"baxis\": {\"gridcolor\": \"white\", \"linecolor\": \"white\", \"ticks\": \"\"}, \"bgcolor\": \"#E5ECF6\", \"caxis\": {\"gridcolor\": \"white\", \"linecolor\": \"white\", \"ticks\": \"\"}}, \"title\": {\"x\": 0.05}, \"xaxis\": {\"automargin\": true, \"gridcolor\": \"white\", \"linecolor\": \"white\", \"ticks\": \"\", \"title\": {\"standoff\": 15}, \"zerolinecolor\": \"white\", \"zerolinewidth\": 2}, \"yaxis\": {\"automargin\": true, \"gridcolor\": \"white\", \"linecolor\": \"white\", \"ticks\": \"\", \"title\": {\"standoff\": 15}, \"zerolinecolor\": \"white\", \"zerolinewidth\": 2}}}, \"title\": {\"font\": {\"color\": \"#4D5663\"}}, \"xaxis\": {\"gridcolor\": \"#E1E5ED\", \"showgrid\": true, \"tickfont\": {\"color\": \"#4D5663\"}, \"title\": {\"font\": {\"color\": \"#4D5663\"}, \"text\": \"\"}, \"zerolinecolor\": \"#E1E5ED\"}, \"yaxis\": {\"gridcolor\": \"#E1E5ED\", \"showgrid\": true, \"tickfont\": {\"color\": \"#4D5663\"}, \"title\": {\"font\": {\"color\": \"#4D5663\"}, \"text\": \"\"}, \"zerolinecolor\": \"#E1E5ED\"}},\n",
       "                        {\"showLink\": true, \"linkText\": \"Export to plot.ly\", \"plotlyServerURL\": \"https://plot.ly\", \"responsive\": true}\n",
       "                    ).then(function(){\n",
       "                            \n",
       "var gd = document.getElementById('3a11cff8-862f-48cf-967f-8b7e76751e85');\n",
       "var x = new MutationObserver(function (mutations, observer) {{\n",
       "        var display = window.getComputedStyle(gd).display;\n",
       "        if (!display || display === 'none') {{\n",
       "            console.log([gd, 'removed!']);\n",
       "            Plotly.purge(gd);\n",
       "            observer.disconnect();\n",
       "        }}\n",
       "}});\n",
       "\n",
       "// Listen for the removal of the full notebook cells\n",
       "var notebookContainer = gd.closest('#notebook-container');\n",
       "if (notebookContainer) {{\n",
       "    x.observe(notebookContainer, {childList: true});\n",
       "}}\n",
       "\n",
       "// Listen for the clearing of the current output cell\n",
       "var outputEl = gd.closest('.output');\n",
       "if (outputEl) {{\n",
       "    x.observe(outputEl, {childList: true});\n",
       "}}\n",
       "\n",
       "                        })\n",
       "                };\n",
       "                });\n",
       "            </script>\n",
       "        </div>"
      ]
     },
     "metadata": {},
     "output_type": "display_data"
    }
   ],
   "source": [
    "df.iplot(kind='box')"
   ]
  },
  {
   "cell_type": "markdown",
   "metadata": {},
   "source": [
    "## 3d Surface"
   ]
  },
  {
   "cell_type": "code",
   "execution_count": 16,
   "metadata": {},
   "outputs": [
    {
     "data": {
      "application/vnd.plotly.v1+json": {
       "config": {
        "linkText": "Export to plot.ly",
        "plotlyServerURL": "https://plot.ly",
        "showLink": true
       },
       "data": [
        {
         "colorscale": [
          [
           0,
           "rgb(165,0,38)"
          ],
          [
           0.1,
           "rgb(215,48,39)"
          ],
          [
           0.2,
           "rgb(244,109,67)"
          ],
          [
           0.3,
           "rgb(253,174,97)"
          ],
          [
           0.4,
           "rgb(254,224,144)"
          ],
          [
           0.5,
           "rgb(255,255,191)"
          ],
          [
           0.6,
           "rgb(224,243,248)"
          ],
          [
           0.7,
           "rgb(171,217,233)"
          ],
          [
           0.8,
           "rgb(116,173,209)"
          ],
          [
           0.9,
           "rgb(69,117,180)"
          ],
          [
           1,
           "rgb(49,54,149)"
          ]
         ],
         "type": "surface",
         "x": [
          0,
          1,
          2,
          3,
          4
         ],
         "y": [
          "x",
          "y",
          "z"
         ],
         "z": [
          [
           1,
           2,
           3,
           4,
           5
          ],
          [
           10,
           20,
           30,
           20,
           10
          ],
          [
           5,
           4,
           3,
           2,
           1
          ]
         ]
        }
       ],
       "layout": {
        "legend": {
         "bgcolor": "#F5F6F9",
         "font": {
          "color": "#4D5663"
         }
        },
        "paper_bgcolor": "#F5F6F9",
        "plot_bgcolor": "#F5F6F9",
        "template": {
         "data": {
          "bar": [
           {
            "error_x": {
             "color": "#2a3f5f"
            },
            "error_y": {
             "color": "#2a3f5f"
            },
            "marker": {
             "line": {
              "color": "#E5ECF6",
              "width": 0.5
             }
            },
            "type": "bar"
           }
          ],
          "barpolar": [
           {
            "marker": {
             "line": {
              "color": "#E5ECF6",
              "width": 0.5
             }
            },
            "type": "barpolar"
           }
          ],
          "carpet": [
           {
            "aaxis": {
             "endlinecolor": "#2a3f5f",
             "gridcolor": "white",
             "linecolor": "white",
             "minorgridcolor": "white",
             "startlinecolor": "#2a3f5f"
            },
            "baxis": {
             "endlinecolor": "#2a3f5f",
             "gridcolor": "white",
             "linecolor": "white",
             "minorgridcolor": "white",
             "startlinecolor": "#2a3f5f"
            },
            "type": "carpet"
           }
          ],
          "choropleth": [
           {
            "colorbar": {
             "outlinewidth": 0,
             "ticks": ""
            },
            "type": "choropleth"
           }
          ],
          "contour": [
           {
            "colorbar": {
             "outlinewidth": 0,
             "ticks": ""
            },
            "colorscale": [
             [
              0,
              "#0d0887"
             ],
             [
              0.1111111111111111,
              "#46039f"
             ],
             [
              0.2222222222222222,
              "#7201a8"
             ],
             [
              0.3333333333333333,
              "#9c179e"
             ],
             [
              0.4444444444444444,
              "#bd3786"
             ],
             [
              0.5555555555555556,
              "#d8576b"
             ],
             [
              0.6666666666666666,
              "#ed7953"
             ],
             [
              0.7777777777777778,
              "#fb9f3a"
             ],
             [
              0.8888888888888888,
              "#fdca26"
             ],
             [
              1,
              "#f0f921"
             ]
            ],
            "type": "contour"
           }
          ],
          "contourcarpet": [
           {
            "colorbar": {
             "outlinewidth": 0,
             "ticks": ""
            },
            "type": "contourcarpet"
           }
          ],
          "heatmap": [
           {
            "colorbar": {
             "outlinewidth": 0,
             "ticks": ""
            },
            "colorscale": [
             [
              0,
              "#0d0887"
             ],
             [
              0.1111111111111111,
              "#46039f"
             ],
             [
              0.2222222222222222,
              "#7201a8"
             ],
             [
              0.3333333333333333,
              "#9c179e"
             ],
             [
              0.4444444444444444,
              "#bd3786"
             ],
             [
              0.5555555555555556,
              "#d8576b"
             ],
             [
              0.6666666666666666,
              "#ed7953"
             ],
             [
              0.7777777777777778,
              "#fb9f3a"
             ],
             [
              0.8888888888888888,
              "#fdca26"
             ],
             [
              1,
              "#f0f921"
             ]
            ],
            "type": "heatmap"
           }
          ],
          "heatmapgl": [
           {
            "colorbar": {
             "outlinewidth": 0,
             "ticks": ""
            },
            "colorscale": [
             [
              0,
              "#0d0887"
             ],
             [
              0.1111111111111111,
              "#46039f"
             ],
             [
              0.2222222222222222,
              "#7201a8"
             ],
             [
              0.3333333333333333,
              "#9c179e"
             ],
             [
              0.4444444444444444,
              "#bd3786"
             ],
             [
              0.5555555555555556,
              "#d8576b"
             ],
             [
              0.6666666666666666,
              "#ed7953"
             ],
             [
              0.7777777777777778,
              "#fb9f3a"
             ],
             [
              0.8888888888888888,
              "#fdca26"
             ],
             [
              1,
              "#f0f921"
             ]
            ],
            "type": "heatmapgl"
           }
          ],
          "histogram": [
           {
            "marker": {
             "colorbar": {
              "outlinewidth": 0,
              "ticks": ""
             }
            },
            "type": "histogram"
           }
          ],
          "histogram2d": [
           {
            "colorbar": {
             "outlinewidth": 0,
             "ticks": ""
            },
            "colorscale": [
             [
              0,
              "#0d0887"
             ],
             [
              0.1111111111111111,
              "#46039f"
             ],
             [
              0.2222222222222222,
              "#7201a8"
             ],
             [
              0.3333333333333333,
              "#9c179e"
             ],
             [
              0.4444444444444444,
              "#bd3786"
             ],
             [
              0.5555555555555556,
              "#d8576b"
             ],
             [
              0.6666666666666666,
              "#ed7953"
             ],
             [
              0.7777777777777778,
              "#fb9f3a"
             ],
             [
              0.8888888888888888,
              "#fdca26"
             ],
             [
              1,
              "#f0f921"
             ]
            ],
            "type": "histogram2d"
           }
          ],
          "histogram2dcontour": [
           {
            "colorbar": {
             "outlinewidth": 0,
             "ticks": ""
            },
            "colorscale": [
             [
              0,
              "#0d0887"
             ],
             [
              0.1111111111111111,
              "#46039f"
             ],
             [
              0.2222222222222222,
              "#7201a8"
             ],
             [
              0.3333333333333333,
              "#9c179e"
             ],
             [
              0.4444444444444444,
              "#bd3786"
             ],
             [
              0.5555555555555556,
              "#d8576b"
             ],
             [
              0.6666666666666666,
              "#ed7953"
             ],
             [
              0.7777777777777778,
              "#fb9f3a"
             ],
             [
              0.8888888888888888,
              "#fdca26"
             ],
             [
              1,
              "#f0f921"
             ]
            ],
            "type": "histogram2dcontour"
           }
          ],
          "mesh3d": [
           {
            "colorbar": {
             "outlinewidth": 0,
             "ticks": ""
            },
            "type": "mesh3d"
           }
          ],
          "parcoords": [
           {
            "line": {
             "colorbar": {
              "outlinewidth": 0,
              "ticks": ""
             }
            },
            "type": "parcoords"
           }
          ],
          "pie": [
           {
            "automargin": true,
            "type": "pie"
           }
          ],
          "scatter": [
           {
            "marker": {
             "colorbar": {
              "outlinewidth": 0,
              "ticks": ""
             }
            },
            "type": "scatter"
           }
          ],
          "scatter3d": [
           {
            "line": {
             "colorbar": {
              "outlinewidth": 0,
              "ticks": ""
             }
            },
            "marker": {
             "colorbar": {
              "outlinewidth": 0,
              "ticks": ""
             }
            },
            "type": "scatter3d"
           }
          ],
          "scattercarpet": [
           {
            "marker": {
             "colorbar": {
              "outlinewidth": 0,
              "ticks": ""
             }
            },
            "type": "scattercarpet"
           }
          ],
          "scattergeo": [
           {
            "marker": {
             "colorbar": {
              "outlinewidth": 0,
              "ticks": ""
             }
            },
            "type": "scattergeo"
           }
          ],
          "scattergl": [
           {
            "marker": {
             "colorbar": {
              "outlinewidth": 0,
              "ticks": ""
             }
            },
            "type": "scattergl"
           }
          ],
          "scattermapbox": [
           {
            "marker": {
             "colorbar": {
              "outlinewidth": 0,
              "ticks": ""
             }
            },
            "type": "scattermapbox"
           }
          ],
          "scatterpolar": [
           {
            "marker": {
             "colorbar": {
              "outlinewidth": 0,
              "ticks": ""
             }
            },
            "type": "scatterpolar"
           }
          ],
          "scatterpolargl": [
           {
            "marker": {
             "colorbar": {
              "outlinewidth": 0,
              "ticks": ""
             }
            },
            "type": "scatterpolargl"
           }
          ],
          "scatterternary": [
           {
            "marker": {
             "colorbar": {
              "outlinewidth": 0,
              "ticks": ""
             }
            },
            "type": "scatterternary"
           }
          ],
          "surface": [
           {
            "colorbar": {
             "outlinewidth": 0,
             "ticks": ""
            },
            "colorscale": [
             [
              0,
              "#0d0887"
             ],
             [
              0.1111111111111111,
              "#46039f"
             ],
             [
              0.2222222222222222,
              "#7201a8"
             ],
             [
              0.3333333333333333,
              "#9c179e"
             ],
             [
              0.4444444444444444,
              "#bd3786"
             ],
             [
              0.5555555555555556,
              "#d8576b"
             ],
             [
              0.6666666666666666,
              "#ed7953"
             ],
             [
              0.7777777777777778,
              "#fb9f3a"
             ],
             [
              0.8888888888888888,
              "#fdca26"
             ],
             [
              1,
              "#f0f921"
             ]
            ],
            "type": "surface"
           }
          ],
          "table": [
           {
            "cells": {
             "fill": {
              "color": "#EBF0F8"
             },
             "line": {
              "color": "white"
             }
            },
            "header": {
             "fill": {
              "color": "#C8D4E3"
             },
             "line": {
              "color": "white"
             }
            },
            "type": "table"
           }
          ]
         },
         "layout": {
          "annotationdefaults": {
           "arrowcolor": "#2a3f5f",
           "arrowhead": 0,
           "arrowwidth": 1
          },
          "coloraxis": {
           "colorbar": {
            "outlinewidth": 0,
            "ticks": ""
           }
          },
          "colorscale": {
           "diverging": [
            [
             0,
             "#8e0152"
            ],
            [
             0.1,
             "#c51b7d"
            ],
            [
             0.2,
             "#de77ae"
            ],
            [
             0.3,
             "#f1b6da"
            ],
            [
             0.4,
             "#fde0ef"
            ],
            [
             0.5,
             "#f7f7f7"
            ],
            [
             0.6,
             "#e6f5d0"
            ],
            [
             0.7,
             "#b8e186"
            ],
            [
             0.8,
             "#7fbc41"
            ],
            [
             0.9,
             "#4d9221"
            ],
            [
             1,
             "#276419"
            ]
           ],
           "sequential": [
            [
             0,
             "#0d0887"
            ],
            [
             0.1111111111111111,
             "#46039f"
            ],
            [
             0.2222222222222222,
             "#7201a8"
            ],
            [
             0.3333333333333333,
             "#9c179e"
            ],
            [
             0.4444444444444444,
             "#bd3786"
            ],
            [
             0.5555555555555556,
             "#d8576b"
            ],
            [
             0.6666666666666666,
             "#ed7953"
            ],
            [
             0.7777777777777778,
             "#fb9f3a"
            ],
            [
             0.8888888888888888,
             "#fdca26"
            ],
            [
             1,
             "#f0f921"
            ]
           ],
           "sequentialminus": [
            [
             0,
             "#0d0887"
            ],
            [
             0.1111111111111111,
             "#46039f"
            ],
            [
             0.2222222222222222,
             "#7201a8"
            ],
            [
             0.3333333333333333,
             "#9c179e"
            ],
            [
             0.4444444444444444,
             "#bd3786"
            ],
            [
             0.5555555555555556,
             "#d8576b"
            ],
            [
             0.6666666666666666,
             "#ed7953"
            ],
            [
             0.7777777777777778,
             "#fb9f3a"
            ],
            [
             0.8888888888888888,
             "#fdca26"
            ],
            [
             1,
             "#f0f921"
            ]
           ]
          },
          "colorway": [
           "#636efa",
           "#EF553B",
           "#00cc96",
           "#ab63fa",
           "#FFA15A",
           "#19d3f3",
           "#FF6692",
           "#B6E880",
           "#FF97FF",
           "#FECB52"
          ],
          "font": {
           "color": "#2a3f5f"
          },
          "geo": {
           "bgcolor": "white",
           "lakecolor": "white",
           "landcolor": "#E5ECF6",
           "showlakes": true,
           "showland": true,
           "subunitcolor": "white"
          },
          "hoverlabel": {
           "align": "left"
          },
          "hovermode": "closest",
          "mapbox": {
           "style": "light"
          },
          "paper_bgcolor": "white",
          "plot_bgcolor": "#E5ECF6",
          "polar": {
           "angularaxis": {
            "gridcolor": "white",
            "linecolor": "white",
            "ticks": ""
           },
           "bgcolor": "#E5ECF6",
           "radialaxis": {
            "gridcolor": "white",
            "linecolor": "white",
            "ticks": ""
           }
          },
          "scene": {
           "xaxis": {
            "backgroundcolor": "#E5ECF6",
            "gridcolor": "white",
            "gridwidth": 2,
            "linecolor": "white",
            "showbackground": true,
            "ticks": "",
            "zerolinecolor": "white"
           },
           "yaxis": {
            "backgroundcolor": "#E5ECF6",
            "gridcolor": "white",
            "gridwidth": 2,
            "linecolor": "white",
            "showbackground": true,
            "ticks": "",
            "zerolinecolor": "white"
           },
           "zaxis": {
            "backgroundcolor": "#E5ECF6",
            "gridcolor": "white",
            "gridwidth": 2,
            "linecolor": "white",
            "showbackground": true,
            "ticks": "",
            "zerolinecolor": "white"
           }
          },
          "shapedefaults": {
           "line": {
            "color": "#2a3f5f"
           }
          },
          "ternary": {
           "aaxis": {
            "gridcolor": "white",
            "linecolor": "white",
            "ticks": ""
           },
           "baxis": {
            "gridcolor": "white",
            "linecolor": "white",
            "ticks": ""
           },
           "bgcolor": "#E5ECF6",
           "caxis": {
            "gridcolor": "white",
            "linecolor": "white",
            "ticks": ""
           }
          },
          "title": {
           "x": 0.05
          },
          "xaxis": {
           "automargin": true,
           "gridcolor": "white",
           "linecolor": "white",
           "ticks": "",
           "title": {
            "standoff": 15
           },
           "zerolinecolor": "white",
           "zerolinewidth": 2
          },
          "yaxis": {
           "automargin": true,
           "gridcolor": "white",
           "linecolor": "white",
           "ticks": "",
           "title": {
            "standoff": 15
           },
           "zerolinecolor": "white",
           "zerolinewidth": 2
          }
         }
        },
        "title": {
         "font": {
          "color": "#4D5663"
         }
        },
        "xaxis": {
         "gridcolor": "#E1E5ED",
         "showgrid": true,
         "tickfont": {
          "color": "#4D5663"
         },
         "title": {
          "font": {
           "color": "#4D5663"
          },
          "text": ""
         },
         "zerolinecolor": "#E1E5ED"
        },
        "yaxis": {
         "gridcolor": "#E1E5ED",
         "showgrid": true,
         "tickfont": {
          "color": "#4D5663"
         },
         "title": {
          "font": {
           "color": "#4D5663"
          },
          "text": ""
         },
         "zerolinecolor": "#E1E5ED"
        }
       }
      },
      "text/html": [
       "<div>\n",
       "        \n",
       "        \n",
       "            <div id=\"63e5f878-0730-4b8c-ac49-7e531ff74cd8\" class=\"plotly-graph-div\" style=\"height:525px; width:100%;\"></div>\n",
       "            <script type=\"text/javascript\">\n",
       "                require([\"plotly\"], function(Plotly) {\n",
       "                    window.PLOTLYENV=window.PLOTLYENV || {};\n",
       "                    window.PLOTLYENV.BASE_URL='https://plot.ly';\n",
       "                    \n",
       "                if (document.getElementById(\"63e5f878-0730-4b8c-ac49-7e531ff74cd8\")) {\n",
       "                    Plotly.newPlot(\n",
       "                        '63e5f878-0730-4b8c-ac49-7e531ff74cd8',\n",
       "                        [{\"colorscale\": [[0.0, \"rgb(165,0,38)\"], [0.1, \"rgb(215,48,39)\"], [0.2, \"rgb(244,109,67)\"], [0.3, \"rgb(253,174,97)\"], [0.4, \"rgb(254,224,144)\"], [0.5, \"rgb(255,255,191)\"], [0.6, \"rgb(224,243,248)\"], [0.7, \"rgb(171,217,233)\"], [0.8, \"rgb(116,173,209)\"], [0.9, \"rgb(69,117,180)\"], [1.0, \"rgb(49,54,149)\"]], \"type\": \"surface\", \"x\": [0, 1, 2, 3, 4], \"y\": [\"x\", \"y\", \"z\"], \"z\": [[1, 2, 3, 4, 5], [10, 20, 30, 20, 10], [5, 4, 3, 2, 1]]}],\n",
       "                        {\"legend\": {\"bgcolor\": \"#F5F6F9\", \"font\": {\"color\": \"#4D5663\"}}, \"paper_bgcolor\": \"#F5F6F9\", \"plot_bgcolor\": \"#F5F6F9\", \"template\": {\"data\": {\"bar\": [{\"error_x\": {\"color\": \"#2a3f5f\"}, \"error_y\": {\"color\": \"#2a3f5f\"}, \"marker\": {\"line\": {\"color\": \"#E5ECF6\", \"width\": 0.5}}, \"type\": \"bar\"}], \"barpolar\": [{\"marker\": {\"line\": {\"color\": \"#E5ECF6\", \"width\": 0.5}}, \"type\": \"barpolar\"}], \"carpet\": [{\"aaxis\": {\"endlinecolor\": \"#2a3f5f\", \"gridcolor\": \"white\", \"linecolor\": \"white\", \"minorgridcolor\": \"white\", \"startlinecolor\": \"#2a3f5f\"}, \"baxis\": {\"endlinecolor\": \"#2a3f5f\", \"gridcolor\": \"white\", \"linecolor\": \"white\", \"minorgridcolor\": \"white\", \"startlinecolor\": \"#2a3f5f\"}, \"type\": \"carpet\"}], \"choropleth\": [{\"colorbar\": {\"outlinewidth\": 0, \"ticks\": \"\"}, \"type\": \"choropleth\"}], \"contour\": [{\"colorbar\": {\"outlinewidth\": 0, \"ticks\": \"\"}, \"colorscale\": [[0.0, \"#0d0887\"], [0.1111111111111111, \"#46039f\"], [0.2222222222222222, \"#7201a8\"], [0.3333333333333333, \"#9c179e\"], [0.4444444444444444, \"#bd3786\"], [0.5555555555555556, \"#d8576b\"], [0.6666666666666666, \"#ed7953\"], [0.7777777777777778, \"#fb9f3a\"], [0.8888888888888888, \"#fdca26\"], [1.0, \"#f0f921\"]], \"type\": \"contour\"}], \"contourcarpet\": [{\"colorbar\": {\"outlinewidth\": 0, \"ticks\": \"\"}, \"type\": \"contourcarpet\"}], \"heatmap\": [{\"colorbar\": {\"outlinewidth\": 0, \"ticks\": \"\"}, \"colorscale\": [[0.0, \"#0d0887\"], [0.1111111111111111, \"#46039f\"], [0.2222222222222222, \"#7201a8\"], [0.3333333333333333, \"#9c179e\"], [0.4444444444444444, \"#bd3786\"], [0.5555555555555556, \"#d8576b\"], [0.6666666666666666, \"#ed7953\"], [0.7777777777777778, \"#fb9f3a\"], [0.8888888888888888, \"#fdca26\"], [1.0, \"#f0f921\"]], \"type\": \"heatmap\"}], \"heatmapgl\": [{\"colorbar\": {\"outlinewidth\": 0, \"ticks\": \"\"}, \"colorscale\": [[0.0, \"#0d0887\"], [0.1111111111111111, \"#46039f\"], [0.2222222222222222, \"#7201a8\"], [0.3333333333333333, \"#9c179e\"], [0.4444444444444444, \"#bd3786\"], [0.5555555555555556, \"#d8576b\"], [0.6666666666666666, \"#ed7953\"], [0.7777777777777778, \"#fb9f3a\"], [0.8888888888888888, \"#fdca26\"], [1.0, \"#f0f921\"]], \"type\": \"heatmapgl\"}], \"histogram\": [{\"marker\": {\"colorbar\": {\"outlinewidth\": 0, \"ticks\": \"\"}}, \"type\": \"histogram\"}], \"histogram2d\": [{\"colorbar\": {\"outlinewidth\": 0, \"ticks\": \"\"}, \"colorscale\": [[0.0, \"#0d0887\"], [0.1111111111111111, \"#46039f\"], [0.2222222222222222, \"#7201a8\"], [0.3333333333333333, \"#9c179e\"], [0.4444444444444444, \"#bd3786\"], [0.5555555555555556, \"#d8576b\"], [0.6666666666666666, \"#ed7953\"], [0.7777777777777778, \"#fb9f3a\"], [0.8888888888888888, \"#fdca26\"], [1.0, \"#f0f921\"]], \"type\": \"histogram2d\"}], \"histogram2dcontour\": [{\"colorbar\": {\"outlinewidth\": 0, \"ticks\": \"\"}, \"colorscale\": [[0.0, \"#0d0887\"], [0.1111111111111111, \"#46039f\"], [0.2222222222222222, \"#7201a8\"], [0.3333333333333333, \"#9c179e\"], [0.4444444444444444, \"#bd3786\"], [0.5555555555555556, \"#d8576b\"], [0.6666666666666666, \"#ed7953\"], [0.7777777777777778, \"#fb9f3a\"], [0.8888888888888888, \"#fdca26\"], [1.0, \"#f0f921\"]], \"type\": \"histogram2dcontour\"}], \"mesh3d\": [{\"colorbar\": {\"outlinewidth\": 0, \"ticks\": \"\"}, \"type\": \"mesh3d\"}], \"parcoords\": [{\"line\": {\"colorbar\": {\"outlinewidth\": 0, \"ticks\": \"\"}}, \"type\": \"parcoords\"}], \"pie\": [{\"automargin\": true, \"type\": \"pie\"}], \"scatter\": [{\"marker\": {\"colorbar\": {\"outlinewidth\": 0, \"ticks\": \"\"}}, \"type\": \"scatter\"}], \"scatter3d\": [{\"line\": {\"colorbar\": {\"outlinewidth\": 0, \"ticks\": \"\"}}, \"marker\": {\"colorbar\": {\"outlinewidth\": 0, \"ticks\": \"\"}}, \"type\": \"scatter3d\"}], \"scattercarpet\": [{\"marker\": {\"colorbar\": {\"outlinewidth\": 0, \"ticks\": \"\"}}, \"type\": \"scattercarpet\"}], \"scattergeo\": [{\"marker\": {\"colorbar\": {\"outlinewidth\": 0, \"ticks\": \"\"}}, \"type\": \"scattergeo\"}], \"scattergl\": [{\"marker\": {\"colorbar\": {\"outlinewidth\": 0, \"ticks\": \"\"}}, \"type\": \"scattergl\"}], \"scattermapbox\": [{\"marker\": {\"colorbar\": {\"outlinewidth\": 0, \"ticks\": \"\"}}, \"type\": \"scattermapbox\"}], \"scatterpolar\": [{\"marker\": {\"colorbar\": {\"outlinewidth\": 0, \"ticks\": \"\"}}, \"type\": \"scatterpolar\"}], \"scatterpolargl\": [{\"marker\": {\"colorbar\": {\"outlinewidth\": 0, \"ticks\": \"\"}}, \"type\": \"scatterpolargl\"}], \"scatterternary\": [{\"marker\": {\"colorbar\": {\"outlinewidth\": 0, \"ticks\": \"\"}}, \"type\": \"scatterternary\"}], \"surface\": [{\"colorbar\": {\"outlinewidth\": 0, \"ticks\": \"\"}, \"colorscale\": [[0.0, \"#0d0887\"], [0.1111111111111111, \"#46039f\"], [0.2222222222222222, \"#7201a8\"], [0.3333333333333333, \"#9c179e\"], [0.4444444444444444, \"#bd3786\"], [0.5555555555555556, \"#d8576b\"], [0.6666666666666666, \"#ed7953\"], [0.7777777777777778, \"#fb9f3a\"], [0.8888888888888888, \"#fdca26\"], [1.0, \"#f0f921\"]], \"type\": \"surface\"}], \"table\": [{\"cells\": {\"fill\": {\"color\": \"#EBF0F8\"}, \"line\": {\"color\": \"white\"}}, \"header\": {\"fill\": {\"color\": \"#C8D4E3\"}, \"line\": {\"color\": \"white\"}}, \"type\": \"table\"}]}, \"layout\": {\"annotationdefaults\": {\"arrowcolor\": \"#2a3f5f\", \"arrowhead\": 0, \"arrowwidth\": 1}, \"coloraxis\": {\"colorbar\": {\"outlinewidth\": 0, \"ticks\": \"\"}}, \"colorscale\": {\"diverging\": [[0, \"#8e0152\"], [0.1, \"#c51b7d\"], [0.2, \"#de77ae\"], [0.3, \"#f1b6da\"], [0.4, \"#fde0ef\"], [0.5, \"#f7f7f7\"], [0.6, \"#e6f5d0\"], [0.7, \"#b8e186\"], [0.8, \"#7fbc41\"], [0.9, \"#4d9221\"], [1, \"#276419\"]], \"sequential\": [[0.0, \"#0d0887\"], [0.1111111111111111, \"#46039f\"], [0.2222222222222222, \"#7201a8\"], [0.3333333333333333, \"#9c179e\"], [0.4444444444444444, \"#bd3786\"], [0.5555555555555556, \"#d8576b\"], [0.6666666666666666, \"#ed7953\"], [0.7777777777777778, \"#fb9f3a\"], [0.8888888888888888, \"#fdca26\"], [1.0, \"#f0f921\"]], \"sequentialminus\": [[0.0, \"#0d0887\"], [0.1111111111111111, \"#46039f\"], [0.2222222222222222, \"#7201a8\"], [0.3333333333333333, \"#9c179e\"], [0.4444444444444444, \"#bd3786\"], [0.5555555555555556, \"#d8576b\"], [0.6666666666666666, \"#ed7953\"], [0.7777777777777778, \"#fb9f3a\"], [0.8888888888888888, \"#fdca26\"], [1.0, \"#f0f921\"]]}, \"colorway\": [\"#636efa\", \"#EF553B\", \"#00cc96\", \"#ab63fa\", \"#FFA15A\", \"#19d3f3\", \"#FF6692\", \"#B6E880\", \"#FF97FF\", \"#FECB52\"], \"font\": {\"color\": \"#2a3f5f\"}, \"geo\": {\"bgcolor\": \"white\", \"lakecolor\": \"white\", \"landcolor\": \"#E5ECF6\", \"showlakes\": true, \"showland\": true, \"subunitcolor\": \"white\"}, \"hoverlabel\": {\"align\": \"left\"}, \"hovermode\": \"closest\", \"mapbox\": {\"style\": \"light\"}, \"paper_bgcolor\": \"white\", \"plot_bgcolor\": \"#E5ECF6\", \"polar\": {\"angularaxis\": {\"gridcolor\": \"white\", \"linecolor\": \"white\", \"ticks\": \"\"}, \"bgcolor\": \"#E5ECF6\", \"radialaxis\": {\"gridcolor\": \"white\", \"linecolor\": \"white\", \"ticks\": \"\"}}, \"scene\": {\"xaxis\": {\"backgroundcolor\": \"#E5ECF6\", \"gridcolor\": \"white\", \"gridwidth\": 2, \"linecolor\": \"white\", \"showbackground\": true, \"ticks\": \"\", \"zerolinecolor\": \"white\"}, \"yaxis\": {\"backgroundcolor\": \"#E5ECF6\", \"gridcolor\": \"white\", \"gridwidth\": 2, \"linecolor\": \"white\", \"showbackground\": true, \"ticks\": \"\", \"zerolinecolor\": \"white\"}, \"zaxis\": {\"backgroundcolor\": \"#E5ECF6\", \"gridcolor\": \"white\", \"gridwidth\": 2, \"linecolor\": \"white\", \"showbackground\": true, \"ticks\": \"\", \"zerolinecolor\": \"white\"}}, \"shapedefaults\": {\"line\": {\"color\": \"#2a3f5f\"}}, \"ternary\": {\"aaxis\": {\"gridcolor\": \"white\", \"linecolor\": \"white\", \"ticks\": \"\"}, \"baxis\": {\"gridcolor\": \"white\", \"linecolor\": \"white\", \"ticks\": \"\"}, \"bgcolor\": \"#E5ECF6\", \"caxis\": {\"gridcolor\": \"white\", \"linecolor\": \"white\", \"ticks\": \"\"}}, \"title\": {\"x\": 0.05}, \"xaxis\": {\"automargin\": true, \"gridcolor\": \"white\", \"linecolor\": \"white\", \"ticks\": \"\", \"title\": {\"standoff\": 15}, \"zerolinecolor\": \"white\", \"zerolinewidth\": 2}, \"yaxis\": {\"automargin\": true, \"gridcolor\": \"white\", \"linecolor\": \"white\", \"ticks\": \"\", \"title\": {\"standoff\": 15}, \"zerolinecolor\": \"white\", \"zerolinewidth\": 2}}}, \"title\": {\"font\": {\"color\": \"#4D5663\"}}, \"xaxis\": {\"gridcolor\": \"#E1E5ED\", \"showgrid\": true, \"tickfont\": {\"color\": \"#4D5663\"}, \"title\": {\"font\": {\"color\": \"#4D5663\"}, \"text\": \"\"}, \"zerolinecolor\": \"#E1E5ED\"}, \"yaxis\": {\"gridcolor\": \"#E1E5ED\", \"showgrid\": true, \"tickfont\": {\"color\": \"#4D5663\"}, \"title\": {\"font\": {\"color\": \"#4D5663\"}, \"text\": \"\"}, \"zerolinecolor\": \"#E1E5ED\"}},\n",
       "                        {\"showLink\": true, \"linkText\": \"Export to plot.ly\", \"plotlyServerURL\": \"https://plot.ly\", \"responsive\": true}\n",
       "                    ).then(function(){\n",
       "                            \n",
       "var gd = document.getElementById('63e5f878-0730-4b8c-ac49-7e531ff74cd8');\n",
       "var x = new MutationObserver(function (mutations, observer) {{\n",
       "        var display = window.getComputedStyle(gd).display;\n",
       "        if (!display || display === 'none') {{\n",
       "            console.log([gd, 'removed!']);\n",
       "            Plotly.purge(gd);\n",
       "            observer.disconnect();\n",
       "        }}\n",
       "}});\n",
       "\n",
       "// Listen for the removal of the full notebook cells\n",
       "var notebookContainer = gd.closest('#notebook-container');\n",
       "if (notebookContainer) {{\n",
       "    x.observe(notebookContainer, {childList: true});\n",
       "}}\n",
       "\n",
       "// Listen for the clearing of the current output cell\n",
       "var outputEl = gd.closest('.output');\n",
       "if (outputEl) {{\n",
       "    x.observe(outputEl, {childList: true});\n",
       "}}\n",
       "\n",
       "                        })\n",
       "                };\n",
       "                });\n",
       "            </script>\n",
       "        </div>"
      ]
     },
     "metadata": {},
     "output_type": "display_data"
    }
   ],
   "source": [
    "df3 = pd.DataFrame({'x':[1,2,3,4,5],'y':[10,20,30,20,10],'z':[5,4,3,2,1]})\n",
    "df3.iplot(kind='surface',colorscale='rdylbu')"
   ]
  },
  {
   "cell_type": "markdown",
   "metadata": {},
   "source": [
    "## Spread"
   ]
  },
  {
   "cell_type": "code",
   "execution_count": 18,
   "metadata": {},
   "outputs": [
    {
     "name": "stderr",
     "output_type": "stream",
     "text": [
      "/opt/anaconda3/envs/PythonMLBootCamp/lib/python3.8/site-packages/cufflinks/plotlytools.py:849: FutureWarning:\n",
      "\n",
      "The pandas.np module is deprecated and will be removed from pandas in a future version. Import numpy directly instead\n",
      "\n",
      "/opt/anaconda3/envs/PythonMLBootCamp/lib/python3.8/site-packages/cufflinks/plotlytools.py:850: FutureWarning:\n",
      "\n",
      "The pandas.np module is deprecated and will be removed from pandas in a future version. Import numpy directly instead\n",
      "\n"
     ]
    },
    {
     "data": {
      "application/vnd.plotly.v1+json": {
       "config": {
        "linkText": "Export to plot.ly",
        "plotlyServerURL": "https://plot.ly",
        "showLink": true
       },
       "data": [
        {
         "line": {
          "color": "rgba(255, 153, 51, 1.0)",
          "dash": "solid",
          "shape": "linear",
          "width": 1.3
         },
         "mode": "lines",
         "name": "A",
         "text": "",
         "type": "scatter",
         "x": [
          0,
          1,
          2,
          3,
          4,
          5,
          6,
          7,
          8,
          9,
          10,
          11,
          12,
          13,
          14,
          15,
          16,
          17,
          18,
          19,
          20,
          21,
          22,
          23,
          24,
          25,
          26,
          27,
          28,
          29,
          30,
          31,
          32,
          33,
          34,
          35,
          36,
          37,
          38,
          39,
          40,
          41,
          42,
          43,
          44,
          45,
          46,
          47,
          48,
          49,
          50,
          51,
          52,
          53,
          54,
          55,
          56,
          57,
          58,
          59,
          60,
          61,
          62,
          63,
          64,
          65,
          66,
          67,
          68,
          69,
          70,
          71,
          72,
          73,
          74,
          75,
          76,
          77,
          78,
          79,
          80,
          81,
          82,
          83,
          84,
          85,
          86,
          87,
          88,
          89,
          90,
          91,
          92,
          93,
          94,
          95,
          96,
          97,
          98,
          99
         ],
         "y": [
          0.3705878037577684,
          -0.6678339547302442,
          1.1380918556405002,
          -0.675580051894025,
          1.7262495731372611,
          -0.7346738962061609,
          -0.9562145225408256,
          0.025148520483188185,
          -0.11730817837083653,
          -0.8875635029726676,
          0.7878568424078434,
          1.1653202219069316,
          1.2937559144192385,
          -1.0658594627738625,
          -0.09260441995537765,
          -0.5159981219517672,
          -0.8327586860733873,
          -1.3749779091900383,
          0.42018431850196075,
          0.14709265072578784,
          0.25214049237485664,
          -0.18919730285638245,
          -2.718182630893289,
          -2.4871101190238996,
          -1.0215669673578682,
          0.24635506388134681,
          -0.10770573439041783,
          0.3557554224870404,
          0.031566456058262665,
          0.1700452202575896,
          -0.9575259626465774,
          -0.21532599451762865,
          0.5236647751886957,
          1.94221152756419,
          1.0739362417570109,
          0.08712867977911695,
          -0.37107368322293466,
          -1.1447478368070039,
          2.129917673232524,
          -0.9693582650304164,
          -0.1869513636704791,
          2.2092637073763917,
          1.488229125167454,
          2.214050967163112,
          0.6384413413698313,
          -1.9283759167143864,
          -0.4511610664062786,
          -0.06721145376013846,
          -1.8119277914008352,
          -0.6415871282167186,
          -0.09212605207912067,
          -0.11015367934595786,
          -0.2885730054311169,
          0.17257802683078483,
          -0.34532000564412413,
          -0.12995888586272972,
          -0.4377511993519691,
          -1.876492612806514,
          -1.718838915583185,
          0.0936799439467252,
          0.47001537739454224,
          -2.8410006043336353,
          1.704730125268345,
          0.20259501783314926,
          -0.4206312134987387,
          0.839068083396662,
          -0.5043104052179739,
          0.4731676005007791,
          0.19311114687310646,
          0.4716117801712886,
          1.8908763742207517,
          -1.334644125974962,
          -0.11766425437807593,
          1.6565164720427392,
          -1.5568524437600175,
          -0.5680816820553658,
          -0.5344358887477514,
          0.1900277548085487,
          0.7565155724048774,
          1.9865304358054405,
          -0.3281632782126243,
          -2.127189864605686,
          -0.39679487724212614,
          -0.3050622209272501,
          -1.2578147927340104,
          -0.17726760140269482,
          -1.5401904883006807,
          -0.5614175852880462,
          -1.967164616628011,
          -0.38255077923662584,
          1.1503595634830022,
          0.2576042608917582,
          1.2135540045813504,
          -0.4161542112158181,
          2.1297943647777084,
          1.3264977923735735,
          -0.4404670901208818,
          0.48124473164937726,
          0.5839900293237509,
          1.076803896700854
         ]
        },
        {
         "line": {
          "color": "rgba(55, 128, 191, 1.0)",
          "dash": "solid",
          "shape": "linear",
          "width": 1.3
         },
         "mode": "lines",
         "name": "B",
         "text": "",
         "type": "scatter",
         "x": [
          0,
          1,
          2,
          3,
          4,
          5,
          6,
          7,
          8,
          9,
          10,
          11,
          12,
          13,
          14,
          15,
          16,
          17,
          18,
          19,
          20,
          21,
          22,
          23,
          24,
          25,
          26,
          27,
          28,
          29,
          30,
          31,
          32,
          33,
          34,
          35,
          36,
          37,
          38,
          39,
          40,
          41,
          42,
          43,
          44,
          45,
          46,
          47,
          48,
          49,
          50,
          51,
          52,
          53,
          54,
          55,
          56,
          57,
          58,
          59,
          60,
          61,
          62,
          63,
          64,
          65,
          66,
          67,
          68,
          69,
          70,
          71,
          72,
          73,
          74,
          75,
          76,
          77,
          78,
          79,
          80,
          81,
          82,
          83,
          84,
          85,
          86,
          87,
          88,
          89,
          90,
          91,
          92,
          93,
          94,
          95,
          96,
          97,
          98,
          99
         ],
         "y": [
          -0.9026182879513235,
          -0.8429681388249898,
          0.9540726979032438,
          -0.23251275860498477,
          0.34349554969697677,
          -0.6219462410445961,
          -2.0006622694901433,
          1.2051941291240547,
          -0.13994760501934572,
          1.4084984797743516,
          -1.4406185815567676,
          2.203571063939216,
          -0.7573170225475241,
          -1.3938894902922006,
          -1.5080691322024262,
          -0.14327068342977814,
          0.037417546547547115,
          1.6462587562862911,
          -0.09803460519806916,
          -0.14996665115790409,
          0.21163564577514976,
          1.0263341563855668,
          -2.1541928508243413,
          0.5266668698269917,
          -1.55295581817936,
          -0.1945656521063503,
          0.4888954405211421,
          -1.0860016057795432,
          0.6863853333595958,
          1.5301495976534594,
          0.9766721778910605,
          1.336524835836653,
          -1.2007448477602651,
          0.06634015015393542,
          1.2366217573413492,
          -0.8777425551106883,
          0.6838574049901874,
          1.4325415795887664,
          -0.9916589198409315,
          -1.4400899617991463,
          -1.2559540357374495,
          0.6110065450279094,
          -1.0390703837403927,
          0.7226262599610198,
          -2.676636290627523,
          -0.7200323899747009,
          0.0773058348349942,
          -1.123920139622418,
          -1.5943451488747178,
          0.09570172620242262,
          0.031109758935364544,
          0.5486092430934341,
          -0.9783856846534326,
          -0.37782591930038695,
          2.04289799639152,
          2.695461751334061,
          0.42866956560443514,
          0.06570107039637005,
          0.3406308372199238,
          -0.13963619271339842,
          2.08286852359131,
          -1.2438740075995987,
          -1.0244756191667646,
          -1.218721967500244,
          -0.574858657178294,
          2.92238752045327,
          0.49989326896154135,
          -1.228574562429567,
          0.96213081663357,
          -1.7825877071155352,
          -0.8255838017224469,
          -0.2647822588269775,
          1.3393791985468635,
          -0.39866530169448894,
          0.7530286903232385,
          0.702494600097855,
          -2.9359052065235454,
          1.737741342697497,
          -0.27851189827084305,
          2.519831534981045,
          0.9039598139975631,
          -0.11495144416259331,
          1.7927453018094415,
          1.0292143655851063,
          0.9950063877604468,
          0.7302318326789189,
          -1.0215696369523628,
          0.3528032997113076,
          -1.5412449038618279,
          -0.5806327163073665,
          0.5350868251094306,
          -1.6961570456962733,
          0.5796026289085382,
          -0.30485897618670443,
          -1.6535985994040143,
          1.0991402504723242,
          0.5477912575339169,
          -1.6636610596560424,
          0.48997625929201616,
          -2.015300619743853
         ]
        },
        {
         "connectgaps": false,
         "fill": "tozeroy",
         "line": {
          "color": "green",
          "dash": "solid",
          "shape": "linear",
          "width": 0.5
         },
         "mode": "lines",
         "name": "Spread",
         "showlegend": false,
         "type": "scatter",
         "x": [
          0,
          1,
          2,
          3,
          4,
          5,
          6,
          7,
          8,
          9,
          10,
          11,
          12,
          13,
          14,
          15,
          16,
          17,
          18,
          19,
          20,
          21,
          22,
          23,
          24,
          25,
          26,
          27,
          28,
          29,
          30,
          31,
          32,
          33,
          34,
          35,
          36,
          37,
          38,
          39,
          40,
          41,
          42,
          43,
          44,
          45,
          46,
          47,
          48,
          49,
          50,
          51,
          52,
          53,
          54,
          55,
          56,
          57,
          58,
          59,
          60,
          61,
          62,
          63,
          64,
          65,
          66,
          67,
          68,
          69,
          70,
          71,
          72,
          73,
          74,
          75,
          76,
          77,
          78,
          79,
          80,
          81,
          82,
          83,
          84,
          85,
          86,
          87,
          88,
          89,
          90,
          91,
          92,
          93,
          94,
          95,
          96,
          97,
          98,
          99
         ],
         "xaxis": "x2",
         "y": [
          1.273206091709092,
          0.17513418409474557,
          0.1840191577372564,
          "",
          1.3827540234402844,
          "",
          1.0444477469493176,
          "",
          0.022639426648509195,
          "",
          2.228475423964611,
          "",
          2.0510729369667624,
          0.3280300275183381,
          1.4154647122470485,
          "",
          "",
          "",
          0.5182189237000299,
          0.2970593018836919,
          0.04050484659970688,
          "",
          "",
          "",
          0.5313888508214917,
          0.4409207159876971,
          "",
          1.4417570282665837,
          "",
          "",
          "",
          "",
          1.724409622948961,
          1.8758713774102547,
          "",
          0.9648712348898053,
          "",
          "",
          3.1215765930734554,
          0.47073169676872983,
          1.0690026720669703,
          1.5982571623484823,
          2.5272995089078467,
          1.4914247072020923,
          3.3150776319973545,
          "",
          "",
          1.0567086858622796,
          "",
          "",
          "",
          "",
          0.6898126792223156,
          0.5504039461311718,
          "",
          "",
          "",
          "",
          "",
          0.23331613666012363,
          "",
          "",
          2.7292057444351094,
          1.4213169853333933,
          0.15422744367955527,
          "",
          "",
          1.701742162930346,
          "",
          2.2541994872868236,
          2.7164601759431988,
          "",
          "",
          2.055181773737228,
          "",
          "",
          2.4014693177757938,
          "",
          1.0350274706757205,
          "",
          "",
          "",
          "",
          "",
          "",
          "",
          "",
          "",
          "",
          0.19808193707074062,
          0.6152727383735715,
          1.9537613065880315,
          0.6339513756728122,
          "",
          3.783392964181723,
          0.22735754190124924,
          "",
          2.1449057913054195,
          0.09401377003173472,
          3.092104516444707
         ],
         "yaxis": "y2"
        },
        {
         "connectgaps": false,
         "fill": "tozeroy",
         "line": {
          "color": "red",
          "dash": "solid",
          "shape": "linear",
          "width": 0.5
         },
         "mode": "lines",
         "name": "Spread",
         "showlegend": false,
         "type": "scatter",
         "x": [
          0,
          1,
          2,
          3,
          4,
          5,
          6,
          7,
          8,
          9,
          10,
          11,
          12,
          13,
          14,
          15,
          16,
          17,
          18,
          19,
          20,
          21,
          22,
          23,
          24,
          25,
          26,
          27,
          28,
          29,
          30,
          31,
          32,
          33,
          34,
          35,
          36,
          37,
          38,
          39,
          40,
          41,
          42,
          43,
          44,
          45,
          46,
          47,
          48,
          49,
          50,
          51,
          52,
          53,
          54,
          55,
          56,
          57,
          58,
          59,
          60,
          61,
          62,
          63,
          64,
          65,
          66,
          67,
          68,
          69,
          70,
          71,
          72,
          73,
          74,
          75,
          76,
          77,
          78,
          79,
          80,
          81,
          82,
          83,
          84,
          85,
          86,
          87,
          88,
          89,
          90,
          91,
          92,
          93,
          94,
          95,
          96,
          97,
          98,
          99
         ],
         "xaxis": "x2",
         "y": [
          "",
          "",
          "",
          -0.44306729328904026,
          "",
          -0.1127276551615648,
          "",
          -1.1800456086408664,
          "",
          -2.2960619827470192,
          "",
          -1.0382508420322842,
          "",
          "",
          "",
          -0.3727274385219891,
          -0.8701762326209345,
          -3.021236665476329,
          "",
          "",
          "",
          -1.2155314592419493,
          -0.5639897800689475,
          -3.0137769888508914,
          "",
          "",
          -0.59660117491156,
          "",
          -0.6548188773013331,
          -1.3601043773958699,
          -1.9341981405376378,
          -1.5518508303542817,
          "",
          "",
          -0.1626855155843383,
          "",
          -1.054931088213122,
          -2.5772894163957702,
          "",
          "",
          "",
          "",
          "",
          "",
          "",
          -1.2083435267396854,
          -0.5284669012412728,
          "",
          -0.21758264252611736,
          -0.7372888544191412,
          -0.12323581101448522,
          -0.6587629224393919,
          "",
          "",
          -2.388218002035644,
          -2.8254206371967907,
          -0.8664207649564042,
          -1.942193683202884,
          -2.0594697528031087,
          "",
          -1.6128531461967675,
          -1.5971265967340367,
          "",
          "",
          "",
          -2.083319437056608,
          -1.0042036741795153,
          "",
          -0.7690196697604635,
          "",
          "",
          -1.0698618671479845,
          -1.4570434529249394,
          "",
          -2.309881134083256,
          -1.270576282153221,
          "",
          -1.5477135878889483,
          "",
          -0.5333010991756046,
          -1.2321230922101873,
          -2.0122384204430928,
          -2.1895401790515674,
          -1.3342765865123565,
          -2.252821180494457,
          -0.9074994340816137,
          -0.5186208513483179,
          -0.9142208849993538,
          -0.4259197127661831,
          "",
          "",
          "",
          "",
          -0.11129523502911365,
          "",
          "",
          -0.9882583476547987,
          "",
          "",
          ""
         ],
         "yaxis": "y2"
        }
       ],
       "layout": {
        "hovermode": "x",
        "legend": {
         "bgcolor": "#F5F6F9",
         "font": {
          "color": "#4D5663"
         }
        },
        "paper_bgcolor": "#F5F6F9",
        "plot_bgcolor": "#F5F6F9",
        "template": {
         "data": {
          "bar": [
           {
            "error_x": {
             "color": "#2a3f5f"
            },
            "error_y": {
             "color": "#2a3f5f"
            },
            "marker": {
             "line": {
              "color": "#E5ECF6",
              "width": 0.5
             }
            },
            "type": "bar"
           }
          ],
          "barpolar": [
           {
            "marker": {
             "line": {
              "color": "#E5ECF6",
              "width": 0.5
             }
            },
            "type": "barpolar"
           }
          ],
          "carpet": [
           {
            "aaxis": {
             "endlinecolor": "#2a3f5f",
             "gridcolor": "white",
             "linecolor": "white",
             "minorgridcolor": "white",
             "startlinecolor": "#2a3f5f"
            },
            "baxis": {
             "endlinecolor": "#2a3f5f",
             "gridcolor": "white",
             "linecolor": "white",
             "minorgridcolor": "white",
             "startlinecolor": "#2a3f5f"
            },
            "type": "carpet"
           }
          ],
          "choropleth": [
           {
            "colorbar": {
             "outlinewidth": 0,
             "ticks": ""
            },
            "type": "choropleth"
           }
          ],
          "contour": [
           {
            "colorbar": {
             "outlinewidth": 0,
             "ticks": ""
            },
            "colorscale": [
             [
              0,
              "#0d0887"
             ],
             [
              0.1111111111111111,
              "#46039f"
             ],
             [
              0.2222222222222222,
              "#7201a8"
             ],
             [
              0.3333333333333333,
              "#9c179e"
             ],
             [
              0.4444444444444444,
              "#bd3786"
             ],
             [
              0.5555555555555556,
              "#d8576b"
             ],
             [
              0.6666666666666666,
              "#ed7953"
             ],
             [
              0.7777777777777778,
              "#fb9f3a"
             ],
             [
              0.8888888888888888,
              "#fdca26"
             ],
             [
              1,
              "#f0f921"
             ]
            ],
            "type": "contour"
           }
          ],
          "contourcarpet": [
           {
            "colorbar": {
             "outlinewidth": 0,
             "ticks": ""
            },
            "type": "contourcarpet"
           }
          ],
          "heatmap": [
           {
            "colorbar": {
             "outlinewidth": 0,
             "ticks": ""
            },
            "colorscale": [
             [
              0,
              "#0d0887"
             ],
             [
              0.1111111111111111,
              "#46039f"
             ],
             [
              0.2222222222222222,
              "#7201a8"
             ],
             [
              0.3333333333333333,
              "#9c179e"
             ],
             [
              0.4444444444444444,
              "#bd3786"
             ],
             [
              0.5555555555555556,
              "#d8576b"
             ],
             [
              0.6666666666666666,
              "#ed7953"
             ],
             [
              0.7777777777777778,
              "#fb9f3a"
             ],
             [
              0.8888888888888888,
              "#fdca26"
             ],
             [
              1,
              "#f0f921"
             ]
            ],
            "type": "heatmap"
           }
          ],
          "heatmapgl": [
           {
            "colorbar": {
             "outlinewidth": 0,
             "ticks": ""
            },
            "colorscale": [
             [
              0,
              "#0d0887"
             ],
             [
              0.1111111111111111,
              "#46039f"
             ],
             [
              0.2222222222222222,
              "#7201a8"
             ],
             [
              0.3333333333333333,
              "#9c179e"
             ],
             [
              0.4444444444444444,
              "#bd3786"
             ],
             [
              0.5555555555555556,
              "#d8576b"
             ],
             [
              0.6666666666666666,
              "#ed7953"
             ],
             [
              0.7777777777777778,
              "#fb9f3a"
             ],
             [
              0.8888888888888888,
              "#fdca26"
             ],
             [
              1,
              "#f0f921"
             ]
            ],
            "type": "heatmapgl"
           }
          ],
          "histogram": [
           {
            "marker": {
             "colorbar": {
              "outlinewidth": 0,
              "ticks": ""
             }
            },
            "type": "histogram"
           }
          ],
          "histogram2d": [
           {
            "colorbar": {
             "outlinewidth": 0,
             "ticks": ""
            },
            "colorscale": [
             [
              0,
              "#0d0887"
             ],
             [
              0.1111111111111111,
              "#46039f"
             ],
             [
              0.2222222222222222,
              "#7201a8"
             ],
             [
              0.3333333333333333,
              "#9c179e"
             ],
             [
              0.4444444444444444,
              "#bd3786"
             ],
             [
              0.5555555555555556,
              "#d8576b"
             ],
             [
              0.6666666666666666,
              "#ed7953"
             ],
             [
              0.7777777777777778,
              "#fb9f3a"
             ],
             [
              0.8888888888888888,
              "#fdca26"
             ],
             [
              1,
              "#f0f921"
             ]
            ],
            "type": "histogram2d"
           }
          ],
          "histogram2dcontour": [
           {
            "colorbar": {
             "outlinewidth": 0,
             "ticks": ""
            },
            "colorscale": [
             [
              0,
              "#0d0887"
             ],
             [
              0.1111111111111111,
              "#46039f"
             ],
             [
              0.2222222222222222,
              "#7201a8"
             ],
             [
              0.3333333333333333,
              "#9c179e"
             ],
             [
              0.4444444444444444,
              "#bd3786"
             ],
             [
              0.5555555555555556,
              "#d8576b"
             ],
             [
              0.6666666666666666,
              "#ed7953"
             ],
             [
              0.7777777777777778,
              "#fb9f3a"
             ],
             [
              0.8888888888888888,
              "#fdca26"
             ],
             [
              1,
              "#f0f921"
             ]
            ],
            "type": "histogram2dcontour"
           }
          ],
          "mesh3d": [
           {
            "colorbar": {
             "outlinewidth": 0,
             "ticks": ""
            },
            "type": "mesh3d"
           }
          ],
          "parcoords": [
           {
            "line": {
             "colorbar": {
              "outlinewidth": 0,
              "ticks": ""
             }
            },
            "type": "parcoords"
           }
          ],
          "pie": [
           {
            "automargin": true,
            "type": "pie"
           }
          ],
          "scatter": [
           {
            "marker": {
             "colorbar": {
              "outlinewidth": 0,
              "ticks": ""
             }
            },
            "type": "scatter"
           }
          ],
          "scatter3d": [
           {
            "line": {
             "colorbar": {
              "outlinewidth": 0,
              "ticks": ""
             }
            },
            "marker": {
             "colorbar": {
              "outlinewidth": 0,
              "ticks": ""
             }
            },
            "type": "scatter3d"
           }
          ],
          "scattercarpet": [
           {
            "marker": {
             "colorbar": {
              "outlinewidth": 0,
              "ticks": ""
             }
            },
            "type": "scattercarpet"
           }
          ],
          "scattergeo": [
           {
            "marker": {
             "colorbar": {
              "outlinewidth": 0,
              "ticks": ""
             }
            },
            "type": "scattergeo"
           }
          ],
          "scattergl": [
           {
            "marker": {
             "colorbar": {
              "outlinewidth": 0,
              "ticks": ""
             }
            },
            "type": "scattergl"
           }
          ],
          "scattermapbox": [
           {
            "marker": {
             "colorbar": {
              "outlinewidth": 0,
              "ticks": ""
             }
            },
            "type": "scattermapbox"
           }
          ],
          "scatterpolar": [
           {
            "marker": {
             "colorbar": {
              "outlinewidth": 0,
              "ticks": ""
             }
            },
            "type": "scatterpolar"
           }
          ],
          "scatterpolargl": [
           {
            "marker": {
             "colorbar": {
              "outlinewidth": 0,
              "ticks": ""
             }
            },
            "type": "scatterpolargl"
           }
          ],
          "scatterternary": [
           {
            "marker": {
             "colorbar": {
              "outlinewidth": 0,
              "ticks": ""
             }
            },
            "type": "scatterternary"
           }
          ],
          "surface": [
           {
            "colorbar": {
             "outlinewidth": 0,
             "ticks": ""
            },
            "colorscale": [
             [
              0,
              "#0d0887"
             ],
             [
              0.1111111111111111,
              "#46039f"
             ],
             [
              0.2222222222222222,
              "#7201a8"
             ],
             [
              0.3333333333333333,
              "#9c179e"
             ],
             [
              0.4444444444444444,
              "#bd3786"
             ],
             [
              0.5555555555555556,
              "#d8576b"
             ],
             [
              0.6666666666666666,
              "#ed7953"
             ],
             [
              0.7777777777777778,
              "#fb9f3a"
             ],
             [
              0.8888888888888888,
              "#fdca26"
             ],
             [
              1,
              "#f0f921"
             ]
            ],
            "type": "surface"
           }
          ],
          "table": [
           {
            "cells": {
             "fill": {
              "color": "#EBF0F8"
             },
             "line": {
              "color": "white"
             }
            },
            "header": {
             "fill": {
              "color": "#C8D4E3"
             },
             "line": {
              "color": "white"
             }
            },
            "type": "table"
           }
          ]
         },
         "layout": {
          "annotationdefaults": {
           "arrowcolor": "#2a3f5f",
           "arrowhead": 0,
           "arrowwidth": 1
          },
          "coloraxis": {
           "colorbar": {
            "outlinewidth": 0,
            "ticks": ""
           }
          },
          "colorscale": {
           "diverging": [
            [
             0,
             "#8e0152"
            ],
            [
             0.1,
             "#c51b7d"
            ],
            [
             0.2,
             "#de77ae"
            ],
            [
             0.3,
             "#f1b6da"
            ],
            [
             0.4,
             "#fde0ef"
            ],
            [
             0.5,
             "#f7f7f7"
            ],
            [
             0.6,
             "#e6f5d0"
            ],
            [
             0.7,
             "#b8e186"
            ],
            [
             0.8,
             "#7fbc41"
            ],
            [
             0.9,
             "#4d9221"
            ],
            [
             1,
             "#276419"
            ]
           ],
           "sequential": [
            [
             0,
             "#0d0887"
            ],
            [
             0.1111111111111111,
             "#46039f"
            ],
            [
             0.2222222222222222,
             "#7201a8"
            ],
            [
             0.3333333333333333,
             "#9c179e"
            ],
            [
             0.4444444444444444,
             "#bd3786"
            ],
            [
             0.5555555555555556,
             "#d8576b"
            ],
            [
             0.6666666666666666,
             "#ed7953"
            ],
            [
             0.7777777777777778,
             "#fb9f3a"
            ],
            [
             0.8888888888888888,
             "#fdca26"
            ],
            [
             1,
             "#f0f921"
            ]
           ],
           "sequentialminus": [
            [
             0,
             "#0d0887"
            ],
            [
             0.1111111111111111,
             "#46039f"
            ],
            [
             0.2222222222222222,
             "#7201a8"
            ],
            [
             0.3333333333333333,
             "#9c179e"
            ],
            [
             0.4444444444444444,
             "#bd3786"
            ],
            [
             0.5555555555555556,
             "#d8576b"
            ],
            [
             0.6666666666666666,
             "#ed7953"
            ],
            [
             0.7777777777777778,
             "#fb9f3a"
            ],
            [
             0.8888888888888888,
             "#fdca26"
            ],
            [
             1,
             "#f0f921"
            ]
           ]
          },
          "colorway": [
           "#636efa",
           "#EF553B",
           "#00cc96",
           "#ab63fa",
           "#FFA15A",
           "#19d3f3",
           "#FF6692",
           "#B6E880",
           "#FF97FF",
           "#FECB52"
          ],
          "font": {
           "color": "#2a3f5f"
          },
          "geo": {
           "bgcolor": "white",
           "lakecolor": "white",
           "landcolor": "#E5ECF6",
           "showlakes": true,
           "showland": true,
           "subunitcolor": "white"
          },
          "hoverlabel": {
           "align": "left"
          },
          "hovermode": "closest",
          "mapbox": {
           "style": "light"
          },
          "paper_bgcolor": "white",
          "plot_bgcolor": "#E5ECF6",
          "polar": {
           "angularaxis": {
            "gridcolor": "white",
            "linecolor": "white",
            "ticks": ""
           },
           "bgcolor": "#E5ECF6",
           "radialaxis": {
            "gridcolor": "white",
            "linecolor": "white",
            "ticks": ""
           }
          },
          "scene": {
           "xaxis": {
            "backgroundcolor": "#E5ECF6",
            "gridcolor": "white",
            "gridwidth": 2,
            "linecolor": "white",
            "showbackground": true,
            "ticks": "",
            "zerolinecolor": "white"
           },
           "yaxis": {
            "backgroundcolor": "#E5ECF6",
            "gridcolor": "white",
            "gridwidth": 2,
            "linecolor": "white",
            "showbackground": true,
            "ticks": "",
            "zerolinecolor": "white"
           },
           "zaxis": {
            "backgroundcolor": "#E5ECF6",
            "gridcolor": "white",
            "gridwidth": 2,
            "linecolor": "white",
            "showbackground": true,
            "ticks": "",
            "zerolinecolor": "white"
           }
          },
          "shapedefaults": {
           "line": {
            "color": "#2a3f5f"
           }
          },
          "ternary": {
           "aaxis": {
            "gridcolor": "white",
            "linecolor": "white",
            "ticks": ""
           },
           "baxis": {
            "gridcolor": "white",
            "linecolor": "white",
            "ticks": ""
           },
           "bgcolor": "#E5ECF6",
           "caxis": {
            "gridcolor": "white",
            "linecolor": "white",
            "ticks": ""
           }
          },
          "title": {
           "x": 0.05
          },
          "xaxis": {
           "automargin": true,
           "gridcolor": "white",
           "linecolor": "white",
           "ticks": "",
           "title": {
            "standoff": 15
           },
           "zerolinecolor": "white",
           "zerolinewidth": 2
          },
          "yaxis": {
           "automargin": true,
           "gridcolor": "white",
           "linecolor": "white",
           "ticks": "",
           "title": {
            "standoff": 15
           },
           "zerolinecolor": "white",
           "zerolinewidth": 2
          }
         }
        },
        "title": {
         "font": {
          "color": "#4D5663"
         }
        },
        "xaxis": {
         "gridcolor": "#E1E5ED",
         "showgrid": true,
         "tickfont": {
          "color": "#4D5663"
         },
         "title": {
          "font": {
           "color": "#4D5663"
          },
          "text": ""
         },
         "zerolinecolor": "#E1E5ED"
        },
        "xaxis2": {
         "anchor": "y2",
         "gridcolor": "#E1E5ED",
         "showgrid": true,
         "showticklabels": false,
         "tickfont": {
          "color": "#4D5663"
         },
         "title": {
          "font": {
           "color": "#4D5663"
          },
          "text": ""
         },
         "zerolinecolor": "#E1E5ED"
        },
        "yaxis": {
         "domain": [
          0.3,
          1
         ],
         "gridcolor": "#E1E5ED",
         "showgrid": true,
         "tickfont": {
          "color": "#4D5663"
         },
         "title": {
          "font": {
           "color": "#4D5663"
          },
          "text": ""
         },
         "zerolinecolor": "#E1E5ED"
        },
        "yaxis2": {
         "domain": [
          0,
          0.25
         ],
         "gridcolor": "#E1E5ED",
         "showgrid": true,
         "tickfont": {
          "color": "#4D5663"
         },
         "title": {
          "font": {
           "color": "#4D5663"
          },
          "text": "Spread"
         },
         "zerolinecolor": "#E1E5ED"
        }
       }
      },
      "text/html": [
       "<div>\n",
       "        \n",
       "        \n",
       "            <div id=\"e7d6e76f-5240-4476-9885-d6105bc1bc45\" class=\"plotly-graph-div\" style=\"height:525px; width:100%;\"></div>\n",
       "            <script type=\"text/javascript\">\n",
       "                require([\"plotly\"], function(Plotly) {\n",
       "                    window.PLOTLYENV=window.PLOTLYENV || {};\n",
       "                    window.PLOTLYENV.BASE_URL='https://plot.ly';\n",
       "                    \n",
       "                if (document.getElementById(\"e7d6e76f-5240-4476-9885-d6105bc1bc45\")) {\n",
       "                    Plotly.newPlot(\n",
       "                        'e7d6e76f-5240-4476-9885-d6105bc1bc45',\n",
       "                        [{\"line\": {\"color\": \"rgba(255, 153, 51, 1.0)\", \"dash\": \"solid\", \"shape\": \"linear\", \"width\": 1.3}, \"mode\": \"lines\", \"name\": \"A\", \"text\": \"\", \"type\": \"scatter\", \"x\": [0, 1, 2, 3, 4, 5, 6, 7, 8, 9, 10, 11, 12, 13, 14, 15, 16, 17, 18, 19, 20, 21, 22, 23, 24, 25, 26, 27, 28, 29, 30, 31, 32, 33, 34, 35, 36, 37, 38, 39, 40, 41, 42, 43, 44, 45, 46, 47, 48, 49, 50, 51, 52, 53, 54, 55, 56, 57, 58, 59, 60, 61, 62, 63, 64, 65, 66, 67, 68, 69, 70, 71, 72, 73, 74, 75, 76, 77, 78, 79, 80, 81, 82, 83, 84, 85, 86, 87, 88, 89, 90, 91, 92, 93, 94, 95, 96, 97, 98, 99], \"y\": [0.3705878037577684, -0.6678339547302442, 1.1380918556405002, -0.675580051894025, 1.7262495731372611, -0.7346738962061609, -0.9562145225408256, 0.025148520483188185, -0.11730817837083653, -0.8875635029726676, 0.7878568424078434, 1.1653202219069316, 1.2937559144192385, -1.0658594627738625, -0.09260441995537765, -0.5159981219517672, -0.8327586860733873, -1.3749779091900383, 0.42018431850196075, 0.14709265072578784, 0.25214049237485664, -0.18919730285638245, -2.718182630893289, -2.4871101190238996, -1.0215669673578682, 0.24635506388134681, -0.10770573439041783, 0.3557554224870404, 0.031566456058262665, 0.1700452202575896, -0.9575259626465774, -0.21532599451762865, 0.5236647751886957, 1.94221152756419, 1.0739362417570109, 0.08712867977911695, -0.37107368322293466, -1.1447478368070039, 2.129917673232524, -0.9693582650304164, -0.1869513636704791, 2.2092637073763917, 1.488229125167454, 2.214050967163112, 0.6384413413698313, -1.9283759167143864, -0.4511610664062786, -0.06721145376013846, -1.8119277914008352, -0.6415871282167186, -0.09212605207912067, -0.11015367934595786, -0.2885730054311169, 0.17257802683078483, -0.34532000564412413, -0.12995888586272972, -0.4377511993519691, -1.876492612806514, -1.718838915583185, 0.0936799439467252, 0.47001537739454224, -2.8410006043336353, 1.704730125268345, 0.20259501783314926, -0.4206312134987387, 0.839068083396662, -0.5043104052179739, 0.4731676005007791, 0.19311114687310646, 0.4716117801712886, 1.8908763742207517, -1.334644125974962, -0.11766425437807593, 1.6565164720427392, -1.5568524437600175, -0.5680816820553658, -0.5344358887477514, 0.1900277548085487, 0.7565155724048774, 1.9865304358054405, -0.3281632782126243, -2.127189864605686, -0.39679487724212614, -0.3050622209272501, -1.2578147927340104, -0.17726760140269482, -1.5401904883006807, -0.5614175852880462, -1.967164616628011, -0.38255077923662584, 1.1503595634830022, 0.2576042608917582, 1.2135540045813504, -0.4161542112158181, 2.1297943647777084, 1.3264977923735735, -0.4404670901208818, 0.48124473164937726, 0.5839900293237509, 1.076803896700854]}, {\"line\": {\"color\": \"rgba(55, 128, 191, 1.0)\", \"dash\": \"solid\", \"shape\": \"linear\", \"width\": 1.3}, \"mode\": \"lines\", \"name\": \"B\", \"text\": \"\", \"type\": \"scatter\", \"x\": [0, 1, 2, 3, 4, 5, 6, 7, 8, 9, 10, 11, 12, 13, 14, 15, 16, 17, 18, 19, 20, 21, 22, 23, 24, 25, 26, 27, 28, 29, 30, 31, 32, 33, 34, 35, 36, 37, 38, 39, 40, 41, 42, 43, 44, 45, 46, 47, 48, 49, 50, 51, 52, 53, 54, 55, 56, 57, 58, 59, 60, 61, 62, 63, 64, 65, 66, 67, 68, 69, 70, 71, 72, 73, 74, 75, 76, 77, 78, 79, 80, 81, 82, 83, 84, 85, 86, 87, 88, 89, 90, 91, 92, 93, 94, 95, 96, 97, 98, 99], \"y\": [-0.9026182879513235, -0.8429681388249898, 0.9540726979032438, -0.23251275860498477, 0.34349554969697677, -0.6219462410445961, -2.0006622694901433, 1.2051941291240547, -0.13994760501934572, 1.4084984797743516, -1.4406185815567676, 2.203571063939216, -0.7573170225475241, -1.3938894902922006, -1.5080691322024262, -0.14327068342977814, 0.037417546547547115, 1.6462587562862911, -0.09803460519806916, -0.14996665115790409, 0.21163564577514976, 1.0263341563855668, -2.1541928508243413, 0.5266668698269917, -1.55295581817936, -0.1945656521063503, 0.4888954405211421, -1.0860016057795432, 0.6863853333595958, 1.5301495976534594, 0.9766721778910605, 1.336524835836653, -1.2007448477602651, 0.06634015015393542, 1.2366217573413492, -0.8777425551106883, 0.6838574049901874, 1.4325415795887664, -0.9916589198409315, -1.4400899617991463, -1.2559540357374495, 0.6110065450279094, -1.0390703837403927, 0.7226262599610198, -2.676636290627523, -0.7200323899747009, 0.0773058348349942, -1.123920139622418, -1.5943451488747178, 0.09570172620242262, 0.031109758935364544, 0.5486092430934341, -0.9783856846534326, -0.37782591930038695, 2.04289799639152, 2.695461751334061, 0.42866956560443514, 0.06570107039637005, 0.3406308372199238, -0.13963619271339842, 2.08286852359131, -1.2438740075995987, -1.0244756191667646, -1.218721967500244, -0.574858657178294, 2.92238752045327, 0.49989326896154135, -1.228574562429567, 0.96213081663357, -1.7825877071155352, -0.8255838017224469, -0.2647822588269775, 1.3393791985468635, -0.39866530169448894, 0.7530286903232385, 0.702494600097855, -2.9359052065235454, 1.737741342697497, -0.27851189827084305, 2.519831534981045, 0.9039598139975631, -0.11495144416259331, 1.7927453018094415, 1.0292143655851063, 0.9950063877604468, 0.7302318326789189, -1.0215696369523628, 0.3528032997113076, -1.5412449038618279, -0.5806327163073665, 0.5350868251094306, -1.6961570456962733, 0.5796026289085382, -0.30485897618670443, -1.6535985994040143, 1.0991402504723242, 0.5477912575339169, -1.6636610596560424, 0.48997625929201616, -2.015300619743853]}, {\"connectgaps\": false, \"fill\": \"tozeroy\", \"line\": {\"color\": \"green\", \"dash\": \"solid\", \"shape\": \"linear\", \"width\": 0.5}, \"mode\": \"lines\", \"name\": \"Spread\", \"showlegend\": false, \"type\": \"scatter\", \"x\": [0, 1, 2, 3, 4, 5, 6, 7, 8, 9, 10, 11, 12, 13, 14, 15, 16, 17, 18, 19, 20, 21, 22, 23, 24, 25, 26, 27, 28, 29, 30, 31, 32, 33, 34, 35, 36, 37, 38, 39, 40, 41, 42, 43, 44, 45, 46, 47, 48, 49, 50, 51, 52, 53, 54, 55, 56, 57, 58, 59, 60, 61, 62, 63, 64, 65, 66, 67, 68, 69, 70, 71, 72, 73, 74, 75, 76, 77, 78, 79, 80, 81, 82, 83, 84, 85, 86, 87, 88, 89, 90, 91, 92, 93, 94, 95, 96, 97, 98, 99], \"xaxis\": \"x2\", \"y\": [1.273206091709092, 0.17513418409474557, 0.1840191577372564, \"\", 1.3827540234402844, \"\", 1.0444477469493176, \"\", 0.022639426648509195, \"\", 2.228475423964611, \"\", 2.0510729369667624, 0.3280300275183381, 1.4154647122470485, \"\", \"\", \"\", 0.5182189237000299, 0.2970593018836919, 0.04050484659970688, \"\", \"\", \"\", 0.5313888508214917, 0.4409207159876971, \"\", 1.4417570282665837, \"\", \"\", \"\", \"\", 1.724409622948961, 1.8758713774102547, \"\", 0.9648712348898053, \"\", \"\", 3.1215765930734554, 0.47073169676872983, 1.0690026720669703, 1.5982571623484823, 2.5272995089078467, 1.4914247072020923, 3.3150776319973545, \"\", \"\", 1.0567086858622796, \"\", \"\", \"\", \"\", 0.6898126792223156, 0.5504039461311718, \"\", \"\", \"\", \"\", \"\", 0.23331613666012363, \"\", \"\", 2.7292057444351094, 1.4213169853333933, 0.15422744367955527, \"\", \"\", 1.701742162930346, \"\", 2.2541994872868236, 2.7164601759431988, \"\", \"\", 2.055181773737228, \"\", \"\", 2.4014693177757938, \"\", 1.0350274706757205, \"\", \"\", \"\", \"\", \"\", \"\", \"\", \"\", \"\", \"\", 0.19808193707074062, 0.6152727383735715, 1.9537613065880315, 0.6339513756728122, \"\", 3.783392964181723, 0.22735754190124924, \"\", 2.1449057913054195, 0.09401377003173472, 3.092104516444707], \"yaxis\": \"y2\"}, {\"connectgaps\": false, \"fill\": \"tozeroy\", \"line\": {\"color\": \"red\", \"dash\": \"solid\", \"shape\": \"linear\", \"width\": 0.5}, \"mode\": \"lines\", \"name\": \"Spread\", \"showlegend\": false, \"type\": \"scatter\", \"x\": [0, 1, 2, 3, 4, 5, 6, 7, 8, 9, 10, 11, 12, 13, 14, 15, 16, 17, 18, 19, 20, 21, 22, 23, 24, 25, 26, 27, 28, 29, 30, 31, 32, 33, 34, 35, 36, 37, 38, 39, 40, 41, 42, 43, 44, 45, 46, 47, 48, 49, 50, 51, 52, 53, 54, 55, 56, 57, 58, 59, 60, 61, 62, 63, 64, 65, 66, 67, 68, 69, 70, 71, 72, 73, 74, 75, 76, 77, 78, 79, 80, 81, 82, 83, 84, 85, 86, 87, 88, 89, 90, 91, 92, 93, 94, 95, 96, 97, 98, 99], \"xaxis\": \"x2\", \"y\": [\"\", \"\", \"\", -0.44306729328904026, \"\", -0.1127276551615648, \"\", -1.1800456086408664, \"\", -2.2960619827470192, \"\", -1.0382508420322842, \"\", \"\", \"\", -0.3727274385219891, -0.8701762326209345, -3.021236665476329, \"\", \"\", \"\", -1.2155314592419493, -0.5639897800689475, -3.0137769888508914, \"\", \"\", -0.59660117491156, \"\", -0.6548188773013331, -1.3601043773958699, -1.9341981405376378, -1.5518508303542817, \"\", \"\", -0.1626855155843383, \"\", -1.054931088213122, -2.5772894163957702, \"\", \"\", \"\", \"\", \"\", \"\", \"\", -1.2083435267396854, -0.5284669012412728, \"\", -0.21758264252611736, -0.7372888544191412, -0.12323581101448522, -0.6587629224393919, \"\", \"\", -2.388218002035644, -2.8254206371967907, -0.8664207649564042, -1.942193683202884, -2.0594697528031087, \"\", -1.6128531461967675, -1.5971265967340367, \"\", \"\", \"\", -2.083319437056608, -1.0042036741795153, \"\", -0.7690196697604635, \"\", \"\", -1.0698618671479845, -1.4570434529249394, \"\", -2.309881134083256, -1.270576282153221, \"\", -1.5477135878889483, \"\", -0.5333010991756046, -1.2321230922101873, -2.0122384204430928, -2.1895401790515674, -1.3342765865123565, -2.252821180494457, -0.9074994340816137, -0.5186208513483179, -0.9142208849993538, -0.4259197127661831, \"\", \"\", \"\", \"\", -0.11129523502911365, \"\", \"\", -0.9882583476547987, \"\", \"\", \"\"], \"yaxis\": \"y2\"}],\n",
       "                        {\"hovermode\": \"x\", \"legend\": {\"bgcolor\": \"#F5F6F9\", \"font\": {\"color\": \"#4D5663\"}}, \"paper_bgcolor\": \"#F5F6F9\", \"plot_bgcolor\": \"#F5F6F9\", \"template\": {\"data\": {\"bar\": [{\"error_x\": {\"color\": \"#2a3f5f\"}, \"error_y\": {\"color\": \"#2a3f5f\"}, \"marker\": {\"line\": {\"color\": \"#E5ECF6\", \"width\": 0.5}}, \"type\": \"bar\"}], \"barpolar\": [{\"marker\": {\"line\": {\"color\": \"#E5ECF6\", \"width\": 0.5}}, \"type\": \"barpolar\"}], \"carpet\": [{\"aaxis\": {\"endlinecolor\": \"#2a3f5f\", \"gridcolor\": \"white\", \"linecolor\": \"white\", \"minorgridcolor\": \"white\", \"startlinecolor\": \"#2a3f5f\"}, \"baxis\": {\"endlinecolor\": \"#2a3f5f\", \"gridcolor\": \"white\", \"linecolor\": \"white\", \"minorgridcolor\": \"white\", \"startlinecolor\": \"#2a3f5f\"}, \"type\": \"carpet\"}], \"choropleth\": [{\"colorbar\": {\"outlinewidth\": 0, \"ticks\": \"\"}, \"type\": \"choropleth\"}], \"contour\": [{\"colorbar\": {\"outlinewidth\": 0, \"ticks\": \"\"}, \"colorscale\": [[0.0, \"#0d0887\"], [0.1111111111111111, \"#46039f\"], [0.2222222222222222, \"#7201a8\"], [0.3333333333333333, \"#9c179e\"], [0.4444444444444444, \"#bd3786\"], [0.5555555555555556, \"#d8576b\"], [0.6666666666666666, \"#ed7953\"], [0.7777777777777778, \"#fb9f3a\"], [0.8888888888888888, \"#fdca26\"], [1.0, \"#f0f921\"]], \"type\": \"contour\"}], \"contourcarpet\": [{\"colorbar\": {\"outlinewidth\": 0, \"ticks\": \"\"}, \"type\": \"contourcarpet\"}], \"heatmap\": [{\"colorbar\": {\"outlinewidth\": 0, \"ticks\": \"\"}, \"colorscale\": [[0.0, \"#0d0887\"], [0.1111111111111111, \"#46039f\"], [0.2222222222222222, \"#7201a8\"], [0.3333333333333333, \"#9c179e\"], [0.4444444444444444, \"#bd3786\"], [0.5555555555555556, \"#d8576b\"], [0.6666666666666666, \"#ed7953\"], [0.7777777777777778, \"#fb9f3a\"], [0.8888888888888888, \"#fdca26\"], [1.0, \"#f0f921\"]], \"type\": \"heatmap\"}], \"heatmapgl\": [{\"colorbar\": {\"outlinewidth\": 0, \"ticks\": \"\"}, \"colorscale\": [[0.0, \"#0d0887\"], [0.1111111111111111, \"#46039f\"], [0.2222222222222222, \"#7201a8\"], [0.3333333333333333, \"#9c179e\"], [0.4444444444444444, \"#bd3786\"], [0.5555555555555556, \"#d8576b\"], [0.6666666666666666, \"#ed7953\"], [0.7777777777777778, \"#fb9f3a\"], [0.8888888888888888, \"#fdca26\"], [1.0, \"#f0f921\"]], \"type\": \"heatmapgl\"}], \"histogram\": [{\"marker\": {\"colorbar\": {\"outlinewidth\": 0, \"ticks\": \"\"}}, \"type\": \"histogram\"}], \"histogram2d\": [{\"colorbar\": {\"outlinewidth\": 0, \"ticks\": \"\"}, \"colorscale\": [[0.0, \"#0d0887\"], [0.1111111111111111, \"#46039f\"], [0.2222222222222222, \"#7201a8\"], [0.3333333333333333, \"#9c179e\"], [0.4444444444444444, \"#bd3786\"], [0.5555555555555556, \"#d8576b\"], [0.6666666666666666, \"#ed7953\"], [0.7777777777777778, \"#fb9f3a\"], [0.8888888888888888, \"#fdca26\"], [1.0, \"#f0f921\"]], \"type\": \"histogram2d\"}], \"histogram2dcontour\": [{\"colorbar\": {\"outlinewidth\": 0, \"ticks\": \"\"}, \"colorscale\": [[0.0, \"#0d0887\"], [0.1111111111111111, \"#46039f\"], [0.2222222222222222, \"#7201a8\"], [0.3333333333333333, \"#9c179e\"], [0.4444444444444444, \"#bd3786\"], [0.5555555555555556, \"#d8576b\"], [0.6666666666666666, \"#ed7953\"], [0.7777777777777778, \"#fb9f3a\"], [0.8888888888888888, \"#fdca26\"], [1.0, \"#f0f921\"]], \"type\": \"histogram2dcontour\"}], \"mesh3d\": [{\"colorbar\": {\"outlinewidth\": 0, \"ticks\": \"\"}, \"type\": \"mesh3d\"}], \"parcoords\": [{\"line\": {\"colorbar\": {\"outlinewidth\": 0, \"ticks\": \"\"}}, \"type\": \"parcoords\"}], \"pie\": [{\"automargin\": true, \"type\": \"pie\"}], \"scatter\": [{\"marker\": {\"colorbar\": {\"outlinewidth\": 0, \"ticks\": \"\"}}, \"type\": \"scatter\"}], \"scatter3d\": [{\"line\": {\"colorbar\": {\"outlinewidth\": 0, \"ticks\": \"\"}}, \"marker\": {\"colorbar\": {\"outlinewidth\": 0, \"ticks\": \"\"}}, \"type\": \"scatter3d\"}], \"scattercarpet\": [{\"marker\": {\"colorbar\": {\"outlinewidth\": 0, \"ticks\": \"\"}}, \"type\": \"scattercarpet\"}], \"scattergeo\": [{\"marker\": {\"colorbar\": {\"outlinewidth\": 0, \"ticks\": \"\"}}, \"type\": \"scattergeo\"}], \"scattergl\": [{\"marker\": {\"colorbar\": {\"outlinewidth\": 0, \"ticks\": \"\"}}, \"type\": \"scattergl\"}], \"scattermapbox\": [{\"marker\": {\"colorbar\": {\"outlinewidth\": 0, \"ticks\": \"\"}}, \"type\": \"scattermapbox\"}], \"scatterpolar\": [{\"marker\": {\"colorbar\": {\"outlinewidth\": 0, \"ticks\": \"\"}}, \"type\": \"scatterpolar\"}], \"scatterpolargl\": [{\"marker\": {\"colorbar\": {\"outlinewidth\": 0, \"ticks\": \"\"}}, \"type\": \"scatterpolargl\"}], \"scatterternary\": [{\"marker\": {\"colorbar\": {\"outlinewidth\": 0, \"ticks\": \"\"}}, \"type\": \"scatterternary\"}], \"surface\": [{\"colorbar\": {\"outlinewidth\": 0, \"ticks\": \"\"}, \"colorscale\": [[0.0, \"#0d0887\"], [0.1111111111111111, \"#46039f\"], [0.2222222222222222, \"#7201a8\"], [0.3333333333333333, \"#9c179e\"], [0.4444444444444444, \"#bd3786\"], [0.5555555555555556, \"#d8576b\"], [0.6666666666666666, \"#ed7953\"], [0.7777777777777778, \"#fb9f3a\"], [0.8888888888888888, \"#fdca26\"], [1.0, \"#f0f921\"]], \"type\": \"surface\"}], \"table\": [{\"cells\": {\"fill\": {\"color\": \"#EBF0F8\"}, \"line\": {\"color\": \"white\"}}, \"header\": {\"fill\": {\"color\": \"#C8D4E3\"}, \"line\": {\"color\": \"white\"}}, \"type\": \"table\"}]}, \"layout\": {\"annotationdefaults\": {\"arrowcolor\": \"#2a3f5f\", \"arrowhead\": 0, \"arrowwidth\": 1}, \"coloraxis\": {\"colorbar\": {\"outlinewidth\": 0, \"ticks\": \"\"}}, \"colorscale\": {\"diverging\": [[0, \"#8e0152\"], [0.1, \"#c51b7d\"], [0.2, \"#de77ae\"], [0.3, \"#f1b6da\"], [0.4, \"#fde0ef\"], [0.5, \"#f7f7f7\"], [0.6, \"#e6f5d0\"], [0.7, \"#b8e186\"], [0.8, \"#7fbc41\"], [0.9, \"#4d9221\"], [1, \"#276419\"]], \"sequential\": [[0.0, \"#0d0887\"], [0.1111111111111111, \"#46039f\"], [0.2222222222222222, \"#7201a8\"], [0.3333333333333333, \"#9c179e\"], [0.4444444444444444, \"#bd3786\"], [0.5555555555555556, \"#d8576b\"], [0.6666666666666666, \"#ed7953\"], [0.7777777777777778, \"#fb9f3a\"], [0.8888888888888888, \"#fdca26\"], [1.0, \"#f0f921\"]], \"sequentialminus\": [[0.0, \"#0d0887\"], [0.1111111111111111, \"#46039f\"], [0.2222222222222222, \"#7201a8\"], [0.3333333333333333, \"#9c179e\"], [0.4444444444444444, \"#bd3786\"], [0.5555555555555556, \"#d8576b\"], [0.6666666666666666, \"#ed7953\"], [0.7777777777777778, \"#fb9f3a\"], [0.8888888888888888, \"#fdca26\"], [1.0, \"#f0f921\"]]}, \"colorway\": [\"#636efa\", \"#EF553B\", \"#00cc96\", \"#ab63fa\", \"#FFA15A\", \"#19d3f3\", \"#FF6692\", \"#B6E880\", \"#FF97FF\", \"#FECB52\"], \"font\": {\"color\": \"#2a3f5f\"}, \"geo\": {\"bgcolor\": \"white\", \"lakecolor\": \"white\", \"landcolor\": \"#E5ECF6\", \"showlakes\": true, \"showland\": true, \"subunitcolor\": \"white\"}, \"hoverlabel\": {\"align\": \"left\"}, \"hovermode\": \"closest\", \"mapbox\": {\"style\": \"light\"}, \"paper_bgcolor\": \"white\", \"plot_bgcolor\": \"#E5ECF6\", \"polar\": {\"angularaxis\": {\"gridcolor\": \"white\", \"linecolor\": \"white\", \"ticks\": \"\"}, \"bgcolor\": \"#E5ECF6\", \"radialaxis\": {\"gridcolor\": \"white\", \"linecolor\": \"white\", \"ticks\": \"\"}}, \"scene\": {\"xaxis\": {\"backgroundcolor\": \"#E5ECF6\", \"gridcolor\": \"white\", \"gridwidth\": 2, \"linecolor\": \"white\", \"showbackground\": true, \"ticks\": \"\", \"zerolinecolor\": \"white\"}, \"yaxis\": {\"backgroundcolor\": \"#E5ECF6\", \"gridcolor\": \"white\", \"gridwidth\": 2, \"linecolor\": \"white\", \"showbackground\": true, \"ticks\": \"\", \"zerolinecolor\": \"white\"}, \"zaxis\": {\"backgroundcolor\": \"#E5ECF6\", \"gridcolor\": \"white\", \"gridwidth\": 2, \"linecolor\": \"white\", \"showbackground\": true, \"ticks\": \"\", \"zerolinecolor\": \"white\"}}, \"shapedefaults\": {\"line\": {\"color\": \"#2a3f5f\"}}, \"ternary\": {\"aaxis\": {\"gridcolor\": \"white\", \"linecolor\": \"white\", \"ticks\": \"\"}, \"baxis\": {\"gridcolor\": \"white\", \"linecolor\": \"white\", \"ticks\": \"\"}, \"bgcolor\": \"#E5ECF6\", \"caxis\": {\"gridcolor\": \"white\", \"linecolor\": \"white\", \"ticks\": \"\"}}, \"title\": {\"x\": 0.05}, \"xaxis\": {\"automargin\": true, \"gridcolor\": \"white\", \"linecolor\": \"white\", \"ticks\": \"\", \"title\": {\"standoff\": 15}, \"zerolinecolor\": \"white\", \"zerolinewidth\": 2}, \"yaxis\": {\"automargin\": true, \"gridcolor\": \"white\", \"linecolor\": \"white\", \"ticks\": \"\", \"title\": {\"standoff\": 15}, \"zerolinecolor\": \"white\", \"zerolinewidth\": 2}}}, \"title\": {\"font\": {\"color\": \"#4D5663\"}}, \"xaxis\": {\"gridcolor\": \"#E1E5ED\", \"showgrid\": true, \"tickfont\": {\"color\": \"#4D5663\"}, \"title\": {\"font\": {\"color\": \"#4D5663\"}, \"text\": \"\"}, \"zerolinecolor\": \"#E1E5ED\"}, \"xaxis2\": {\"anchor\": \"y2\", \"gridcolor\": \"#E1E5ED\", \"showgrid\": true, \"showticklabels\": false, \"tickfont\": {\"color\": \"#4D5663\"}, \"title\": {\"font\": {\"color\": \"#4D5663\"}, \"text\": \"\"}, \"zerolinecolor\": \"#E1E5ED\"}, \"yaxis\": {\"domain\": [0.3, 1], \"gridcolor\": \"#E1E5ED\", \"showgrid\": true, \"tickfont\": {\"color\": \"#4D5663\"}, \"title\": {\"font\": {\"color\": \"#4D5663\"}, \"text\": \"\"}, \"zerolinecolor\": \"#E1E5ED\"}, \"yaxis2\": {\"domain\": [0, 0.25], \"gridcolor\": \"#E1E5ED\", \"showgrid\": true, \"tickfont\": {\"color\": \"#4D5663\"}, \"title\": {\"font\": {\"color\": \"#4D5663\"}, \"text\": \"Spread\"}, \"zerolinecolor\": \"#E1E5ED\"}},\n",
       "                        {\"showLink\": true, \"linkText\": \"Export to plot.ly\", \"plotlyServerURL\": \"https://plot.ly\", \"responsive\": true}\n",
       "                    ).then(function(){\n",
       "                            \n",
       "var gd = document.getElementById('e7d6e76f-5240-4476-9885-d6105bc1bc45');\n",
       "var x = new MutationObserver(function (mutations, observer) {{\n",
       "        var display = window.getComputedStyle(gd).display;\n",
       "        if (!display || display === 'none') {{\n",
       "            console.log([gd, 'removed!']);\n",
       "            Plotly.purge(gd);\n",
       "            observer.disconnect();\n",
       "        }}\n",
       "}});\n",
       "\n",
       "// Listen for the removal of the full notebook cells\n",
       "var notebookContainer = gd.closest('#notebook-container');\n",
       "if (notebookContainer) {{\n",
       "    x.observe(notebookContainer, {childList: true});\n",
       "}}\n",
       "\n",
       "// Listen for the clearing of the current output cell\n",
       "var outputEl = gd.closest('.output');\n",
       "if (outputEl) {{\n",
       "    x.observe(outputEl, {childList: true});\n",
       "}}\n",
       "\n",
       "                        })\n",
       "                };\n",
       "                });\n",
       "            </script>\n",
       "        </div>"
      ]
     },
     "metadata": {},
     "output_type": "display_data"
    }
   ],
   "source": [
    "df[['A','B']].iplot(kind='spread')"
   ]
  },
  {
   "cell_type": "markdown",
   "metadata": {},
   "source": [
    "## histogram"
   ]
  },
  {
   "cell_type": "code",
   "execution_count": 17,
   "metadata": {
    "scrolled": true
   },
   "outputs": [
    {
     "data": {
      "application/vnd.plotly.v1+json": {
       "config": {
        "linkText": "Export to plot.ly",
        "plotlyServerURL": "https://plot.ly",
        "showLink": true
       },
       "data": [
        {
         "histfunc": "count",
         "histnorm": "",
         "marker": {
          "color": "rgba(255, 153, 51, 1.0)",
          "line": {
           "color": "#4D5663",
           "width": 1.3
          }
         },
         "name": "A",
         "nbinsx": 25,
         "opacity": 0.8,
         "orientation": "v",
         "type": "histogram",
         "x": [
          0.3705878037577684,
          -0.6678339547302442,
          1.1380918556405002,
          -0.675580051894025,
          1.7262495731372611,
          -0.7346738962061609,
          -0.9562145225408256,
          0.025148520483188185,
          -0.11730817837083653,
          -0.8875635029726676,
          0.7878568424078434,
          1.1653202219069316,
          1.2937559144192385,
          -1.0658594627738625,
          -0.09260441995537765,
          -0.5159981219517672,
          -0.8327586860733873,
          -1.3749779091900383,
          0.42018431850196075,
          0.14709265072578784,
          0.25214049237485664,
          -0.18919730285638245,
          -2.718182630893289,
          -2.4871101190238996,
          -1.0215669673578682,
          0.24635506388134681,
          -0.10770573439041783,
          0.3557554224870404,
          0.031566456058262665,
          0.1700452202575896,
          -0.9575259626465774,
          -0.21532599451762865,
          0.5236647751886957,
          1.94221152756419,
          1.0739362417570109,
          0.08712867977911695,
          -0.37107368322293466,
          -1.1447478368070039,
          2.129917673232524,
          -0.9693582650304164,
          -0.1869513636704791,
          2.2092637073763917,
          1.488229125167454,
          2.214050967163112,
          0.6384413413698313,
          -1.9283759167143864,
          -0.4511610664062786,
          -0.06721145376013846,
          -1.8119277914008352,
          -0.6415871282167186,
          -0.09212605207912067,
          -0.11015367934595786,
          -0.2885730054311169,
          0.17257802683078483,
          -0.34532000564412413,
          -0.12995888586272972,
          -0.4377511993519691,
          -1.876492612806514,
          -1.718838915583185,
          0.0936799439467252,
          0.47001537739454224,
          -2.8410006043336353,
          1.704730125268345,
          0.20259501783314926,
          -0.4206312134987387,
          0.839068083396662,
          -0.5043104052179739,
          0.4731676005007791,
          0.19311114687310646,
          0.4716117801712886,
          1.8908763742207517,
          -1.334644125974962,
          -0.11766425437807593,
          1.6565164720427392,
          -1.5568524437600175,
          -0.5680816820553658,
          -0.5344358887477514,
          0.1900277548085487,
          0.7565155724048774,
          1.9865304358054405,
          -0.3281632782126243,
          -2.127189864605686,
          -0.39679487724212614,
          -0.3050622209272501,
          -1.2578147927340104,
          -0.17726760140269482,
          -1.5401904883006807,
          -0.5614175852880462,
          -1.967164616628011,
          -0.38255077923662584,
          1.1503595634830022,
          0.2576042608917582,
          1.2135540045813504,
          -0.4161542112158181,
          2.1297943647777084,
          1.3264977923735735,
          -0.4404670901208818,
          0.48124473164937726,
          0.5839900293237509,
          1.076803896700854
         ]
        }
       ],
       "layout": {
        "barmode": "overlay",
        "legend": {
         "bgcolor": "#F5F6F9",
         "font": {
          "color": "#4D5663"
         }
        },
        "paper_bgcolor": "#F5F6F9",
        "plot_bgcolor": "#F5F6F9",
        "template": {
         "data": {
          "bar": [
           {
            "error_x": {
             "color": "#2a3f5f"
            },
            "error_y": {
             "color": "#2a3f5f"
            },
            "marker": {
             "line": {
              "color": "#E5ECF6",
              "width": 0.5
             }
            },
            "type": "bar"
           }
          ],
          "barpolar": [
           {
            "marker": {
             "line": {
              "color": "#E5ECF6",
              "width": 0.5
             }
            },
            "type": "barpolar"
           }
          ],
          "carpet": [
           {
            "aaxis": {
             "endlinecolor": "#2a3f5f",
             "gridcolor": "white",
             "linecolor": "white",
             "minorgridcolor": "white",
             "startlinecolor": "#2a3f5f"
            },
            "baxis": {
             "endlinecolor": "#2a3f5f",
             "gridcolor": "white",
             "linecolor": "white",
             "minorgridcolor": "white",
             "startlinecolor": "#2a3f5f"
            },
            "type": "carpet"
           }
          ],
          "choropleth": [
           {
            "colorbar": {
             "outlinewidth": 0,
             "ticks": ""
            },
            "type": "choropleth"
           }
          ],
          "contour": [
           {
            "colorbar": {
             "outlinewidth": 0,
             "ticks": ""
            },
            "colorscale": [
             [
              0,
              "#0d0887"
             ],
             [
              0.1111111111111111,
              "#46039f"
             ],
             [
              0.2222222222222222,
              "#7201a8"
             ],
             [
              0.3333333333333333,
              "#9c179e"
             ],
             [
              0.4444444444444444,
              "#bd3786"
             ],
             [
              0.5555555555555556,
              "#d8576b"
             ],
             [
              0.6666666666666666,
              "#ed7953"
             ],
             [
              0.7777777777777778,
              "#fb9f3a"
             ],
             [
              0.8888888888888888,
              "#fdca26"
             ],
             [
              1,
              "#f0f921"
             ]
            ],
            "type": "contour"
           }
          ],
          "contourcarpet": [
           {
            "colorbar": {
             "outlinewidth": 0,
             "ticks": ""
            },
            "type": "contourcarpet"
           }
          ],
          "heatmap": [
           {
            "colorbar": {
             "outlinewidth": 0,
             "ticks": ""
            },
            "colorscale": [
             [
              0,
              "#0d0887"
             ],
             [
              0.1111111111111111,
              "#46039f"
             ],
             [
              0.2222222222222222,
              "#7201a8"
             ],
             [
              0.3333333333333333,
              "#9c179e"
             ],
             [
              0.4444444444444444,
              "#bd3786"
             ],
             [
              0.5555555555555556,
              "#d8576b"
             ],
             [
              0.6666666666666666,
              "#ed7953"
             ],
             [
              0.7777777777777778,
              "#fb9f3a"
             ],
             [
              0.8888888888888888,
              "#fdca26"
             ],
             [
              1,
              "#f0f921"
             ]
            ],
            "type": "heatmap"
           }
          ],
          "heatmapgl": [
           {
            "colorbar": {
             "outlinewidth": 0,
             "ticks": ""
            },
            "colorscale": [
             [
              0,
              "#0d0887"
             ],
             [
              0.1111111111111111,
              "#46039f"
             ],
             [
              0.2222222222222222,
              "#7201a8"
             ],
             [
              0.3333333333333333,
              "#9c179e"
             ],
             [
              0.4444444444444444,
              "#bd3786"
             ],
             [
              0.5555555555555556,
              "#d8576b"
             ],
             [
              0.6666666666666666,
              "#ed7953"
             ],
             [
              0.7777777777777778,
              "#fb9f3a"
             ],
             [
              0.8888888888888888,
              "#fdca26"
             ],
             [
              1,
              "#f0f921"
             ]
            ],
            "type": "heatmapgl"
           }
          ],
          "histogram": [
           {
            "marker": {
             "colorbar": {
              "outlinewidth": 0,
              "ticks": ""
             }
            },
            "type": "histogram"
           }
          ],
          "histogram2d": [
           {
            "colorbar": {
             "outlinewidth": 0,
             "ticks": ""
            },
            "colorscale": [
             [
              0,
              "#0d0887"
             ],
             [
              0.1111111111111111,
              "#46039f"
             ],
             [
              0.2222222222222222,
              "#7201a8"
             ],
             [
              0.3333333333333333,
              "#9c179e"
             ],
             [
              0.4444444444444444,
              "#bd3786"
             ],
             [
              0.5555555555555556,
              "#d8576b"
             ],
             [
              0.6666666666666666,
              "#ed7953"
             ],
             [
              0.7777777777777778,
              "#fb9f3a"
             ],
             [
              0.8888888888888888,
              "#fdca26"
             ],
             [
              1,
              "#f0f921"
             ]
            ],
            "type": "histogram2d"
           }
          ],
          "histogram2dcontour": [
           {
            "colorbar": {
             "outlinewidth": 0,
             "ticks": ""
            },
            "colorscale": [
             [
              0,
              "#0d0887"
             ],
             [
              0.1111111111111111,
              "#46039f"
             ],
             [
              0.2222222222222222,
              "#7201a8"
             ],
             [
              0.3333333333333333,
              "#9c179e"
             ],
             [
              0.4444444444444444,
              "#bd3786"
             ],
             [
              0.5555555555555556,
              "#d8576b"
             ],
             [
              0.6666666666666666,
              "#ed7953"
             ],
             [
              0.7777777777777778,
              "#fb9f3a"
             ],
             [
              0.8888888888888888,
              "#fdca26"
             ],
             [
              1,
              "#f0f921"
             ]
            ],
            "type": "histogram2dcontour"
           }
          ],
          "mesh3d": [
           {
            "colorbar": {
             "outlinewidth": 0,
             "ticks": ""
            },
            "type": "mesh3d"
           }
          ],
          "parcoords": [
           {
            "line": {
             "colorbar": {
              "outlinewidth": 0,
              "ticks": ""
             }
            },
            "type": "parcoords"
           }
          ],
          "pie": [
           {
            "automargin": true,
            "type": "pie"
           }
          ],
          "scatter": [
           {
            "marker": {
             "colorbar": {
              "outlinewidth": 0,
              "ticks": ""
             }
            },
            "type": "scatter"
           }
          ],
          "scatter3d": [
           {
            "line": {
             "colorbar": {
              "outlinewidth": 0,
              "ticks": ""
             }
            },
            "marker": {
             "colorbar": {
              "outlinewidth": 0,
              "ticks": ""
             }
            },
            "type": "scatter3d"
           }
          ],
          "scattercarpet": [
           {
            "marker": {
             "colorbar": {
              "outlinewidth": 0,
              "ticks": ""
             }
            },
            "type": "scattercarpet"
           }
          ],
          "scattergeo": [
           {
            "marker": {
             "colorbar": {
              "outlinewidth": 0,
              "ticks": ""
             }
            },
            "type": "scattergeo"
           }
          ],
          "scattergl": [
           {
            "marker": {
             "colorbar": {
              "outlinewidth": 0,
              "ticks": ""
             }
            },
            "type": "scattergl"
           }
          ],
          "scattermapbox": [
           {
            "marker": {
             "colorbar": {
              "outlinewidth": 0,
              "ticks": ""
             }
            },
            "type": "scattermapbox"
           }
          ],
          "scatterpolar": [
           {
            "marker": {
             "colorbar": {
              "outlinewidth": 0,
              "ticks": ""
             }
            },
            "type": "scatterpolar"
           }
          ],
          "scatterpolargl": [
           {
            "marker": {
             "colorbar": {
              "outlinewidth": 0,
              "ticks": ""
             }
            },
            "type": "scatterpolargl"
           }
          ],
          "scatterternary": [
           {
            "marker": {
             "colorbar": {
              "outlinewidth": 0,
              "ticks": ""
             }
            },
            "type": "scatterternary"
           }
          ],
          "surface": [
           {
            "colorbar": {
             "outlinewidth": 0,
             "ticks": ""
            },
            "colorscale": [
             [
              0,
              "#0d0887"
             ],
             [
              0.1111111111111111,
              "#46039f"
             ],
             [
              0.2222222222222222,
              "#7201a8"
             ],
             [
              0.3333333333333333,
              "#9c179e"
             ],
             [
              0.4444444444444444,
              "#bd3786"
             ],
             [
              0.5555555555555556,
              "#d8576b"
             ],
             [
              0.6666666666666666,
              "#ed7953"
             ],
             [
              0.7777777777777778,
              "#fb9f3a"
             ],
             [
              0.8888888888888888,
              "#fdca26"
             ],
             [
              1,
              "#f0f921"
             ]
            ],
            "type": "surface"
           }
          ],
          "table": [
           {
            "cells": {
             "fill": {
              "color": "#EBF0F8"
             },
             "line": {
              "color": "white"
             }
            },
            "header": {
             "fill": {
              "color": "#C8D4E3"
             },
             "line": {
              "color": "white"
             }
            },
            "type": "table"
           }
          ]
         },
         "layout": {
          "annotationdefaults": {
           "arrowcolor": "#2a3f5f",
           "arrowhead": 0,
           "arrowwidth": 1
          },
          "coloraxis": {
           "colorbar": {
            "outlinewidth": 0,
            "ticks": ""
           }
          },
          "colorscale": {
           "diverging": [
            [
             0,
             "#8e0152"
            ],
            [
             0.1,
             "#c51b7d"
            ],
            [
             0.2,
             "#de77ae"
            ],
            [
             0.3,
             "#f1b6da"
            ],
            [
             0.4,
             "#fde0ef"
            ],
            [
             0.5,
             "#f7f7f7"
            ],
            [
             0.6,
             "#e6f5d0"
            ],
            [
             0.7,
             "#b8e186"
            ],
            [
             0.8,
             "#7fbc41"
            ],
            [
             0.9,
             "#4d9221"
            ],
            [
             1,
             "#276419"
            ]
           ],
           "sequential": [
            [
             0,
             "#0d0887"
            ],
            [
             0.1111111111111111,
             "#46039f"
            ],
            [
             0.2222222222222222,
             "#7201a8"
            ],
            [
             0.3333333333333333,
             "#9c179e"
            ],
            [
             0.4444444444444444,
             "#bd3786"
            ],
            [
             0.5555555555555556,
             "#d8576b"
            ],
            [
             0.6666666666666666,
             "#ed7953"
            ],
            [
             0.7777777777777778,
             "#fb9f3a"
            ],
            [
             0.8888888888888888,
             "#fdca26"
            ],
            [
             1,
             "#f0f921"
            ]
           ],
           "sequentialminus": [
            [
             0,
             "#0d0887"
            ],
            [
             0.1111111111111111,
             "#46039f"
            ],
            [
             0.2222222222222222,
             "#7201a8"
            ],
            [
             0.3333333333333333,
             "#9c179e"
            ],
            [
             0.4444444444444444,
             "#bd3786"
            ],
            [
             0.5555555555555556,
             "#d8576b"
            ],
            [
             0.6666666666666666,
             "#ed7953"
            ],
            [
             0.7777777777777778,
             "#fb9f3a"
            ],
            [
             0.8888888888888888,
             "#fdca26"
            ],
            [
             1,
             "#f0f921"
            ]
           ]
          },
          "colorway": [
           "#636efa",
           "#EF553B",
           "#00cc96",
           "#ab63fa",
           "#FFA15A",
           "#19d3f3",
           "#FF6692",
           "#B6E880",
           "#FF97FF",
           "#FECB52"
          ],
          "font": {
           "color": "#2a3f5f"
          },
          "geo": {
           "bgcolor": "white",
           "lakecolor": "white",
           "landcolor": "#E5ECF6",
           "showlakes": true,
           "showland": true,
           "subunitcolor": "white"
          },
          "hoverlabel": {
           "align": "left"
          },
          "hovermode": "closest",
          "mapbox": {
           "style": "light"
          },
          "paper_bgcolor": "white",
          "plot_bgcolor": "#E5ECF6",
          "polar": {
           "angularaxis": {
            "gridcolor": "white",
            "linecolor": "white",
            "ticks": ""
           },
           "bgcolor": "#E5ECF6",
           "radialaxis": {
            "gridcolor": "white",
            "linecolor": "white",
            "ticks": ""
           }
          },
          "scene": {
           "xaxis": {
            "backgroundcolor": "#E5ECF6",
            "gridcolor": "white",
            "gridwidth": 2,
            "linecolor": "white",
            "showbackground": true,
            "ticks": "",
            "zerolinecolor": "white"
           },
           "yaxis": {
            "backgroundcolor": "#E5ECF6",
            "gridcolor": "white",
            "gridwidth": 2,
            "linecolor": "white",
            "showbackground": true,
            "ticks": "",
            "zerolinecolor": "white"
           },
           "zaxis": {
            "backgroundcolor": "#E5ECF6",
            "gridcolor": "white",
            "gridwidth": 2,
            "linecolor": "white",
            "showbackground": true,
            "ticks": "",
            "zerolinecolor": "white"
           }
          },
          "shapedefaults": {
           "line": {
            "color": "#2a3f5f"
           }
          },
          "ternary": {
           "aaxis": {
            "gridcolor": "white",
            "linecolor": "white",
            "ticks": ""
           },
           "baxis": {
            "gridcolor": "white",
            "linecolor": "white",
            "ticks": ""
           },
           "bgcolor": "#E5ECF6",
           "caxis": {
            "gridcolor": "white",
            "linecolor": "white",
            "ticks": ""
           }
          },
          "title": {
           "x": 0.05
          },
          "xaxis": {
           "automargin": true,
           "gridcolor": "white",
           "linecolor": "white",
           "ticks": "",
           "title": {
            "standoff": 15
           },
           "zerolinecolor": "white",
           "zerolinewidth": 2
          },
          "yaxis": {
           "automargin": true,
           "gridcolor": "white",
           "linecolor": "white",
           "ticks": "",
           "title": {
            "standoff": 15
           },
           "zerolinecolor": "white",
           "zerolinewidth": 2
          }
         }
        },
        "title": {
         "font": {
          "color": "#4D5663"
         }
        },
        "xaxis": {
         "gridcolor": "#E1E5ED",
         "showgrid": true,
         "tickfont": {
          "color": "#4D5663"
         },
         "title": {
          "font": {
           "color": "#4D5663"
          },
          "text": ""
         },
         "zerolinecolor": "#E1E5ED"
        },
        "yaxis": {
         "gridcolor": "#E1E5ED",
         "showgrid": true,
         "tickfont": {
          "color": "#4D5663"
         },
         "title": {
          "font": {
           "color": "#4D5663"
          },
          "text": ""
         },
         "zerolinecolor": "#E1E5ED"
        }
       }
      },
      "text/html": [
       "<div>\n",
       "        \n",
       "        \n",
       "            <div id=\"023a91f2-a170-461f-a73c-eb1b42f3da05\" class=\"plotly-graph-div\" style=\"height:525px; width:100%;\"></div>\n",
       "            <script type=\"text/javascript\">\n",
       "                require([\"plotly\"], function(Plotly) {\n",
       "                    window.PLOTLYENV=window.PLOTLYENV || {};\n",
       "                    window.PLOTLYENV.BASE_URL='https://plot.ly';\n",
       "                    \n",
       "                if (document.getElementById(\"023a91f2-a170-461f-a73c-eb1b42f3da05\")) {\n",
       "                    Plotly.newPlot(\n",
       "                        '023a91f2-a170-461f-a73c-eb1b42f3da05',\n",
       "                        [{\"histfunc\": \"count\", \"histnorm\": \"\", \"marker\": {\"color\": \"rgba(255, 153, 51, 1.0)\", \"line\": {\"color\": \"#4D5663\", \"width\": 1.3}}, \"name\": \"A\", \"nbinsx\": 25, \"opacity\": 0.8, \"orientation\": \"v\", \"type\": \"histogram\", \"x\": [0.3705878037577684, -0.6678339547302442, 1.1380918556405002, -0.675580051894025, 1.7262495731372611, -0.7346738962061609, -0.9562145225408256, 0.025148520483188185, -0.11730817837083653, -0.8875635029726676, 0.7878568424078434, 1.1653202219069316, 1.2937559144192385, -1.0658594627738625, -0.09260441995537765, -0.5159981219517672, -0.8327586860733873, -1.3749779091900383, 0.42018431850196075, 0.14709265072578784, 0.25214049237485664, -0.18919730285638245, -2.718182630893289, -2.4871101190238996, -1.0215669673578682, 0.24635506388134681, -0.10770573439041783, 0.3557554224870404, 0.031566456058262665, 0.1700452202575896, -0.9575259626465774, -0.21532599451762865, 0.5236647751886957, 1.94221152756419, 1.0739362417570109, 0.08712867977911695, -0.37107368322293466, -1.1447478368070039, 2.129917673232524, -0.9693582650304164, -0.1869513636704791, 2.2092637073763917, 1.488229125167454, 2.214050967163112, 0.6384413413698313, -1.9283759167143864, -0.4511610664062786, -0.06721145376013846, -1.8119277914008352, -0.6415871282167186, -0.09212605207912067, -0.11015367934595786, -0.2885730054311169, 0.17257802683078483, -0.34532000564412413, -0.12995888586272972, -0.4377511993519691, -1.876492612806514, -1.718838915583185, 0.0936799439467252, 0.47001537739454224, -2.8410006043336353, 1.704730125268345, 0.20259501783314926, -0.4206312134987387, 0.839068083396662, -0.5043104052179739, 0.4731676005007791, 0.19311114687310646, 0.4716117801712886, 1.8908763742207517, -1.334644125974962, -0.11766425437807593, 1.6565164720427392, -1.5568524437600175, -0.5680816820553658, -0.5344358887477514, 0.1900277548085487, 0.7565155724048774, 1.9865304358054405, -0.3281632782126243, -2.127189864605686, -0.39679487724212614, -0.3050622209272501, -1.2578147927340104, -0.17726760140269482, -1.5401904883006807, -0.5614175852880462, -1.967164616628011, -0.38255077923662584, 1.1503595634830022, 0.2576042608917582, 1.2135540045813504, -0.4161542112158181, 2.1297943647777084, 1.3264977923735735, -0.4404670901208818, 0.48124473164937726, 0.5839900293237509, 1.076803896700854]}],\n",
       "                        {\"barmode\": \"overlay\", \"legend\": {\"bgcolor\": \"#F5F6F9\", \"font\": {\"color\": \"#4D5663\"}}, \"paper_bgcolor\": \"#F5F6F9\", \"plot_bgcolor\": \"#F5F6F9\", \"template\": {\"data\": {\"bar\": [{\"error_x\": {\"color\": \"#2a3f5f\"}, \"error_y\": {\"color\": \"#2a3f5f\"}, \"marker\": {\"line\": {\"color\": \"#E5ECF6\", \"width\": 0.5}}, \"type\": \"bar\"}], \"barpolar\": [{\"marker\": {\"line\": {\"color\": \"#E5ECF6\", \"width\": 0.5}}, \"type\": \"barpolar\"}], \"carpet\": [{\"aaxis\": {\"endlinecolor\": \"#2a3f5f\", \"gridcolor\": \"white\", \"linecolor\": \"white\", \"minorgridcolor\": \"white\", \"startlinecolor\": \"#2a3f5f\"}, \"baxis\": {\"endlinecolor\": \"#2a3f5f\", \"gridcolor\": \"white\", \"linecolor\": \"white\", \"minorgridcolor\": \"white\", \"startlinecolor\": \"#2a3f5f\"}, \"type\": \"carpet\"}], \"choropleth\": [{\"colorbar\": {\"outlinewidth\": 0, \"ticks\": \"\"}, \"type\": \"choropleth\"}], \"contour\": [{\"colorbar\": {\"outlinewidth\": 0, \"ticks\": \"\"}, \"colorscale\": [[0.0, \"#0d0887\"], [0.1111111111111111, \"#46039f\"], [0.2222222222222222, \"#7201a8\"], [0.3333333333333333, \"#9c179e\"], [0.4444444444444444, \"#bd3786\"], [0.5555555555555556, \"#d8576b\"], [0.6666666666666666, \"#ed7953\"], [0.7777777777777778, \"#fb9f3a\"], [0.8888888888888888, \"#fdca26\"], [1.0, \"#f0f921\"]], \"type\": \"contour\"}], \"contourcarpet\": [{\"colorbar\": {\"outlinewidth\": 0, \"ticks\": \"\"}, \"type\": \"contourcarpet\"}], \"heatmap\": [{\"colorbar\": {\"outlinewidth\": 0, \"ticks\": \"\"}, \"colorscale\": [[0.0, \"#0d0887\"], [0.1111111111111111, \"#46039f\"], [0.2222222222222222, \"#7201a8\"], [0.3333333333333333, \"#9c179e\"], [0.4444444444444444, \"#bd3786\"], [0.5555555555555556, \"#d8576b\"], [0.6666666666666666, \"#ed7953\"], [0.7777777777777778, \"#fb9f3a\"], [0.8888888888888888, \"#fdca26\"], [1.0, \"#f0f921\"]], \"type\": \"heatmap\"}], \"heatmapgl\": [{\"colorbar\": {\"outlinewidth\": 0, \"ticks\": \"\"}, \"colorscale\": [[0.0, \"#0d0887\"], [0.1111111111111111, \"#46039f\"], [0.2222222222222222, \"#7201a8\"], [0.3333333333333333, \"#9c179e\"], [0.4444444444444444, \"#bd3786\"], [0.5555555555555556, \"#d8576b\"], [0.6666666666666666, \"#ed7953\"], [0.7777777777777778, \"#fb9f3a\"], [0.8888888888888888, \"#fdca26\"], [1.0, \"#f0f921\"]], \"type\": \"heatmapgl\"}], \"histogram\": [{\"marker\": {\"colorbar\": {\"outlinewidth\": 0, \"ticks\": \"\"}}, \"type\": \"histogram\"}], \"histogram2d\": [{\"colorbar\": {\"outlinewidth\": 0, \"ticks\": \"\"}, \"colorscale\": [[0.0, \"#0d0887\"], [0.1111111111111111, \"#46039f\"], [0.2222222222222222, \"#7201a8\"], [0.3333333333333333, \"#9c179e\"], [0.4444444444444444, \"#bd3786\"], [0.5555555555555556, \"#d8576b\"], [0.6666666666666666, \"#ed7953\"], [0.7777777777777778, \"#fb9f3a\"], [0.8888888888888888, \"#fdca26\"], [1.0, \"#f0f921\"]], \"type\": \"histogram2d\"}], \"histogram2dcontour\": [{\"colorbar\": {\"outlinewidth\": 0, \"ticks\": \"\"}, \"colorscale\": [[0.0, \"#0d0887\"], [0.1111111111111111, \"#46039f\"], [0.2222222222222222, \"#7201a8\"], [0.3333333333333333, \"#9c179e\"], [0.4444444444444444, \"#bd3786\"], [0.5555555555555556, \"#d8576b\"], [0.6666666666666666, \"#ed7953\"], [0.7777777777777778, \"#fb9f3a\"], [0.8888888888888888, \"#fdca26\"], [1.0, \"#f0f921\"]], \"type\": \"histogram2dcontour\"}], \"mesh3d\": [{\"colorbar\": {\"outlinewidth\": 0, \"ticks\": \"\"}, \"type\": \"mesh3d\"}], \"parcoords\": [{\"line\": {\"colorbar\": {\"outlinewidth\": 0, \"ticks\": \"\"}}, \"type\": \"parcoords\"}], \"pie\": [{\"automargin\": true, \"type\": \"pie\"}], \"scatter\": [{\"marker\": {\"colorbar\": {\"outlinewidth\": 0, \"ticks\": \"\"}}, \"type\": \"scatter\"}], \"scatter3d\": [{\"line\": {\"colorbar\": {\"outlinewidth\": 0, \"ticks\": \"\"}}, \"marker\": {\"colorbar\": {\"outlinewidth\": 0, \"ticks\": \"\"}}, \"type\": \"scatter3d\"}], \"scattercarpet\": [{\"marker\": {\"colorbar\": {\"outlinewidth\": 0, \"ticks\": \"\"}}, \"type\": \"scattercarpet\"}], \"scattergeo\": [{\"marker\": {\"colorbar\": {\"outlinewidth\": 0, \"ticks\": \"\"}}, \"type\": \"scattergeo\"}], \"scattergl\": [{\"marker\": {\"colorbar\": {\"outlinewidth\": 0, \"ticks\": \"\"}}, \"type\": \"scattergl\"}], \"scattermapbox\": [{\"marker\": {\"colorbar\": {\"outlinewidth\": 0, \"ticks\": \"\"}}, \"type\": \"scattermapbox\"}], \"scatterpolar\": [{\"marker\": {\"colorbar\": {\"outlinewidth\": 0, \"ticks\": \"\"}}, \"type\": \"scatterpolar\"}], \"scatterpolargl\": [{\"marker\": {\"colorbar\": {\"outlinewidth\": 0, \"ticks\": \"\"}}, \"type\": \"scatterpolargl\"}], \"scatterternary\": [{\"marker\": {\"colorbar\": {\"outlinewidth\": 0, \"ticks\": \"\"}}, \"type\": \"scatterternary\"}], \"surface\": [{\"colorbar\": {\"outlinewidth\": 0, \"ticks\": \"\"}, \"colorscale\": [[0.0, \"#0d0887\"], [0.1111111111111111, \"#46039f\"], [0.2222222222222222, \"#7201a8\"], [0.3333333333333333, \"#9c179e\"], [0.4444444444444444, \"#bd3786\"], [0.5555555555555556, \"#d8576b\"], [0.6666666666666666, \"#ed7953\"], [0.7777777777777778, \"#fb9f3a\"], [0.8888888888888888, \"#fdca26\"], [1.0, \"#f0f921\"]], \"type\": \"surface\"}], \"table\": [{\"cells\": {\"fill\": {\"color\": \"#EBF0F8\"}, \"line\": {\"color\": \"white\"}}, \"header\": {\"fill\": {\"color\": \"#C8D4E3\"}, \"line\": {\"color\": \"white\"}}, \"type\": \"table\"}]}, \"layout\": {\"annotationdefaults\": {\"arrowcolor\": \"#2a3f5f\", \"arrowhead\": 0, \"arrowwidth\": 1}, \"coloraxis\": {\"colorbar\": {\"outlinewidth\": 0, \"ticks\": \"\"}}, \"colorscale\": {\"diverging\": [[0, \"#8e0152\"], [0.1, \"#c51b7d\"], [0.2, \"#de77ae\"], [0.3, \"#f1b6da\"], [0.4, \"#fde0ef\"], [0.5, \"#f7f7f7\"], [0.6, \"#e6f5d0\"], [0.7, \"#b8e186\"], [0.8, \"#7fbc41\"], [0.9, \"#4d9221\"], [1, \"#276419\"]], \"sequential\": [[0.0, \"#0d0887\"], [0.1111111111111111, \"#46039f\"], [0.2222222222222222, \"#7201a8\"], [0.3333333333333333, \"#9c179e\"], [0.4444444444444444, \"#bd3786\"], [0.5555555555555556, \"#d8576b\"], [0.6666666666666666, \"#ed7953\"], [0.7777777777777778, \"#fb9f3a\"], [0.8888888888888888, \"#fdca26\"], [1.0, \"#f0f921\"]], \"sequentialminus\": [[0.0, \"#0d0887\"], [0.1111111111111111, \"#46039f\"], [0.2222222222222222, \"#7201a8\"], [0.3333333333333333, \"#9c179e\"], [0.4444444444444444, \"#bd3786\"], [0.5555555555555556, \"#d8576b\"], [0.6666666666666666, \"#ed7953\"], [0.7777777777777778, \"#fb9f3a\"], [0.8888888888888888, \"#fdca26\"], [1.0, \"#f0f921\"]]}, \"colorway\": [\"#636efa\", \"#EF553B\", \"#00cc96\", \"#ab63fa\", \"#FFA15A\", \"#19d3f3\", \"#FF6692\", \"#B6E880\", \"#FF97FF\", \"#FECB52\"], \"font\": {\"color\": \"#2a3f5f\"}, \"geo\": {\"bgcolor\": \"white\", \"lakecolor\": \"white\", \"landcolor\": \"#E5ECF6\", \"showlakes\": true, \"showland\": true, \"subunitcolor\": \"white\"}, \"hoverlabel\": {\"align\": \"left\"}, \"hovermode\": \"closest\", \"mapbox\": {\"style\": \"light\"}, \"paper_bgcolor\": \"white\", \"plot_bgcolor\": \"#E5ECF6\", \"polar\": {\"angularaxis\": {\"gridcolor\": \"white\", \"linecolor\": \"white\", \"ticks\": \"\"}, \"bgcolor\": \"#E5ECF6\", \"radialaxis\": {\"gridcolor\": \"white\", \"linecolor\": \"white\", \"ticks\": \"\"}}, \"scene\": {\"xaxis\": {\"backgroundcolor\": \"#E5ECF6\", \"gridcolor\": \"white\", \"gridwidth\": 2, \"linecolor\": \"white\", \"showbackground\": true, \"ticks\": \"\", \"zerolinecolor\": \"white\"}, \"yaxis\": {\"backgroundcolor\": \"#E5ECF6\", \"gridcolor\": \"white\", \"gridwidth\": 2, \"linecolor\": \"white\", \"showbackground\": true, \"ticks\": \"\", \"zerolinecolor\": \"white\"}, \"zaxis\": {\"backgroundcolor\": \"#E5ECF6\", \"gridcolor\": \"white\", \"gridwidth\": 2, \"linecolor\": \"white\", \"showbackground\": true, \"ticks\": \"\", \"zerolinecolor\": \"white\"}}, \"shapedefaults\": {\"line\": {\"color\": \"#2a3f5f\"}}, \"ternary\": {\"aaxis\": {\"gridcolor\": \"white\", \"linecolor\": \"white\", \"ticks\": \"\"}, \"baxis\": {\"gridcolor\": \"white\", \"linecolor\": \"white\", \"ticks\": \"\"}, \"bgcolor\": \"#E5ECF6\", \"caxis\": {\"gridcolor\": \"white\", \"linecolor\": \"white\", \"ticks\": \"\"}}, \"title\": {\"x\": 0.05}, \"xaxis\": {\"automargin\": true, \"gridcolor\": \"white\", \"linecolor\": \"white\", \"ticks\": \"\", \"title\": {\"standoff\": 15}, \"zerolinecolor\": \"white\", \"zerolinewidth\": 2}, \"yaxis\": {\"automargin\": true, \"gridcolor\": \"white\", \"linecolor\": \"white\", \"ticks\": \"\", \"title\": {\"standoff\": 15}, \"zerolinecolor\": \"white\", \"zerolinewidth\": 2}}}, \"title\": {\"font\": {\"color\": \"#4D5663\"}}, \"xaxis\": {\"gridcolor\": \"#E1E5ED\", \"showgrid\": true, \"tickfont\": {\"color\": \"#4D5663\"}, \"title\": {\"font\": {\"color\": \"#4D5663\"}, \"text\": \"\"}, \"zerolinecolor\": \"#E1E5ED\"}, \"yaxis\": {\"gridcolor\": \"#E1E5ED\", \"showgrid\": true, \"tickfont\": {\"color\": \"#4D5663\"}, \"title\": {\"font\": {\"color\": \"#4D5663\"}, \"text\": \"\"}, \"zerolinecolor\": \"#E1E5ED\"}},\n",
       "                        {\"showLink\": true, \"linkText\": \"Export to plot.ly\", \"plotlyServerURL\": \"https://plot.ly\", \"responsive\": true}\n",
       "                    ).then(function(){\n",
       "                            \n",
       "var gd = document.getElementById('023a91f2-a170-461f-a73c-eb1b42f3da05');\n",
       "var x = new MutationObserver(function (mutations, observer) {{\n",
       "        var display = window.getComputedStyle(gd).display;\n",
       "        if (!display || display === 'none') {{\n",
       "            console.log([gd, 'removed!']);\n",
       "            Plotly.purge(gd);\n",
       "            observer.disconnect();\n",
       "        }}\n",
       "}});\n",
       "\n",
       "// Listen for the removal of the full notebook cells\n",
       "var notebookContainer = gd.closest('#notebook-container');\n",
       "if (notebookContainer) {{\n",
       "    x.observe(notebookContainer, {childList: true});\n",
       "}}\n",
       "\n",
       "// Listen for the clearing of the current output cell\n",
       "var outputEl = gd.closest('.output');\n",
       "if (outputEl) {{\n",
       "    x.observe(outputEl, {childList: true});\n",
       "}}\n",
       "\n",
       "                        })\n",
       "                };\n",
       "                });\n",
       "            </script>\n",
       "        </div>"
      ]
     },
     "metadata": {},
     "output_type": "display_data"
    }
   ],
   "source": [
    "df['A'].iplot(kind='hist',bins=25)"
   ]
  },
  {
   "cell_type": "code",
   "execution_count": 19,
   "metadata": {},
   "outputs": [
    {
     "data": {
      "application/vnd.plotly.v1+json": {
       "config": {
        "linkText": "Export to plot.ly",
        "plotlyServerURL": "https://plot.ly",
        "showLink": true
       },
       "data": [
        {
         "histfunc": "count",
         "histnorm": "",
         "marker": {
          "color": "rgba(255, 153, 51, 1.0)",
          "line": {
           "color": "#4D5663",
           "width": 1.3
          }
         },
         "name": "A",
         "opacity": 0.8,
         "orientation": "v",
         "type": "histogram",
         "x": [
          0.3705878037577684,
          -0.6678339547302442,
          1.1380918556405002,
          -0.675580051894025,
          1.7262495731372611,
          -0.7346738962061609,
          -0.9562145225408256,
          0.025148520483188185,
          -0.11730817837083653,
          -0.8875635029726676,
          0.7878568424078434,
          1.1653202219069316,
          1.2937559144192385,
          -1.0658594627738625,
          -0.09260441995537765,
          -0.5159981219517672,
          -0.8327586860733873,
          -1.3749779091900383,
          0.42018431850196075,
          0.14709265072578784,
          0.25214049237485664,
          -0.18919730285638245,
          -2.718182630893289,
          -2.4871101190238996,
          -1.0215669673578682,
          0.24635506388134681,
          -0.10770573439041783,
          0.3557554224870404,
          0.031566456058262665,
          0.1700452202575896,
          -0.9575259626465774,
          -0.21532599451762865,
          0.5236647751886957,
          1.94221152756419,
          1.0739362417570109,
          0.08712867977911695,
          -0.37107368322293466,
          -1.1447478368070039,
          2.129917673232524,
          -0.9693582650304164,
          -0.1869513636704791,
          2.2092637073763917,
          1.488229125167454,
          2.214050967163112,
          0.6384413413698313,
          -1.9283759167143864,
          -0.4511610664062786,
          -0.06721145376013846,
          -1.8119277914008352,
          -0.6415871282167186,
          -0.09212605207912067,
          -0.11015367934595786,
          -0.2885730054311169,
          0.17257802683078483,
          -0.34532000564412413,
          -0.12995888586272972,
          -0.4377511993519691,
          -1.876492612806514,
          -1.718838915583185,
          0.0936799439467252,
          0.47001537739454224,
          -2.8410006043336353,
          1.704730125268345,
          0.20259501783314926,
          -0.4206312134987387,
          0.839068083396662,
          -0.5043104052179739,
          0.4731676005007791,
          0.19311114687310646,
          0.4716117801712886,
          1.8908763742207517,
          -1.334644125974962,
          -0.11766425437807593,
          1.6565164720427392,
          -1.5568524437600175,
          -0.5680816820553658,
          -0.5344358887477514,
          0.1900277548085487,
          0.7565155724048774,
          1.9865304358054405,
          -0.3281632782126243,
          -2.127189864605686,
          -0.39679487724212614,
          -0.3050622209272501,
          -1.2578147927340104,
          -0.17726760140269482,
          -1.5401904883006807,
          -0.5614175852880462,
          -1.967164616628011,
          -0.38255077923662584,
          1.1503595634830022,
          0.2576042608917582,
          1.2135540045813504,
          -0.4161542112158181,
          2.1297943647777084,
          1.3264977923735735,
          -0.4404670901208818,
          0.48124473164937726,
          0.5839900293237509,
          1.076803896700854
         ]
        },
        {
         "histfunc": "count",
         "histnorm": "",
         "marker": {
          "color": "rgba(55, 128, 191, 1.0)",
          "line": {
           "color": "#4D5663",
           "width": 1.3
          }
         },
         "name": "B",
         "opacity": 0.8,
         "orientation": "v",
         "type": "histogram",
         "x": [
          -0.9026182879513235,
          -0.8429681388249898,
          0.9540726979032438,
          -0.23251275860498477,
          0.34349554969697677,
          -0.6219462410445961,
          -2.0006622694901433,
          1.2051941291240547,
          -0.13994760501934572,
          1.4084984797743516,
          -1.4406185815567676,
          2.203571063939216,
          -0.7573170225475241,
          -1.3938894902922006,
          -1.5080691322024262,
          -0.14327068342977814,
          0.037417546547547115,
          1.6462587562862911,
          -0.09803460519806916,
          -0.14996665115790409,
          0.21163564577514976,
          1.0263341563855668,
          -2.1541928508243413,
          0.5266668698269917,
          -1.55295581817936,
          -0.1945656521063503,
          0.4888954405211421,
          -1.0860016057795432,
          0.6863853333595958,
          1.5301495976534594,
          0.9766721778910605,
          1.336524835836653,
          -1.2007448477602651,
          0.06634015015393542,
          1.2366217573413492,
          -0.8777425551106883,
          0.6838574049901874,
          1.4325415795887664,
          -0.9916589198409315,
          -1.4400899617991463,
          -1.2559540357374495,
          0.6110065450279094,
          -1.0390703837403927,
          0.7226262599610198,
          -2.676636290627523,
          -0.7200323899747009,
          0.0773058348349942,
          -1.123920139622418,
          -1.5943451488747178,
          0.09570172620242262,
          0.031109758935364544,
          0.5486092430934341,
          -0.9783856846534326,
          -0.37782591930038695,
          2.04289799639152,
          2.695461751334061,
          0.42866956560443514,
          0.06570107039637005,
          0.3406308372199238,
          -0.13963619271339842,
          2.08286852359131,
          -1.2438740075995987,
          -1.0244756191667646,
          -1.218721967500244,
          -0.574858657178294,
          2.92238752045327,
          0.49989326896154135,
          -1.228574562429567,
          0.96213081663357,
          -1.7825877071155352,
          -0.8255838017224469,
          -0.2647822588269775,
          1.3393791985468635,
          -0.39866530169448894,
          0.7530286903232385,
          0.702494600097855,
          -2.9359052065235454,
          1.737741342697497,
          -0.27851189827084305,
          2.519831534981045,
          0.9039598139975631,
          -0.11495144416259331,
          1.7927453018094415,
          1.0292143655851063,
          0.9950063877604468,
          0.7302318326789189,
          -1.0215696369523628,
          0.3528032997113076,
          -1.5412449038618279,
          -0.5806327163073665,
          0.5350868251094306,
          -1.6961570456962733,
          0.5796026289085382,
          -0.30485897618670443,
          -1.6535985994040143,
          1.0991402504723242,
          0.5477912575339169,
          -1.6636610596560424,
          0.48997625929201616,
          -2.015300619743853
         ]
        },
        {
         "histfunc": "count",
         "histnorm": "",
         "marker": {
          "color": "rgba(50, 171, 96, 1.0)",
          "line": {
           "color": "#4D5663",
           "width": 1.3
          }
         },
         "name": "C",
         "opacity": 0.8,
         "orientation": "v",
         "type": "histogram",
         "x": [
          -0.5998922748226837,
          1.0401232639605857,
          -1.3701390540574003,
          0.307367401403588,
          -1.0799042915348378,
          -0.9813177044008539,
          0.4770731548160624,
          -0.5826732258653297,
          -0.6035195659833387,
          -0.0258865493970227,
          -0.8230608255643124,
          1.6943105314625253,
          -0.9563104649466695,
          1.4177953890193729,
          1.6273911971295223,
          -0.2578227224315953,
          0.26004100762205856,
          -1.697537184922374,
          -0.3812906397479519,
          0.1722461009838956,
          -0.4556650197368004,
          -2.495653667611221,
          1.097080665209218,
          -0.13077845197865856,
          1.1074694634752067,
          -1.7294470216683682,
          -0.26705895882833,
          0.3251636428314838,
          0.5361169732425961,
          1.589969134302654,
          -0.15735546537356165,
          -0.7995419169077077,
          1.8376619277966697,
          -0.15187825852893375,
          0.04374985851141635,
          -0.23823958694361272,
          0.764467916710477,
          -0.7554188593905685,
          0.6921743026950641,
          0.03290908332584349,
          2.0433745991251198,
          0.6102966937575419,
          -0.17802755313353924,
          0.8218065247920904,
          0.12142670746890857,
          0.09815011007935072,
          -0.29780293511282513,
          -0.4526326974716961,
          -0.12252382350765847,
          -0.7900818595884559,
          -1.1008843446675154,
          -0.07630183113288294,
          0.2802494823029372,
          1.0161020693800689,
          -0.071570854643028,
          -0.5531877476244556,
          -1.9807446325723932,
          -0.8091256988385362,
          -1.7009786854539621,
          0.24777396683941133,
          -0.2699730156670374,
          0.7299970552803603,
          -0.556742101854421,
          -1.6052585106866015,
          -0.7802709940324564,
          1.0178771189571585,
          0.3065709276649882,
          -1.3304863582651418,
          -0.2865475537453356,
          0.9070300290159293,
          0.4843256513077551,
          0.17691226867134244,
          -0.609623055568708,
          -1.0861291448568933,
          0.7194756521047455,
          0.6065091377263108,
          0.33760317323029176,
          0.39774407638368164,
          -0.7590447844571399,
          0.8520210686986877,
          0.44533746837968435,
          0.4507753644951477,
          -1.088986892953632,
          0.4693496772868247,
          1.0556025178684072,
          -1.4878323098061323,
          1.3625106657117196,
          -1.8917699176948377,
          0.4095272296787832,
          -0.9221182812831743,
          -1.4542834127024287,
          -0.18464768530778417,
          1.0959242606698392,
          -0.8935725350190782,
          1.4342173284967896,
          1.8371179074984076,
          -0.5299449866725706,
          1.2646796592685872,
          1.3239105830431595,
          0.6861574912304074
         ]
        },
        {
         "histfunc": "count",
         "histnorm": "",
         "marker": {
          "color": "rgba(128, 0, 128, 1.0)",
          "line": {
           "color": "#4D5663",
           "width": 1.3
          }
         },
         "name": "D",
         "opacity": 0.8,
         "orientation": "v",
         "type": "histogram",
         "x": [
          -0.3484290193324681,
          1.2493318120026027,
          0.6195953989316635,
          -0.10007648659084645,
          -0.848659613914679,
          -1.2072222170818043,
          0.1331176062784441,
          -0.01646742972146636,
          -0.37225133150837864,
          0.11229352710673653,
          0.6366971125581358,
          1.545579307785409,
          0.15580916850848148,
          -0.3314672607660011,
          0.7929866166535395,
          0.8941052725838416,
          -0.14329935045522949,
          1.3196350077045846,
          -0.096788026963216,
          -0.8346083847204316,
          1.2032145169230912,
          -0.38071240368744474,
          -0.3098611358309325,
          -1.736361585718667,
          -2.1199279881649593,
          -1.5794355446796786,
          -1.2791643506642554,
          -1.4992239299870747,
          -0.03425548013030693,
          -0.1206142170620143,
          0.3451768520894632,
          0.6844729058258141,
          -0.8376759964545056,
          1.241591779090792,
          -1.3881052068053508,
          1.1012224452147994,
          -1.0975287473015383,
          0.5041699155349165,
          0.7160675347296979,
          -1.2093109533153736,
          -0.24711334829147724,
          -0.5889737991894741,
          -0.5366652084809301,
          0.3310628341514247,
          0.06631259446541207,
          -0.28759721211797773,
          -1.1155536161178887,
          -0.11610402773542693,
          -0.4429351529770189,
          1.4270945875382393,
          0.6491689023501485,
          0.4883187223682674,
          0.14973969661131312,
          1.3875615203236902,
          0.035749576155775536,
          0.17155751012655765,
          -0.08973447587317929,
          0.6232701155816891,
          -0.34499518674366153,
          -2.1703151733281087,
          0.1797106006356278,
          -0.9074164273981294,
          -0.531983574715416,
          -0.8338018217815336,
          -0.7465538070712631,
          0.3789556341758663,
          3.075277236055962,
          -0.19053133737678485,
          0.8643667689060618,
          2.4980523172364046,
          -0.04232670805240006,
          1.2480572144201294,
          1.541103715916894,
          -1.7373434081652341,
          1.4565399138714257,
          -0.4710155743441887,
          0.6801057596111969,
          0.18764949278207416,
          0.4735916382674086,
          -3.356995673638782,
          -0.3019626812744328,
          -2.2403559426949933,
          -1.6319267400086224,
          0.8824560086615363,
          1.1468628425988923,
          -0.53925633992263,
          -0.1995850040866459,
          0.005847650698243115,
          2.410480925201785,
          -0.44772196459658326,
          -1.6552711703176686,
          -0.23346162577694834,
          -0.06260196282696313,
          -0.4749436357111602,
          -1.587230525836392,
          0.46603024198579857,
          -0.003303137021653763,
          -0.6821232266716004,
          0.8182169465651061,
          -0.6364533045515591
         ]
        }
       ],
       "layout": {
        "barmode": "overlay",
        "legend": {
         "bgcolor": "#F5F6F9",
         "font": {
          "color": "#4D5663"
         }
        },
        "paper_bgcolor": "#F5F6F9",
        "plot_bgcolor": "#F5F6F9",
        "template": {
         "data": {
          "bar": [
           {
            "error_x": {
             "color": "#2a3f5f"
            },
            "error_y": {
             "color": "#2a3f5f"
            },
            "marker": {
             "line": {
              "color": "#E5ECF6",
              "width": 0.5
             }
            },
            "type": "bar"
           }
          ],
          "barpolar": [
           {
            "marker": {
             "line": {
              "color": "#E5ECF6",
              "width": 0.5
             }
            },
            "type": "barpolar"
           }
          ],
          "carpet": [
           {
            "aaxis": {
             "endlinecolor": "#2a3f5f",
             "gridcolor": "white",
             "linecolor": "white",
             "minorgridcolor": "white",
             "startlinecolor": "#2a3f5f"
            },
            "baxis": {
             "endlinecolor": "#2a3f5f",
             "gridcolor": "white",
             "linecolor": "white",
             "minorgridcolor": "white",
             "startlinecolor": "#2a3f5f"
            },
            "type": "carpet"
           }
          ],
          "choropleth": [
           {
            "colorbar": {
             "outlinewidth": 0,
             "ticks": ""
            },
            "type": "choropleth"
           }
          ],
          "contour": [
           {
            "colorbar": {
             "outlinewidth": 0,
             "ticks": ""
            },
            "colorscale": [
             [
              0,
              "#0d0887"
             ],
             [
              0.1111111111111111,
              "#46039f"
             ],
             [
              0.2222222222222222,
              "#7201a8"
             ],
             [
              0.3333333333333333,
              "#9c179e"
             ],
             [
              0.4444444444444444,
              "#bd3786"
             ],
             [
              0.5555555555555556,
              "#d8576b"
             ],
             [
              0.6666666666666666,
              "#ed7953"
             ],
             [
              0.7777777777777778,
              "#fb9f3a"
             ],
             [
              0.8888888888888888,
              "#fdca26"
             ],
             [
              1,
              "#f0f921"
             ]
            ],
            "type": "contour"
           }
          ],
          "contourcarpet": [
           {
            "colorbar": {
             "outlinewidth": 0,
             "ticks": ""
            },
            "type": "contourcarpet"
           }
          ],
          "heatmap": [
           {
            "colorbar": {
             "outlinewidth": 0,
             "ticks": ""
            },
            "colorscale": [
             [
              0,
              "#0d0887"
             ],
             [
              0.1111111111111111,
              "#46039f"
             ],
             [
              0.2222222222222222,
              "#7201a8"
             ],
             [
              0.3333333333333333,
              "#9c179e"
             ],
             [
              0.4444444444444444,
              "#bd3786"
             ],
             [
              0.5555555555555556,
              "#d8576b"
             ],
             [
              0.6666666666666666,
              "#ed7953"
             ],
             [
              0.7777777777777778,
              "#fb9f3a"
             ],
             [
              0.8888888888888888,
              "#fdca26"
             ],
             [
              1,
              "#f0f921"
             ]
            ],
            "type": "heatmap"
           }
          ],
          "heatmapgl": [
           {
            "colorbar": {
             "outlinewidth": 0,
             "ticks": ""
            },
            "colorscale": [
             [
              0,
              "#0d0887"
             ],
             [
              0.1111111111111111,
              "#46039f"
             ],
             [
              0.2222222222222222,
              "#7201a8"
             ],
             [
              0.3333333333333333,
              "#9c179e"
             ],
             [
              0.4444444444444444,
              "#bd3786"
             ],
             [
              0.5555555555555556,
              "#d8576b"
             ],
             [
              0.6666666666666666,
              "#ed7953"
             ],
             [
              0.7777777777777778,
              "#fb9f3a"
             ],
             [
              0.8888888888888888,
              "#fdca26"
             ],
             [
              1,
              "#f0f921"
             ]
            ],
            "type": "heatmapgl"
           }
          ],
          "histogram": [
           {
            "marker": {
             "colorbar": {
              "outlinewidth": 0,
              "ticks": ""
             }
            },
            "type": "histogram"
           }
          ],
          "histogram2d": [
           {
            "colorbar": {
             "outlinewidth": 0,
             "ticks": ""
            },
            "colorscale": [
             [
              0,
              "#0d0887"
             ],
             [
              0.1111111111111111,
              "#46039f"
             ],
             [
              0.2222222222222222,
              "#7201a8"
             ],
             [
              0.3333333333333333,
              "#9c179e"
             ],
             [
              0.4444444444444444,
              "#bd3786"
             ],
             [
              0.5555555555555556,
              "#d8576b"
             ],
             [
              0.6666666666666666,
              "#ed7953"
             ],
             [
              0.7777777777777778,
              "#fb9f3a"
             ],
             [
              0.8888888888888888,
              "#fdca26"
             ],
             [
              1,
              "#f0f921"
             ]
            ],
            "type": "histogram2d"
           }
          ],
          "histogram2dcontour": [
           {
            "colorbar": {
             "outlinewidth": 0,
             "ticks": ""
            },
            "colorscale": [
             [
              0,
              "#0d0887"
             ],
             [
              0.1111111111111111,
              "#46039f"
             ],
             [
              0.2222222222222222,
              "#7201a8"
             ],
             [
              0.3333333333333333,
              "#9c179e"
             ],
             [
              0.4444444444444444,
              "#bd3786"
             ],
             [
              0.5555555555555556,
              "#d8576b"
             ],
             [
              0.6666666666666666,
              "#ed7953"
             ],
             [
              0.7777777777777778,
              "#fb9f3a"
             ],
             [
              0.8888888888888888,
              "#fdca26"
             ],
             [
              1,
              "#f0f921"
             ]
            ],
            "type": "histogram2dcontour"
           }
          ],
          "mesh3d": [
           {
            "colorbar": {
             "outlinewidth": 0,
             "ticks": ""
            },
            "type": "mesh3d"
           }
          ],
          "parcoords": [
           {
            "line": {
             "colorbar": {
              "outlinewidth": 0,
              "ticks": ""
             }
            },
            "type": "parcoords"
           }
          ],
          "pie": [
           {
            "automargin": true,
            "type": "pie"
           }
          ],
          "scatter": [
           {
            "marker": {
             "colorbar": {
              "outlinewidth": 0,
              "ticks": ""
             }
            },
            "type": "scatter"
           }
          ],
          "scatter3d": [
           {
            "line": {
             "colorbar": {
              "outlinewidth": 0,
              "ticks": ""
             }
            },
            "marker": {
             "colorbar": {
              "outlinewidth": 0,
              "ticks": ""
             }
            },
            "type": "scatter3d"
           }
          ],
          "scattercarpet": [
           {
            "marker": {
             "colorbar": {
              "outlinewidth": 0,
              "ticks": ""
             }
            },
            "type": "scattercarpet"
           }
          ],
          "scattergeo": [
           {
            "marker": {
             "colorbar": {
              "outlinewidth": 0,
              "ticks": ""
             }
            },
            "type": "scattergeo"
           }
          ],
          "scattergl": [
           {
            "marker": {
             "colorbar": {
              "outlinewidth": 0,
              "ticks": ""
             }
            },
            "type": "scattergl"
           }
          ],
          "scattermapbox": [
           {
            "marker": {
             "colorbar": {
              "outlinewidth": 0,
              "ticks": ""
             }
            },
            "type": "scattermapbox"
           }
          ],
          "scatterpolar": [
           {
            "marker": {
             "colorbar": {
              "outlinewidth": 0,
              "ticks": ""
             }
            },
            "type": "scatterpolar"
           }
          ],
          "scatterpolargl": [
           {
            "marker": {
             "colorbar": {
              "outlinewidth": 0,
              "ticks": ""
             }
            },
            "type": "scatterpolargl"
           }
          ],
          "scatterternary": [
           {
            "marker": {
             "colorbar": {
              "outlinewidth": 0,
              "ticks": ""
             }
            },
            "type": "scatterternary"
           }
          ],
          "surface": [
           {
            "colorbar": {
             "outlinewidth": 0,
             "ticks": ""
            },
            "colorscale": [
             [
              0,
              "#0d0887"
             ],
             [
              0.1111111111111111,
              "#46039f"
             ],
             [
              0.2222222222222222,
              "#7201a8"
             ],
             [
              0.3333333333333333,
              "#9c179e"
             ],
             [
              0.4444444444444444,
              "#bd3786"
             ],
             [
              0.5555555555555556,
              "#d8576b"
             ],
             [
              0.6666666666666666,
              "#ed7953"
             ],
             [
              0.7777777777777778,
              "#fb9f3a"
             ],
             [
              0.8888888888888888,
              "#fdca26"
             ],
             [
              1,
              "#f0f921"
             ]
            ],
            "type": "surface"
           }
          ],
          "table": [
           {
            "cells": {
             "fill": {
              "color": "#EBF0F8"
             },
             "line": {
              "color": "white"
             }
            },
            "header": {
             "fill": {
              "color": "#C8D4E3"
             },
             "line": {
              "color": "white"
             }
            },
            "type": "table"
           }
          ]
         },
         "layout": {
          "annotationdefaults": {
           "arrowcolor": "#2a3f5f",
           "arrowhead": 0,
           "arrowwidth": 1
          },
          "coloraxis": {
           "colorbar": {
            "outlinewidth": 0,
            "ticks": ""
           }
          },
          "colorscale": {
           "diverging": [
            [
             0,
             "#8e0152"
            ],
            [
             0.1,
             "#c51b7d"
            ],
            [
             0.2,
             "#de77ae"
            ],
            [
             0.3,
             "#f1b6da"
            ],
            [
             0.4,
             "#fde0ef"
            ],
            [
             0.5,
             "#f7f7f7"
            ],
            [
             0.6,
             "#e6f5d0"
            ],
            [
             0.7,
             "#b8e186"
            ],
            [
             0.8,
             "#7fbc41"
            ],
            [
             0.9,
             "#4d9221"
            ],
            [
             1,
             "#276419"
            ]
           ],
           "sequential": [
            [
             0,
             "#0d0887"
            ],
            [
             0.1111111111111111,
             "#46039f"
            ],
            [
             0.2222222222222222,
             "#7201a8"
            ],
            [
             0.3333333333333333,
             "#9c179e"
            ],
            [
             0.4444444444444444,
             "#bd3786"
            ],
            [
             0.5555555555555556,
             "#d8576b"
            ],
            [
             0.6666666666666666,
             "#ed7953"
            ],
            [
             0.7777777777777778,
             "#fb9f3a"
            ],
            [
             0.8888888888888888,
             "#fdca26"
            ],
            [
             1,
             "#f0f921"
            ]
           ],
           "sequentialminus": [
            [
             0,
             "#0d0887"
            ],
            [
             0.1111111111111111,
             "#46039f"
            ],
            [
             0.2222222222222222,
             "#7201a8"
            ],
            [
             0.3333333333333333,
             "#9c179e"
            ],
            [
             0.4444444444444444,
             "#bd3786"
            ],
            [
             0.5555555555555556,
             "#d8576b"
            ],
            [
             0.6666666666666666,
             "#ed7953"
            ],
            [
             0.7777777777777778,
             "#fb9f3a"
            ],
            [
             0.8888888888888888,
             "#fdca26"
            ],
            [
             1,
             "#f0f921"
            ]
           ]
          },
          "colorway": [
           "#636efa",
           "#EF553B",
           "#00cc96",
           "#ab63fa",
           "#FFA15A",
           "#19d3f3",
           "#FF6692",
           "#B6E880",
           "#FF97FF",
           "#FECB52"
          ],
          "font": {
           "color": "#2a3f5f"
          },
          "geo": {
           "bgcolor": "white",
           "lakecolor": "white",
           "landcolor": "#E5ECF6",
           "showlakes": true,
           "showland": true,
           "subunitcolor": "white"
          },
          "hoverlabel": {
           "align": "left"
          },
          "hovermode": "closest",
          "mapbox": {
           "style": "light"
          },
          "paper_bgcolor": "white",
          "plot_bgcolor": "#E5ECF6",
          "polar": {
           "angularaxis": {
            "gridcolor": "white",
            "linecolor": "white",
            "ticks": ""
           },
           "bgcolor": "#E5ECF6",
           "radialaxis": {
            "gridcolor": "white",
            "linecolor": "white",
            "ticks": ""
           }
          },
          "scene": {
           "xaxis": {
            "backgroundcolor": "#E5ECF6",
            "gridcolor": "white",
            "gridwidth": 2,
            "linecolor": "white",
            "showbackground": true,
            "ticks": "",
            "zerolinecolor": "white"
           },
           "yaxis": {
            "backgroundcolor": "#E5ECF6",
            "gridcolor": "white",
            "gridwidth": 2,
            "linecolor": "white",
            "showbackground": true,
            "ticks": "",
            "zerolinecolor": "white"
           },
           "zaxis": {
            "backgroundcolor": "#E5ECF6",
            "gridcolor": "white",
            "gridwidth": 2,
            "linecolor": "white",
            "showbackground": true,
            "ticks": "",
            "zerolinecolor": "white"
           }
          },
          "shapedefaults": {
           "line": {
            "color": "#2a3f5f"
           }
          },
          "ternary": {
           "aaxis": {
            "gridcolor": "white",
            "linecolor": "white",
            "ticks": ""
           },
           "baxis": {
            "gridcolor": "white",
            "linecolor": "white",
            "ticks": ""
           },
           "bgcolor": "#E5ECF6",
           "caxis": {
            "gridcolor": "white",
            "linecolor": "white",
            "ticks": ""
           }
          },
          "title": {
           "x": 0.05
          },
          "xaxis": {
           "automargin": true,
           "gridcolor": "white",
           "linecolor": "white",
           "ticks": "",
           "title": {
            "standoff": 15
           },
           "zerolinecolor": "white",
           "zerolinewidth": 2
          },
          "yaxis": {
           "automargin": true,
           "gridcolor": "white",
           "linecolor": "white",
           "ticks": "",
           "title": {
            "standoff": 15
           },
           "zerolinecolor": "white",
           "zerolinewidth": 2
          }
         }
        },
        "title": {
         "font": {
          "color": "#4D5663"
         }
        },
        "xaxis": {
         "gridcolor": "#E1E5ED",
         "showgrid": true,
         "tickfont": {
          "color": "#4D5663"
         },
         "title": {
          "font": {
           "color": "#4D5663"
          },
          "text": ""
         },
         "zerolinecolor": "#E1E5ED"
        },
        "yaxis": {
         "gridcolor": "#E1E5ED",
         "showgrid": true,
         "tickfont": {
          "color": "#4D5663"
         },
         "title": {
          "font": {
           "color": "#4D5663"
          },
          "text": ""
         },
         "zerolinecolor": "#E1E5ED"
        }
       }
      },
      "text/html": [
       "<div>\n",
       "        \n",
       "        \n",
       "            <div id=\"2159603c-c696-40fe-87a0-1d461be5dc20\" class=\"plotly-graph-div\" style=\"height:525px; width:100%;\"></div>\n",
       "            <script type=\"text/javascript\">\n",
       "                require([\"plotly\"], function(Plotly) {\n",
       "                    window.PLOTLYENV=window.PLOTLYENV || {};\n",
       "                    window.PLOTLYENV.BASE_URL='https://plot.ly';\n",
       "                    \n",
       "                if (document.getElementById(\"2159603c-c696-40fe-87a0-1d461be5dc20\")) {\n",
       "                    Plotly.newPlot(\n",
       "                        '2159603c-c696-40fe-87a0-1d461be5dc20',\n",
       "                        [{\"histfunc\": \"count\", \"histnorm\": \"\", \"marker\": {\"color\": \"rgba(255, 153, 51, 1.0)\", \"line\": {\"color\": \"#4D5663\", \"width\": 1.3}}, \"name\": \"A\", \"opacity\": 0.8, \"orientation\": \"v\", \"type\": \"histogram\", \"x\": [0.3705878037577684, -0.6678339547302442, 1.1380918556405002, -0.675580051894025, 1.7262495731372611, -0.7346738962061609, -0.9562145225408256, 0.025148520483188185, -0.11730817837083653, -0.8875635029726676, 0.7878568424078434, 1.1653202219069316, 1.2937559144192385, -1.0658594627738625, -0.09260441995537765, -0.5159981219517672, -0.8327586860733873, -1.3749779091900383, 0.42018431850196075, 0.14709265072578784, 0.25214049237485664, -0.18919730285638245, -2.718182630893289, -2.4871101190238996, -1.0215669673578682, 0.24635506388134681, -0.10770573439041783, 0.3557554224870404, 0.031566456058262665, 0.1700452202575896, -0.9575259626465774, -0.21532599451762865, 0.5236647751886957, 1.94221152756419, 1.0739362417570109, 0.08712867977911695, -0.37107368322293466, -1.1447478368070039, 2.129917673232524, -0.9693582650304164, -0.1869513636704791, 2.2092637073763917, 1.488229125167454, 2.214050967163112, 0.6384413413698313, -1.9283759167143864, -0.4511610664062786, -0.06721145376013846, -1.8119277914008352, -0.6415871282167186, -0.09212605207912067, -0.11015367934595786, -0.2885730054311169, 0.17257802683078483, -0.34532000564412413, -0.12995888586272972, -0.4377511993519691, -1.876492612806514, -1.718838915583185, 0.0936799439467252, 0.47001537739454224, -2.8410006043336353, 1.704730125268345, 0.20259501783314926, -0.4206312134987387, 0.839068083396662, -0.5043104052179739, 0.4731676005007791, 0.19311114687310646, 0.4716117801712886, 1.8908763742207517, -1.334644125974962, -0.11766425437807593, 1.6565164720427392, -1.5568524437600175, -0.5680816820553658, -0.5344358887477514, 0.1900277548085487, 0.7565155724048774, 1.9865304358054405, -0.3281632782126243, -2.127189864605686, -0.39679487724212614, -0.3050622209272501, -1.2578147927340104, -0.17726760140269482, -1.5401904883006807, -0.5614175852880462, -1.967164616628011, -0.38255077923662584, 1.1503595634830022, 0.2576042608917582, 1.2135540045813504, -0.4161542112158181, 2.1297943647777084, 1.3264977923735735, -0.4404670901208818, 0.48124473164937726, 0.5839900293237509, 1.076803896700854]}, {\"histfunc\": \"count\", \"histnorm\": \"\", \"marker\": {\"color\": \"rgba(55, 128, 191, 1.0)\", \"line\": {\"color\": \"#4D5663\", \"width\": 1.3}}, \"name\": \"B\", \"opacity\": 0.8, \"orientation\": \"v\", \"type\": \"histogram\", \"x\": [-0.9026182879513235, -0.8429681388249898, 0.9540726979032438, -0.23251275860498477, 0.34349554969697677, -0.6219462410445961, -2.0006622694901433, 1.2051941291240547, -0.13994760501934572, 1.4084984797743516, -1.4406185815567676, 2.203571063939216, -0.7573170225475241, -1.3938894902922006, -1.5080691322024262, -0.14327068342977814, 0.037417546547547115, 1.6462587562862911, -0.09803460519806916, -0.14996665115790409, 0.21163564577514976, 1.0263341563855668, -2.1541928508243413, 0.5266668698269917, -1.55295581817936, -0.1945656521063503, 0.4888954405211421, -1.0860016057795432, 0.6863853333595958, 1.5301495976534594, 0.9766721778910605, 1.336524835836653, -1.2007448477602651, 0.06634015015393542, 1.2366217573413492, -0.8777425551106883, 0.6838574049901874, 1.4325415795887664, -0.9916589198409315, -1.4400899617991463, -1.2559540357374495, 0.6110065450279094, -1.0390703837403927, 0.7226262599610198, -2.676636290627523, -0.7200323899747009, 0.0773058348349942, -1.123920139622418, -1.5943451488747178, 0.09570172620242262, 0.031109758935364544, 0.5486092430934341, -0.9783856846534326, -0.37782591930038695, 2.04289799639152, 2.695461751334061, 0.42866956560443514, 0.06570107039637005, 0.3406308372199238, -0.13963619271339842, 2.08286852359131, -1.2438740075995987, -1.0244756191667646, -1.218721967500244, -0.574858657178294, 2.92238752045327, 0.49989326896154135, -1.228574562429567, 0.96213081663357, -1.7825877071155352, -0.8255838017224469, -0.2647822588269775, 1.3393791985468635, -0.39866530169448894, 0.7530286903232385, 0.702494600097855, -2.9359052065235454, 1.737741342697497, -0.27851189827084305, 2.519831534981045, 0.9039598139975631, -0.11495144416259331, 1.7927453018094415, 1.0292143655851063, 0.9950063877604468, 0.7302318326789189, -1.0215696369523628, 0.3528032997113076, -1.5412449038618279, -0.5806327163073665, 0.5350868251094306, -1.6961570456962733, 0.5796026289085382, -0.30485897618670443, -1.6535985994040143, 1.0991402504723242, 0.5477912575339169, -1.6636610596560424, 0.48997625929201616, -2.015300619743853]}, {\"histfunc\": \"count\", \"histnorm\": \"\", \"marker\": {\"color\": \"rgba(50, 171, 96, 1.0)\", \"line\": {\"color\": \"#4D5663\", \"width\": 1.3}}, \"name\": \"C\", \"opacity\": 0.8, \"orientation\": \"v\", \"type\": \"histogram\", \"x\": [-0.5998922748226837, 1.0401232639605857, -1.3701390540574003, 0.307367401403588, -1.0799042915348378, -0.9813177044008539, 0.4770731548160624, -0.5826732258653297, -0.6035195659833387, -0.0258865493970227, -0.8230608255643124, 1.6943105314625253, -0.9563104649466695, 1.4177953890193729, 1.6273911971295223, -0.2578227224315953, 0.26004100762205856, -1.697537184922374, -0.3812906397479519, 0.1722461009838956, -0.4556650197368004, -2.495653667611221, 1.097080665209218, -0.13077845197865856, 1.1074694634752067, -1.7294470216683682, -0.26705895882833, 0.3251636428314838, 0.5361169732425961, 1.589969134302654, -0.15735546537356165, -0.7995419169077077, 1.8376619277966697, -0.15187825852893375, 0.04374985851141635, -0.23823958694361272, 0.764467916710477, -0.7554188593905685, 0.6921743026950641, 0.03290908332584349, 2.0433745991251198, 0.6102966937575419, -0.17802755313353924, 0.8218065247920904, 0.12142670746890857, 0.09815011007935072, -0.29780293511282513, -0.4526326974716961, -0.12252382350765847, -0.7900818595884559, -1.1008843446675154, -0.07630183113288294, 0.2802494823029372, 1.0161020693800689, -0.071570854643028, -0.5531877476244556, -1.9807446325723932, -0.8091256988385362, -1.7009786854539621, 0.24777396683941133, -0.2699730156670374, 0.7299970552803603, -0.556742101854421, -1.6052585106866015, -0.7802709940324564, 1.0178771189571585, 0.3065709276649882, -1.3304863582651418, -0.2865475537453356, 0.9070300290159293, 0.4843256513077551, 0.17691226867134244, -0.609623055568708, -1.0861291448568933, 0.7194756521047455, 0.6065091377263108, 0.33760317323029176, 0.39774407638368164, -0.7590447844571399, 0.8520210686986877, 0.44533746837968435, 0.4507753644951477, -1.088986892953632, 0.4693496772868247, 1.0556025178684072, -1.4878323098061323, 1.3625106657117196, -1.8917699176948377, 0.4095272296787832, -0.9221182812831743, -1.4542834127024287, -0.18464768530778417, 1.0959242606698392, -0.8935725350190782, 1.4342173284967896, 1.8371179074984076, -0.5299449866725706, 1.2646796592685872, 1.3239105830431595, 0.6861574912304074]}, {\"histfunc\": \"count\", \"histnorm\": \"\", \"marker\": {\"color\": \"rgba(128, 0, 128, 1.0)\", \"line\": {\"color\": \"#4D5663\", \"width\": 1.3}}, \"name\": \"D\", \"opacity\": 0.8, \"orientation\": \"v\", \"type\": \"histogram\", \"x\": [-0.3484290193324681, 1.2493318120026027, 0.6195953989316635, -0.10007648659084645, -0.848659613914679, -1.2072222170818043, 0.1331176062784441, -0.01646742972146636, -0.37225133150837864, 0.11229352710673653, 0.6366971125581358, 1.545579307785409, 0.15580916850848148, -0.3314672607660011, 0.7929866166535395, 0.8941052725838416, -0.14329935045522949, 1.3196350077045846, -0.096788026963216, -0.8346083847204316, 1.2032145169230912, -0.38071240368744474, -0.3098611358309325, -1.736361585718667, -2.1199279881649593, -1.5794355446796786, -1.2791643506642554, -1.4992239299870747, -0.03425548013030693, -0.1206142170620143, 0.3451768520894632, 0.6844729058258141, -0.8376759964545056, 1.241591779090792, -1.3881052068053508, 1.1012224452147994, -1.0975287473015383, 0.5041699155349165, 0.7160675347296979, -1.2093109533153736, -0.24711334829147724, -0.5889737991894741, -0.5366652084809301, 0.3310628341514247, 0.06631259446541207, -0.28759721211797773, -1.1155536161178887, -0.11610402773542693, -0.4429351529770189, 1.4270945875382393, 0.6491689023501485, 0.4883187223682674, 0.14973969661131312, 1.3875615203236902, 0.035749576155775536, 0.17155751012655765, -0.08973447587317929, 0.6232701155816891, -0.34499518674366153, -2.1703151733281087, 0.1797106006356278, -0.9074164273981294, -0.531983574715416, -0.8338018217815336, -0.7465538070712631, 0.3789556341758663, 3.075277236055962, -0.19053133737678485, 0.8643667689060618, 2.4980523172364046, -0.04232670805240006, 1.2480572144201294, 1.541103715916894, -1.7373434081652341, 1.4565399138714257, -0.4710155743441887, 0.6801057596111969, 0.18764949278207416, 0.4735916382674086, -3.356995673638782, -0.3019626812744328, -2.2403559426949933, -1.6319267400086224, 0.8824560086615363, 1.1468628425988923, -0.53925633992263, -0.1995850040866459, 0.005847650698243115, 2.410480925201785, -0.44772196459658326, -1.6552711703176686, -0.23346162577694834, -0.06260196282696313, -0.4749436357111602, -1.587230525836392, 0.46603024198579857, -0.003303137021653763, -0.6821232266716004, 0.8182169465651061, -0.6364533045515591]}],\n",
       "                        {\"barmode\": \"overlay\", \"legend\": {\"bgcolor\": \"#F5F6F9\", \"font\": {\"color\": \"#4D5663\"}}, \"paper_bgcolor\": \"#F5F6F9\", \"plot_bgcolor\": \"#F5F6F9\", \"template\": {\"data\": {\"bar\": [{\"error_x\": {\"color\": \"#2a3f5f\"}, \"error_y\": {\"color\": \"#2a3f5f\"}, \"marker\": {\"line\": {\"color\": \"#E5ECF6\", \"width\": 0.5}}, \"type\": \"bar\"}], \"barpolar\": [{\"marker\": {\"line\": {\"color\": \"#E5ECF6\", \"width\": 0.5}}, \"type\": \"barpolar\"}], \"carpet\": [{\"aaxis\": {\"endlinecolor\": \"#2a3f5f\", \"gridcolor\": \"white\", \"linecolor\": \"white\", \"minorgridcolor\": \"white\", \"startlinecolor\": \"#2a3f5f\"}, \"baxis\": {\"endlinecolor\": \"#2a3f5f\", \"gridcolor\": \"white\", \"linecolor\": \"white\", \"minorgridcolor\": \"white\", \"startlinecolor\": \"#2a3f5f\"}, \"type\": \"carpet\"}], \"choropleth\": [{\"colorbar\": {\"outlinewidth\": 0, \"ticks\": \"\"}, \"type\": \"choropleth\"}], \"contour\": [{\"colorbar\": {\"outlinewidth\": 0, \"ticks\": \"\"}, \"colorscale\": [[0.0, \"#0d0887\"], [0.1111111111111111, \"#46039f\"], [0.2222222222222222, \"#7201a8\"], [0.3333333333333333, \"#9c179e\"], [0.4444444444444444, \"#bd3786\"], [0.5555555555555556, \"#d8576b\"], [0.6666666666666666, \"#ed7953\"], [0.7777777777777778, \"#fb9f3a\"], [0.8888888888888888, \"#fdca26\"], [1.0, \"#f0f921\"]], \"type\": \"contour\"}], \"contourcarpet\": [{\"colorbar\": {\"outlinewidth\": 0, \"ticks\": \"\"}, \"type\": \"contourcarpet\"}], \"heatmap\": [{\"colorbar\": {\"outlinewidth\": 0, \"ticks\": \"\"}, \"colorscale\": [[0.0, \"#0d0887\"], [0.1111111111111111, \"#46039f\"], [0.2222222222222222, \"#7201a8\"], [0.3333333333333333, \"#9c179e\"], [0.4444444444444444, \"#bd3786\"], [0.5555555555555556, \"#d8576b\"], [0.6666666666666666, \"#ed7953\"], [0.7777777777777778, \"#fb9f3a\"], [0.8888888888888888, \"#fdca26\"], [1.0, \"#f0f921\"]], \"type\": \"heatmap\"}], \"heatmapgl\": [{\"colorbar\": {\"outlinewidth\": 0, \"ticks\": \"\"}, \"colorscale\": [[0.0, \"#0d0887\"], [0.1111111111111111, \"#46039f\"], [0.2222222222222222, \"#7201a8\"], [0.3333333333333333, \"#9c179e\"], [0.4444444444444444, \"#bd3786\"], [0.5555555555555556, \"#d8576b\"], [0.6666666666666666, \"#ed7953\"], [0.7777777777777778, \"#fb9f3a\"], [0.8888888888888888, \"#fdca26\"], [1.0, \"#f0f921\"]], \"type\": \"heatmapgl\"}], \"histogram\": [{\"marker\": {\"colorbar\": {\"outlinewidth\": 0, \"ticks\": \"\"}}, \"type\": \"histogram\"}], \"histogram2d\": [{\"colorbar\": {\"outlinewidth\": 0, \"ticks\": \"\"}, \"colorscale\": [[0.0, \"#0d0887\"], [0.1111111111111111, \"#46039f\"], [0.2222222222222222, \"#7201a8\"], [0.3333333333333333, \"#9c179e\"], [0.4444444444444444, \"#bd3786\"], [0.5555555555555556, \"#d8576b\"], [0.6666666666666666, \"#ed7953\"], [0.7777777777777778, \"#fb9f3a\"], [0.8888888888888888, \"#fdca26\"], [1.0, \"#f0f921\"]], \"type\": \"histogram2d\"}], \"histogram2dcontour\": [{\"colorbar\": {\"outlinewidth\": 0, \"ticks\": \"\"}, \"colorscale\": [[0.0, \"#0d0887\"], [0.1111111111111111, \"#46039f\"], [0.2222222222222222, \"#7201a8\"], [0.3333333333333333, \"#9c179e\"], [0.4444444444444444, \"#bd3786\"], [0.5555555555555556, \"#d8576b\"], [0.6666666666666666, \"#ed7953\"], [0.7777777777777778, \"#fb9f3a\"], [0.8888888888888888, \"#fdca26\"], [1.0, \"#f0f921\"]], \"type\": \"histogram2dcontour\"}], \"mesh3d\": [{\"colorbar\": {\"outlinewidth\": 0, \"ticks\": \"\"}, \"type\": \"mesh3d\"}], \"parcoords\": [{\"line\": {\"colorbar\": {\"outlinewidth\": 0, \"ticks\": \"\"}}, \"type\": \"parcoords\"}], \"pie\": [{\"automargin\": true, \"type\": \"pie\"}], \"scatter\": [{\"marker\": {\"colorbar\": {\"outlinewidth\": 0, \"ticks\": \"\"}}, \"type\": \"scatter\"}], \"scatter3d\": [{\"line\": {\"colorbar\": {\"outlinewidth\": 0, \"ticks\": \"\"}}, \"marker\": {\"colorbar\": {\"outlinewidth\": 0, \"ticks\": \"\"}}, \"type\": \"scatter3d\"}], \"scattercarpet\": [{\"marker\": {\"colorbar\": {\"outlinewidth\": 0, \"ticks\": \"\"}}, \"type\": \"scattercarpet\"}], \"scattergeo\": [{\"marker\": {\"colorbar\": {\"outlinewidth\": 0, \"ticks\": \"\"}}, \"type\": \"scattergeo\"}], \"scattergl\": [{\"marker\": {\"colorbar\": {\"outlinewidth\": 0, \"ticks\": \"\"}}, \"type\": \"scattergl\"}], \"scattermapbox\": [{\"marker\": {\"colorbar\": {\"outlinewidth\": 0, \"ticks\": \"\"}}, \"type\": \"scattermapbox\"}], \"scatterpolar\": [{\"marker\": {\"colorbar\": {\"outlinewidth\": 0, \"ticks\": \"\"}}, \"type\": \"scatterpolar\"}], \"scatterpolargl\": [{\"marker\": {\"colorbar\": {\"outlinewidth\": 0, \"ticks\": \"\"}}, \"type\": \"scatterpolargl\"}], \"scatterternary\": [{\"marker\": {\"colorbar\": {\"outlinewidth\": 0, \"ticks\": \"\"}}, \"type\": \"scatterternary\"}], \"surface\": [{\"colorbar\": {\"outlinewidth\": 0, \"ticks\": \"\"}, \"colorscale\": [[0.0, \"#0d0887\"], [0.1111111111111111, \"#46039f\"], [0.2222222222222222, \"#7201a8\"], [0.3333333333333333, \"#9c179e\"], [0.4444444444444444, \"#bd3786\"], [0.5555555555555556, \"#d8576b\"], [0.6666666666666666, \"#ed7953\"], [0.7777777777777778, \"#fb9f3a\"], [0.8888888888888888, \"#fdca26\"], [1.0, \"#f0f921\"]], \"type\": \"surface\"}], \"table\": [{\"cells\": {\"fill\": {\"color\": \"#EBF0F8\"}, \"line\": {\"color\": \"white\"}}, \"header\": {\"fill\": {\"color\": \"#C8D4E3\"}, \"line\": {\"color\": \"white\"}}, \"type\": \"table\"}]}, \"layout\": {\"annotationdefaults\": {\"arrowcolor\": \"#2a3f5f\", \"arrowhead\": 0, \"arrowwidth\": 1}, \"coloraxis\": {\"colorbar\": {\"outlinewidth\": 0, \"ticks\": \"\"}}, \"colorscale\": {\"diverging\": [[0, \"#8e0152\"], [0.1, \"#c51b7d\"], [0.2, \"#de77ae\"], [0.3, \"#f1b6da\"], [0.4, \"#fde0ef\"], [0.5, \"#f7f7f7\"], [0.6, \"#e6f5d0\"], [0.7, \"#b8e186\"], [0.8, \"#7fbc41\"], [0.9, \"#4d9221\"], [1, \"#276419\"]], \"sequential\": [[0.0, \"#0d0887\"], [0.1111111111111111, \"#46039f\"], [0.2222222222222222, \"#7201a8\"], [0.3333333333333333, \"#9c179e\"], [0.4444444444444444, \"#bd3786\"], [0.5555555555555556, \"#d8576b\"], [0.6666666666666666, \"#ed7953\"], [0.7777777777777778, \"#fb9f3a\"], [0.8888888888888888, \"#fdca26\"], [1.0, \"#f0f921\"]], \"sequentialminus\": [[0.0, \"#0d0887\"], [0.1111111111111111, \"#46039f\"], [0.2222222222222222, \"#7201a8\"], [0.3333333333333333, \"#9c179e\"], [0.4444444444444444, \"#bd3786\"], [0.5555555555555556, \"#d8576b\"], [0.6666666666666666, \"#ed7953\"], [0.7777777777777778, \"#fb9f3a\"], [0.8888888888888888, \"#fdca26\"], [1.0, \"#f0f921\"]]}, \"colorway\": [\"#636efa\", \"#EF553B\", \"#00cc96\", \"#ab63fa\", \"#FFA15A\", \"#19d3f3\", \"#FF6692\", \"#B6E880\", \"#FF97FF\", \"#FECB52\"], \"font\": {\"color\": \"#2a3f5f\"}, \"geo\": {\"bgcolor\": \"white\", \"lakecolor\": \"white\", \"landcolor\": \"#E5ECF6\", \"showlakes\": true, \"showland\": true, \"subunitcolor\": \"white\"}, \"hoverlabel\": {\"align\": \"left\"}, \"hovermode\": \"closest\", \"mapbox\": {\"style\": \"light\"}, \"paper_bgcolor\": \"white\", \"plot_bgcolor\": \"#E5ECF6\", \"polar\": {\"angularaxis\": {\"gridcolor\": \"white\", \"linecolor\": \"white\", \"ticks\": \"\"}, \"bgcolor\": \"#E5ECF6\", \"radialaxis\": {\"gridcolor\": \"white\", \"linecolor\": \"white\", \"ticks\": \"\"}}, \"scene\": {\"xaxis\": {\"backgroundcolor\": \"#E5ECF6\", \"gridcolor\": \"white\", \"gridwidth\": 2, \"linecolor\": \"white\", \"showbackground\": true, \"ticks\": \"\", \"zerolinecolor\": \"white\"}, \"yaxis\": {\"backgroundcolor\": \"#E5ECF6\", \"gridcolor\": \"white\", \"gridwidth\": 2, \"linecolor\": \"white\", \"showbackground\": true, \"ticks\": \"\", \"zerolinecolor\": \"white\"}, \"zaxis\": {\"backgroundcolor\": \"#E5ECF6\", \"gridcolor\": \"white\", \"gridwidth\": 2, \"linecolor\": \"white\", \"showbackground\": true, \"ticks\": \"\", \"zerolinecolor\": \"white\"}}, \"shapedefaults\": {\"line\": {\"color\": \"#2a3f5f\"}}, \"ternary\": {\"aaxis\": {\"gridcolor\": \"white\", \"linecolor\": \"white\", \"ticks\": \"\"}, \"baxis\": {\"gridcolor\": \"white\", \"linecolor\": \"white\", \"ticks\": \"\"}, \"bgcolor\": \"#E5ECF6\", \"caxis\": {\"gridcolor\": \"white\", \"linecolor\": \"white\", \"ticks\": \"\"}}, \"title\": {\"x\": 0.05}, \"xaxis\": {\"automargin\": true, \"gridcolor\": \"white\", \"linecolor\": \"white\", \"ticks\": \"\", \"title\": {\"standoff\": 15}, \"zerolinecolor\": \"white\", \"zerolinewidth\": 2}, \"yaxis\": {\"automargin\": true, \"gridcolor\": \"white\", \"linecolor\": \"white\", \"ticks\": \"\", \"title\": {\"standoff\": 15}, \"zerolinecolor\": \"white\", \"zerolinewidth\": 2}}}, \"title\": {\"font\": {\"color\": \"#4D5663\"}}, \"xaxis\": {\"gridcolor\": \"#E1E5ED\", \"showgrid\": true, \"tickfont\": {\"color\": \"#4D5663\"}, \"title\": {\"font\": {\"color\": \"#4D5663\"}, \"text\": \"\"}, \"zerolinecolor\": \"#E1E5ED\"}, \"yaxis\": {\"gridcolor\": \"#E1E5ED\", \"showgrid\": true, \"tickfont\": {\"color\": \"#4D5663\"}, \"title\": {\"font\": {\"color\": \"#4D5663\"}, \"text\": \"\"}, \"zerolinecolor\": \"#E1E5ED\"}},\n",
       "                        {\"showLink\": true, \"linkText\": \"Export to plot.ly\", \"plotlyServerURL\": \"https://plot.ly\", \"responsive\": true}\n",
       "                    ).then(function(){\n",
       "                            \n",
       "var gd = document.getElementById('2159603c-c696-40fe-87a0-1d461be5dc20');\n",
       "var x = new MutationObserver(function (mutations, observer) {{\n",
       "        var display = window.getComputedStyle(gd).display;\n",
       "        if (!display || display === 'none') {{\n",
       "            console.log([gd, 'removed!']);\n",
       "            Plotly.purge(gd);\n",
       "            observer.disconnect();\n",
       "        }}\n",
       "}});\n",
       "\n",
       "// Listen for the removal of the full notebook cells\n",
       "var notebookContainer = gd.closest('#notebook-container');\n",
       "if (notebookContainer) {{\n",
       "    x.observe(notebookContainer, {childList: true});\n",
       "}}\n",
       "\n",
       "// Listen for the clearing of the current output cell\n",
       "var outputEl = gd.closest('.output');\n",
       "if (outputEl) {{\n",
       "    x.observe(outputEl, {childList: true});\n",
       "}}\n",
       "\n",
       "                        })\n",
       "                };\n",
       "                });\n",
       "            </script>\n",
       "        </div>"
      ]
     },
     "metadata": {},
     "output_type": "display_data"
    }
   ],
   "source": [
    "df.iplot(kind='hist')"
   ]
  },
  {
   "cell_type": "code",
   "execution_count": 20,
   "metadata": {},
   "outputs": [
    {
     "data": {
      "application/vnd.plotly.v1+json": {
       "config": {
        "linkText": "Export to plot.ly",
        "plotlyServerURL": "https://plot.ly",
        "showLink": true
       },
       "data": [
        {
         "marker": {
          "color": [
           "rgb(255, 153, 51)",
           "rgb(55, 128, 191)",
           "rgb(50, 171, 96)",
           "rgb(128, 0, 128)",
           "rgb(219, 64, 82)",
           "rgb(0, 128, 128)",
           "rgb(255, 255, 51)",
           "rgb(128, 128, 0)",
           "rgb(251, 128, 114)",
           "rgb(128, 177, 211)"
          ],
          "line": {
           "width": 1.3
          },
          "size": [
           53,
           89,
           36,
           73,
           43,
           45,
           77,
           54,
           53,
           66,
           48,
           104,
           45,
           98,
           102,
           61,
           72,
           29,
           58,
           70,
           56,
           12,
           91,
           64,
           91,
           28,
           61,
           74,
           78,
           102,
           63,
           49,
           107,
           63,
           67,
           61,
           83,
           50,
           82,
           67,
           112,
           80,
           63,
           85,
           69,
           69,
           60,
           57,
           64,
           49,
           42,
           65,
           73,
           89,
           65,
           54,
           23,
           49,
           29,
           72,
           61,
           83,
           54,
           31,
           49,
           89,
           73,
           37,
           60,
           86,
           77,
           70,
           53,
           43,
           82,
           80,
           74,
           75,
           50,
           85,
           76,
           76,
           42,
           77,
           90,
           34,
           96,
           25,
           76,
           46,
           34,
           62,
           91,
           47,
           98,
           107,
           55,
           94,
           96,
           82
          ],
          "symbol": "circle"
         },
         "mode": "markers",
         "text": "",
         "type": "scatter",
         "x": [
          0.3705878037577684,
          -0.6678339547302442,
          1.1380918556405002,
          -0.675580051894025,
          1.7262495731372611,
          -0.7346738962061609,
          -0.9562145225408256,
          0.025148520483188185,
          -0.11730817837083653,
          -0.8875635029726676,
          0.7878568424078434,
          1.1653202219069316,
          1.2937559144192385,
          -1.0658594627738625,
          -0.09260441995537765,
          -0.5159981219517672,
          -0.8327586860733873,
          -1.3749779091900383,
          0.42018431850196075,
          0.14709265072578784,
          0.25214049237485664,
          -0.18919730285638245,
          -2.718182630893289,
          -2.4871101190238996,
          -1.0215669673578682,
          0.24635506388134681,
          -0.10770573439041783,
          0.3557554224870404,
          0.031566456058262665,
          0.1700452202575896,
          -0.9575259626465774,
          -0.21532599451762865,
          0.5236647751886957,
          1.94221152756419,
          1.0739362417570109,
          0.08712867977911695,
          -0.37107368322293466,
          -1.1447478368070039,
          2.129917673232524,
          -0.9693582650304164,
          -0.1869513636704791,
          2.2092637073763917,
          1.488229125167454,
          2.214050967163112,
          0.6384413413698313,
          -1.9283759167143864,
          -0.4511610664062786,
          -0.06721145376013846,
          -1.8119277914008352,
          -0.6415871282167186,
          -0.09212605207912067,
          -0.11015367934595786,
          -0.2885730054311169,
          0.17257802683078483,
          -0.34532000564412413,
          -0.12995888586272972,
          -0.4377511993519691,
          -1.876492612806514,
          -1.718838915583185,
          0.0936799439467252,
          0.47001537739454224,
          -2.8410006043336353,
          1.704730125268345,
          0.20259501783314926,
          -0.4206312134987387,
          0.839068083396662,
          -0.5043104052179739,
          0.4731676005007791,
          0.19311114687310646,
          0.4716117801712886,
          1.8908763742207517,
          -1.334644125974962,
          -0.11766425437807593,
          1.6565164720427392,
          -1.5568524437600175,
          -0.5680816820553658,
          -0.5344358887477514,
          0.1900277548085487,
          0.7565155724048774,
          1.9865304358054405,
          -0.3281632782126243,
          -2.127189864605686,
          -0.39679487724212614,
          -0.3050622209272501,
          -1.2578147927340104,
          -0.17726760140269482,
          -1.5401904883006807,
          -0.5614175852880462,
          -1.967164616628011,
          -0.38255077923662584,
          1.1503595634830022,
          0.2576042608917582,
          1.2135540045813504,
          -0.4161542112158181,
          2.1297943647777084,
          1.3264977923735735,
          -0.4404670901208818,
          0.48124473164937726,
          0.5839900293237509,
          1.076803896700854
         ],
         "y": [
          -0.9026182879513235,
          -0.8429681388249898,
          0.9540726979032438,
          -0.23251275860498477,
          0.34349554969697677,
          -0.6219462410445961,
          -2.0006622694901433,
          1.2051941291240547,
          -0.13994760501934572,
          1.4084984797743516,
          -1.4406185815567676,
          2.203571063939216,
          -0.7573170225475241,
          -1.3938894902922006,
          -1.5080691322024262,
          -0.14327068342977814,
          0.037417546547547115,
          1.6462587562862911,
          -0.09803460519806916,
          -0.14996665115790409,
          0.21163564577514976,
          1.0263341563855668,
          -2.1541928508243413,
          0.5266668698269917,
          -1.55295581817936,
          -0.1945656521063503,
          0.4888954405211421,
          -1.0860016057795432,
          0.6863853333595958,
          1.5301495976534594,
          0.9766721778910605,
          1.336524835836653,
          -1.2007448477602651,
          0.06634015015393542,
          1.2366217573413492,
          -0.8777425551106883,
          0.6838574049901874,
          1.4325415795887664,
          -0.9916589198409315,
          -1.4400899617991463,
          -1.2559540357374495,
          0.6110065450279094,
          -1.0390703837403927,
          0.7226262599610198,
          -2.676636290627523,
          -0.7200323899747009,
          0.0773058348349942,
          -1.123920139622418,
          -1.5943451488747178,
          0.09570172620242262,
          0.031109758935364544,
          0.5486092430934341,
          -0.9783856846534326,
          -0.37782591930038695,
          2.04289799639152,
          2.695461751334061,
          0.42866956560443514,
          0.06570107039637005,
          0.3406308372199238,
          -0.13963619271339842,
          2.08286852359131,
          -1.2438740075995987,
          -1.0244756191667646,
          -1.218721967500244,
          -0.574858657178294,
          2.92238752045327,
          0.49989326896154135,
          -1.228574562429567,
          0.96213081663357,
          -1.7825877071155352,
          -0.8255838017224469,
          -0.2647822588269775,
          1.3393791985468635,
          -0.39866530169448894,
          0.7530286903232385,
          0.702494600097855,
          -2.9359052065235454,
          1.737741342697497,
          -0.27851189827084305,
          2.519831534981045,
          0.9039598139975631,
          -0.11495144416259331,
          1.7927453018094415,
          1.0292143655851063,
          0.9950063877604468,
          0.7302318326789189,
          -1.0215696369523628,
          0.3528032997113076,
          -1.5412449038618279,
          -0.5806327163073665,
          0.5350868251094306,
          -1.6961570456962733,
          0.5796026289085382,
          -0.30485897618670443,
          -1.6535985994040143,
          1.0991402504723242,
          0.5477912575339169,
          -1.6636610596560424,
          0.48997625929201616,
          -2.015300619743853
         ]
        }
       ],
       "layout": {
        "legend": {
         "bgcolor": "#F5F6F9",
         "font": {
          "color": "#4D5663"
         }
        },
        "paper_bgcolor": "#F5F6F9",
        "plot_bgcolor": "#F5F6F9",
        "template": {
         "data": {
          "bar": [
           {
            "error_x": {
             "color": "#2a3f5f"
            },
            "error_y": {
             "color": "#2a3f5f"
            },
            "marker": {
             "line": {
              "color": "#E5ECF6",
              "width": 0.5
             }
            },
            "type": "bar"
           }
          ],
          "barpolar": [
           {
            "marker": {
             "line": {
              "color": "#E5ECF6",
              "width": 0.5
             }
            },
            "type": "barpolar"
           }
          ],
          "carpet": [
           {
            "aaxis": {
             "endlinecolor": "#2a3f5f",
             "gridcolor": "white",
             "linecolor": "white",
             "minorgridcolor": "white",
             "startlinecolor": "#2a3f5f"
            },
            "baxis": {
             "endlinecolor": "#2a3f5f",
             "gridcolor": "white",
             "linecolor": "white",
             "minorgridcolor": "white",
             "startlinecolor": "#2a3f5f"
            },
            "type": "carpet"
           }
          ],
          "choropleth": [
           {
            "colorbar": {
             "outlinewidth": 0,
             "ticks": ""
            },
            "type": "choropleth"
           }
          ],
          "contour": [
           {
            "colorbar": {
             "outlinewidth": 0,
             "ticks": ""
            },
            "colorscale": [
             [
              0,
              "#0d0887"
             ],
             [
              0.1111111111111111,
              "#46039f"
             ],
             [
              0.2222222222222222,
              "#7201a8"
             ],
             [
              0.3333333333333333,
              "#9c179e"
             ],
             [
              0.4444444444444444,
              "#bd3786"
             ],
             [
              0.5555555555555556,
              "#d8576b"
             ],
             [
              0.6666666666666666,
              "#ed7953"
             ],
             [
              0.7777777777777778,
              "#fb9f3a"
             ],
             [
              0.8888888888888888,
              "#fdca26"
             ],
             [
              1,
              "#f0f921"
             ]
            ],
            "type": "contour"
           }
          ],
          "contourcarpet": [
           {
            "colorbar": {
             "outlinewidth": 0,
             "ticks": ""
            },
            "type": "contourcarpet"
           }
          ],
          "heatmap": [
           {
            "colorbar": {
             "outlinewidth": 0,
             "ticks": ""
            },
            "colorscale": [
             [
              0,
              "#0d0887"
             ],
             [
              0.1111111111111111,
              "#46039f"
             ],
             [
              0.2222222222222222,
              "#7201a8"
             ],
             [
              0.3333333333333333,
              "#9c179e"
             ],
             [
              0.4444444444444444,
              "#bd3786"
             ],
             [
              0.5555555555555556,
              "#d8576b"
             ],
             [
              0.6666666666666666,
              "#ed7953"
             ],
             [
              0.7777777777777778,
              "#fb9f3a"
             ],
             [
              0.8888888888888888,
              "#fdca26"
             ],
             [
              1,
              "#f0f921"
             ]
            ],
            "type": "heatmap"
           }
          ],
          "heatmapgl": [
           {
            "colorbar": {
             "outlinewidth": 0,
             "ticks": ""
            },
            "colorscale": [
             [
              0,
              "#0d0887"
             ],
             [
              0.1111111111111111,
              "#46039f"
             ],
             [
              0.2222222222222222,
              "#7201a8"
             ],
             [
              0.3333333333333333,
              "#9c179e"
             ],
             [
              0.4444444444444444,
              "#bd3786"
             ],
             [
              0.5555555555555556,
              "#d8576b"
             ],
             [
              0.6666666666666666,
              "#ed7953"
             ],
             [
              0.7777777777777778,
              "#fb9f3a"
             ],
             [
              0.8888888888888888,
              "#fdca26"
             ],
             [
              1,
              "#f0f921"
             ]
            ],
            "type": "heatmapgl"
           }
          ],
          "histogram": [
           {
            "marker": {
             "colorbar": {
              "outlinewidth": 0,
              "ticks": ""
             }
            },
            "type": "histogram"
           }
          ],
          "histogram2d": [
           {
            "colorbar": {
             "outlinewidth": 0,
             "ticks": ""
            },
            "colorscale": [
             [
              0,
              "#0d0887"
             ],
             [
              0.1111111111111111,
              "#46039f"
             ],
             [
              0.2222222222222222,
              "#7201a8"
             ],
             [
              0.3333333333333333,
              "#9c179e"
             ],
             [
              0.4444444444444444,
              "#bd3786"
             ],
             [
              0.5555555555555556,
              "#d8576b"
             ],
             [
              0.6666666666666666,
              "#ed7953"
             ],
             [
              0.7777777777777778,
              "#fb9f3a"
             ],
             [
              0.8888888888888888,
              "#fdca26"
             ],
             [
              1,
              "#f0f921"
             ]
            ],
            "type": "histogram2d"
           }
          ],
          "histogram2dcontour": [
           {
            "colorbar": {
             "outlinewidth": 0,
             "ticks": ""
            },
            "colorscale": [
             [
              0,
              "#0d0887"
             ],
             [
              0.1111111111111111,
              "#46039f"
             ],
             [
              0.2222222222222222,
              "#7201a8"
             ],
             [
              0.3333333333333333,
              "#9c179e"
             ],
             [
              0.4444444444444444,
              "#bd3786"
             ],
             [
              0.5555555555555556,
              "#d8576b"
             ],
             [
              0.6666666666666666,
              "#ed7953"
             ],
             [
              0.7777777777777778,
              "#fb9f3a"
             ],
             [
              0.8888888888888888,
              "#fdca26"
             ],
             [
              1,
              "#f0f921"
             ]
            ],
            "type": "histogram2dcontour"
           }
          ],
          "mesh3d": [
           {
            "colorbar": {
             "outlinewidth": 0,
             "ticks": ""
            },
            "type": "mesh3d"
           }
          ],
          "parcoords": [
           {
            "line": {
             "colorbar": {
              "outlinewidth": 0,
              "ticks": ""
             }
            },
            "type": "parcoords"
           }
          ],
          "pie": [
           {
            "automargin": true,
            "type": "pie"
           }
          ],
          "scatter": [
           {
            "marker": {
             "colorbar": {
              "outlinewidth": 0,
              "ticks": ""
             }
            },
            "type": "scatter"
           }
          ],
          "scatter3d": [
           {
            "line": {
             "colorbar": {
              "outlinewidth": 0,
              "ticks": ""
             }
            },
            "marker": {
             "colorbar": {
              "outlinewidth": 0,
              "ticks": ""
             }
            },
            "type": "scatter3d"
           }
          ],
          "scattercarpet": [
           {
            "marker": {
             "colorbar": {
              "outlinewidth": 0,
              "ticks": ""
             }
            },
            "type": "scattercarpet"
           }
          ],
          "scattergeo": [
           {
            "marker": {
             "colorbar": {
              "outlinewidth": 0,
              "ticks": ""
             }
            },
            "type": "scattergeo"
           }
          ],
          "scattergl": [
           {
            "marker": {
             "colorbar": {
              "outlinewidth": 0,
              "ticks": ""
             }
            },
            "type": "scattergl"
           }
          ],
          "scattermapbox": [
           {
            "marker": {
             "colorbar": {
              "outlinewidth": 0,
              "ticks": ""
             }
            },
            "type": "scattermapbox"
           }
          ],
          "scatterpolar": [
           {
            "marker": {
             "colorbar": {
              "outlinewidth": 0,
              "ticks": ""
             }
            },
            "type": "scatterpolar"
           }
          ],
          "scatterpolargl": [
           {
            "marker": {
             "colorbar": {
              "outlinewidth": 0,
              "ticks": ""
             }
            },
            "type": "scatterpolargl"
           }
          ],
          "scatterternary": [
           {
            "marker": {
             "colorbar": {
              "outlinewidth": 0,
              "ticks": ""
             }
            },
            "type": "scatterternary"
           }
          ],
          "surface": [
           {
            "colorbar": {
             "outlinewidth": 0,
             "ticks": ""
            },
            "colorscale": [
             [
              0,
              "#0d0887"
             ],
             [
              0.1111111111111111,
              "#46039f"
             ],
             [
              0.2222222222222222,
              "#7201a8"
             ],
             [
              0.3333333333333333,
              "#9c179e"
             ],
             [
              0.4444444444444444,
              "#bd3786"
             ],
             [
              0.5555555555555556,
              "#d8576b"
             ],
             [
              0.6666666666666666,
              "#ed7953"
             ],
             [
              0.7777777777777778,
              "#fb9f3a"
             ],
             [
              0.8888888888888888,
              "#fdca26"
             ],
             [
              1,
              "#f0f921"
             ]
            ],
            "type": "surface"
           }
          ],
          "table": [
           {
            "cells": {
             "fill": {
              "color": "#EBF0F8"
             },
             "line": {
              "color": "white"
             }
            },
            "header": {
             "fill": {
              "color": "#C8D4E3"
             },
             "line": {
              "color": "white"
             }
            },
            "type": "table"
           }
          ]
         },
         "layout": {
          "annotationdefaults": {
           "arrowcolor": "#2a3f5f",
           "arrowhead": 0,
           "arrowwidth": 1
          },
          "coloraxis": {
           "colorbar": {
            "outlinewidth": 0,
            "ticks": ""
           }
          },
          "colorscale": {
           "diverging": [
            [
             0,
             "#8e0152"
            ],
            [
             0.1,
             "#c51b7d"
            ],
            [
             0.2,
             "#de77ae"
            ],
            [
             0.3,
             "#f1b6da"
            ],
            [
             0.4,
             "#fde0ef"
            ],
            [
             0.5,
             "#f7f7f7"
            ],
            [
             0.6,
             "#e6f5d0"
            ],
            [
             0.7,
             "#b8e186"
            ],
            [
             0.8,
             "#7fbc41"
            ],
            [
             0.9,
             "#4d9221"
            ],
            [
             1,
             "#276419"
            ]
           ],
           "sequential": [
            [
             0,
             "#0d0887"
            ],
            [
             0.1111111111111111,
             "#46039f"
            ],
            [
             0.2222222222222222,
             "#7201a8"
            ],
            [
             0.3333333333333333,
             "#9c179e"
            ],
            [
             0.4444444444444444,
             "#bd3786"
            ],
            [
             0.5555555555555556,
             "#d8576b"
            ],
            [
             0.6666666666666666,
             "#ed7953"
            ],
            [
             0.7777777777777778,
             "#fb9f3a"
            ],
            [
             0.8888888888888888,
             "#fdca26"
            ],
            [
             1,
             "#f0f921"
            ]
           ],
           "sequentialminus": [
            [
             0,
             "#0d0887"
            ],
            [
             0.1111111111111111,
             "#46039f"
            ],
            [
             0.2222222222222222,
             "#7201a8"
            ],
            [
             0.3333333333333333,
             "#9c179e"
            ],
            [
             0.4444444444444444,
             "#bd3786"
            ],
            [
             0.5555555555555556,
             "#d8576b"
            ],
            [
             0.6666666666666666,
             "#ed7953"
            ],
            [
             0.7777777777777778,
             "#fb9f3a"
            ],
            [
             0.8888888888888888,
             "#fdca26"
            ],
            [
             1,
             "#f0f921"
            ]
           ]
          },
          "colorway": [
           "#636efa",
           "#EF553B",
           "#00cc96",
           "#ab63fa",
           "#FFA15A",
           "#19d3f3",
           "#FF6692",
           "#B6E880",
           "#FF97FF",
           "#FECB52"
          ],
          "font": {
           "color": "#2a3f5f"
          },
          "geo": {
           "bgcolor": "white",
           "lakecolor": "white",
           "landcolor": "#E5ECF6",
           "showlakes": true,
           "showland": true,
           "subunitcolor": "white"
          },
          "hoverlabel": {
           "align": "left"
          },
          "hovermode": "closest",
          "mapbox": {
           "style": "light"
          },
          "paper_bgcolor": "white",
          "plot_bgcolor": "#E5ECF6",
          "polar": {
           "angularaxis": {
            "gridcolor": "white",
            "linecolor": "white",
            "ticks": ""
           },
           "bgcolor": "#E5ECF6",
           "radialaxis": {
            "gridcolor": "white",
            "linecolor": "white",
            "ticks": ""
           }
          },
          "scene": {
           "xaxis": {
            "backgroundcolor": "#E5ECF6",
            "gridcolor": "white",
            "gridwidth": 2,
            "linecolor": "white",
            "showbackground": true,
            "ticks": "",
            "zerolinecolor": "white"
           },
           "yaxis": {
            "backgroundcolor": "#E5ECF6",
            "gridcolor": "white",
            "gridwidth": 2,
            "linecolor": "white",
            "showbackground": true,
            "ticks": "",
            "zerolinecolor": "white"
           },
           "zaxis": {
            "backgroundcolor": "#E5ECF6",
            "gridcolor": "white",
            "gridwidth": 2,
            "linecolor": "white",
            "showbackground": true,
            "ticks": "",
            "zerolinecolor": "white"
           }
          },
          "shapedefaults": {
           "line": {
            "color": "#2a3f5f"
           }
          },
          "ternary": {
           "aaxis": {
            "gridcolor": "white",
            "linecolor": "white",
            "ticks": ""
           },
           "baxis": {
            "gridcolor": "white",
            "linecolor": "white",
            "ticks": ""
           },
           "bgcolor": "#E5ECF6",
           "caxis": {
            "gridcolor": "white",
            "linecolor": "white",
            "ticks": ""
           }
          },
          "title": {
           "x": 0.05
          },
          "xaxis": {
           "automargin": true,
           "gridcolor": "white",
           "linecolor": "white",
           "ticks": "",
           "title": {
            "standoff": 15
           },
           "zerolinecolor": "white",
           "zerolinewidth": 2
          },
          "yaxis": {
           "automargin": true,
           "gridcolor": "white",
           "linecolor": "white",
           "ticks": "",
           "title": {
            "standoff": 15
           },
           "zerolinecolor": "white",
           "zerolinewidth": 2
          }
         }
        },
        "title": {
         "font": {
          "color": "#4D5663"
         }
        },
        "xaxis": {
         "gridcolor": "#E1E5ED",
         "showgrid": true,
         "tickfont": {
          "color": "#4D5663"
         },
         "title": {
          "font": {
           "color": "#4D5663"
          },
          "text": ""
         },
         "zerolinecolor": "#E1E5ED"
        },
        "yaxis": {
         "gridcolor": "#E1E5ED",
         "showgrid": true,
         "tickfont": {
          "color": "#4D5663"
         },
         "title": {
          "font": {
           "color": "#4D5663"
          },
          "text": ""
         },
         "zerolinecolor": "#E1E5ED"
        }
       }
      },
      "text/html": [
       "<div>\n",
       "        \n",
       "        \n",
       "            <div id=\"485bec1c-5c1e-4ca0-8516-758d289f286a\" class=\"plotly-graph-div\" style=\"height:525px; width:100%;\"></div>\n",
       "            <script type=\"text/javascript\">\n",
       "                require([\"plotly\"], function(Plotly) {\n",
       "                    window.PLOTLYENV=window.PLOTLYENV || {};\n",
       "                    window.PLOTLYENV.BASE_URL='https://plot.ly';\n",
       "                    \n",
       "                if (document.getElementById(\"485bec1c-5c1e-4ca0-8516-758d289f286a\")) {\n",
       "                    Plotly.newPlot(\n",
       "                        '485bec1c-5c1e-4ca0-8516-758d289f286a',\n",
       "                        [{\"marker\": {\"color\": [\"rgb(255, 153, 51)\", \"rgb(55, 128, 191)\", \"rgb(50, 171, 96)\", \"rgb(128, 0, 128)\", \"rgb(219, 64, 82)\", \"rgb(0, 128, 128)\", \"rgb(255, 255, 51)\", \"rgb(128, 128, 0)\", \"rgb(251, 128, 114)\", \"rgb(128, 177, 211)\"], \"line\": {\"width\": 1.3}, \"size\": [53, 89, 36, 73, 43, 45, 77, 54, 53, 66, 48, 104, 45, 98, 102, 61, 72, 29, 58, 70, 56, 12, 91, 64, 91, 28, 61, 74, 78, 102, 63, 49, 107, 63, 67, 61, 83, 50, 82, 67, 112, 80, 63, 85, 69, 69, 60, 57, 64, 49, 42, 65, 73, 89, 65, 54, 23, 49, 29, 72, 61, 83, 54, 31, 49, 89, 73, 37, 60, 86, 77, 70, 53, 43, 82, 80, 74, 75, 50, 85, 76, 76, 42, 77, 90, 34, 96, 25, 76, 46, 34, 62, 91, 47, 98, 107, 55, 94, 96, 82], \"symbol\": \"circle\"}, \"mode\": \"markers\", \"text\": \"\", \"type\": \"scatter\", \"x\": [0.3705878037577684, -0.6678339547302442, 1.1380918556405002, -0.675580051894025, 1.7262495731372611, -0.7346738962061609, -0.9562145225408256, 0.025148520483188185, -0.11730817837083653, -0.8875635029726676, 0.7878568424078434, 1.1653202219069316, 1.2937559144192385, -1.0658594627738625, -0.09260441995537765, -0.5159981219517672, -0.8327586860733873, -1.3749779091900383, 0.42018431850196075, 0.14709265072578784, 0.25214049237485664, -0.18919730285638245, -2.718182630893289, -2.4871101190238996, -1.0215669673578682, 0.24635506388134681, -0.10770573439041783, 0.3557554224870404, 0.031566456058262665, 0.1700452202575896, -0.9575259626465774, -0.21532599451762865, 0.5236647751886957, 1.94221152756419, 1.0739362417570109, 0.08712867977911695, -0.37107368322293466, -1.1447478368070039, 2.129917673232524, -0.9693582650304164, -0.1869513636704791, 2.2092637073763917, 1.488229125167454, 2.214050967163112, 0.6384413413698313, -1.9283759167143864, -0.4511610664062786, -0.06721145376013846, -1.8119277914008352, -0.6415871282167186, -0.09212605207912067, -0.11015367934595786, -0.2885730054311169, 0.17257802683078483, -0.34532000564412413, -0.12995888586272972, -0.4377511993519691, -1.876492612806514, -1.718838915583185, 0.0936799439467252, 0.47001537739454224, -2.8410006043336353, 1.704730125268345, 0.20259501783314926, -0.4206312134987387, 0.839068083396662, -0.5043104052179739, 0.4731676005007791, 0.19311114687310646, 0.4716117801712886, 1.8908763742207517, -1.334644125974962, -0.11766425437807593, 1.6565164720427392, -1.5568524437600175, -0.5680816820553658, -0.5344358887477514, 0.1900277548085487, 0.7565155724048774, 1.9865304358054405, -0.3281632782126243, -2.127189864605686, -0.39679487724212614, -0.3050622209272501, -1.2578147927340104, -0.17726760140269482, -1.5401904883006807, -0.5614175852880462, -1.967164616628011, -0.38255077923662584, 1.1503595634830022, 0.2576042608917582, 1.2135540045813504, -0.4161542112158181, 2.1297943647777084, 1.3264977923735735, -0.4404670901208818, 0.48124473164937726, 0.5839900293237509, 1.076803896700854], \"y\": [-0.9026182879513235, -0.8429681388249898, 0.9540726979032438, -0.23251275860498477, 0.34349554969697677, -0.6219462410445961, -2.0006622694901433, 1.2051941291240547, -0.13994760501934572, 1.4084984797743516, -1.4406185815567676, 2.203571063939216, -0.7573170225475241, -1.3938894902922006, -1.5080691322024262, -0.14327068342977814, 0.037417546547547115, 1.6462587562862911, -0.09803460519806916, -0.14996665115790409, 0.21163564577514976, 1.0263341563855668, -2.1541928508243413, 0.5266668698269917, -1.55295581817936, -0.1945656521063503, 0.4888954405211421, -1.0860016057795432, 0.6863853333595958, 1.5301495976534594, 0.9766721778910605, 1.336524835836653, -1.2007448477602651, 0.06634015015393542, 1.2366217573413492, -0.8777425551106883, 0.6838574049901874, 1.4325415795887664, -0.9916589198409315, -1.4400899617991463, -1.2559540357374495, 0.6110065450279094, -1.0390703837403927, 0.7226262599610198, -2.676636290627523, -0.7200323899747009, 0.0773058348349942, -1.123920139622418, -1.5943451488747178, 0.09570172620242262, 0.031109758935364544, 0.5486092430934341, -0.9783856846534326, -0.37782591930038695, 2.04289799639152, 2.695461751334061, 0.42866956560443514, 0.06570107039637005, 0.3406308372199238, -0.13963619271339842, 2.08286852359131, -1.2438740075995987, -1.0244756191667646, -1.218721967500244, -0.574858657178294, 2.92238752045327, 0.49989326896154135, -1.228574562429567, 0.96213081663357, -1.7825877071155352, -0.8255838017224469, -0.2647822588269775, 1.3393791985468635, -0.39866530169448894, 0.7530286903232385, 0.702494600097855, -2.9359052065235454, 1.737741342697497, -0.27851189827084305, 2.519831534981045, 0.9039598139975631, -0.11495144416259331, 1.7927453018094415, 1.0292143655851063, 0.9950063877604468, 0.7302318326789189, -1.0215696369523628, 0.3528032997113076, -1.5412449038618279, -0.5806327163073665, 0.5350868251094306, -1.6961570456962733, 0.5796026289085382, -0.30485897618670443, -1.6535985994040143, 1.0991402504723242, 0.5477912575339169, -1.6636610596560424, 0.48997625929201616, -2.015300619743853]}],\n",
       "                        {\"legend\": {\"bgcolor\": \"#F5F6F9\", \"font\": {\"color\": \"#4D5663\"}}, \"paper_bgcolor\": \"#F5F6F9\", \"plot_bgcolor\": \"#F5F6F9\", \"template\": {\"data\": {\"bar\": [{\"error_x\": {\"color\": \"#2a3f5f\"}, \"error_y\": {\"color\": \"#2a3f5f\"}, \"marker\": {\"line\": {\"color\": \"#E5ECF6\", \"width\": 0.5}}, \"type\": \"bar\"}], \"barpolar\": [{\"marker\": {\"line\": {\"color\": \"#E5ECF6\", \"width\": 0.5}}, \"type\": \"barpolar\"}], \"carpet\": [{\"aaxis\": {\"endlinecolor\": \"#2a3f5f\", \"gridcolor\": \"white\", \"linecolor\": \"white\", \"minorgridcolor\": \"white\", \"startlinecolor\": \"#2a3f5f\"}, \"baxis\": {\"endlinecolor\": \"#2a3f5f\", \"gridcolor\": \"white\", \"linecolor\": \"white\", \"minorgridcolor\": \"white\", \"startlinecolor\": \"#2a3f5f\"}, \"type\": \"carpet\"}], \"choropleth\": [{\"colorbar\": {\"outlinewidth\": 0, \"ticks\": \"\"}, \"type\": \"choropleth\"}], \"contour\": [{\"colorbar\": {\"outlinewidth\": 0, \"ticks\": \"\"}, \"colorscale\": [[0.0, \"#0d0887\"], [0.1111111111111111, \"#46039f\"], [0.2222222222222222, \"#7201a8\"], [0.3333333333333333, \"#9c179e\"], [0.4444444444444444, \"#bd3786\"], [0.5555555555555556, \"#d8576b\"], [0.6666666666666666, \"#ed7953\"], [0.7777777777777778, \"#fb9f3a\"], [0.8888888888888888, \"#fdca26\"], [1.0, \"#f0f921\"]], \"type\": \"contour\"}], \"contourcarpet\": [{\"colorbar\": {\"outlinewidth\": 0, \"ticks\": \"\"}, \"type\": \"contourcarpet\"}], \"heatmap\": [{\"colorbar\": {\"outlinewidth\": 0, \"ticks\": \"\"}, \"colorscale\": [[0.0, \"#0d0887\"], [0.1111111111111111, \"#46039f\"], [0.2222222222222222, \"#7201a8\"], [0.3333333333333333, \"#9c179e\"], [0.4444444444444444, \"#bd3786\"], [0.5555555555555556, \"#d8576b\"], [0.6666666666666666, \"#ed7953\"], [0.7777777777777778, \"#fb9f3a\"], [0.8888888888888888, \"#fdca26\"], [1.0, \"#f0f921\"]], \"type\": \"heatmap\"}], \"heatmapgl\": [{\"colorbar\": {\"outlinewidth\": 0, \"ticks\": \"\"}, \"colorscale\": [[0.0, \"#0d0887\"], [0.1111111111111111, \"#46039f\"], [0.2222222222222222, \"#7201a8\"], [0.3333333333333333, \"#9c179e\"], [0.4444444444444444, \"#bd3786\"], [0.5555555555555556, \"#d8576b\"], [0.6666666666666666, \"#ed7953\"], [0.7777777777777778, \"#fb9f3a\"], [0.8888888888888888, \"#fdca26\"], [1.0, \"#f0f921\"]], \"type\": \"heatmapgl\"}], \"histogram\": [{\"marker\": {\"colorbar\": {\"outlinewidth\": 0, \"ticks\": \"\"}}, \"type\": \"histogram\"}], \"histogram2d\": [{\"colorbar\": {\"outlinewidth\": 0, \"ticks\": \"\"}, \"colorscale\": [[0.0, \"#0d0887\"], [0.1111111111111111, \"#46039f\"], [0.2222222222222222, \"#7201a8\"], [0.3333333333333333, \"#9c179e\"], [0.4444444444444444, \"#bd3786\"], [0.5555555555555556, \"#d8576b\"], [0.6666666666666666, \"#ed7953\"], [0.7777777777777778, \"#fb9f3a\"], [0.8888888888888888, \"#fdca26\"], [1.0, \"#f0f921\"]], \"type\": \"histogram2d\"}], \"histogram2dcontour\": [{\"colorbar\": {\"outlinewidth\": 0, \"ticks\": \"\"}, \"colorscale\": [[0.0, \"#0d0887\"], [0.1111111111111111, \"#46039f\"], [0.2222222222222222, \"#7201a8\"], [0.3333333333333333, \"#9c179e\"], [0.4444444444444444, \"#bd3786\"], [0.5555555555555556, \"#d8576b\"], [0.6666666666666666, \"#ed7953\"], [0.7777777777777778, \"#fb9f3a\"], [0.8888888888888888, \"#fdca26\"], [1.0, \"#f0f921\"]], \"type\": \"histogram2dcontour\"}], \"mesh3d\": [{\"colorbar\": {\"outlinewidth\": 0, \"ticks\": \"\"}, \"type\": \"mesh3d\"}], \"parcoords\": [{\"line\": {\"colorbar\": {\"outlinewidth\": 0, \"ticks\": \"\"}}, \"type\": \"parcoords\"}], \"pie\": [{\"automargin\": true, \"type\": \"pie\"}], \"scatter\": [{\"marker\": {\"colorbar\": {\"outlinewidth\": 0, \"ticks\": \"\"}}, \"type\": \"scatter\"}], \"scatter3d\": [{\"line\": {\"colorbar\": {\"outlinewidth\": 0, \"ticks\": \"\"}}, \"marker\": {\"colorbar\": {\"outlinewidth\": 0, \"ticks\": \"\"}}, \"type\": \"scatter3d\"}], \"scattercarpet\": [{\"marker\": {\"colorbar\": {\"outlinewidth\": 0, \"ticks\": \"\"}}, \"type\": \"scattercarpet\"}], \"scattergeo\": [{\"marker\": {\"colorbar\": {\"outlinewidth\": 0, \"ticks\": \"\"}}, \"type\": \"scattergeo\"}], \"scattergl\": [{\"marker\": {\"colorbar\": {\"outlinewidth\": 0, \"ticks\": \"\"}}, \"type\": \"scattergl\"}], \"scattermapbox\": [{\"marker\": {\"colorbar\": {\"outlinewidth\": 0, \"ticks\": \"\"}}, \"type\": \"scattermapbox\"}], \"scatterpolar\": [{\"marker\": {\"colorbar\": {\"outlinewidth\": 0, \"ticks\": \"\"}}, \"type\": \"scatterpolar\"}], \"scatterpolargl\": [{\"marker\": {\"colorbar\": {\"outlinewidth\": 0, \"ticks\": \"\"}}, \"type\": \"scatterpolargl\"}], \"scatterternary\": [{\"marker\": {\"colorbar\": {\"outlinewidth\": 0, \"ticks\": \"\"}}, \"type\": \"scatterternary\"}], \"surface\": [{\"colorbar\": {\"outlinewidth\": 0, \"ticks\": \"\"}, \"colorscale\": [[0.0, \"#0d0887\"], [0.1111111111111111, \"#46039f\"], [0.2222222222222222, \"#7201a8\"], [0.3333333333333333, \"#9c179e\"], [0.4444444444444444, \"#bd3786\"], [0.5555555555555556, \"#d8576b\"], [0.6666666666666666, \"#ed7953\"], [0.7777777777777778, \"#fb9f3a\"], [0.8888888888888888, \"#fdca26\"], [1.0, \"#f0f921\"]], \"type\": \"surface\"}], \"table\": [{\"cells\": {\"fill\": {\"color\": \"#EBF0F8\"}, \"line\": {\"color\": \"white\"}}, \"header\": {\"fill\": {\"color\": \"#C8D4E3\"}, \"line\": {\"color\": \"white\"}}, \"type\": \"table\"}]}, \"layout\": {\"annotationdefaults\": {\"arrowcolor\": \"#2a3f5f\", \"arrowhead\": 0, \"arrowwidth\": 1}, \"coloraxis\": {\"colorbar\": {\"outlinewidth\": 0, \"ticks\": \"\"}}, \"colorscale\": {\"diverging\": [[0, \"#8e0152\"], [0.1, \"#c51b7d\"], [0.2, \"#de77ae\"], [0.3, \"#f1b6da\"], [0.4, \"#fde0ef\"], [0.5, \"#f7f7f7\"], [0.6, \"#e6f5d0\"], [0.7, \"#b8e186\"], [0.8, \"#7fbc41\"], [0.9, \"#4d9221\"], [1, \"#276419\"]], \"sequential\": [[0.0, \"#0d0887\"], [0.1111111111111111, \"#46039f\"], [0.2222222222222222, \"#7201a8\"], [0.3333333333333333, \"#9c179e\"], [0.4444444444444444, \"#bd3786\"], [0.5555555555555556, \"#d8576b\"], [0.6666666666666666, \"#ed7953\"], [0.7777777777777778, \"#fb9f3a\"], [0.8888888888888888, \"#fdca26\"], [1.0, \"#f0f921\"]], \"sequentialminus\": [[0.0, \"#0d0887\"], [0.1111111111111111, \"#46039f\"], [0.2222222222222222, \"#7201a8\"], [0.3333333333333333, \"#9c179e\"], [0.4444444444444444, \"#bd3786\"], [0.5555555555555556, \"#d8576b\"], [0.6666666666666666, \"#ed7953\"], [0.7777777777777778, \"#fb9f3a\"], [0.8888888888888888, \"#fdca26\"], [1.0, \"#f0f921\"]]}, \"colorway\": [\"#636efa\", \"#EF553B\", \"#00cc96\", \"#ab63fa\", \"#FFA15A\", \"#19d3f3\", \"#FF6692\", \"#B6E880\", \"#FF97FF\", \"#FECB52\"], \"font\": {\"color\": \"#2a3f5f\"}, \"geo\": {\"bgcolor\": \"white\", \"lakecolor\": \"white\", \"landcolor\": \"#E5ECF6\", \"showlakes\": true, \"showland\": true, \"subunitcolor\": \"white\"}, \"hoverlabel\": {\"align\": \"left\"}, \"hovermode\": \"closest\", \"mapbox\": {\"style\": \"light\"}, \"paper_bgcolor\": \"white\", \"plot_bgcolor\": \"#E5ECF6\", \"polar\": {\"angularaxis\": {\"gridcolor\": \"white\", \"linecolor\": \"white\", \"ticks\": \"\"}, \"bgcolor\": \"#E5ECF6\", \"radialaxis\": {\"gridcolor\": \"white\", \"linecolor\": \"white\", \"ticks\": \"\"}}, \"scene\": {\"xaxis\": {\"backgroundcolor\": \"#E5ECF6\", \"gridcolor\": \"white\", \"gridwidth\": 2, \"linecolor\": \"white\", \"showbackground\": true, \"ticks\": \"\", \"zerolinecolor\": \"white\"}, \"yaxis\": {\"backgroundcolor\": \"#E5ECF6\", \"gridcolor\": \"white\", \"gridwidth\": 2, \"linecolor\": \"white\", \"showbackground\": true, \"ticks\": \"\", \"zerolinecolor\": \"white\"}, \"zaxis\": {\"backgroundcolor\": \"#E5ECF6\", \"gridcolor\": \"white\", \"gridwidth\": 2, \"linecolor\": \"white\", \"showbackground\": true, \"ticks\": \"\", \"zerolinecolor\": \"white\"}}, \"shapedefaults\": {\"line\": {\"color\": \"#2a3f5f\"}}, \"ternary\": {\"aaxis\": {\"gridcolor\": \"white\", \"linecolor\": \"white\", \"ticks\": \"\"}, \"baxis\": {\"gridcolor\": \"white\", \"linecolor\": \"white\", \"ticks\": \"\"}, \"bgcolor\": \"#E5ECF6\", \"caxis\": {\"gridcolor\": \"white\", \"linecolor\": \"white\", \"ticks\": \"\"}}, \"title\": {\"x\": 0.05}, \"xaxis\": {\"automargin\": true, \"gridcolor\": \"white\", \"linecolor\": \"white\", \"ticks\": \"\", \"title\": {\"standoff\": 15}, \"zerolinecolor\": \"white\", \"zerolinewidth\": 2}, \"yaxis\": {\"automargin\": true, \"gridcolor\": \"white\", \"linecolor\": \"white\", \"ticks\": \"\", \"title\": {\"standoff\": 15}, \"zerolinecolor\": \"white\", \"zerolinewidth\": 2}}}, \"title\": {\"font\": {\"color\": \"#4D5663\"}}, \"xaxis\": {\"gridcolor\": \"#E1E5ED\", \"showgrid\": true, \"tickfont\": {\"color\": \"#4D5663\"}, \"title\": {\"font\": {\"color\": \"#4D5663\"}, \"text\": \"\"}, \"zerolinecolor\": \"#E1E5ED\"}, \"yaxis\": {\"gridcolor\": \"#E1E5ED\", \"showgrid\": true, \"tickfont\": {\"color\": \"#4D5663\"}, \"title\": {\"font\": {\"color\": \"#4D5663\"}, \"text\": \"\"}, \"zerolinecolor\": \"#E1E5ED\"}},\n",
       "                        {\"showLink\": true, \"linkText\": \"Export to plot.ly\", \"plotlyServerURL\": \"https://plot.ly\", \"responsive\": true}\n",
       "                    ).then(function(){\n",
       "                            \n",
       "var gd = document.getElementById('485bec1c-5c1e-4ca0-8516-758d289f286a');\n",
       "var x = new MutationObserver(function (mutations, observer) {{\n",
       "        var display = window.getComputedStyle(gd).display;\n",
       "        if (!display || display === 'none') {{\n",
       "            console.log([gd, 'removed!']);\n",
       "            Plotly.purge(gd);\n",
       "            observer.disconnect();\n",
       "        }}\n",
       "}});\n",
       "\n",
       "// Listen for the removal of the full notebook cells\n",
       "var notebookContainer = gd.closest('#notebook-container');\n",
       "if (notebookContainer) {{\n",
       "    x.observe(notebookContainer, {childList: true});\n",
       "}}\n",
       "\n",
       "// Listen for the clearing of the current output cell\n",
       "var outputEl = gd.closest('.output');\n",
       "if (outputEl) {{\n",
       "    x.observe(outputEl, {childList: true});\n",
       "}}\n",
       "\n",
       "                        })\n",
       "                };\n",
       "                });\n",
       "            </script>\n",
       "        </div>"
      ]
     },
     "metadata": {},
     "output_type": "display_data"
    }
   ],
   "source": [
    "df.iplot(kind='bubble',x='A',y='B',size='C')"
   ]
  },
  {
   "cell_type": "markdown",
   "metadata": {},
   "source": [
    "## scatter_matrix()\n",
    "\n",
    "Similar to sns.pairplot()"
   ]
  },
  {
   "cell_type": "code",
   "execution_count": 21,
   "metadata": {},
   "outputs": [
    {
     "data": {
      "application/vnd.plotly.v1+json": {
       "config": {
        "linkText": "Export to plot.ly",
        "plotlyServerURL": "https://plot.ly",
        "showLink": true
       },
       "data": [
        {
         "histfunc": "count",
         "histnorm": "",
         "marker": {
          "color": "rgba(255, 153, 51, 1.0)",
          "line": {
           "color": "#4D5663",
           "width": 1.3
          }
         },
         "name": "A",
         "nbinsx": 10,
         "opacity": 0.8,
         "orientation": "v",
         "type": "histogram",
         "x": [
          0.3705878037577684,
          -0.6678339547302442,
          1.1380918556405002,
          -0.675580051894025,
          1.7262495731372611,
          -0.7346738962061609,
          -0.9562145225408256,
          0.025148520483188185,
          -0.11730817837083653,
          -0.8875635029726676,
          0.7878568424078434,
          1.1653202219069316,
          1.2937559144192385,
          -1.0658594627738625,
          -0.09260441995537765,
          -0.5159981219517672,
          -0.8327586860733873,
          -1.3749779091900383,
          0.42018431850196075,
          0.14709265072578784,
          0.25214049237485664,
          -0.18919730285638245,
          -2.718182630893289,
          -2.4871101190238996,
          -1.0215669673578682,
          0.24635506388134681,
          -0.10770573439041783,
          0.3557554224870404,
          0.031566456058262665,
          0.1700452202575896,
          -0.9575259626465774,
          -0.21532599451762865,
          0.5236647751886957,
          1.94221152756419,
          1.0739362417570109,
          0.08712867977911695,
          -0.37107368322293466,
          -1.1447478368070039,
          2.129917673232524,
          -0.9693582650304164,
          -0.1869513636704791,
          2.2092637073763917,
          1.488229125167454,
          2.214050967163112,
          0.6384413413698313,
          -1.9283759167143864,
          -0.4511610664062786,
          -0.06721145376013846,
          -1.8119277914008352,
          -0.6415871282167186,
          -0.09212605207912067,
          -0.11015367934595786,
          -0.2885730054311169,
          0.17257802683078483,
          -0.34532000564412413,
          -0.12995888586272972,
          -0.4377511993519691,
          -1.876492612806514,
          -1.718838915583185,
          0.0936799439467252,
          0.47001537739454224,
          -2.8410006043336353,
          1.704730125268345,
          0.20259501783314926,
          -0.4206312134987387,
          0.839068083396662,
          -0.5043104052179739,
          0.4731676005007791,
          0.19311114687310646,
          0.4716117801712886,
          1.8908763742207517,
          -1.334644125974962,
          -0.11766425437807593,
          1.6565164720427392,
          -1.5568524437600175,
          -0.5680816820553658,
          -0.5344358887477514,
          0.1900277548085487,
          0.7565155724048774,
          1.9865304358054405,
          -0.3281632782126243,
          -2.127189864605686,
          -0.39679487724212614,
          -0.3050622209272501,
          -1.2578147927340104,
          -0.17726760140269482,
          -1.5401904883006807,
          -0.5614175852880462,
          -1.967164616628011,
          -0.38255077923662584,
          1.1503595634830022,
          0.2576042608917582,
          1.2135540045813504,
          -0.4161542112158181,
          2.1297943647777084,
          1.3264977923735735,
          -0.4404670901208818,
          0.48124473164937726,
          0.5839900293237509,
          1.076803896700854
         ],
         "xaxis": "x",
         "yaxis": "y"
        },
        {
         "line": {
          "color": "rgba(128, 128, 128, 1.0)",
          "dash": "solid",
          "shape": "linear",
          "width": 1.3
         },
         "marker": {
          "size": 2,
          "symbol": "circle"
         },
         "mode": "markers",
         "name": "A",
         "text": "",
         "type": "scatter",
         "x": [
          -0.9026182879513235,
          -0.8429681388249898,
          0.9540726979032438,
          -0.23251275860498477,
          0.34349554969697677,
          -0.6219462410445961,
          -2.0006622694901433,
          1.2051941291240547,
          -0.13994760501934572,
          1.4084984797743516,
          -1.4406185815567676,
          2.203571063939216,
          -0.7573170225475241,
          -1.3938894902922006,
          -1.5080691322024262,
          -0.14327068342977814,
          0.037417546547547115,
          1.6462587562862911,
          -0.09803460519806916,
          -0.14996665115790409,
          0.21163564577514976,
          1.0263341563855668,
          -2.1541928508243413,
          0.5266668698269917,
          -1.55295581817936,
          -0.1945656521063503,
          0.4888954405211421,
          -1.0860016057795432,
          0.6863853333595958,
          1.5301495976534594,
          0.9766721778910605,
          1.336524835836653,
          -1.2007448477602651,
          0.06634015015393542,
          1.2366217573413492,
          -0.8777425551106883,
          0.6838574049901874,
          1.4325415795887664,
          -0.9916589198409315,
          -1.4400899617991463,
          -1.2559540357374495,
          0.6110065450279094,
          -1.0390703837403927,
          0.7226262599610198,
          -2.676636290627523,
          -0.7200323899747009,
          0.0773058348349942,
          -1.123920139622418,
          -1.5943451488747178,
          0.09570172620242262,
          0.031109758935364544,
          0.5486092430934341,
          -0.9783856846534326,
          -0.37782591930038695,
          2.04289799639152,
          2.695461751334061,
          0.42866956560443514,
          0.06570107039637005,
          0.3406308372199238,
          -0.13963619271339842,
          2.08286852359131,
          -1.2438740075995987,
          -1.0244756191667646,
          -1.218721967500244,
          -0.574858657178294,
          2.92238752045327,
          0.49989326896154135,
          -1.228574562429567,
          0.96213081663357,
          -1.7825877071155352,
          -0.8255838017224469,
          -0.2647822588269775,
          1.3393791985468635,
          -0.39866530169448894,
          0.7530286903232385,
          0.702494600097855,
          -2.9359052065235454,
          1.737741342697497,
          -0.27851189827084305,
          2.519831534981045,
          0.9039598139975631,
          -0.11495144416259331,
          1.7927453018094415,
          1.0292143655851063,
          0.9950063877604468,
          0.7302318326789189,
          -1.0215696369523628,
          0.3528032997113076,
          -1.5412449038618279,
          -0.5806327163073665,
          0.5350868251094306,
          -1.6961570456962733,
          0.5796026289085382,
          -0.30485897618670443,
          -1.6535985994040143,
          1.0991402504723242,
          0.5477912575339169,
          -1.6636610596560424,
          0.48997625929201616,
          -2.015300619743853
         ],
         "xaxis": "x2",
         "y": [
          0.3705878037577684,
          -0.6678339547302442,
          1.1380918556405002,
          -0.675580051894025,
          1.7262495731372611,
          -0.7346738962061609,
          -0.9562145225408256,
          0.025148520483188185,
          -0.11730817837083653,
          -0.8875635029726676,
          0.7878568424078434,
          1.1653202219069316,
          1.2937559144192385,
          -1.0658594627738625,
          -0.09260441995537765,
          -0.5159981219517672,
          -0.8327586860733873,
          -1.3749779091900383,
          0.42018431850196075,
          0.14709265072578784,
          0.25214049237485664,
          -0.18919730285638245,
          -2.718182630893289,
          -2.4871101190238996,
          -1.0215669673578682,
          0.24635506388134681,
          -0.10770573439041783,
          0.3557554224870404,
          0.031566456058262665,
          0.1700452202575896,
          -0.9575259626465774,
          -0.21532599451762865,
          0.5236647751886957,
          1.94221152756419,
          1.0739362417570109,
          0.08712867977911695,
          -0.37107368322293466,
          -1.1447478368070039,
          2.129917673232524,
          -0.9693582650304164,
          -0.1869513636704791,
          2.2092637073763917,
          1.488229125167454,
          2.214050967163112,
          0.6384413413698313,
          -1.9283759167143864,
          -0.4511610664062786,
          -0.06721145376013846,
          -1.8119277914008352,
          -0.6415871282167186,
          -0.09212605207912067,
          -0.11015367934595786,
          -0.2885730054311169,
          0.17257802683078483,
          -0.34532000564412413,
          -0.12995888586272972,
          -0.4377511993519691,
          -1.876492612806514,
          -1.718838915583185,
          0.0936799439467252,
          0.47001537739454224,
          -2.8410006043336353,
          1.704730125268345,
          0.20259501783314926,
          -0.4206312134987387,
          0.839068083396662,
          -0.5043104052179739,
          0.4731676005007791,
          0.19311114687310646,
          0.4716117801712886,
          1.8908763742207517,
          -1.334644125974962,
          -0.11766425437807593,
          1.6565164720427392,
          -1.5568524437600175,
          -0.5680816820553658,
          -0.5344358887477514,
          0.1900277548085487,
          0.7565155724048774,
          1.9865304358054405,
          -0.3281632782126243,
          -2.127189864605686,
          -0.39679487724212614,
          -0.3050622209272501,
          -1.2578147927340104,
          -0.17726760140269482,
          -1.5401904883006807,
          -0.5614175852880462,
          -1.967164616628011,
          -0.38255077923662584,
          1.1503595634830022,
          0.2576042608917582,
          1.2135540045813504,
          -0.4161542112158181,
          2.1297943647777084,
          1.3264977923735735,
          -0.4404670901208818,
          0.48124473164937726,
          0.5839900293237509,
          1.076803896700854
         ],
         "yaxis": "y2"
        },
        {
         "line": {
          "color": "rgba(128, 128, 128, 1.0)",
          "dash": "solid",
          "shape": "linear",
          "width": 1.3
         },
         "marker": {
          "size": 2,
          "symbol": "circle"
         },
         "mode": "markers",
         "name": "A",
         "text": "",
         "type": "scatter",
         "x": [
          -0.5998922748226837,
          1.0401232639605857,
          -1.3701390540574003,
          0.307367401403588,
          -1.0799042915348378,
          -0.9813177044008539,
          0.4770731548160624,
          -0.5826732258653297,
          -0.6035195659833387,
          -0.0258865493970227,
          -0.8230608255643124,
          1.6943105314625253,
          -0.9563104649466695,
          1.4177953890193729,
          1.6273911971295223,
          -0.2578227224315953,
          0.26004100762205856,
          -1.697537184922374,
          -0.3812906397479519,
          0.1722461009838956,
          -0.4556650197368004,
          -2.495653667611221,
          1.097080665209218,
          -0.13077845197865856,
          1.1074694634752067,
          -1.7294470216683682,
          -0.26705895882833,
          0.3251636428314838,
          0.5361169732425961,
          1.589969134302654,
          -0.15735546537356165,
          -0.7995419169077077,
          1.8376619277966697,
          -0.15187825852893375,
          0.04374985851141635,
          -0.23823958694361272,
          0.764467916710477,
          -0.7554188593905685,
          0.6921743026950641,
          0.03290908332584349,
          2.0433745991251198,
          0.6102966937575419,
          -0.17802755313353924,
          0.8218065247920904,
          0.12142670746890857,
          0.09815011007935072,
          -0.29780293511282513,
          -0.4526326974716961,
          -0.12252382350765847,
          -0.7900818595884559,
          -1.1008843446675154,
          -0.07630183113288294,
          0.2802494823029372,
          1.0161020693800689,
          -0.071570854643028,
          -0.5531877476244556,
          -1.9807446325723932,
          -0.8091256988385362,
          -1.7009786854539621,
          0.24777396683941133,
          -0.2699730156670374,
          0.7299970552803603,
          -0.556742101854421,
          -1.6052585106866015,
          -0.7802709940324564,
          1.0178771189571585,
          0.3065709276649882,
          -1.3304863582651418,
          -0.2865475537453356,
          0.9070300290159293,
          0.4843256513077551,
          0.17691226867134244,
          -0.609623055568708,
          -1.0861291448568933,
          0.7194756521047455,
          0.6065091377263108,
          0.33760317323029176,
          0.39774407638368164,
          -0.7590447844571399,
          0.8520210686986877,
          0.44533746837968435,
          0.4507753644951477,
          -1.088986892953632,
          0.4693496772868247,
          1.0556025178684072,
          -1.4878323098061323,
          1.3625106657117196,
          -1.8917699176948377,
          0.4095272296787832,
          -0.9221182812831743,
          -1.4542834127024287,
          -0.18464768530778417,
          1.0959242606698392,
          -0.8935725350190782,
          1.4342173284967896,
          1.8371179074984076,
          -0.5299449866725706,
          1.2646796592685872,
          1.3239105830431595,
          0.6861574912304074
         ],
         "xaxis": "x3",
         "y": [
          0.3705878037577684,
          -0.6678339547302442,
          1.1380918556405002,
          -0.675580051894025,
          1.7262495731372611,
          -0.7346738962061609,
          -0.9562145225408256,
          0.025148520483188185,
          -0.11730817837083653,
          -0.8875635029726676,
          0.7878568424078434,
          1.1653202219069316,
          1.2937559144192385,
          -1.0658594627738625,
          -0.09260441995537765,
          -0.5159981219517672,
          -0.8327586860733873,
          -1.3749779091900383,
          0.42018431850196075,
          0.14709265072578784,
          0.25214049237485664,
          -0.18919730285638245,
          -2.718182630893289,
          -2.4871101190238996,
          -1.0215669673578682,
          0.24635506388134681,
          -0.10770573439041783,
          0.3557554224870404,
          0.031566456058262665,
          0.1700452202575896,
          -0.9575259626465774,
          -0.21532599451762865,
          0.5236647751886957,
          1.94221152756419,
          1.0739362417570109,
          0.08712867977911695,
          -0.37107368322293466,
          -1.1447478368070039,
          2.129917673232524,
          -0.9693582650304164,
          -0.1869513636704791,
          2.2092637073763917,
          1.488229125167454,
          2.214050967163112,
          0.6384413413698313,
          -1.9283759167143864,
          -0.4511610664062786,
          -0.06721145376013846,
          -1.8119277914008352,
          -0.6415871282167186,
          -0.09212605207912067,
          -0.11015367934595786,
          -0.2885730054311169,
          0.17257802683078483,
          -0.34532000564412413,
          -0.12995888586272972,
          -0.4377511993519691,
          -1.876492612806514,
          -1.718838915583185,
          0.0936799439467252,
          0.47001537739454224,
          -2.8410006043336353,
          1.704730125268345,
          0.20259501783314926,
          -0.4206312134987387,
          0.839068083396662,
          -0.5043104052179739,
          0.4731676005007791,
          0.19311114687310646,
          0.4716117801712886,
          1.8908763742207517,
          -1.334644125974962,
          -0.11766425437807593,
          1.6565164720427392,
          -1.5568524437600175,
          -0.5680816820553658,
          -0.5344358887477514,
          0.1900277548085487,
          0.7565155724048774,
          1.9865304358054405,
          -0.3281632782126243,
          -2.127189864605686,
          -0.39679487724212614,
          -0.3050622209272501,
          -1.2578147927340104,
          -0.17726760140269482,
          -1.5401904883006807,
          -0.5614175852880462,
          -1.967164616628011,
          -0.38255077923662584,
          1.1503595634830022,
          0.2576042608917582,
          1.2135540045813504,
          -0.4161542112158181,
          2.1297943647777084,
          1.3264977923735735,
          -0.4404670901208818,
          0.48124473164937726,
          0.5839900293237509,
          1.076803896700854
         ],
         "yaxis": "y3"
        },
        {
         "line": {
          "color": "rgba(128, 128, 128, 1.0)",
          "dash": "solid",
          "shape": "linear",
          "width": 1.3
         },
         "marker": {
          "size": 2,
          "symbol": "circle"
         },
         "mode": "markers",
         "name": "A",
         "text": "",
         "type": "scatter",
         "x": [
          -0.3484290193324681,
          1.2493318120026027,
          0.6195953989316635,
          -0.10007648659084645,
          -0.848659613914679,
          -1.2072222170818043,
          0.1331176062784441,
          -0.01646742972146636,
          -0.37225133150837864,
          0.11229352710673653,
          0.6366971125581358,
          1.545579307785409,
          0.15580916850848148,
          -0.3314672607660011,
          0.7929866166535395,
          0.8941052725838416,
          -0.14329935045522949,
          1.3196350077045846,
          -0.096788026963216,
          -0.8346083847204316,
          1.2032145169230912,
          -0.38071240368744474,
          -0.3098611358309325,
          -1.736361585718667,
          -2.1199279881649593,
          -1.5794355446796786,
          -1.2791643506642554,
          -1.4992239299870747,
          -0.03425548013030693,
          -0.1206142170620143,
          0.3451768520894632,
          0.6844729058258141,
          -0.8376759964545056,
          1.241591779090792,
          -1.3881052068053508,
          1.1012224452147994,
          -1.0975287473015383,
          0.5041699155349165,
          0.7160675347296979,
          -1.2093109533153736,
          -0.24711334829147724,
          -0.5889737991894741,
          -0.5366652084809301,
          0.3310628341514247,
          0.06631259446541207,
          -0.28759721211797773,
          -1.1155536161178887,
          -0.11610402773542693,
          -0.4429351529770189,
          1.4270945875382393,
          0.6491689023501485,
          0.4883187223682674,
          0.14973969661131312,
          1.3875615203236902,
          0.035749576155775536,
          0.17155751012655765,
          -0.08973447587317929,
          0.6232701155816891,
          -0.34499518674366153,
          -2.1703151733281087,
          0.1797106006356278,
          -0.9074164273981294,
          -0.531983574715416,
          -0.8338018217815336,
          -0.7465538070712631,
          0.3789556341758663,
          3.075277236055962,
          -0.19053133737678485,
          0.8643667689060618,
          2.4980523172364046,
          -0.04232670805240006,
          1.2480572144201294,
          1.541103715916894,
          -1.7373434081652341,
          1.4565399138714257,
          -0.4710155743441887,
          0.6801057596111969,
          0.18764949278207416,
          0.4735916382674086,
          -3.356995673638782,
          -0.3019626812744328,
          -2.2403559426949933,
          -1.6319267400086224,
          0.8824560086615363,
          1.1468628425988923,
          -0.53925633992263,
          -0.1995850040866459,
          0.005847650698243115,
          2.410480925201785,
          -0.44772196459658326,
          -1.6552711703176686,
          -0.23346162577694834,
          -0.06260196282696313,
          -0.4749436357111602,
          -1.587230525836392,
          0.46603024198579857,
          -0.003303137021653763,
          -0.6821232266716004,
          0.8182169465651061,
          -0.6364533045515591
         ],
         "xaxis": "x4",
         "y": [
          0.3705878037577684,
          -0.6678339547302442,
          1.1380918556405002,
          -0.675580051894025,
          1.7262495731372611,
          -0.7346738962061609,
          -0.9562145225408256,
          0.025148520483188185,
          -0.11730817837083653,
          -0.8875635029726676,
          0.7878568424078434,
          1.1653202219069316,
          1.2937559144192385,
          -1.0658594627738625,
          -0.09260441995537765,
          -0.5159981219517672,
          -0.8327586860733873,
          -1.3749779091900383,
          0.42018431850196075,
          0.14709265072578784,
          0.25214049237485664,
          -0.18919730285638245,
          -2.718182630893289,
          -2.4871101190238996,
          -1.0215669673578682,
          0.24635506388134681,
          -0.10770573439041783,
          0.3557554224870404,
          0.031566456058262665,
          0.1700452202575896,
          -0.9575259626465774,
          -0.21532599451762865,
          0.5236647751886957,
          1.94221152756419,
          1.0739362417570109,
          0.08712867977911695,
          -0.37107368322293466,
          -1.1447478368070039,
          2.129917673232524,
          -0.9693582650304164,
          -0.1869513636704791,
          2.2092637073763917,
          1.488229125167454,
          2.214050967163112,
          0.6384413413698313,
          -1.9283759167143864,
          -0.4511610664062786,
          -0.06721145376013846,
          -1.8119277914008352,
          -0.6415871282167186,
          -0.09212605207912067,
          -0.11015367934595786,
          -0.2885730054311169,
          0.17257802683078483,
          -0.34532000564412413,
          -0.12995888586272972,
          -0.4377511993519691,
          -1.876492612806514,
          -1.718838915583185,
          0.0936799439467252,
          0.47001537739454224,
          -2.8410006043336353,
          1.704730125268345,
          0.20259501783314926,
          -0.4206312134987387,
          0.839068083396662,
          -0.5043104052179739,
          0.4731676005007791,
          0.19311114687310646,
          0.4716117801712886,
          1.8908763742207517,
          -1.334644125974962,
          -0.11766425437807593,
          1.6565164720427392,
          -1.5568524437600175,
          -0.5680816820553658,
          -0.5344358887477514,
          0.1900277548085487,
          0.7565155724048774,
          1.9865304358054405,
          -0.3281632782126243,
          -2.127189864605686,
          -0.39679487724212614,
          -0.3050622209272501,
          -1.2578147927340104,
          -0.17726760140269482,
          -1.5401904883006807,
          -0.5614175852880462,
          -1.967164616628011,
          -0.38255077923662584,
          1.1503595634830022,
          0.2576042608917582,
          1.2135540045813504,
          -0.4161542112158181,
          2.1297943647777084,
          1.3264977923735735,
          -0.4404670901208818,
          0.48124473164937726,
          0.5839900293237509,
          1.076803896700854
         ],
         "yaxis": "y4"
        },
        {
         "line": {
          "color": "rgba(128, 128, 128, 1.0)",
          "dash": "solid",
          "shape": "linear",
          "width": 1.3
         },
         "marker": {
          "size": 2,
          "symbol": "circle"
         },
         "mode": "markers",
         "name": "B",
         "text": "",
         "type": "scatter",
         "x": [
          0.3705878037577684,
          -0.6678339547302442,
          1.1380918556405002,
          -0.675580051894025,
          1.7262495731372611,
          -0.7346738962061609,
          -0.9562145225408256,
          0.025148520483188185,
          -0.11730817837083653,
          -0.8875635029726676,
          0.7878568424078434,
          1.1653202219069316,
          1.2937559144192385,
          -1.0658594627738625,
          -0.09260441995537765,
          -0.5159981219517672,
          -0.8327586860733873,
          -1.3749779091900383,
          0.42018431850196075,
          0.14709265072578784,
          0.25214049237485664,
          -0.18919730285638245,
          -2.718182630893289,
          -2.4871101190238996,
          -1.0215669673578682,
          0.24635506388134681,
          -0.10770573439041783,
          0.3557554224870404,
          0.031566456058262665,
          0.1700452202575896,
          -0.9575259626465774,
          -0.21532599451762865,
          0.5236647751886957,
          1.94221152756419,
          1.0739362417570109,
          0.08712867977911695,
          -0.37107368322293466,
          -1.1447478368070039,
          2.129917673232524,
          -0.9693582650304164,
          -0.1869513636704791,
          2.2092637073763917,
          1.488229125167454,
          2.214050967163112,
          0.6384413413698313,
          -1.9283759167143864,
          -0.4511610664062786,
          -0.06721145376013846,
          -1.8119277914008352,
          -0.6415871282167186,
          -0.09212605207912067,
          -0.11015367934595786,
          -0.2885730054311169,
          0.17257802683078483,
          -0.34532000564412413,
          -0.12995888586272972,
          -0.4377511993519691,
          -1.876492612806514,
          -1.718838915583185,
          0.0936799439467252,
          0.47001537739454224,
          -2.8410006043336353,
          1.704730125268345,
          0.20259501783314926,
          -0.4206312134987387,
          0.839068083396662,
          -0.5043104052179739,
          0.4731676005007791,
          0.19311114687310646,
          0.4716117801712886,
          1.8908763742207517,
          -1.334644125974962,
          -0.11766425437807593,
          1.6565164720427392,
          -1.5568524437600175,
          -0.5680816820553658,
          -0.5344358887477514,
          0.1900277548085487,
          0.7565155724048774,
          1.9865304358054405,
          -0.3281632782126243,
          -2.127189864605686,
          -0.39679487724212614,
          -0.3050622209272501,
          -1.2578147927340104,
          -0.17726760140269482,
          -1.5401904883006807,
          -0.5614175852880462,
          -1.967164616628011,
          -0.38255077923662584,
          1.1503595634830022,
          0.2576042608917582,
          1.2135540045813504,
          -0.4161542112158181,
          2.1297943647777084,
          1.3264977923735735,
          -0.4404670901208818,
          0.48124473164937726,
          0.5839900293237509,
          1.076803896700854
         ],
         "xaxis": "x5",
         "y": [
          -0.9026182879513235,
          -0.8429681388249898,
          0.9540726979032438,
          -0.23251275860498477,
          0.34349554969697677,
          -0.6219462410445961,
          -2.0006622694901433,
          1.2051941291240547,
          -0.13994760501934572,
          1.4084984797743516,
          -1.4406185815567676,
          2.203571063939216,
          -0.7573170225475241,
          -1.3938894902922006,
          -1.5080691322024262,
          -0.14327068342977814,
          0.037417546547547115,
          1.6462587562862911,
          -0.09803460519806916,
          -0.14996665115790409,
          0.21163564577514976,
          1.0263341563855668,
          -2.1541928508243413,
          0.5266668698269917,
          -1.55295581817936,
          -0.1945656521063503,
          0.4888954405211421,
          -1.0860016057795432,
          0.6863853333595958,
          1.5301495976534594,
          0.9766721778910605,
          1.336524835836653,
          -1.2007448477602651,
          0.06634015015393542,
          1.2366217573413492,
          -0.8777425551106883,
          0.6838574049901874,
          1.4325415795887664,
          -0.9916589198409315,
          -1.4400899617991463,
          -1.2559540357374495,
          0.6110065450279094,
          -1.0390703837403927,
          0.7226262599610198,
          -2.676636290627523,
          -0.7200323899747009,
          0.0773058348349942,
          -1.123920139622418,
          -1.5943451488747178,
          0.09570172620242262,
          0.031109758935364544,
          0.5486092430934341,
          -0.9783856846534326,
          -0.37782591930038695,
          2.04289799639152,
          2.695461751334061,
          0.42866956560443514,
          0.06570107039637005,
          0.3406308372199238,
          -0.13963619271339842,
          2.08286852359131,
          -1.2438740075995987,
          -1.0244756191667646,
          -1.218721967500244,
          -0.574858657178294,
          2.92238752045327,
          0.49989326896154135,
          -1.228574562429567,
          0.96213081663357,
          -1.7825877071155352,
          -0.8255838017224469,
          -0.2647822588269775,
          1.3393791985468635,
          -0.39866530169448894,
          0.7530286903232385,
          0.702494600097855,
          -2.9359052065235454,
          1.737741342697497,
          -0.27851189827084305,
          2.519831534981045,
          0.9039598139975631,
          -0.11495144416259331,
          1.7927453018094415,
          1.0292143655851063,
          0.9950063877604468,
          0.7302318326789189,
          -1.0215696369523628,
          0.3528032997113076,
          -1.5412449038618279,
          -0.5806327163073665,
          0.5350868251094306,
          -1.6961570456962733,
          0.5796026289085382,
          -0.30485897618670443,
          -1.6535985994040143,
          1.0991402504723242,
          0.5477912575339169,
          -1.6636610596560424,
          0.48997625929201616,
          -2.015300619743853
         ],
         "yaxis": "y5"
        },
        {
         "histfunc": "count",
         "histnorm": "",
         "marker": {
          "color": "rgba(55, 128, 191, 1.0)",
          "line": {
           "color": "#4D5663",
           "width": 1.3
          }
         },
         "name": "B",
         "nbinsx": 10,
         "opacity": 0.8,
         "orientation": "v",
         "type": "histogram",
         "x": [
          -0.9026182879513235,
          -0.8429681388249898,
          0.9540726979032438,
          -0.23251275860498477,
          0.34349554969697677,
          -0.6219462410445961,
          -2.0006622694901433,
          1.2051941291240547,
          -0.13994760501934572,
          1.4084984797743516,
          -1.4406185815567676,
          2.203571063939216,
          -0.7573170225475241,
          -1.3938894902922006,
          -1.5080691322024262,
          -0.14327068342977814,
          0.037417546547547115,
          1.6462587562862911,
          -0.09803460519806916,
          -0.14996665115790409,
          0.21163564577514976,
          1.0263341563855668,
          -2.1541928508243413,
          0.5266668698269917,
          -1.55295581817936,
          -0.1945656521063503,
          0.4888954405211421,
          -1.0860016057795432,
          0.6863853333595958,
          1.5301495976534594,
          0.9766721778910605,
          1.336524835836653,
          -1.2007448477602651,
          0.06634015015393542,
          1.2366217573413492,
          -0.8777425551106883,
          0.6838574049901874,
          1.4325415795887664,
          -0.9916589198409315,
          -1.4400899617991463,
          -1.2559540357374495,
          0.6110065450279094,
          -1.0390703837403927,
          0.7226262599610198,
          -2.676636290627523,
          -0.7200323899747009,
          0.0773058348349942,
          -1.123920139622418,
          -1.5943451488747178,
          0.09570172620242262,
          0.031109758935364544,
          0.5486092430934341,
          -0.9783856846534326,
          -0.37782591930038695,
          2.04289799639152,
          2.695461751334061,
          0.42866956560443514,
          0.06570107039637005,
          0.3406308372199238,
          -0.13963619271339842,
          2.08286852359131,
          -1.2438740075995987,
          -1.0244756191667646,
          -1.218721967500244,
          -0.574858657178294,
          2.92238752045327,
          0.49989326896154135,
          -1.228574562429567,
          0.96213081663357,
          -1.7825877071155352,
          -0.8255838017224469,
          -0.2647822588269775,
          1.3393791985468635,
          -0.39866530169448894,
          0.7530286903232385,
          0.702494600097855,
          -2.9359052065235454,
          1.737741342697497,
          -0.27851189827084305,
          2.519831534981045,
          0.9039598139975631,
          -0.11495144416259331,
          1.7927453018094415,
          1.0292143655851063,
          0.9950063877604468,
          0.7302318326789189,
          -1.0215696369523628,
          0.3528032997113076,
          -1.5412449038618279,
          -0.5806327163073665,
          0.5350868251094306,
          -1.6961570456962733,
          0.5796026289085382,
          -0.30485897618670443,
          -1.6535985994040143,
          1.0991402504723242,
          0.5477912575339169,
          -1.6636610596560424,
          0.48997625929201616,
          -2.015300619743853
         ],
         "xaxis": "x6",
         "yaxis": "y6"
        },
        {
         "line": {
          "color": "rgba(128, 128, 128, 1.0)",
          "dash": "solid",
          "shape": "linear",
          "width": 1.3
         },
         "marker": {
          "size": 2,
          "symbol": "circle"
         },
         "mode": "markers",
         "name": "B",
         "text": "",
         "type": "scatter",
         "x": [
          -0.5998922748226837,
          1.0401232639605857,
          -1.3701390540574003,
          0.307367401403588,
          -1.0799042915348378,
          -0.9813177044008539,
          0.4770731548160624,
          -0.5826732258653297,
          -0.6035195659833387,
          -0.0258865493970227,
          -0.8230608255643124,
          1.6943105314625253,
          -0.9563104649466695,
          1.4177953890193729,
          1.6273911971295223,
          -0.2578227224315953,
          0.26004100762205856,
          -1.697537184922374,
          -0.3812906397479519,
          0.1722461009838956,
          -0.4556650197368004,
          -2.495653667611221,
          1.097080665209218,
          -0.13077845197865856,
          1.1074694634752067,
          -1.7294470216683682,
          -0.26705895882833,
          0.3251636428314838,
          0.5361169732425961,
          1.589969134302654,
          -0.15735546537356165,
          -0.7995419169077077,
          1.8376619277966697,
          -0.15187825852893375,
          0.04374985851141635,
          -0.23823958694361272,
          0.764467916710477,
          -0.7554188593905685,
          0.6921743026950641,
          0.03290908332584349,
          2.0433745991251198,
          0.6102966937575419,
          -0.17802755313353924,
          0.8218065247920904,
          0.12142670746890857,
          0.09815011007935072,
          -0.29780293511282513,
          -0.4526326974716961,
          -0.12252382350765847,
          -0.7900818595884559,
          -1.1008843446675154,
          -0.07630183113288294,
          0.2802494823029372,
          1.0161020693800689,
          -0.071570854643028,
          -0.5531877476244556,
          -1.9807446325723932,
          -0.8091256988385362,
          -1.7009786854539621,
          0.24777396683941133,
          -0.2699730156670374,
          0.7299970552803603,
          -0.556742101854421,
          -1.6052585106866015,
          -0.7802709940324564,
          1.0178771189571585,
          0.3065709276649882,
          -1.3304863582651418,
          -0.2865475537453356,
          0.9070300290159293,
          0.4843256513077551,
          0.17691226867134244,
          -0.609623055568708,
          -1.0861291448568933,
          0.7194756521047455,
          0.6065091377263108,
          0.33760317323029176,
          0.39774407638368164,
          -0.7590447844571399,
          0.8520210686986877,
          0.44533746837968435,
          0.4507753644951477,
          -1.088986892953632,
          0.4693496772868247,
          1.0556025178684072,
          -1.4878323098061323,
          1.3625106657117196,
          -1.8917699176948377,
          0.4095272296787832,
          -0.9221182812831743,
          -1.4542834127024287,
          -0.18464768530778417,
          1.0959242606698392,
          -0.8935725350190782,
          1.4342173284967896,
          1.8371179074984076,
          -0.5299449866725706,
          1.2646796592685872,
          1.3239105830431595,
          0.6861574912304074
         ],
         "xaxis": "x7",
         "y": [
          -0.9026182879513235,
          -0.8429681388249898,
          0.9540726979032438,
          -0.23251275860498477,
          0.34349554969697677,
          -0.6219462410445961,
          -2.0006622694901433,
          1.2051941291240547,
          -0.13994760501934572,
          1.4084984797743516,
          -1.4406185815567676,
          2.203571063939216,
          -0.7573170225475241,
          -1.3938894902922006,
          -1.5080691322024262,
          -0.14327068342977814,
          0.037417546547547115,
          1.6462587562862911,
          -0.09803460519806916,
          -0.14996665115790409,
          0.21163564577514976,
          1.0263341563855668,
          -2.1541928508243413,
          0.5266668698269917,
          -1.55295581817936,
          -0.1945656521063503,
          0.4888954405211421,
          -1.0860016057795432,
          0.6863853333595958,
          1.5301495976534594,
          0.9766721778910605,
          1.336524835836653,
          -1.2007448477602651,
          0.06634015015393542,
          1.2366217573413492,
          -0.8777425551106883,
          0.6838574049901874,
          1.4325415795887664,
          -0.9916589198409315,
          -1.4400899617991463,
          -1.2559540357374495,
          0.6110065450279094,
          -1.0390703837403927,
          0.7226262599610198,
          -2.676636290627523,
          -0.7200323899747009,
          0.0773058348349942,
          -1.123920139622418,
          -1.5943451488747178,
          0.09570172620242262,
          0.031109758935364544,
          0.5486092430934341,
          -0.9783856846534326,
          -0.37782591930038695,
          2.04289799639152,
          2.695461751334061,
          0.42866956560443514,
          0.06570107039637005,
          0.3406308372199238,
          -0.13963619271339842,
          2.08286852359131,
          -1.2438740075995987,
          -1.0244756191667646,
          -1.218721967500244,
          -0.574858657178294,
          2.92238752045327,
          0.49989326896154135,
          -1.228574562429567,
          0.96213081663357,
          -1.7825877071155352,
          -0.8255838017224469,
          -0.2647822588269775,
          1.3393791985468635,
          -0.39866530169448894,
          0.7530286903232385,
          0.702494600097855,
          -2.9359052065235454,
          1.737741342697497,
          -0.27851189827084305,
          2.519831534981045,
          0.9039598139975631,
          -0.11495144416259331,
          1.7927453018094415,
          1.0292143655851063,
          0.9950063877604468,
          0.7302318326789189,
          -1.0215696369523628,
          0.3528032997113076,
          -1.5412449038618279,
          -0.5806327163073665,
          0.5350868251094306,
          -1.6961570456962733,
          0.5796026289085382,
          -0.30485897618670443,
          -1.6535985994040143,
          1.0991402504723242,
          0.5477912575339169,
          -1.6636610596560424,
          0.48997625929201616,
          -2.015300619743853
         ],
         "yaxis": "y7"
        },
        {
         "line": {
          "color": "rgba(128, 128, 128, 1.0)",
          "dash": "solid",
          "shape": "linear",
          "width": 1.3
         },
         "marker": {
          "size": 2,
          "symbol": "circle"
         },
         "mode": "markers",
         "name": "B",
         "text": "",
         "type": "scatter",
         "x": [
          -0.3484290193324681,
          1.2493318120026027,
          0.6195953989316635,
          -0.10007648659084645,
          -0.848659613914679,
          -1.2072222170818043,
          0.1331176062784441,
          -0.01646742972146636,
          -0.37225133150837864,
          0.11229352710673653,
          0.6366971125581358,
          1.545579307785409,
          0.15580916850848148,
          -0.3314672607660011,
          0.7929866166535395,
          0.8941052725838416,
          -0.14329935045522949,
          1.3196350077045846,
          -0.096788026963216,
          -0.8346083847204316,
          1.2032145169230912,
          -0.38071240368744474,
          -0.3098611358309325,
          -1.736361585718667,
          -2.1199279881649593,
          -1.5794355446796786,
          -1.2791643506642554,
          -1.4992239299870747,
          -0.03425548013030693,
          -0.1206142170620143,
          0.3451768520894632,
          0.6844729058258141,
          -0.8376759964545056,
          1.241591779090792,
          -1.3881052068053508,
          1.1012224452147994,
          -1.0975287473015383,
          0.5041699155349165,
          0.7160675347296979,
          -1.2093109533153736,
          -0.24711334829147724,
          -0.5889737991894741,
          -0.5366652084809301,
          0.3310628341514247,
          0.06631259446541207,
          -0.28759721211797773,
          -1.1155536161178887,
          -0.11610402773542693,
          -0.4429351529770189,
          1.4270945875382393,
          0.6491689023501485,
          0.4883187223682674,
          0.14973969661131312,
          1.3875615203236902,
          0.035749576155775536,
          0.17155751012655765,
          -0.08973447587317929,
          0.6232701155816891,
          -0.34499518674366153,
          -2.1703151733281087,
          0.1797106006356278,
          -0.9074164273981294,
          -0.531983574715416,
          -0.8338018217815336,
          -0.7465538070712631,
          0.3789556341758663,
          3.075277236055962,
          -0.19053133737678485,
          0.8643667689060618,
          2.4980523172364046,
          -0.04232670805240006,
          1.2480572144201294,
          1.541103715916894,
          -1.7373434081652341,
          1.4565399138714257,
          -0.4710155743441887,
          0.6801057596111969,
          0.18764949278207416,
          0.4735916382674086,
          -3.356995673638782,
          -0.3019626812744328,
          -2.2403559426949933,
          -1.6319267400086224,
          0.8824560086615363,
          1.1468628425988923,
          -0.53925633992263,
          -0.1995850040866459,
          0.005847650698243115,
          2.410480925201785,
          -0.44772196459658326,
          -1.6552711703176686,
          -0.23346162577694834,
          -0.06260196282696313,
          -0.4749436357111602,
          -1.587230525836392,
          0.46603024198579857,
          -0.003303137021653763,
          -0.6821232266716004,
          0.8182169465651061,
          -0.6364533045515591
         ],
         "xaxis": "x8",
         "y": [
          -0.9026182879513235,
          -0.8429681388249898,
          0.9540726979032438,
          -0.23251275860498477,
          0.34349554969697677,
          -0.6219462410445961,
          -2.0006622694901433,
          1.2051941291240547,
          -0.13994760501934572,
          1.4084984797743516,
          -1.4406185815567676,
          2.203571063939216,
          -0.7573170225475241,
          -1.3938894902922006,
          -1.5080691322024262,
          -0.14327068342977814,
          0.037417546547547115,
          1.6462587562862911,
          -0.09803460519806916,
          -0.14996665115790409,
          0.21163564577514976,
          1.0263341563855668,
          -2.1541928508243413,
          0.5266668698269917,
          -1.55295581817936,
          -0.1945656521063503,
          0.4888954405211421,
          -1.0860016057795432,
          0.6863853333595958,
          1.5301495976534594,
          0.9766721778910605,
          1.336524835836653,
          -1.2007448477602651,
          0.06634015015393542,
          1.2366217573413492,
          -0.8777425551106883,
          0.6838574049901874,
          1.4325415795887664,
          -0.9916589198409315,
          -1.4400899617991463,
          -1.2559540357374495,
          0.6110065450279094,
          -1.0390703837403927,
          0.7226262599610198,
          -2.676636290627523,
          -0.7200323899747009,
          0.0773058348349942,
          -1.123920139622418,
          -1.5943451488747178,
          0.09570172620242262,
          0.031109758935364544,
          0.5486092430934341,
          -0.9783856846534326,
          -0.37782591930038695,
          2.04289799639152,
          2.695461751334061,
          0.42866956560443514,
          0.06570107039637005,
          0.3406308372199238,
          -0.13963619271339842,
          2.08286852359131,
          -1.2438740075995987,
          -1.0244756191667646,
          -1.218721967500244,
          -0.574858657178294,
          2.92238752045327,
          0.49989326896154135,
          -1.228574562429567,
          0.96213081663357,
          -1.7825877071155352,
          -0.8255838017224469,
          -0.2647822588269775,
          1.3393791985468635,
          -0.39866530169448894,
          0.7530286903232385,
          0.702494600097855,
          -2.9359052065235454,
          1.737741342697497,
          -0.27851189827084305,
          2.519831534981045,
          0.9039598139975631,
          -0.11495144416259331,
          1.7927453018094415,
          1.0292143655851063,
          0.9950063877604468,
          0.7302318326789189,
          -1.0215696369523628,
          0.3528032997113076,
          -1.5412449038618279,
          -0.5806327163073665,
          0.5350868251094306,
          -1.6961570456962733,
          0.5796026289085382,
          -0.30485897618670443,
          -1.6535985994040143,
          1.0991402504723242,
          0.5477912575339169,
          -1.6636610596560424,
          0.48997625929201616,
          -2.015300619743853
         ],
         "yaxis": "y8"
        },
        {
         "line": {
          "color": "rgba(128, 128, 128, 1.0)",
          "dash": "solid",
          "shape": "linear",
          "width": 1.3
         },
         "marker": {
          "size": 2,
          "symbol": "circle"
         },
         "mode": "markers",
         "name": "C",
         "text": "",
         "type": "scatter",
         "x": [
          0.3705878037577684,
          -0.6678339547302442,
          1.1380918556405002,
          -0.675580051894025,
          1.7262495731372611,
          -0.7346738962061609,
          -0.9562145225408256,
          0.025148520483188185,
          -0.11730817837083653,
          -0.8875635029726676,
          0.7878568424078434,
          1.1653202219069316,
          1.2937559144192385,
          -1.0658594627738625,
          -0.09260441995537765,
          -0.5159981219517672,
          -0.8327586860733873,
          -1.3749779091900383,
          0.42018431850196075,
          0.14709265072578784,
          0.25214049237485664,
          -0.18919730285638245,
          -2.718182630893289,
          -2.4871101190238996,
          -1.0215669673578682,
          0.24635506388134681,
          -0.10770573439041783,
          0.3557554224870404,
          0.031566456058262665,
          0.1700452202575896,
          -0.9575259626465774,
          -0.21532599451762865,
          0.5236647751886957,
          1.94221152756419,
          1.0739362417570109,
          0.08712867977911695,
          -0.37107368322293466,
          -1.1447478368070039,
          2.129917673232524,
          -0.9693582650304164,
          -0.1869513636704791,
          2.2092637073763917,
          1.488229125167454,
          2.214050967163112,
          0.6384413413698313,
          -1.9283759167143864,
          -0.4511610664062786,
          -0.06721145376013846,
          -1.8119277914008352,
          -0.6415871282167186,
          -0.09212605207912067,
          -0.11015367934595786,
          -0.2885730054311169,
          0.17257802683078483,
          -0.34532000564412413,
          -0.12995888586272972,
          -0.4377511993519691,
          -1.876492612806514,
          -1.718838915583185,
          0.0936799439467252,
          0.47001537739454224,
          -2.8410006043336353,
          1.704730125268345,
          0.20259501783314926,
          -0.4206312134987387,
          0.839068083396662,
          -0.5043104052179739,
          0.4731676005007791,
          0.19311114687310646,
          0.4716117801712886,
          1.8908763742207517,
          -1.334644125974962,
          -0.11766425437807593,
          1.6565164720427392,
          -1.5568524437600175,
          -0.5680816820553658,
          -0.5344358887477514,
          0.1900277548085487,
          0.7565155724048774,
          1.9865304358054405,
          -0.3281632782126243,
          -2.127189864605686,
          -0.39679487724212614,
          -0.3050622209272501,
          -1.2578147927340104,
          -0.17726760140269482,
          -1.5401904883006807,
          -0.5614175852880462,
          -1.967164616628011,
          -0.38255077923662584,
          1.1503595634830022,
          0.2576042608917582,
          1.2135540045813504,
          -0.4161542112158181,
          2.1297943647777084,
          1.3264977923735735,
          -0.4404670901208818,
          0.48124473164937726,
          0.5839900293237509,
          1.076803896700854
         ],
         "xaxis": "x9",
         "y": [
          -0.5998922748226837,
          1.0401232639605857,
          -1.3701390540574003,
          0.307367401403588,
          -1.0799042915348378,
          -0.9813177044008539,
          0.4770731548160624,
          -0.5826732258653297,
          -0.6035195659833387,
          -0.0258865493970227,
          -0.8230608255643124,
          1.6943105314625253,
          -0.9563104649466695,
          1.4177953890193729,
          1.6273911971295223,
          -0.2578227224315953,
          0.26004100762205856,
          -1.697537184922374,
          -0.3812906397479519,
          0.1722461009838956,
          -0.4556650197368004,
          -2.495653667611221,
          1.097080665209218,
          -0.13077845197865856,
          1.1074694634752067,
          -1.7294470216683682,
          -0.26705895882833,
          0.3251636428314838,
          0.5361169732425961,
          1.589969134302654,
          -0.15735546537356165,
          -0.7995419169077077,
          1.8376619277966697,
          -0.15187825852893375,
          0.04374985851141635,
          -0.23823958694361272,
          0.764467916710477,
          -0.7554188593905685,
          0.6921743026950641,
          0.03290908332584349,
          2.0433745991251198,
          0.6102966937575419,
          -0.17802755313353924,
          0.8218065247920904,
          0.12142670746890857,
          0.09815011007935072,
          -0.29780293511282513,
          -0.4526326974716961,
          -0.12252382350765847,
          -0.7900818595884559,
          -1.1008843446675154,
          -0.07630183113288294,
          0.2802494823029372,
          1.0161020693800689,
          -0.071570854643028,
          -0.5531877476244556,
          -1.9807446325723932,
          -0.8091256988385362,
          -1.7009786854539621,
          0.24777396683941133,
          -0.2699730156670374,
          0.7299970552803603,
          -0.556742101854421,
          -1.6052585106866015,
          -0.7802709940324564,
          1.0178771189571585,
          0.3065709276649882,
          -1.3304863582651418,
          -0.2865475537453356,
          0.9070300290159293,
          0.4843256513077551,
          0.17691226867134244,
          -0.609623055568708,
          -1.0861291448568933,
          0.7194756521047455,
          0.6065091377263108,
          0.33760317323029176,
          0.39774407638368164,
          -0.7590447844571399,
          0.8520210686986877,
          0.44533746837968435,
          0.4507753644951477,
          -1.088986892953632,
          0.4693496772868247,
          1.0556025178684072,
          -1.4878323098061323,
          1.3625106657117196,
          -1.8917699176948377,
          0.4095272296787832,
          -0.9221182812831743,
          -1.4542834127024287,
          -0.18464768530778417,
          1.0959242606698392,
          -0.8935725350190782,
          1.4342173284967896,
          1.8371179074984076,
          -0.5299449866725706,
          1.2646796592685872,
          1.3239105830431595,
          0.6861574912304074
         ],
         "yaxis": "y9"
        },
        {
         "line": {
          "color": "rgba(128, 128, 128, 1.0)",
          "dash": "solid",
          "shape": "linear",
          "width": 1.3
         },
         "marker": {
          "size": 2,
          "symbol": "circle"
         },
         "mode": "markers",
         "name": "C",
         "text": "",
         "type": "scatter",
         "x": [
          -0.9026182879513235,
          -0.8429681388249898,
          0.9540726979032438,
          -0.23251275860498477,
          0.34349554969697677,
          -0.6219462410445961,
          -2.0006622694901433,
          1.2051941291240547,
          -0.13994760501934572,
          1.4084984797743516,
          -1.4406185815567676,
          2.203571063939216,
          -0.7573170225475241,
          -1.3938894902922006,
          -1.5080691322024262,
          -0.14327068342977814,
          0.037417546547547115,
          1.6462587562862911,
          -0.09803460519806916,
          -0.14996665115790409,
          0.21163564577514976,
          1.0263341563855668,
          -2.1541928508243413,
          0.5266668698269917,
          -1.55295581817936,
          -0.1945656521063503,
          0.4888954405211421,
          -1.0860016057795432,
          0.6863853333595958,
          1.5301495976534594,
          0.9766721778910605,
          1.336524835836653,
          -1.2007448477602651,
          0.06634015015393542,
          1.2366217573413492,
          -0.8777425551106883,
          0.6838574049901874,
          1.4325415795887664,
          -0.9916589198409315,
          -1.4400899617991463,
          -1.2559540357374495,
          0.6110065450279094,
          -1.0390703837403927,
          0.7226262599610198,
          -2.676636290627523,
          -0.7200323899747009,
          0.0773058348349942,
          -1.123920139622418,
          -1.5943451488747178,
          0.09570172620242262,
          0.031109758935364544,
          0.5486092430934341,
          -0.9783856846534326,
          -0.37782591930038695,
          2.04289799639152,
          2.695461751334061,
          0.42866956560443514,
          0.06570107039637005,
          0.3406308372199238,
          -0.13963619271339842,
          2.08286852359131,
          -1.2438740075995987,
          -1.0244756191667646,
          -1.218721967500244,
          -0.574858657178294,
          2.92238752045327,
          0.49989326896154135,
          -1.228574562429567,
          0.96213081663357,
          -1.7825877071155352,
          -0.8255838017224469,
          -0.2647822588269775,
          1.3393791985468635,
          -0.39866530169448894,
          0.7530286903232385,
          0.702494600097855,
          -2.9359052065235454,
          1.737741342697497,
          -0.27851189827084305,
          2.519831534981045,
          0.9039598139975631,
          -0.11495144416259331,
          1.7927453018094415,
          1.0292143655851063,
          0.9950063877604468,
          0.7302318326789189,
          -1.0215696369523628,
          0.3528032997113076,
          -1.5412449038618279,
          -0.5806327163073665,
          0.5350868251094306,
          -1.6961570456962733,
          0.5796026289085382,
          -0.30485897618670443,
          -1.6535985994040143,
          1.0991402504723242,
          0.5477912575339169,
          -1.6636610596560424,
          0.48997625929201616,
          -2.015300619743853
         ],
         "xaxis": "x10",
         "y": [
          -0.5998922748226837,
          1.0401232639605857,
          -1.3701390540574003,
          0.307367401403588,
          -1.0799042915348378,
          -0.9813177044008539,
          0.4770731548160624,
          -0.5826732258653297,
          -0.6035195659833387,
          -0.0258865493970227,
          -0.8230608255643124,
          1.6943105314625253,
          -0.9563104649466695,
          1.4177953890193729,
          1.6273911971295223,
          -0.2578227224315953,
          0.26004100762205856,
          -1.697537184922374,
          -0.3812906397479519,
          0.1722461009838956,
          -0.4556650197368004,
          -2.495653667611221,
          1.097080665209218,
          -0.13077845197865856,
          1.1074694634752067,
          -1.7294470216683682,
          -0.26705895882833,
          0.3251636428314838,
          0.5361169732425961,
          1.589969134302654,
          -0.15735546537356165,
          -0.7995419169077077,
          1.8376619277966697,
          -0.15187825852893375,
          0.04374985851141635,
          -0.23823958694361272,
          0.764467916710477,
          -0.7554188593905685,
          0.6921743026950641,
          0.03290908332584349,
          2.0433745991251198,
          0.6102966937575419,
          -0.17802755313353924,
          0.8218065247920904,
          0.12142670746890857,
          0.09815011007935072,
          -0.29780293511282513,
          -0.4526326974716961,
          -0.12252382350765847,
          -0.7900818595884559,
          -1.1008843446675154,
          -0.07630183113288294,
          0.2802494823029372,
          1.0161020693800689,
          -0.071570854643028,
          -0.5531877476244556,
          -1.9807446325723932,
          -0.8091256988385362,
          -1.7009786854539621,
          0.24777396683941133,
          -0.2699730156670374,
          0.7299970552803603,
          -0.556742101854421,
          -1.6052585106866015,
          -0.7802709940324564,
          1.0178771189571585,
          0.3065709276649882,
          -1.3304863582651418,
          -0.2865475537453356,
          0.9070300290159293,
          0.4843256513077551,
          0.17691226867134244,
          -0.609623055568708,
          -1.0861291448568933,
          0.7194756521047455,
          0.6065091377263108,
          0.33760317323029176,
          0.39774407638368164,
          -0.7590447844571399,
          0.8520210686986877,
          0.44533746837968435,
          0.4507753644951477,
          -1.088986892953632,
          0.4693496772868247,
          1.0556025178684072,
          -1.4878323098061323,
          1.3625106657117196,
          -1.8917699176948377,
          0.4095272296787832,
          -0.9221182812831743,
          -1.4542834127024287,
          -0.18464768530778417,
          1.0959242606698392,
          -0.8935725350190782,
          1.4342173284967896,
          1.8371179074984076,
          -0.5299449866725706,
          1.2646796592685872,
          1.3239105830431595,
          0.6861574912304074
         ],
         "yaxis": "y10"
        },
        {
         "histfunc": "count",
         "histnorm": "",
         "marker": {
          "color": "rgba(50, 171, 96, 1.0)",
          "line": {
           "color": "#4D5663",
           "width": 1.3
          }
         },
         "name": "C",
         "nbinsx": 10,
         "opacity": 0.8,
         "orientation": "v",
         "type": "histogram",
         "x": [
          -0.5998922748226837,
          1.0401232639605857,
          -1.3701390540574003,
          0.307367401403588,
          -1.0799042915348378,
          -0.9813177044008539,
          0.4770731548160624,
          -0.5826732258653297,
          -0.6035195659833387,
          -0.0258865493970227,
          -0.8230608255643124,
          1.6943105314625253,
          -0.9563104649466695,
          1.4177953890193729,
          1.6273911971295223,
          -0.2578227224315953,
          0.26004100762205856,
          -1.697537184922374,
          -0.3812906397479519,
          0.1722461009838956,
          -0.4556650197368004,
          -2.495653667611221,
          1.097080665209218,
          -0.13077845197865856,
          1.1074694634752067,
          -1.7294470216683682,
          -0.26705895882833,
          0.3251636428314838,
          0.5361169732425961,
          1.589969134302654,
          -0.15735546537356165,
          -0.7995419169077077,
          1.8376619277966697,
          -0.15187825852893375,
          0.04374985851141635,
          -0.23823958694361272,
          0.764467916710477,
          -0.7554188593905685,
          0.6921743026950641,
          0.03290908332584349,
          2.0433745991251198,
          0.6102966937575419,
          -0.17802755313353924,
          0.8218065247920904,
          0.12142670746890857,
          0.09815011007935072,
          -0.29780293511282513,
          -0.4526326974716961,
          -0.12252382350765847,
          -0.7900818595884559,
          -1.1008843446675154,
          -0.07630183113288294,
          0.2802494823029372,
          1.0161020693800689,
          -0.071570854643028,
          -0.5531877476244556,
          -1.9807446325723932,
          -0.8091256988385362,
          -1.7009786854539621,
          0.24777396683941133,
          -0.2699730156670374,
          0.7299970552803603,
          -0.556742101854421,
          -1.6052585106866015,
          -0.7802709940324564,
          1.0178771189571585,
          0.3065709276649882,
          -1.3304863582651418,
          -0.2865475537453356,
          0.9070300290159293,
          0.4843256513077551,
          0.17691226867134244,
          -0.609623055568708,
          -1.0861291448568933,
          0.7194756521047455,
          0.6065091377263108,
          0.33760317323029176,
          0.39774407638368164,
          -0.7590447844571399,
          0.8520210686986877,
          0.44533746837968435,
          0.4507753644951477,
          -1.088986892953632,
          0.4693496772868247,
          1.0556025178684072,
          -1.4878323098061323,
          1.3625106657117196,
          -1.8917699176948377,
          0.4095272296787832,
          -0.9221182812831743,
          -1.4542834127024287,
          -0.18464768530778417,
          1.0959242606698392,
          -0.8935725350190782,
          1.4342173284967896,
          1.8371179074984076,
          -0.5299449866725706,
          1.2646796592685872,
          1.3239105830431595,
          0.6861574912304074
         ],
         "xaxis": "x11",
         "yaxis": "y11"
        },
        {
         "line": {
          "color": "rgba(128, 128, 128, 1.0)",
          "dash": "solid",
          "shape": "linear",
          "width": 1.3
         },
         "marker": {
          "size": 2,
          "symbol": "circle"
         },
         "mode": "markers",
         "name": "C",
         "text": "",
         "type": "scatter",
         "x": [
          -0.3484290193324681,
          1.2493318120026027,
          0.6195953989316635,
          -0.10007648659084645,
          -0.848659613914679,
          -1.2072222170818043,
          0.1331176062784441,
          -0.01646742972146636,
          -0.37225133150837864,
          0.11229352710673653,
          0.6366971125581358,
          1.545579307785409,
          0.15580916850848148,
          -0.3314672607660011,
          0.7929866166535395,
          0.8941052725838416,
          -0.14329935045522949,
          1.3196350077045846,
          -0.096788026963216,
          -0.8346083847204316,
          1.2032145169230912,
          -0.38071240368744474,
          -0.3098611358309325,
          -1.736361585718667,
          -2.1199279881649593,
          -1.5794355446796786,
          -1.2791643506642554,
          -1.4992239299870747,
          -0.03425548013030693,
          -0.1206142170620143,
          0.3451768520894632,
          0.6844729058258141,
          -0.8376759964545056,
          1.241591779090792,
          -1.3881052068053508,
          1.1012224452147994,
          -1.0975287473015383,
          0.5041699155349165,
          0.7160675347296979,
          -1.2093109533153736,
          -0.24711334829147724,
          -0.5889737991894741,
          -0.5366652084809301,
          0.3310628341514247,
          0.06631259446541207,
          -0.28759721211797773,
          -1.1155536161178887,
          -0.11610402773542693,
          -0.4429351529770189,
          1.4270945875382393,
          0.6491689023501485,
          0.4883187223682674,
          0.14973969661131312,
          1.3875615203236902,
          0.035749576155775536,
          0.17155751012655765,
          -0.08973447587317929,
          0.6232701155816891,
          -0.34499518674366153,
          -2.1703151733281087,
          0.1797106006356278,
          -0.9074164273981294,
          -0.531983574715416,
          -0.8338018217815336,
          -0.7465538070712631,
          0.3789556341758663,
          3.075277236055962,
          -0.19053133737678485,
          0.8643667689060618,
          2.4980523172364046,
          -0.04232670805240006,
          1.2480572144201294,
          1.541103715916894,
          -1.7373434081652341,
          1.4565399138714257,
          -0.4710155743441887,
          0.6801057596111969,
          0.18764949278207416,
          0.4735916382674086,
          -3.356995673638782,
          -0.3019626812744328,
          -2.2403559426949933,
          -1.6319267400086224,
          0.8824560086615363,
          1.1468628425988923,
          -0.53925633992263,
          -0.1995850040866459,
          0.005847650698243115,
          2.410480925201785,
          -0.44772196459658326,
          -1.6552711703176686,
          -0.23346162577694834,
          -0.06260196282696313,
          -0.4749436357111602,
          -1.587230525836392,
          0.46603024198579857,
          -0.003303137021653763,
          -0.6821232266716004,
          0.8182169465651061,
          -0.6364533045515591
         ],
         "xaxis": "x12",
         "y": [
          -0.5998922748226837,
          1.0401232639605857,
          -1.3701390540574003,
          0.307367401403588,
          -1.0799042915348378,
          -0.9813177044008539,
          0.4770731548160624,
          -0.5826732258653297,
          -0.6035195659833387,
          -0.0258865493970227,
          -0.8230608255643124,
          1.6943105314625253,
          -0.9563104649466695,
          1.4177953890193729,
          1.6273911971295223,
          -0.2578227224315953,
          0.26004100762205856,
          -1.697537184922374,
          -0.3812906397479519,
          0.1722461009838956,
          -0.4556650197368004,
          -2.495653667611221,
          1.097080665209218,
          -0.13077845197865856,
          1.1074694634752067,
          -1.7294470216683682,
          -0.26705895882833,
          0.3251636428314838,
          0.5361169732425961,
          1.589969134302654,
          -0.15735546537356165,
          -0.7995419169077077,
          1.8376619277966697,
          -0.15187825852893375,
          0.04374985851141635,
          -0.23823958694361272,
          0.764467916710477,
          -0.7554188593905685,
          0.6921743026950641,
          0.03290908332584349,
          2.0433745991251198,
          0.6102966937575419,
          -0.17802755313353924,
          0.8218065247920904,
          0.12142670746890857,
          0.09815011007935072,
          -0.29780293511282513,
          -0.4526326974716961,
          -0.12252382350765847,
          -0.7900818595884559,
          -1.1008843446675154,
          -0.07630183113288294,
          0.2802494823029372,
          1.0161020693800689,
          -0.071570854643028,
          -0.5531877476244556,
          -1.9807446325723932,
          -0.8091256988385362,
          -1.7009786854539621,
          0.24777396683941133,
          -0.2699730156670374,
          0.7299970552803603,
          -0.556742101854421,
          -1.6052585106866015,
          -0.7802709940324564,
          1.0178771189571585,
          0.3065709276649882,
          -1.3304863582651418,
          -0.2865475537453356,
          0.9070300290159293,
          0.4843256513077551,
          0.17691226867134244,
          -0.609623055568708,
          -1.0861291448568933,
          0.7194756521047455,
          0.6065091377263108,
          0.33760317323029176,
          0.39774407638368164,
          -0.7590447844571399,
          0.8520210686986877,
          0.44533746837968435,
          0.4507753644951477,
          -1.088986892953632,
          0.4693496772868247,
          1.0556025178684072,
          -1.4878323098061323,
          1.3625106657117196,
          -1.8917699176948377,
          0.4095272296787832,
          -0.9221182812831743,
          -1.4542834127024287,
          -0.18464768530778417,
          1.0959242606698392,
          -0.8935725350190782,
          1.4342173284967896,
          1.8371179074984076,
          -0.5299449866725706,
          1.2646796592685872,
          1.3239105830431595,
          0.6861574912304074
         ],
         "yaxis": "y12"
        },
        {
         "line": {
          "color": "rgba(128, 128, 128, 1.0)",
          "dash": "solid",
          "shape": "linear",
          "width": 1.3
         },
         "marker": {
          "size": 2,
          "symbol": "circle"
         },
         "mode": "markers",
         "name": "D",
         "text": "",
         "type": "scatter",
         "x": [
          0.3705878037577684,
          -0.6678339547302442,
          1.1380918556405002,
          -0.675580051894025,
          1.7262495731372611,
          -0.7346738962061609,
          -0.9562145225408256,
          0.025148520483188185,
          -0.11730817837083653,
          -0.8875635029726676,
          0.7878568424078434,
          1.1653202219069316,
          1.2937559144192385,
          -1.0658594627738625,
          -0.09260441995537765,
          -0.5159981219517672,
          -0.8327586860733873,
          -1.3749779091900383,
          0.42018431850196075,
          0.14709265072578784,
          0.25214049237485664,
          -0.18919730285638245,
          -2.718182630893289,
          -2.4871101190238996,
          -1.0215669673578682,
          0.24635506388134681,
          -0.10770573439041783,
          0.3557554224870404,
          0.031566456058262665,
          0.1700452202575896,
          -0.9575259626465774,
          -0.21532599451762865,
          0.5236647751886957,
          1.94221152756419,
          1.0739362417570109,
          0.08712867977911695,
          -0.37107368322293466,
          -1.1447478368070039,
          2.129917673232524,
          -0.9693582650304164,
          -0.1869513636704791,
          2.2092637073763917,
          1.488229125167454,
          2.214050967163112,
          0.6384413413698313,
          -1.9283759167143864,
          -0.4511610664062786,
          -0.06721145376013846,
          -1.8119277914008352,
          -0.6415871282167186,
          -0.09212605207912067,
          -0.11015367934595786,
          -0.2885730054311169,
          0.17257802683078483,
          -0.34532000564412413,
          -0.12995888586272972,
          -0.4377511993519691,
          -1.876492612806514,
          -1.718838915583185,
          0.0936799439467252,
          0.47001537739454224,
          -2.8410006043336353,
          1.704730125268345,
          0.20259501783314926,
          -0.4206312134987387,
          0.839068083396662,
          -0.5043104052179739,
          0.4731676005007791,
          0.19311114687310646,
          0.4716117801712886,
          1.8908763742207517,
          -1.334644125974962,
          -0.11766425437807593,
          1.6565164720427392,
          -1.5568524437600175,
          -0.5680816820553658,
          -0.5344358887477514,
          0.1900277548085487,
          0.7565155724048774,
          1.9865304358054405,
          -0.3281632782126243,
          -2.127189864605686,
          -0.39679487724212614,
          -0.3050622209272501,
          -1.2578147927340104,
          -0.17726760140269482,
          -1.5401904883006807,
          -0.5614175852880462,
          -1.967164616628011,
          -0.38255077923662584,
          1.1503595634830022,
          0.2576042608917582,
          1.2135540045813504,
          -0.4161542112158181,
          2.1297943647777084,
          1.3264977923735735,
          -0.4404670901208818,
          0.48124473164937726,
          0.5839900293237509,
          1.076803896700854
         ],
         "xaxis": "x13",
         "y": [
          -0.3484290193324681,
          1.2493318120026027,
          0.6195953989316635,
          -0.10007648659084645,
          -0.848659613914679,
          -1.2072222170818043,
          0.1331176062784441,
          -0.01646742972146636,
          -0.37225133150837864,
          0.11229352710673653,
          0.6366971125581358,
          1.545579307785409,
          0.15580916850848148,
          -0.3314672607660011,
          0.7929866166535395,
          0.8941052725838416,
          -0.14329935045522949,
          1.3196350077045846,
          -0.096788026963216,
          -0.8346083847204316,
          1.2032145169230912,
          -0.38071240368744474,
          -0.3098611358309325,
          -1.736361585718667,
          -2.1199279881649593,
          -1.5794355446796786,
          -1.2791643506642554,
          -1.4992239299870747,
          -0.03425548013030693,
          -0.1206142170620143,
          0.3451768520894632,
          0.6844729058258141,
          -0.8376759964545056,
          1.241591779090792,
          -1.3881052068053508,
          1.1012224452147994,
          -1.0975287473015383,
          0.5041699155349165,
          0.7160675347296979,
          -1.2093109533153736,
          -0.24711334829147724,
          -0.5889737991894741,
          -0.5366652084809301,
          0.3310628341514247,
          0.06631259446541207,
          -0.28759721211797773,
          -1.1155536161178887,
          -0.11610402773542693,
          -0.4429351529770189,
          1.4270945875382393,
          0.6491689023501485,
          0.4883187223682674,
          0.14973969661131312,
          1.3875615203236902,
          0.035749576155775536,
          0.17155751012655765,
          -0.08973447587317929,
          0.6232701155816891,
          -0.34499518674366153,
          -2.1703151733281087,
          0.1797106006356278,
          -0.9074164273981294,
          -0.531983574715416,
          -0.8338018217815336,
          -0.7465538070712631,
          0.3789556341758663,
          3.075277236055962,
          -0.19053133737678485,
          0.8643667689060618,
          2.4980523172364046,
          -0.04232670805240006,
          1.2480572144201294,
          1.541103715916894,
          -1.7373434081652341,
          1.4565399138714257,
          -0.4710155743441887,
          0.6801057596111969,
          0.18764949278207416,
          0.4735916382674086,
          -3.356995673638782,
          -0.3019626812744328,
          -2.2403559426949933,
          -1.6319267400086224,
          0.8824560086615363,
          1.1468628425988923,
          -0.53925633992263,
          -0.1995850040866459,
          0.005847650698243115,
          2.410480925201785,
          -0.44772196459658326,
          -1.6552711703176686,
          -0.23346162577694834,
          -0.06260196282696313,
          -0.4749436357111602,
          -1.587230525836392,
          0.46603024198579857,
          -0.003303137021653763,
          -0.6821232266716004,
          0.8182169465651061,
          -0.6364533045515591
         ],
         "yaxis": "y13"
        },
        {
         "line": {
          "color": "rgba(128, 128, 128, 1.0)",
          "dash": "solid",
          "shape": "linear",
          "width": 1.3
         },
         "marker": {
          "size": 2,
          "symbol": "circle"
         },
         "mode": "markers",
         "name": "D",
         "text": "",
         "type": "scatter",
         "x": [
          -0.9026182879513235,
          -0.8429681388249898,
          0.9540726979032438,
          -0.23251275860498477,
          0.34349554969697677,
          -0.6219462410445961,
          -2.0006622694901433,
          1.2051941291240547,
          -0.13994760501934572,
          1.4084984797743516,
          -1.4406185815567676,
          2.203571063939216,
          -0.7573170225475241,
          -1.3938894902922006,
          -1.5080691322024262,
          -0.14327068342977814,
          0.037417546547547115,
          1.6462587562862911,
          -0.09803460519806916,
          -0.14996665115790409,
          0.21163564577514976,
          1.0263341563855668,
          -2.1541928508243413,
          0.5266668698269917,
          -1.55295581817936,
          -0.1945656521063503,
          0.4888954405211421,
          -1.0860016057795432,
          0.6863853333595958,
          1.5301495976534594,
          0.9766721778910605,
          1.336524835836653,
          -1.2007448477602651,
          0.06634015015393542,
          1.2366217573413492,
          -0.8777425551106883,
          0.6838574049901874,
          1.4325415795887664,
          -0.9916589198409315,
          -1.4400899617991463,
          -1.2559540357374495,
          0.6110065450279094,
          -1.0390703837403927,
          0.7226262599610198,
          -2.676636290627523,
          -0.7200323899747009,
          0.0773058348349942,
          -1.123920139622418,
          -1.5943451488747178,
          0.09570172620242262,
          0.031109758935364544,
          0.5486092430934341,
          -0.9783856846534326,
          -0.37782591930038695,
          2.04289799639152,
          2.695461751334061,
          0.42866956560443514,
          0.06570107039637005,
          0.3406308372199238,
          -0.13963619271339842,
          2.08286852359131,
          -1.2438740075995987,
          -1.0244756191667646,
          -1.218721967500244,
          -0.574858657178294,
          2.92238752045327,
          0.49989326896154135,
          -1.228574562429567,
          0.96213081663357,
          -1.7825877071155352,
          -0.8255838017224469,
          -0.2647822588269775,
          1.3393791985468635,
          -0.39866530169448894,
          0.7530286903232385,
          0.702494600097855,
          -2.9359052065235454,
          1.737741342697497,
          -0.27851189827084305,
          2.519831534981045,
          0.9039598139975631,
          -0.11495144416259331,
          1.7927453018094415,
          1.0292143655851063,
          0.9950063877604468,
          0.7302318326789189,
          -1.0215696369523628,
          0.3528032997113076,
          -1.5412449038618279,
          -0.5806327163073665,
          0.5350868251094306,
          -1.6961570456962733,
          0.5796026289085382,
          -0.30485897618670443,
          -1.6535985994040143,
          1.0991402504723242,
          0.5477912575339169,
          -1.6636610596560424,
          0.48997625929201616,
          -2.015300619743853
         ],
         "xaxis": "x14",
         "y": [
          -0.3484290193324681,
          1.2493318120026027,
          0.6195953989316635,
          -0.10007648659084645,
          -0.848659613914679,
          -1.2072222170818043,
          0.1331176062784441,
          -0.01646742972146636,
          -0.37225133150837864,
          0.11229352710673653,
          0.6366971125581358,
          1.545579307785409,
          0.15580916850848148,
          -0.3314672607660011,
          0.7929866166535395,
          0.8941052725838416,
          -0.14329935045522949,
          1.3196350077045846,
          -0.096788026963216,
          -0.8346083847204316,
          1.2032145169230912,
          -0.38071240368744474,
          -0.3098611358309325,
          -1.736361585718667,
          -2.1199279881649593,
          -1.5794355446796786,
          -1.2791643506642554,
          -1.4992239299870747,
          -0.03425548013030693,
          -0.1206142170620143,
          0.3451768520894632,
          0.6844729058258141,
          -0.8376759964545056,
          1.241591779090792,
          -1.3881052068053508,
          1.1012224452147994,
          -1.0975287473015383,
          0.5041699155349165,
          0.7160675347296979,
          -1.2093109533153736,
          -0.24711334829147724,
          -0.5889737991894741,
          -0.5366652084809301,
          0.3310628341514247,
          0.06631259446541207,
          -0.28759721211797773,
          -1.1155536161178887,
          -0.11610402773542693,
          -0.4429351529770189,
          1.4270945875382393,
          0.6491689023501485,
          0.4883187223682674,
          0.14973969661131312,
          1.3875615203236902,
          0.035749576155775536,
          0.17155751012655765,
          -0.08973447587317929,
          0.6232701155816891,
          -0.34499518674366153,
          -2.1703151733281087,
          0.1797106006356278,
          -0.9074164273981294,
          -0.531983574715416,
          -0.8338018217815336,
          -0.7465538070712631,
          0.3789556341758663,
          3.075277236055962,
          -0.19053133737678485,
          0.8643667689060618,
          2.4980523172364046,
          -0.04232670805240006,
          1.2480572144201294,
          1.541103715916894,
          -1.7373434081652341,
          1.4565399138714257,
          -0.4710155743441887,
          0.6801057596111969,
          0.18764949278207416,
          0.4735916382674086,
          -3.356995673638782,
          -0.3019626812744328,
          -2.2403559426949933,
          -1.6319267400086224,
          0.8824560086615363,
          1.1468628425988923,
          -0.53925633992263,
          -0.1995850040866459,
          0.005847650698243115,
          2.410480925201785,
          -0.44772196459658326,
          -1.6552711703176686,
          -0.23346162577694834,
          -0.06260196282696313,
          -0.4749436357111602,
          -1.587230525836392,
          0.46603024198579857,
          -0.003303137021653763,
          -0.6821232266716004,
          0.8182169465651061,
          -0.6364533045515591
         ],
         "yaxis": "y14"
        },
        {
         "line": {
          "color": "rgba(128, 128, 128, 1.0)",
          "dash": "solid",
          "shape": "linear",
          "width": 1.3
         },
         "marker": {
          "size": 2,
          "symbol": "circle"
         },
         "mode": "markers",
         "name": "D",
         "text": "",
         "type": "scatter",
         "x": [
          -0.5998922748226837,
          1.0401232639605857,
          -1.3701390540574003,
          0.307367401403588,
          -1.0799042915348378,
          -0.9813177044008539,
          0.4770731548160624,
          -0.5826732258653297,
          -0.6035195659833387,
          -0.0258865493970227,
          -0.8230608255643124,
          1.6943105314625253,
          -0.9563104649466695,
          1.4177953890193729,
          1.6273911971295223,
          -0.2578227224315953,
          0.26004100762205856,
          -1.697537184922374,
          -0.3812906397479519,
          0.1722461009838956,
          -0.4556650197368004,
          -2.495653667611221,
          1.097080665209218,
          -0.13077845197865856,
          1.1074694634752067,
          -1.7294470216683682,
          -0.26705895882833,
          0.3251636428314838,
          0.5361169732425961,
          1.589969134302654,
          -0.15735546537356165,
          -0.7995419169077077,
          1.8376619277966697,
          -0.15187825852893375,
          0.04374985851141635,
          -0.23823958694361272,
          0.764467916710477,
          -0.7554188593905685,
          0.6921743026950641,
          0.03290908332584349,
          2.0433745991251198,
          0.6102966937575419,
          -0.17802755313353924,
          0.8218065247920904,
          0.12142670746890857,
          0.09815011007935072,
          -0.29780293511282513,
          -0.4526326974716961,
          -0.12252382350765847,
          -0.7900818595884559,
          -1.1008843446675154,
          -0.07630183113288294,
          0.2802494823029372,
          1.0161020693800689,
          -0.071570854643028,
          -0.5531877476244556,
          -1.9807446325723932,
          -0.8091256988385362,
          -1.7009786854539621,
          0.24777396683941133,
          -0.2699730156670374,
          0.7299970552803603,
          -0.556742101854421,
          -1.6052585106866015,
          -0.7802709940324564,
          1.0178771189571585,
          0.3065709276649882,
          -1.3304863582651418,
          -0.2865475537453356,
          0.9070300290159293,
          0.4843256513077551,
          0.17691226867134244,
          -0.609623055568708,
          -1.0861291448568933,
          0.7194756521047455,
          0.6065091377263108,
          0.33760317323029176,
          0.39774407638368164,
          -0.7590447844571399,
          0.8520210686986877,
          0.44533746837968435,
          0.4507753644951477,
          -1.088986892953632,
          0.4693496772868247,
          1.0556025178684072,
          -1.4878323098061323,
          1.3625106657117196,
          -1.8917699176948377,
          0.4095272296787832,
          -0.9221182812831743,
          -1.4542834127024287,
          -0.18464768530778417,
          1.0959242606698392,
          -0.8935725350190782,
          1.4342173284967896,
          1.8371179074984076,
          -0.5299449866725706,
          1.2646796592685872,
          1.3239105830431595,
          0.6861574912304074
         ],
         "xaxis": "x15",
         "y": [
          -0.3484290193324681,
          1.2493318120026027,
          0.6195953989316635,
          -0.10007648659084645,
          -0.848659613914679,
          -1.2072222170818043,
          0.1331176062784441,
          -0.01646742972146636,
          -0.37225133150837864,
          0.11229352710673653,
          0.6366971125581358,
          1.545579307785409,
          0.15580916850848148,
          -0.3314672607660011,
          0.7929866166535395,
          0.8941052725838416,
          -0.14329935045522949,
          1.3196350077045846,
          -0.096788026963216,
          -0.8346083847204316,
          1.2032145169230912,
          -0.38071240368744474,
          -0.3098611358309325,
          -1.736361585718667,
          -2.1199279881649593,
          -1.5794355446796786,
          -1.2791643506642554,
          -1.4992239299870747,
          -0.03425548013030693,
          -0.1206142170620143,
          0.3451768520894632,
          0.6844729058258141,
          -0.8376759964545056,
          1.241591779090792,
          -1.3881052068053508,
          1.1012224452147994,
          -1.0975287473015383,
          0.5041699155349165,
          0.7160675347296979,
          -1.2093109533153736,
          -0.24711334829147724,
          -0.5889737991894741,
          -0.5366652084809301,
          0.3310628341514247,
          0.06631259446541207,
          -0.28759721211797773,
          -1.1155536161178887,
          -0.11610402773542693,
          -0.4429351529770189,
          1.4270945875382393,
          0.6491689023501485,
          0.4883187223682674,
          0.14973969661131312,
          1.3875615203236902,
          0.035749576155775536,
          0.17155751012655765,
          -0.08973447587317929,
          0.6232701155816891,
          -0.34499518674366153,
          -2.1703151733281087,
          0.1797106006356278,
          -0.9074164273981294,
          -0.531983574715416,
          -0.8338018217815336,
          -0.7465538070712631,
          0.3789556341758663,
          3.075277236055962,
          -0.19053133737678485,
          0.8643667689060618,
          2.4980523172364046,
          -0.04232670805240006,
          1.2480572144201294,
          1.541103715916894,
          -1.7373434081652341,
          1.4565399138714257,
          -0.4710155743441887,
          0.6801057596111969,
          0.18764949278207416,
          0.4735916382674086,
          -3.356995673638782,
          -0.3019626812744328,
          -2.2403559426949933,
          -1.6319267400086224,
          0.8824560086615363,
          1.1468628425988923,
          -0.53925633992263,
          -0.1995850040866459,
          0.005847650698243115,
          2.410480925201785,
          -0.44772196459658326,
          -1.6552711703176686,
          -0.23346162577694834,
          -0.06260196282696313,
          -0.4749436357111602,
          -1.587230525836392,
          0.46603024198579857,
          -0.003303137021653763,
          -0.6821232266716004,
          0.8182169465651061,
          -0.6364533045515591
         ],
         "yaxis": "y15"
        },
        {
         "histfunc": "count",
         "histnorm": "",
         "marker": {
          "color": "rgba(128, 0, 128, 1.0)",
          "line": {
           "color": "#4D5663",
           "width": 1.3
          }
         },
         "name": "D",
         "nbinsx": 10,
         "opacity": 0.8,
         "orientation": "v",
         "type": "histogram",
         "x": [
          -0.3484290193324681,
          1.2493318120026027,
          0.6195953989316635,
          -0.10007648659084645,
          -0.848659613914679,
          -1.2072222170818043,
          0.1331176062784441,
          -0.01646742972146636,
          -0.37225133150837864,
          0.11229352710673653,
          0.6366971125581358,
          1.545579307785409,
          0.15580916850848148,
          -0.3314672607660011,
          0.7929866166535395,
          0.8941052725838416,
          -0.14329935045522949,
          1.3196350077045846,
          -0.096788026963216,
          -0.8346083847204316,
          1.2032145169230912,
          -0.38071240368744474,
          -0.3098611358309325,
          -1.736361585718667,
          -2.1199279881649593,
          -1.5794355446796786,
          -1.2791643506642554,
          -1.4992239299870747,
          -0.03425548013030693,
          -0.1206142170620143,
          0.3451768520894632,
          0.6844729058258141,
          -0.8376759964545056,
          1.241591779090792,
          -1.3881052068053508,
          1.1012224452147994,
          -1.0975287473015383,
          0.5041699155349165,
          0.7160675347296979,
          -1.2093109533153736,
          -0.24711334829147724,
          -0.5889737991894741,
          -0.5366652084809301,
          0.3310628341514247,
          0.06631259446541207,
          -0.28759721211797773,
          -1.1155536161178887,
          -0.11610402773542693,
          -0.4429351529770189,
          1.4270945875382393,
          0.6491689023501485,
          0.4883187223682674,
          0.14973969661131312,
          1.3875615203236902,
          0.035749576155775536,
          0.17155751012655765,
          -0.08973447587317929,
          0.6232701155816891,
          -0.34499518674366153,
          -2.1703151733281087,
          0.1797106006356278,
          -0.9074164273981294,
          -0.531983574715416,
          -0.8338018217815336,
          -0.7465538070712631,
          0.3789556341758663,
          3.075277236055962,
          -0.19053133737678485,
          0.8643667689060618,
          2.4980523172364046,
          -0.04232670805240006,
          1.2480572144201294,
          1.541103715916894,
          -1.7373434081652341,
          1.4565399138714257,
          -0.4710155743441887,
          0.6801057596111969,
          0.18764949278207416,
          0.4735916382674086,
          -3.356995673638782,
          -0.3019626812744328,
          -2.2403559426949933,
          -1.6319267400086224,
          0.8824560086615363,
          1.1468628425988923,
          -0.53925633992263,
          -0.1995850040866459,
          0.005847650698243115,
          2.410480925201785,
          -0.44772196459658326,
          -1.6552711703176686,
          -0.23346162577694834,
          -0.06260196282696313,
          -0.4749436357111602,
          -1.587230525836392,
          0.46603024198579857,
          -0.003303137021653763,
          -0.6821232266716004,
          0.8182169465651061,
          -0.6364533045515591
         ],
         "xaxis": "x16",
         "yaxis": "y16"
        }
       ],
       "layout": {
        "bargap": 0.02,
        "legend": {
         "bgcolor": "#F5F6F9",
         "font": {
          "color": "#4D5663"
         }
        },
        "paper_bgcolor": "#F5F6F9",
        "plot_bgcolor": "#F5F6F9",
        "showlegend": false,
        "template": {
         "data": {
          "bar": [
           {
            "error_x": {
             "color": "#2a3f5f"
            },
            "error_y": {
             "color": "#2a3f5f"
            },
            "marker": {
             "line": {
              "color": "#E5ECF6",
              "width": 0.5
             }
            },
            "type": "bar"
           }
          ],
          "barpolar": [
           {
            "marker": {
             "line": {
              "color": "#E5ECF6",
              "width": 0.5
             }
            },
            "type": "barpolar"
           }
          ],
          "carpet": [
           {
            "aaxis": {
             "endlinecolor": "#2a3f5f",
             "gridcolor": "white",
             "linecolor": "white",
             "minorgridcolor": "white",
             "startlinecolor": "#2a3f5f"
            },
            "baxis": {
             "endlinecolor": "#2a3f5f",
             "gridcolor": "white",
             "linecolor": "white",
             "minorgridcolor": "white",
             "startlinecolor": "#2a3f5f"
            },
            "type": "carpet"
           }
          ],
          "choropleth": [
           {
            "colorbar": {
             "outlinewidth": 0,
             "ticks": ""
            },
            "type": "choropleth"
           }
          ],
          "contour": [
           {
            "colorbar": {
             "outlinewidth": 0,
             "ticks": ""
            },
            "colorscale": [
             [
              0,
              "#0d0887"
             ],
             [
              0.1111111111111111,
              "#46039f"
             ],
             [
              0.2222222222222222,
              "#7201a8"
             ],
             [
              0.3333333333333333,
              "#9c179e"
             ],
             [
              0.4444444444444444,
              "#bd3786"
             ],
             [
              0.5555555555555556,
              "#d8576b"
             ],
             [
              0.6666666666666666,
              "#ed7953"
             ],
             [
              0.7777777777777778,
              "#fb9f3a"
             ],
             [
              0.8888888888888888,
              "#fdca26"
             ],
             [
              1,
              "#f0f921"
             ]
            ],
            "type": "contour"
           }
          ],
          "contourcarpet": [
           {
            "colorbar": {
             "outlinewidth": 0,
             "ticks": ""
            },
            "type": "contourcarpet"
           }
          ],
          "heatmap": [
           {
            "colorbar": {
             "outlinewidth": 0,
             "ticks": ""
            },
            "colorscale": [
             [
              0,
              "#0d0887"
             ],
             [
              0.1111111111111111,
              "#46039f"
             ],
             [
              0.2222222222222222,
              "#7201a8"
             ],
             [
              0.3333333333333333,
              "#9c179e"
             ],
             [
              0.4444444444444444,
              "#bd3786"
             ],
             [
              0.5555555555555556,
              "#d8576b"
             ],
             [
              0.6666666666666666,
              "#ed7953"
             ],
             [
              0.7777777777777778,
              "#fb9f3a"
             ],
             [
              0.8888888888888888,
              "#fdca26"
             ],
             [
              1,
              "#f0f921"
             ]
            ],
            "type": "heatmap"
           }
          ],
          "heatmapgl": [
           {
            "colorbar": {
             "outlinewidth": 0,
             "ticks": ""
            },
            "colorscale": [
             [
              0,
              "#0d0887"
             ],
             [
              0.1111111111111111,
              "#46039f"
             ],
             [
              0.2222222222222222,
              "#7201a8"
             ],
             [
              0.3333333333333333,
              "#9c179e"
             ],
             [
              0.4444444444444444,
              "#bd3786"
             ],
             [
              0.5555555555555556,
              "#d8576b"
             ],
             [
              0.6666666666666666,
              "#ed7953"
             ],
             [
              0.7777777777777778,
              "#fb9f3a"
             ],
             [
              0.8888888888888888,
              "#fdca26"
             ],
             [
              1,
              "#f0f921"
             ]
            ],
            "type": "heatmapgl"
           }
          ],
          "histogram": [
           {
            "marker": {
             "colorbar": {
              "outlinewidth": 0,
              "ticks": ""
             }
            },
            "type": "histogram"
           }
          ],
          "histogram2d": [
           {
            "colorbar": {
             "outlinewidth": 0,
             "ticks": ""
            },
            "colorscale": [
             [
              0,
              "#0d0887"
             ],
             [
              0.1111111111111111,
              "#46039f"
             ],
             [
              0.2222222222222222,
              "#7201a8"
             ],
             [
              0.3333333333333333,
              "#9c179e"
             ],
             [
              0.4444444444444444,
              "#bd3786"
             ],
             [
              0.5555555555555556,
              "#d8576b"
             ],
             [
              0.6666666666666666,
              "#ed7953"
             ],
             [
              0.7777777777777778,
              "#fb9f3a"
             ],
             [
              0.8888888888888888,
              "#fdca26"
             ],
             [
              1,
              "#f0f921"
             ]
            ],
            "type": "histogram2d"
           }
          ],
          "histogram2dcontour": [
           {
            "colorbar": {
             "outlinewidth": 0,
             "ticks": ""
            },
            "colorscale": [
             [
              0,
              "#0d0887"
             ],
             [
              0.1111111111111111,
              "#46039f"
             ],
             [
              0.2222222222222222,
              "#7201a8"
             ],
             [
              0.3333333333333333,
              "#9c179e"
             ],
             [
              0.4444444444444444,
              "#bd3786"
             ],
             [
              0.5555555555555556,
              "#d8576b"
             ],
             [
              0.6666666666666666,
              "#ed7953"
             ],
             [
              0.7777777777777778,
              "#fb9f3a"
             ],
             [
              0.8888888888888888,
              "#fdca26"
             ],
             [
              1,
              "#f0f921"
             ]
            ],
            "type": "histogram2dcontour"
           }
          ],
          "mesh3d": [
           {
            "colorbar": {
             "outlinewidth": 0,
             "ticks": ""
            },
            "type": "mesh3d"
           }
          ],
          "parcoords": [
           {
            "line": {
             "colorbar": {
              "outlinewidth": 0,
              "ticks": ""
             }
            },
            "type": "parcoords"
           }
          ],
          "pie": [
           {
            "automargin": true,
            "type": "pie"
           }
          ],
          "scatter": [
           {
            "marker": {
             "colorbar": {
              "outlinewidth": 0,
              "ticks": ""
             }
            },
            "type": "scatter"
           }
          ],
          "scatter3d": [
           {
            "line": {
             "colorbar": {
              "outlinewidth": 0,
              "ticks": ""
             }
            },
            "marker": {
             "colorbar": {
              "outlinewidth": 0,
              "ticks": ""
             }
            },
            "type": "scatter3d"
           }
          ],
          "scattercarpet": [
           {
            "marker": {
             "colorbar": {
              "outlinewidth": 0,
              "ticks": ""
             }
            },
            "type": "scattercarpet"
           }
          ],
          "scattergeo": [
           {
            "marker": {
             "colorbar": {
              "outlinewidth": 0,
              "ticks": ""
             }
            },
            "type": "scattergeo"
           }
          ],
          "scattergl": [
           {
            "marker": {
             "colorbar": {
              "outlinewidth": 0,
              "ticks": ""
             }
            },
            "type": "scattergl"
           }
          ],
          "scattermapbox": [
           {
            "marker": {
             "colorbar": {
              "outlinewidth": 0,
              "ticks": ""
             }
            },
            "type": "scattermapbox"
           }
          ],
          "scatterpolar": [
           {
            "marker": {
             "colorbar": {
              "outlinewidth": 0,
              "ticks": ""
             }
            },
            "type": "scatterpolar"
           }
          ],
          "scatterpolargl": [
           {
            "marker": {
             "colorbar": {
              "outlinewidth": 0,
              "ticks": ""
             }
            },
            "type": "scatterpolargl"
           }
          ],
          "scatterternary": [
           {
            "marker": {
             "colorbar": {
              "outlinewidth": 0,
              "ticks": ""
             }
            },
            "type": "scatterternary"
           }
          ],
          "surface": [
           {
            "colorbar": {
             "outlinewidth": 0,
             "ticks": ""
            },
            "colorscale": [
             [
              0,
              "#0d0887"
             ],
             [
              0.1111111111111111,
              "#46039f"
             ],
             [
              0.2222222222222222,
              "#7201a8"
             ],
             [
              0.3333333333333333,
              "#9c179e"
             ],
             [
              0.4444444444444444,
              "#bd3786"
             ],
             [
              0.5555555555555556,
              "#d8576b"
             ],
             [
              0.6666666666666666,
              "#ed7953"
             ],
             [
              0.7777777777777778,
              "#fb9f3a"
             ],
             [
              0.8888888888888888,
              "#fdca26"
             ],
             [
              1,
              "#f0f921"
             ]
            ],
            "type": "surface"
           }
          ],
          "table": [
           {
            "cells": {
             "fill": {
              "color": "#EBF0F8"
             },
             "line": {
              "color": "white"
             }
            },
            "header": {
             "fill": {
              "color": "#C8D4E3"
             },
             "line": {
              "color": "white"
             }
            },
            "type": "table"
           }
          ]
         },
         "layout": {
          "annotationdefaults": {
           "arrowcolor": "#2a3f5f",
           "arrowhead": 0,
           "arrowwidth": 1
          },
          "coloraxis": {
           "colorbar": {
            "outlinewidth": 0,
            "ticks": ""
           }
          },
          "colorscale": {
           "diverging": [
            [
             0,
             "#8e0152"
            ],
            [
             0.1,
             "#c51b7d"
            ],
            [
             0.2,
             "#de77ae"
            ],
            [
             0.3,
             "#f1b6da"
            ],
            [
             0.4,
             "#fde0ef"
            ],
            [
             0.5,
             "#f7f7f7"
            ],
            [
             0.6,
             "#e6f5d0"
            ],
            [
             0.7,
             "#b8e186"
            ],
            [
             0.8,
             "#7fbc41"
            ],
            [
             0.9,
             "#4d9221"
            ],
            [
             1,
             "#276419"
            ]
           ],
           "sequential": [
            [
             0,
             "#0d0887"
            ],
            [
             0.1111111111111111,
             "#46039f"
            ],
            [
             0.2222222222222222,
             "#7201a8"
            ],
            [
             0.3333333333333333,
             "#9c179e"
            ],
            [
             0.4444444444444444,
             "#bd3786"
            ],
            [
             0.5555555555555556,
             "#d8576b"
            ],
            [
             0.6666666666666666,
             "#ed7953"
            ],
            [
             0.7777777777777778,
             "#fb9f3a"
            ],
            [
             0.8888888888888888,
             "#fdca26"
            ],
            [
             1,
             "#f0f921"
            ]
           ],
           "sequentialminus": [
            [
             0,
             "#0d0887"
            ],
            [
             0.1111111111111111,
             "#46039f"
            ],
            [
             0.2222222222222222,
             "#7201a8"
            ],
            [
             0.3333333333333333,
             "#9c179e"
            ],
            [
             0.4444444444444444,
             "#bd3786"
            ],
            [
             0.5555555555555556,
             "#d8576b"
            ],
            [
             0.6666666666666666,
             "#ed7953"
            ],
            [
             0.7777777777777778,
             "#fb9f3a"
            ],
            [
             0.8888888888888888,
             "#fdca26"
            ],
            [
             1,
             "#f0f921"
            ]
           ]
          },
          "colorway": [
           "#636efa",
           "#EF553B",
           "#00cc96",
           "#ab63fa",
           "#FFA15A",
           "#19d3f3",
           "#FF6692",
           "#B6E880",
           "#FF97FF",
           "#FECB52"
          ],
          "font": {
           "color": "#2a3f5f"
          },
          "geo": {
           "bgcolor": "white",
           "lakecolor": "white",
           "landcolor": "#E5ECF6",
           "showlakes": true,
           "showland": true,
           "subunitcolor": "white"
          },
          "hoverlabel": {
           "align": "left"
          },
          "hovermode": "closest",
          "mapbox": {
           "style": "light"
          },
          "paper_bgcolor": "white",
          "plot_bgcolor": "#E5ECF6",
          "polar": {
           "angularaxis": {
            "gridcolor": "white",
            "linecolor": "white",
            "ticks": ""
           },
           "bgcolor": "#E5ECF6",
           "radialaxis": {
            "gridcolor": "white",
            "linecolor": "white",
            "ticks": ""
           }
          },
          "scene": {
           "xaxis": {
            "backgroundcolor": "#E5ECF6",
            "gridcolor": "white",
            "gridwidth": 2,
            "linecolor": "white",
            "showbackground": true,
            "ticks": "",
            "zerolinecolor": "white"
           },
           "yaxis": {
            "backgroundcolor": "#E5ECF6",
            "gridcolor": "white",
            "gridwidth": 2,
            "linecolor": "white",
            "showbackground": true,
            "ticks": "",
            "zerolinecolor": "white"
           },
           "zaxis": {
            "backgroundcolor": "#E5ECF6",
            "gridcolor": "white",
            "gridwidth": 2,
            "linecolor": "white",
            "showbackground": true,
            "ticks": "",
            "zerolinecolor": "white"
           }
          },
          "shapedefaults": {
           "line": {
            "color": "#2a3f5f"
           }
          },
          "ternary": {
           "aaxis": {
            "gridcolor": "white",
            "linecolor": "white",
            "ticks": ""
           },
           "baxis": {
            "gridcolor": "white",
            "linecolor": "white",
            "ticks": ""
           },
           "bgcolor": "#E5ECF6",
           "caxis": {
            "gridcolor": "white",
            "linecolor": "white",
            "ticks": ""
           }
          },
          "title": {
           "x": 0.05
          },
          "xaxis": {
           "automargin": true,
           "gridcolor": "white",
           "linecolor": "white",
           "ticks": "",
           "title": {
            "standoff": 15
           },
           "zerolinecolor": "white",
           "zerolinewidth": 2
          },
          "yaxis": {
           "automargin": true,
           "gridcolor": "white",
           "linecolor": "white",
           "ticks": "",
           "title": {
            "standoff": 15
           },
           "zerolinecolor": "white",
           "zerolinewidth": 2
          }
         }
        },
        "title": {
         "font": {
          "color": "#4D5663"
         }
        },
        "xaxis": {
         "anchor": "y",
         "domain": [
          0,
          0.2125
         ],
         "gridcolor": "#E1E5ED",
         "showgrid": false,
         "tickfont": {
          "color": "#4D5663"
         },
         "title": {
          "font": {
           "color": "#4D5663"
          },
          "text": ""
         },
         "zerolinecolor": "#E1E5ED"
        },
        "xaxis10": {
         "anchor": "y10",
         "domain": [
          0.2625,
          0.475
         ],
         "gridcolor": "#E1E5ED",
         "showgrid": false,
         "tickfont": {
          "color": "#4D5663"
         },
         "title": {
          "font": {
           "color": "#4D5663"
          },
          "text": ""
         },
         "zerolinecolor": "#E1E5ED"
        },
        "xaxis11": {
         "anchor": "y11",
         "domain": [
          0.525,
          0.7375
         ],
         "gridcolor": "#E1E5ED",
         "showgrid": false,
         "tickfont": {
          "color": "#4D5663"
         },
         "title": {
          "font": {
           "color": "#4D5663"
          },
          "text": ""
         },
         "zerolinecolor": "#E1E5ED"
        },
        "xaxis12": {
         "anchor": "y12",
         "domain": [
          0.7875,
          1
         ],
         "gridcolor": "#E1E5ED",
         "showgrid": false,
         "tickfont": {
          "color": "#4D5663"
         },
         "title": {
          "font": {
           "color": "#4D5663"
          },
          "text": ""
         },
         "zerolinecolor": "#E1E5ED"
        },
        "xaxis13": {
         "anchor": "y13",
         "domain": [
          0,
          0.2125
         ],
         "gridcolor": "#E1E5ED",
         "showgrid": false,
         "tickfont": {
          "color": "#4D5663"
         },
         "title": {
          "font": {
           "color": "#4D5663"
          },
          "text": ""
         },
         "zerolinecolor": "#E1E5ED"
        },
        "xaxis14": {
         "anchor": "y14",
         "domain": [
          0.2625,
          0.475
         ],
         "gridcolor": "#E1E5ED",
         "showgrid": false,
         "tickfont": {
          "color": "#4D5663"
         },
         "title": {
          "font": {
           "color": "#4D5663"
          },
          "text": ""
         },
         "zerolinecolor": "#E1E5ED"
        },
        "xaxis15": {
         "anchor": "y15",
         "domain": [
          0.525,
          0.7375
         ],
         "gridcolor": "#E1E5ED",
         "showgrid": false,
         "tickfont": {
          "color": "#4D5663"
         },
         "title": {
          "font": {
           "color": "#4D5663"
          },
          "text": ""
         },
         "zerolinecolor": "#E1E5ED"
        },
        "xaxis16": {
         "anchor": "y16",
         "domain": [
          0.7875,
          1
         ],
         "gridcolor": "#E1E5ED",
         "showgrid": false,
         "tickfont": {
          "color": "#4D5663"
         },
         "title": {
          "font": {
           "color": "#4D5663"
          },
          "text": ""
         },
         "zerolinecolor": "#E1E5ED"
        },
        "xaxis2": {
         "anchor": "y2",
         "domain": [
          0.2625,
          0.475
         ],
         "gridcolor": "#E1E5ED",
         "showgrid": false,
         "tickfont": {
          "color": "#4D5663"
         },
         "title": {
          "font": {
           "color": "#4D5663"
          },
          "text": ""
         },
         "zerolinecolor": "#E1E5ED"
        },
        "xaxis3": {
         "anchor": "y3",
         "domain": [
          0.525,
          0.7375
         ],
         "gridcolor": "#E1E5ED",
         "showgrid": false,
         "tickfont": {
          "color": "#4D5663"
         },
         "title": {
          "font": {
           "color": "#4D5663"
          },
          "text": ""
         },
         "zerolinecolor": "#E1E5ED"
        },
        "xaxis4": {
         "anchor": "y4",
         "domain": [
          0.7875,
          1
         ],
         "gridcolor": "#E1E5ED",
         "showgrid": false,
         "tickfont": {
          "color": "#4D5663"
         },
         "title": {
          "font": {
           "color": "#4D5663"
          },
          "text": ""
         },
         "zerolinecolor": "#E1E5ED"
        },
        "xaxis5": {
         "anchor": "y5",
         "domain": [
          0,
          0.2125
         ],
         "gridcolor": "#E1E5ED",
         "showgrid": false,
         "tickfont": {
          "color": "#4D5663"
         },
         "title": {
          "font": {
           "color": "#4D5663"
          },
          "text": ""
         },
         "zerolinecolor": "#E1E5ED"
        },
        "xaxis6": {
         "anchor": "y6",
         "domain": [
          0.2625,
          0.475
         ],
         "gridcolor": "#E1E5ED",
         "showgrid": false,
         "tickfont": {
          "color": "#4D5663"
         },
         "title": {
          "font": {
           "color": "#4D5663"
          },
          "text": ""
         },
         "zerolinecolor": "#E1E5ED"
        },
        "xaxis7": {
         "anchor": "y7",
         "domain": [
          0.525,
          0.7375
         ],
         "gridcolor": "#E1E5ED",
         "showgrid": false,
         "tickfont": {
          "color": "#4D5663"
         },
         "title": {
          "font": {
           "color": "#4D5663"
          },
          "text": ""
         },
         "zerolinecolor": "#E1E5ED"
        },
        "xaxis8": {
         "anchor": "y8",
         "domain": [
          0.7875,
          1
         ],
         "gridcolor": "#E1E5ED",
         "showgrid": false,
         "tickfont": {
          "color": "#4D5663"
         },
         "title": {
          "font": {
           "color": "#4D5663"
          },
          "text": ""
         },
         "zerolinecolor": "#E1E5ED"
        },
        "xaxis9": {
         "anchor": "y9",
         "domain": [
          0,
          0.2125
         ],
         "gridcolor": "#E1E5ED",
         "showgrid": false,
         "tickfont": {
          "color": "#4D5663"
         },
         "title": {
          "font": {
           "color": "#4D5663"
          },
          "text": ""
         },
         "zerolinecolor": "#E1E5ED"
        },
        "yaxis": {
         "anchor": "x",
         "domain": [
          0.8025,
          1
         ],
         "gridcolor": "#E1E5ED",
         "showgrid": false,
         "tickfont": {
          "color": "#4D5663"
         },
         "title": {
          "font": {
           "color": "#4D5663"
          },
          "text": ""
         },
         "zerolinecolor": "#E1E5ED"
        },
        "yaxis10": {
         "anchor": "x10",
         "domain": [
          0.2675,
          0.465
         ],
         "gridcolor": "#E1E5ED",
         "showgrid": false,
         "tickfont": {
          "color": "#4D5663"
         },
         "title": {
          "font": {
           "color": "#4D5663"
          },
          "text": ""
         },
         "zerolinecolor": "#E1E5ED"
        },
        "yaxis11": {
         "anchor": "x11",
         "domain": [
          0.2675,
          0.465
         ],
         "gridcolor": "#E1E5ED",
         "showgrid": false,
         "tickfont": {
          "color": "#4D5663"
         },
         "title": {
          "font": {
           "color": "#4D5663"
          },
          "text": ""
         },
         "zerolinecolor": "#E1E5ED"
        },
        "yaxis12": {
         "anchor": "x12",
         "domain": [
          0.2675,
          0.465
         ],
         "gridcolor": "#E1E5ED",
         "showgrid": false,
         "tickfont": {
          "color": "#4D5663"
         },
         "title": {
          "font": {
           "color": "#4D5663"
          },
          "text": ""
         },
         "zerolinecolor": "#E1E5ED"
        },
        "yaxis13": {
         "anchor": "x13",
         "domain": [
          0,
          0.1975
         ],
         "gridcolor": "#E1E5ED",
         "showgrid": false,
         "tickfont": {
          "color": "#4D5663"
         },
         "title": {
          "font": {
           "color": "#4D5663"
          },
          "text": ""
         },
         "zerolinecolor": "#E1E5ED"
        },
        "yaxis14": {
         "anchor": "x14",
         "domain": [
          0,
          0.1975
         ],
         "gridcolor": "#E1E5ED",
         "showgrid": false,
         "tickfont": {
          "color": "#4D5663"
         },
         "title": {
          "font": {
           "color": "#4D5663"
          },
          "text": ""
         },
         "zerolinecolor": "#E1E5ED"
        },
        "yaxis15": {
         "anchor": "x15",
         "domain": [
          0,
          0.1975
         ],
         "gridcolor": "#E1E5ED",
         "showgrid": false,
         "tickfont": {
          "color": "#4D5663"
         },
         "title": {
          "font": {
           "color": "#4D5663"
          },
          "text": ""
         },
         "zerolinecolor": "#E1E5ED"
        },
        "yaxis16": {
         "anchor": "x16",
         "domain": [
          0,
          0.1975
         ],
         "gridcolor": "#E1E5ED",
         "showgrid": false,
         "tickfont": {
          "color": "#4D5663"
         },
         "title": {
          "font": {
           "color": "#4D5663"
          },
          "text": ""
         },
         "zerolinecolor": "#E1E5ED"
        },
        "yaxis2": {
         "anchor": "x2",
         "domain": [
          0.8025,
          1
         ],
         "gridcolor": "#E1E5ED",
         "showgrid": false,
         "tickfont": {
          "color": "#4D5663"
         },
         "title": {
          "font": {
           "color": "#4D5663"
          },
          "text": ""
         },
         "zerolinecolor": "#E1E5ED"
        },
        "yaxis3": {
         "anchor": "x3",
         "domain": [
          0.8025,
          1
         ],
         "gridcolor": "#E1E5ED",
         "showgrid": false,
         "tickfont": {
          "color": "#4D5663"
         },
         "title": {
          "font": {
           "color": "#4D5663"
          },
          "text": ""
         },
         "zerolinecolor": "#E1E5ED"
        },
        "yaxis4": {
         "anchor": "x4",
         "domain": [
          0.8025,
          1
         ],
         "gridcolor": "#E1E5ED",
         "showgrid": false,
         "tickfont": {
          "color": "#4D5663"
         },
         "title": {
          "font": {
           "color": "#4D5663"
          },
          "text": ""
         },
         "zerolinecolor": "#E1E5ED"
        },
        "yaxis5": {
         "anchor": "x5",
         "domain": [
          0.535,
          0.7325
         ],
         "gridcolor": "#E1E5ED",
         "showgrid": false,
         "tickfont": {
          "color": "#4D5663"
         },
         "title": {
          "font": {
           "color": "#4D5663"
          },
          "text": ""
         },
         "zerolinecolor": "#E1E5ED"
        },
        "yaxis6": {
         "anchor": "x6",
         "domain": [
          0.535,
          0.7325
         ],
         "gridcolor": "#E1E5ED",
         "showgrid": false,
         "tickfont": {
          "color": "#4D5663"
         },
         "title": {
          "font": {
           "color": "#4D5663"
          },
          "text": ""
         },
         "zerolinecolor": "#E1E5ED"
        },
        "yaxis7": {
         "anchor": "x7",
         "domain": [
          0.535,
          0.7325
         ],
         "gridcolor": "#E1E5ED",
         "showgrid": false,
         "tickfont": {
          "color": "#4D5663"
         },
         "title": {
          "font": {
           "color": "#4D5663"
          },
          "text": ""
         },
         "zerolinecolor": "#E1E5ED"
        },
        "yaxis8": {
         "anchor": "x8",
         "domain": [
          0.535,
          0.7325
         ],
         "gridcolor": "#E1E5ED",
         "showgrid": false,
         "tickfont": {
          "color": "#4D5663"
         },
         "title": {
          "font": {
           "color": "#4D5663"
          },
          "text": ""
         },
         "zerolinecolor": "#E1E5ED"
        },
        "yaxis9": {
         "anchor": "x9",
         "domain": [
          0.2675,
          0.465
         ],
         "gridcolor": "#E1E5ED",
         "showgrid": false,
         "tickfont": {
          "color": "#4D5663"
         },
         "title": {
          "font": {
           "color": "#4D5663"
          },
          "text": ""
         },
         "zerolinecolor": "#E1E5ED"
        }
       }
      },
      "text/html": [
       "<div>\n",
       "        \n",
       "        \n",
       "            <div id=\"0b25c95b-64a1-49cc-b118-b947fc82cf27\" class=\"plotly-graph-div\" style=\"height:525px; width:100%;\"></div>\n",
       "            <script type=\"text/javascript\">\n",
       "                require([\"plotly\"], function(Plotly) {\n",
       "                    window.PLOTLYENV=window.PLOTLYENV || {};\n",
       "                    window.PLOTLYENV.BASE_URL='https://plot.ly';\n",
       "                    \n",
       "                if (document.getElementById(\"0b25c95b-64a1-49cc-b118-b947fc82cf27\")) {\n",
       "                    Plotly.newPlot(\n",
       "                        '0b25c95b-64a1-49cc-b118-b947fc82cf27',\n",
       "                        [{\"histfunc\": \"count\", \"histnorm\": \"\", \"marker\": {\"color\": \"rgba(255, 153, 51, 1.0)\", \"line\": {\"color\": \"#4D5663\", \"width\": 1.3}}, \"name\": \"A\", \"nbinsx\": 10, \"opacity\": 0.8, \"orientation\": \"v\", \"type\": \"histogram\", \"x\": [0.3705878037577684, -0.6678339547302442, 1.1380918556405002, -0.675580051894025, 1.7262495731372611, -0.7346738962061609, -0.9562145225408256, 0.025148520483188185, -0.11730817837083653, -0.8875635029726676, 0.7878568424078434, 1.1653202219069316, 1.2937559144192385, -1.0658594627738625, -0.09260441995537765, -0.5159981219517672, -0.8327586860733873, -1.3749779091900383, 0.42018431850196075, 0.14709265072578784, 0.25214049237485664, -0.18919730285638245, -2.718182630893289, -2.4871101190238996, -1.0215669673578682, 0.24635506388134681, -0.10770573439041783, 0.3557554224870404, 0.031566456058262665, 0.1700452202575896, -0.9575259626465774, -0.21532599451762865, 0.5236647751886957, 1.94221152756419, 1.0739362417570109, 0.08712867977911695, -0.37107368322293466, -1.1447478368070039, 2.129917673232524, -0.9693582650304164, -0.1869513636704791, 2.2092637073763917, 1.488229125167454, 2.214050967163112, 0.6384413413698313, -1.9283759167143864, -0.4511610664062786, -0.06721145376013846, -1.8119277914008352, -0.6415871282167186, -0.09212605207912067, -0.11015367934595786, -0.2885730054311169, 0.17257802683078483, -0.34532000564412413, -0.12995888586272972, -0.4377511993519691, -1.876492612806514, -1.718838915583185, 0.0936799439467252, 0.47001537739454224, -2.8410006043336353, 1.704730125268345, 0.20259501783314926, -0.4206312134987387, 0.839068083396662, -0.5043104052179739, 0.4731676005007791, 0.19311114687310646, 0.4716117801712886, 1.8908763742207517, -1.334644125974962, -0.11766425437807593, 1.6565164720427392, -1.5568524437600175, -0.5680816820553658, -0.5344358887477514, 0.1900277548085487, 0.7565155724048774, 1.9865304358054405, -0.3281632782126243, -2.127189864605686, -0.39679487724212614, -0.3050622209272501, -1.2578147927340104, -0.17726760140269482, -1.5401904883006807, -0.5614175852880462, -1.967164616628011, -0.38255077923662584, 1.1503595634830022, 0.2576042608917582, 1.2135540045813504, -0.4161542112158181, 2.1297943647777084, 1.3264977923735735, -0.4404670901208818, 0.48124473164937726, 0.5839900293237509, 1.076803896700854], \"xaxis\": \"x\", \"yaxis\": \"y\"}, {\"line\": {\"color\": \"rgba(128, 128, 128, 1.0)\", \"dash\": \"solid\", \"shape\": \"linear\", \"width\": 1.3}, \"marker\": {\"size\": 2, \"symbol\": \"circle\"}, \"mode\": \"markers\", \"name\": \"A\", \"text\": \"\", \"type\": \"scatter\", \"x\": [-0.9026182879513235, -0.8429681388249898, 0.9540726979032438, -0.23251275860498477, 0.34349554969697677, -0.6219462410445961, -2.0006622694901433, 1.2051941291240547, -0.13994760501934572, 1.4084984797743516, -1.4406185815567676, 2.203571063939216, -0.7573170225475241, -1.3938894902922006, -1.5080691322024262, -0.14327068342977814, 0.037417546547547115, 1.6462587562862911, -0.09803460519806916, -0.14996665115790409, 0.21163564577514976, 1.0263341563855668, -2.1541928508243413, 0.5266668698269917, -1.55295581817936, -0.1945656521063503, 0.4888954405211421, -1.0860016057795432, 0.6863853333595958, 1.5301495976534594, 0.9766721778910605, 1.336524835836653, -1.2007448477602651, 0.06634015015393542, 1.2366217573413492, -0.8777425551106883, 0.6838574049901874, 1.4325415795887664, -0.9916589198409315, -1.4400899617991463, -1.2559540357374495, 0.6110065450279094, -1.0390703837403927, 0.7226262599610198, -2.676636290627523, -0.7200323899747009, 0.0773058348349942, -1.123920139622418, -1.5943451488747178, 0.09570172620242262, 0.031109758935364544, 0.5486092430934341, -0.9783856846534326, -0.37782591930038695, 2.04289799639152, 2.695461751334061, 0.42866956560443514, 0.06570107039637005, 0.3406308372199238, -0.13963619271339842, 2.08286852359131, -1.2438740075995987, -1.0244756191667646, -1.218721967500244, -0.574858657178294, 2.92238752045327, 0.49989326896154135, -1.228574562429567, 0.96213081663357, -1.7825877071155352, -0.8255838017224469, -0.2647822588269775, 1.3393791985468635, -0.39866530169448894, 0.7530286903232385, 0.702494600097855, -2.9359052065235454, 1.737741342697497, -0.27851189827084305, 2.519831534981045, 0.9039598139975631, -0.11495144416259331, 1.7927453018094415, 1.0292143655851063, 0.9950063877604468, 0.7302318326789189, -1.0215696369523628, 0.3528032997113076, -1.5412449038618279, -0.5806327163073665, 0.5350868251094306, -1.6961570456962733, 0.5796026289085382, -0.30485897618670443, -1.6535985994040143, 1.0991402504723242, 0.5477912575339169, -1.6636610596560424, 0.48997625929201616, -2.015300619743853], \"xaxis\": \"x2\", \"y\": [0.3705878037577684, -0.6678339547302442, 1.1380918556405002, -0.675580051894025, 1.7262495731372611, -0.7346738962061609, -0.9562145225408256, 0.025148520483188185, -0.11730817837083653, -0.8875635029726676, 0.7878568424078434, 1.1653202219069316, 1.2937559144192385, -1.0658594627738625, -0.09260441995537765, -0.5159981219517672, -0.8327586860733873, -1.3749779091900383, 0.42018431850196075, 0.14709265072578784, 0.25214049237485664, -0.18919730285638245, -2.718182630893289, -2.4871101190238996, -1.0215669673578682, 0.24635506388134681, -0.10770573439041783, 0.3557554224870404, 0.031566456058262665, 0.1700452202575896, -0.9575259626465774, -0.21532599451762865, 0.5236647751886957, 1.94221152756419, 1.0739362417570109, 0.08712867977911695, -0.37107368322293466, -1.1447478368070039, 2.129917673232524, -0.9693582650304164, -0.1869513636704791, 2.2092637073763917, 1.488229125167454, 2.214050967163112, 0.6384413413698313, -1.9283759167143864, -0.4511610664062786, -0.06721145376013846, -1.8119277914008352, -0.6415871282167186, -0.09212605207912067, -0.11015367934595786, -0.2885730054311169, 0.17257802683078483, -0.34532000564412413, -0.12995888586272972, -0.4377511993519691, -1.876492612806514, -1.718838915583185, 0.0936799439467252, 0.47001537739454224, -2.8410006043336353, 1.704730125268345, 0.20259501783314926, -0.4206312134987387, 0.839068083396662, -0.5043104052179739, 0.4731676005007791, 0.19311114687310646, 0.4716117801712886, 1.8908763742207517, -1.334644125974962, -0.11766425437807593, 1.6565164720427392, -1.5568524437600175, -0.5680816820553658, -0.5344358887477514, 0.1900277548085487, 0.7565155724048774, 1.9865304358054405, -0.3281632782126243, -2.127189864605686, -0.39679487724212614, -0.3050622209272501, -1.2578147927340104, -0.17726760140269482, -1.5401904883006807, -0.5614175852880462, -1.967164616628011, -0.38255077923662584, 1.1503595634830022, 0.2576042608917582, 1.2135540045813504, -0.4161542112158181, 2.1297943647777084, 1.3264977923735735, -0.4404670901208818, 0.48124473164937726, 0.5839900293237509, 1.076803896700854], \"yaxis\": \"y2\"}, {\"line\": {\"color\": \"rgba(128, 128, 128, 1.0)\", \"dash\": \"solid\", \"shape\": \"linear\", \"width\": 1.3}, \"marker\": {\"size\": 2, \"symbol\": \"circle\"}, \"mode\": \"markers\", \"name\": \"A\", \"text\": \"\", \"type\": \"scatter\", \"x\": [-0.5998922748226837, 1.0401232639605857, -1.3701390540574003, 0.307367401403588, -1.0799042915348378, -0.9813177044008539, 0.4770731548160624, -0.5826732258653297, -0.6035195659833387, -0.0258865493970227, -0.8230608255643124, 1.6943105314625253, -0.9563104649466695, 1.4177953890193729, 1.6273911971295223, -0.2578227224315953, 0.26004100762205856, -1.697537184922374, -0.3812906397479519, 0.1722461009838956, -0.4556650197368004, -2.495653667611221, 1.097080665209218, -0.13077845197865856, 1.1074694634752067, -1.7294470216683682, -0.26705895882833, 0.3251636428314838, 0.5361169732425961, 1.589969134302654, -0.15735546537356165, -0.7995419169077077, 1.8376619277966697, -0.15187825852893375, 0.04374985851141635, -0.23823958694361272, 0.764467916710477, -0.7554188593905685, 0.6921743026950641, 0.03290908332584349, 2.0433745991251198, 0.6102966937575419, -0.17802755313353924, 0.8218065247920904, 0.12142670746890857, 0.09815011007935072, -0.29780293511282513, -0.4526326974716961, -0.12252382350765847, -0.7900818595884559, -1.1008843446675154, -0.07630183113288294, 0.2802494823029372, 1.0161020693800689, -0.071570854643028, -0.5531877476244556, -1.9807446325723932, -0.8091256988385362, -1.7009786854539621, 0.24777396683941133, -0.2699730156670374, 0.7299970552803603, -0.556742101854421, -1.6052585106866015, -0.7802709940324564, 1.0178771189571585, 0.3065709276649882, -1.3304863582651418, -0.2865475537453356, 0.9070300290159293, 0.4843256513077551, 0.17691226867134244, -0.609623055568708, -1.0861291448568933, 0.7194756521047455, 0.6065091377263108, 0.33760317323029176, 0.39774407638368164, -0.7590447844571399, 0.8520210686986877, 0.44533746837968435, 0.4507753644951477, -1.088986892953632, 0.4693496772868247, 1.0556025178684072, -1.4878323098061323, 1.3625106657117196, -1.8917699176948377, 0.4095272296787832, -0.9221182812831743, -1.4542834127024287, -0.18464768530778417, 1.0959242606698392, -0.8935725350190782, 1.4342173284967896, 1.8371179074984076, -0.5299449866725706, 1.2646796592685872, 1.3239105830431595, 0.6861574912304074], \"xaxis\": \"x3\", \"y\": [0.3705878037577684, -0.6678339547302442, 1.1380918556405002, -0.675580051894025, 1.7262495731372611, -0.7346738962061609, -0.9562145225408256, 0.025148520483188185, -0.11730817837083653, -0.8875635029726676, 0.7878568424078434, 1.1653202219069316, 1.2937559144192385, -1.0658594627738625, -0.09260441995537765, -0.5159981219517672, -0.8327586860733873, -1.3749779091900383, 0.42018431850196075, 0.14709265072578784, 0.25214049237485664, -0.18919730285638245, -2.718182630893289, -2.4871101190238996, -1.0215669673578682, 0.24635506388134681, -0.10770573439041783, 0.3557554224870404, 0.031566456058262665, 0.1700452202575896, -0.9575259626465774, -0.21532599451762865, 0.5236647751886957, 1.94221152756419, 1.0739362417570109, 0.08712867977911695, -0.37107368322293466, -1.1447478368070039, 2.129917673232524, -0.9693582650304164, -0.1869513636704791, 2.2092637073763917, 1.488229125167454, 2.214050967163112, 0.6384413413698313, -1.9283759167143864, -0.4511610664062786, -0.06721145376013846, -1.8119277914008352, -0.6415871282167186, -0.09212605207912067, -0.11015367934595786, -0.2885730054311169, 0.17257802683078483, -0.34532000564412413, -0.12995888586272972, -0.4377511993519691, -1.876492612806514, -1.718838915583185, 0.0936799439467252, 0.47001537739454224, -2.8410006043336353, 1.704730125268345, 0.20259501783314926, -0.4206312134987387, 0.839068083396662, -0.5043104052179739, 0.4731676005007791, 0.19311114687310646, 0.4716117801712886, 1.8908763742207517, -1.334644125974962, -0.11766425437807593, 1.6565164720427392, -1.5568524437600175, -0.5680816820553658, -0.5344358887477514, 0.1900277548085487, 0.7565155724048774, 1.9865304358054405, -0.3281632782126243, -2.127189864605686, -0.39679487724212614, -0.3050622209272501, -1.2578147927340104, -0.17726760140269482, -1.5401904883006807, -0.5614175852880462, -1.967164616628011, -0.38255077923662584, 1.1503595634830022, 0.2576042608917582, 1.2135540045813504, -0.4161542112158181, 2.1297943647777084, 1.3264977923735735, -0.4404670901208818, 0.48124473164937726, 0.5839900293237509, 1.076803896700854], \"yaxis\": \"y3\"}, {\"line\": {\"color\": \"rgba(128, 128, 128, 1.0)\", \"dash\": \"solid\", \"shape\": \"linear\", \"width\": 1.3}, \"marker\": {\"size\": 2, \"symbol\": \"circle\"}, \"mode\": \"markers\", \"name\": \"A\", \"text\": \"\", \"type\": \"scatter\", \"x\": [-0.3484290193324681, 1.2493318120026027, 0.6195953989316635, -0.10007648659084645, -0.848659613914679, -1.2072222170818043, 0.1331176062784441, -0.01646742972146636, -0.37225133150837864, 0.11229352710673653, 0.6366971125581358, 1.545579307785409, 0.15580916850848148, -0.3314672607660011, 0.7929866166535395, 0.8941052725838416, -0.14329935045522949, 1.3196350077045846, -0.096788026963216, -0.8346083847204316, 1.2032145169230912, -0.38071240368744474, -0.3098611358309325, -1.736361585718667, -2.1199279881649593, -1.5794355446796786, -1.2791643506642554, -1.4992239299870747, -0.03425548013030693, -0.1206142170620143, 0.3451768520894632, 0.6844729058258141, -0.8376759964545056, 1.241591779090792, -1.3881052068053508, 1.1012224452147994, -1.0975287473015383, 0.5041699155349165, 0.7160675347296979, -1.2093109533153736, -0.24711334829147724, -0.5889737991894741, -0.5366652084809301, 0.3310628341514247, 0.06631259446541207, -0.28759721211797773, -1.1155536161178887, -0.11610402773542693, -0.4429351529770189, 1.4270945875382393, 0.6491689023501485, 0.4883187223682674, 0.14973969661131312, 1.3875615203236902, 0.035749576155775536, 0.17155751012655765, -0.08973447587317929, 0.6232701155816891, -0.34499518674366153, -2.1703151733281087, 0.1797106006356278, -0.9074164273981294, -0.531983574715416, -0.8338018217815336, -0.7465538070712631, 0.3789556341758663, 3.075277236055962, -0.19053133737678485, 0.8643667689060618, 2.4980523172364046, -0.04232670805240006, 1.2480572144201294, 1.541103715916894, -1.7373434081652341, 1.4565399138714257, -0.4710155743441887, 0.6801057596111969, 0.18764949278207416, 0.4735916382674086, -3.356995673638782, -0.3019626812744328, -2.2403559426949933, -1.6319267400086224, 0.8824560086615363, 1.1468628425988923, -0.53925633992263, -0.1995850040866459, 0.005847650698243115, 2.410480925201785, -0.44772196459658326, -1.6552711703176686, -0.23346162577694834, -0.06260196282696313, -0.4749436357111602, -1.587230525836392, 0.46603024198579857, -0.003303137021653763, -0.6821232266716004, 0.8182169465651061, -0.6364533045515591], \"xaxis\": \"x4\", \"y\": [0.3705878037577684, -0.6678339547302442, 1.1380918556405002, -0.675580051894025, 1.7262495731372611, -0.7346738962061609, -0.9562145225408256, 0.025148520483188185, -0.11730817837083653, -0.8875635029726676, 0.7878568424078434, 1.1653202219069316, 1.2937559144192385, -1.0658594627738625, -0.09260441995537765, -0.5159981219517672, -0.8327586860733873, -1.3749779091900383, 0.42018431850196075, 0.14709265072578784, 0.25214049237485664, -0.18919730285638245, -2.718182630893289, -2.4871101190238996, -1.0215669673578682, 0.24635506388134681, -0.10770573439041783, 0.3557554224870404, 0.031566456058262665, 0.1700452202575896, -0.9575259626465774, -0.21532599451762865, 0.5236647751886957, 1.94221152756419, 1.0739362417570109, 0.08712867977911695, -0.37107368322293466, -1.1447478368070039, 2.129917673232524, -0.9693582650304164, -0.1869513636704791, 2.2092637073763917, 1.488229125167454, 2.214050967163112, 0.6384413413698313, -1.9283759167143864, -0.4511610664062786, -0.06721145376013846, -1.8119277914008352, -0.6415871282167186, -0.09212605207912067, -0.11015367934595786, -0.2885730054311169, 0.17257802683078483, -0.34532000564412413, -0.12995888586272972, -0.4377511993519691, -1.876492612806514, -1.718838915583185, 0.0936799439467252, 0.47001537739454224, -2.8410006043336353, 1.704730125268345, 0.20259501783314926, -0.4206312134987387, 0.839068083396662, -0.5043104052179739, 0.4731676005007791, 0.19311114687310646, 0.4716117801712886, 1.8908763742207517, -1.334644125974962, -0.11766425437807593, 1.6565164720427392, -1.5568524437600175, -0.5680816820553658, -0.5344358887477514, 0.1900277548085487, 0.7565155724048774, 1.9865304358054405, -0.3281632782126243, -2.127189864605686, -0.39679487724212614, -0.3050622209272501, -1.2578147927340104, -0.17726760140269482, -1.5401904883006807, -0.5614175852880462, -1.967164616628011, -0.38255077923662584, 1.1503595634830022, 0.2576042608917582, 1.2135540045813504, -0.4161542112158181, 2.1297943647777084, 1.3264977923735735, -0.4404670901208818, 0.48124473164937726, 0.5839900293237509, 1.076803896700854], \"yaxis\": \"y4\"}, {\"line\": {\"color\": \"rgba(128, 128, 128, 1.0)\", \"dash\": \"solid\", \"shape\": \"linear\", \"width\": 1.3}, \"marker\": {\"size\": 2, \"symbol\": \"circle\"}, \"mode\": \"markers\", \"name\": \"B\", \"text\": \"\", \"type\": \"scatter\", \"x\": [0.3705878037577684, -0.6678339547302442, 1.1380918556405002, -0.675580051894025, 1.7262495731372611, -0.7346738962061609, -0.9562145225408256, 0.025148520483188185, -0.11730817837083653, -0.8875635029726676, 0.7878568424078434, 1.1653202219069316, 1.2937559144192385, -1.0658594627738625, -0.09260441995537765, -0.5159981219517672, -0.8327586860733873, -1.3749779091900383, 0.42018431850196075, 0.14709265072578784, 0.25214049237485664, -0.18919730285638245, -2.718182630893289, -2.4871101190238996, -1.0215669673578682, 0.24635506388134681, -0.10770573439041783, 0.3557554224870404, 0.031566456058262665, 0.1700452202575896, -0.9575259626465774, -0.21532599451762865, 0.5236647751886957, 1.94221152756419, 1.0739362417570109, 0.08712867977911695, -0.37107368322293466, -1.1447478368070039, 2.129917673232524, -0.9693582650304164, -0.1869513636704791, 2.2092637073763917, 1.488229125167454, 2.214050967163112, 0.6384413413698313, -1.9283759167143864, -0.4511610664062786, -0.06721145376013846, -1.8119277914008352, -0.6415871282167186, -0.09212605207912067, -0.11015367934595786, -0.2885730054311169, 0.17257802683078483, -0.34532000564412413, -0.12995888586272972, -0.4377511993519691, -1.876492612806514, -1.718838915583185, 0.0936799439467252, 0.47001537739454224, -2.8410006043336353, 1.704730125268345, 0.20259501783314926, -0.4206312134987387, 0.839068083396662, -0.5043104052179739, 0.4731676005007791, 0.19311114687310646, 0.4716117801712886, 1.8908763742207517, -1.334644125974962, -0.11766425437807593, 1.6565164720427392, -1.5568524437600175, -0.5680816820553658, -0.5344358887477514, 0.1900277548085487, 0.7565155724048774, 1.9865304358054405, -0.3281632782126243, -2.127189864605686, -0.39679487724212614, -0.3050622209272501, -1.2578147927340104, -0.17726760140269482, -1.5401904883006807, -0.5614175852880462, -1.967164616628011, -0.38255077923662584, 1.1503595634830022, 0.2576042608917582, 1.2135540045813504, -0.4161542112158181, 2.1297943647777084, 1.3264977923735735, -0.4404670901208818, 0.48124473164937726, 0.5839900293237509, 1.076803896700854], \"xaxis\": \"x5\", \"y\": [-0.9026182879513235, -0.8429681388249898, 0.9540726979032438, -0.23251275860498477, 0.34349554969697677, -0.6219462410445961, -2.0006622694901433, 1.2051941291240547, -0.13994760501934572, 1.4084984797743516, -1.4406185815567676, 2.203571063939216, -0.7573170225475241, -1.3938894902922006, -1.5080691322024262, -0.14327068342977814, 0.037417546547547115, 1.6462587562862911, -0.09803460519806916, -0.14996665115790409, 0.21163564577514976, 1.0263341563855668, -2.1541928508243413, 0.5266668698269917, -1.55295581817936, -0.1945656521063503, 0.4888954405211421, -1.0860016057795432, 0.6863853333595958, 1.5301495976534594, 0.9766721778910605, 1.336524835836653, -1.2007448477602651, 0.06634015015393542, 1.2366217573413492, -0.8777425551106883, 0.6838574049901874, 1.4325415795887664, -0.9916589198409315, -1.4400899617991463, -1.2559540357374495, 0.6110065450279094, -1.0390703837403927, 0.7226262599610198, -2.676636290627523, -0.7200323899747009, 0.0773058348349942, -1.123920139622418, -1.5943451488747178, 0.09570172620242262, 0.031109758935364544, 0.5486092430934341, -0.9783856846534326, -0.37782591930038695, 2.04289799639152, 2.695461751334061, 0.42866956560443514, 0.06570107039637005, 0.3406308372199238, -0.13963619271339842, 2.08286852359131, -1.2438740075995987, -1.0244756191667646, -1.218721967500244, -0.574858657178294, 2.92238752045327, 0.49989326896154135, -1.228574562429567, 0.96213081663357, -1.7825877071155352, -0.8255838017224469, -0.2647822588269775, 1.3393791985468635, -0.39866530169448894, 0.7530286903232385, 0.702494600097855, -2.9359052065235454, 1.737741342697497, -0.27851189827084305, 2.519831534981045, 0.9039598139975631, -0.11495144416259331, 1.7927453018094415, 1.0292143655851063, 0.9950063877604468, 0.7302318326789189, -1.0215696369523628, 0.3528032997113076, -1.5412449038618279, -0.5806327163073665, 0.5350868251094306, -1.6961570456962733, 0.5796026289085382, -0.30485897618670443, -1.6535985994040143, 1.0991402504723242, 0.5477912575339169, -1.6636610596560424, 0.48997625929201616, -2.015300619743853], \"yaxis\": \"y5\"}, {\"histfunc\": \"count\", \"histnorm\": \"\", \"marker\": {\"color\": \"rgba(55, 128, 191, 1.0)\", \"line\": {\"color\": \"#4D5663\", \"width\": 1.3}}, \"name\": \"B\", \"nbinsx\": 10, \"opacity\": 0.8, \"orientation\": \"v\", \"type\": \"histogram\", \"x\": [-0.9026182879513235, -0.8429681388249898, 0.9540726979032438, -0.23251275860498477, 0.34349554969697677, -0.6219462410445961, -2.0006622694901433, 1.2051941291240547, -0.13994760501934572, 1.4084984797743516, -1.4406185815567676, 2.203571063939216, -0.7573170225475241, -1.3938894902922006, -1.5080691322024262, -0.14327068342977814, 0.037417546547547115, 1.6462587562862911, -0.09803460519806916, -0.14996665115790409, 0.21163564577514976, 1.0263341563855668, -2.1541928508243413, 0.5266668698269917, -1.55295581817936, -0.1945656521063503, 0.4888954405211421, -1.0860016057795432, 0.6863853333595958, 1.5301495976534594, 0.9766721778910605, 1.336524835836653, -1.2007448477602651, 0.06634015015393542, 1.2366217573413492, -0.8777425551106883, 0.6838574049901874, 1.4325415795887664, -0.9916589198409315, -1.4400899617991463, -1.2559540357374495, 0.6110065450279094, -1.0390703837403927, 0.7226262599610198, -2.676636290627523, -0.7200323899747009, 0.0773058348349942, -1.123920139622418, -1.5943451488747178, 0.09570172620242262, 0.031109758935364544, 0.5486092430934341, -0.9783856846534326, -0.37782591930038695, 2.04289799639152, 2.695461751334061, 0.42866956560443514, 0.06570107039637005, 0.3406308372199238, -0.13963619271339842, 2.08286852359131, -1.2438740075995987, -1.0244756191667646, -1.218721967500244, -0.574858657178294, 2.92238752045327, 0.49989326896154135, -1.228574562429567, 0.96213081663357, -1.7825877071155352, -0.8255838017224469, -0.2647822588269775, 1.3393791985468635, -0.39866530169448894, 0.7530286903232385, 0.702494600097855, -2.9359052065235454, 1.737741342697497, -0.27851189827084305, 2.519831534981045, 0.9039598139975631, -0.11495144416259331, 1.7927453018094415, 1.0292143655851063, 0.9950063877604468, 0.7302318326789189, -1.0215696369523628, 0.3528032997113076, -1.5412449038618279, -0.5806327163073665, 0.5350868251094306, -1.6961570456962733, 0.5796026289085382, -0.30485897618670443, -1.6535985994040143, 1.0991402504723242, 0.5477912575339169, -1.6636610596560424, 0.48997625929201616, -2.015300619743853], \"xaxis\": \"x6\", \"yaxis\": \"y6\"}, {\"line\": {\"color\": \"rgba(128, 128, 128, 1.0)\", \"dash\": \"solid\", \"shape\": \"linear\", \"width\": 1.3}, \"marker\": {\"size\": 2, \"symbol\": \"circle\"}, \"mode\": \"markers\", \"name\": \"B\", \"text\": \"\", \"type\": \"scatter\", \"x\": [-0.5998922748226837, 1.0401232639605857, -1.3701390540574003, 0.307367401403588, -1.0799042915348378, -0.9813177044008539, 0.4770731548160624, -0.5826732258653297, -0.6035195659833387, -0.0258865493970227, -0.8230608255643124, 1.6943105314625253, -0.9563104649466695, 1.4177953890193729, 1.6273911971295223, -0.2578227224315953, 0.26004100762205856, -1.697537184922374, -0.3812906397479519, 0.1722461009838956, -0.4556650197368004, -2.495653667611221, 1.097080665209218, -0.13077845197865856, 1.1074694634752067, -1.7294470216683682, -0.26705895882833, 0.3251636428314838, 0.5361169732425961, 1.589969134302654, -0.15735546537356165, -0.7995419169077077, 1.8376619277966697, -0.15187825852893375, 0.04374985851141635, -0.23823958694361272, 0.764467916710477, -0.7554188593905685, 0.6921743026950641, 0.03290908332584349, 2.0433745991251198, 0.6102966937575419, -0.17802755313353924, 0.8218065247920904, 0.12142670746890857, 0.09815011007935072, -0.29780293511282513, -0.4526326974716961, -0.12252382350765847, -0.7900818595884559, -1.1008843446675154, -0.07630183113288294, 0.2802494823029372, 1.0161020693800689, -0.071570854643028, -0.5531877476244556, -1.9807446325723932, -0.8091256988385362, -1.7009786854539621, 0.24777396683941133, -0.2699730156670374, 0.7299970552803603, -0.556742101854421, -1.6052585106866015, -0.7802709940324564, 1.0178771189571585, 0.3065709276649882, -1.3304863582651418, -0.2865475537453356, 0.9070300290159293, 0.4843256513077551, 0.17691226867134244, -0.609623055568708, -1.0861291448568933, 0.7194756521047455, 0.6065091377263108, 0.33760317323029176, 0.39774407638368164, -0.7590447844571399, 0.8520210686986877, 0.44533746837968435, 0.4507753644951477, -1.088986892953632, 0.4693496772868247, 1.0556025178684072, -1.4878323098061323, 1.3625106657117196, -1.8917699176948377, 0.4095272296787832, -0.9221182812831743, -1.4542834127024287, -0.18464768530778417, 1.0959242606698392, -0.8935725350190782, 1.4342173284967896, 1.8371179074984076, -0.5299449866725706, 1.2646796592685872, 1.3239105830431595, 0.6861574912304074], \"xaxis\": \"x7\", \"y\": [-0.9026182879513235, -0.8429681388249898, 0.9540726979032438, -0.23251275860498477, 0.34349554969697677, -0.6219462410445961, -2.0006622694901433, 1.2051941291240547, -0.13994760501934572, 1.4084984797743516, -1.4406185815567676, 2.203571063939216, -0.7573170225475241, -1.3938894902922006, -1.5080691322024262, -0.14327068342977814, 0.037417546547547115, 1.6462587562862911, -0.09803460519806916, -0.14996665115790409, 0.21163564577514976, 1.0263341563855668, -2.1541928508243413, 0.5266668698269917, -1.55295581817936, -0.1945656521063503, 0.4888954405211421, -1.0860016057795432, 0.6863853333595958, 1.5301495976534594, 0.9766721778910605, 1.336524835836653, -1.2007448477602651, 0.06634015015393542, 1.2366217573413492, -0.8777425551106883, 0.6838574049901874, 1.4325415795887664, -0.9916589198409315, -1.4400899617991463, -1.2559540357374495, 0.6110065450279094, -1.0390703837403927, 0.7226262599610198, -2.676636290627523, -0.7200323899747009, 0.0773058348349942, -1.123920139622418, -1.5943451488747178, 0.09570172620242262, 0.031109758935364544, 0.5486092430934341, -0.9783856846534326, -0.37782591930038695, 2.04289799639152, 2.695461751334061, 0.42866956560443514, 0.06570107039637005, 0.3406308372199238, -0.13963619271339842, 2.08286852359131, -1.2438740075995987, -1.0244756191667646, -1.218721967500244, -0.574858657178294, 2.92238752045327, 0.49989326896154135, -1.228574562429567, 0.96213081663357, -1.7825877071155352, -0.8255838017224469, -0.2647822588269775, 1.3393791985468635, -0.39866530169448894, 0.7530286903232385, 0.702494600097855, -2.9359052065235454, 1.737741342697497, -0.27851189827084305, 2.519831534981045, 0.9039598139975631, -0.11495144416259331, 1.7927453018094415, 1.0292143655851063, 0.9950063877604468, 0.7302318326789189, -1.0215696369523628, 0.3528032997113076, -1.5412449038618279, -0.5806327163073665, 0.5350868251094306, -1.6961570456962733, 0.5796026289085382, -0.30485897618670443, -1.6535985994040143, 1.0991402504723242, 0.5477912575339169, -1.6636610596560424, 0.48997625929201616, -2.015300619743853], \"yaxis\": \"y7\"}, {\"line\": {\"color\": \"rgba(128, 128, 128, 1.0)\", \"dash\": \"solid\", \"shape\": \"linear\", \"width\": 1.3}, \"marker\": {\"size\": 2, \"symbol\": \"circle\"}, \"mode\": \"markers\", \"name\": \"B\", \"text\": \"\", \"type\": \"scatter\", \"x\": [-0.3484290193324681, 1.2493318120026027, 0.6195953989316635, -0.10007648659084645, -0.848659613914679, -1.2072222170818043, 0.1331176062784441, -0.01646742972146636, -0.37225133150837864, 0.11229352710673653, 0.6366971125581358, 1.545579307785409, 0.15580916850848148, -0.3314672607660011, 0.7929866166535395, 0.8941052725838416, -0.14329935045522949, 1.3196350077045846, -0.096788026963216, -0.8346083847204316, 1.2032145169230912, -0.38071240368744474, -0.3098611358309325, -1.736361585718667, -2.1199279881649593, -1.5794355446796786, -1.2791643506642554, -1.4992239299870747, -0.03425548013030693, -0.1206142170620143, 0.3451768520894632, 0.6844729058258141, -0.8376759964545056, 1.241591779090792, -1.3881052068053508, 1.1012224452147994, -1.0975287473015383, 0.5041699155349165, 0.7160675347296979, -1.2093109533153736, -0.24711334829147724, -0.5889737991894741, -0.5366652084809301, 0.3310628341514247, 0.06631259446541207, -0.28759721211797773, -1.1155536161178887, -0.11610402773542693, -0.4429351529770189, 1.4270945875382393, 0.6491689023501485, 0.4883187223682674, 0.14973969661131312, 1.3875615203236902, 0.035749576155775536, 0.17155751012655765, -0.08973447587317929, 0.6232701155816891, -0.34499518674366153, -2.1703151733281087, 0.1797106006356278, -0.9074164273981294, -0.531983574715416, -0.8338018217815336, -0.7465538070712631, 0.3789556341758663, 3.075277236055962, -0.19053133737678485, 0.8643667689060618, 2.4980523172364046, -0.04232670805240006, 1.2480572144201294, 1.541103715916894, -1.7373434081652341, 1.4565399138714257, -0.4710155743441887, 0.6801057596111969, 0.18764949278207416, 0.4735916382674086, -3.356995673638782, -0.3019626812744328, -2.2403559426949933, -1.6319267400086224, 0.8824560086615363, 1.1468628425988923, -0.53925633992263, -0.1995850040866459, 0.005847650698243115, 2.410480925201785, -0.44772196459658326, -1.6552711703176686, -0.23346162577694834, -0.06260196282696313, -0.4749436357111602, -1.587230525836392, 0.46603024198579857, -0.003303137021653763, -0.6821232266716004, 0.8182169465651061, -0.6364533045515591], \"xaxis\": \"x8\", \"y\": [-0.9026182879513235, -0.8429681388249898, 0.9540726979032438, -0.23251275860498477, 0.34349554969697677, -0.6219462410445961, -2.0006622694901433, 1.2051941291240547, -0.13994760501934572, 1.4084984797743516, -1.4406185815567676, 2.203571063939216, -0.7573170225475241, -1.3938894902922006, -1.5080691322024262, -0.14327068342977814, 0.037417546547547115, 1.6462587562862911, -0.09803460519806916, -0.14996665115790409, 0.21163564577514976, 1.0263341563855668, -2.1541928508243413, 0.5266668698269917, -1.55295581817936, -0.1945656521063503, 0.4888954405211421, -1.0860016057795432, 0.6863853333595958, 1.5301495976534594, 0.9766721778910605, 1.336524835836653, -1.2007448477602651, 0.06634015015393542, 1.2366217573413492, -0.8777425551106883, 0.6838574049901874, 1.4325415795887664, -0.9916589198409315, -1.4400899617991463, -1.2559540357374495, 0.6110065450279094, -1.0390703837403927, 0.7226262599610198, -2.676636290627523, -0.7200323899747009, 0.0773058348349942, -1.123920139622418, -1.5943451488747178, 0.09570172620242262, 0.031109758935364544, 0.5486092430934341, -0.9783856846534326, -0.37782591930038695, 2.04289799639152, 2.695461751334061, 0.42866956560443514, 0.06570107039637005, 0.3406308372199238, -0.13963619271339842, 2.08286852359131, -1.2438740075995987, -1.0244756191667646, -1.218721967500244, -0.574858657178294, 2.92238752045327, 0.49989326896154135, -1.228574562429567, 0.96213081663357, -1.7825877071155352, -0.8255838017224469, -0.2647822588269775, 1.3393791985468635, -0.39866530169448894, 0.7530286903232385, 0.702494600097855, -2.9359052065235454, 1.737741342697497, -0.27851189827084305, 2.519831534981045, 0.9039598139975631, -0.11495144416259331, 1.7927453018094415, 1.0292143655851063, 0.9950063877604468, 0.7302318326789189, -1.0215696369523628, 0.3528032997113076, -1.5412449038618279, -0.5806327163073665, 0.5350868251094306, -1.6961570456962733, 0.5796026289085382, -0.30485897618670443, -1.6535985994040143, 1.0991402504723242, 0.5477912575339169, -1.6636610596560424, 0.48997625929201616, -2.015300619743853], \"yaxis\": \"y8\"}, {\"line\": {\"color\": \"rgba(128, 128, 128, 1.0)\", \"dash\": \"solid\", \"shape\": \"linear\", \"width\": 1.3}, \"marker\": {\"size\": 2, \"symbol\": \"circle\"}, \"mode\": \"markers\", \"name\": \"C\", \"text\": \"\", \"type\": \"scatter\", \"x\": [0.3705878037577684, -0.6678339547302442, 1.1380918556405002, -0.675580051894025, 1.7262495731372611, -0.7346738962061609, -0.9562145225408256, 0.025148520483188185, -0.11730817837083653, -0.8875635029726676, 0.7878568424078434, 1.1653202219069316, 1.2937559144192385, -1.0658594627738625, -0.09260441995537765, -0.5159981219517672, -0.8327586860733873, -1.3749779091900383, 0.42018431850196075, 0.14709265072578784, 0.25214049237485664, -0.18919730285638245, -2.718182630893289, -2.4871101190238996, -1.0215669673578682, 0.24635506388134681, -0.10770573439041783, 0.3557554224870404, 0.031566456058262665, 0.1700452202575896, -0.9575259626465774, -0.21532599451762865, 0.5236647751886957, 1.94221152756419, 1.0739362417570109, 0.08712867977911695, -0.37107368322293466, -1.1447478368070039, 2.129917673232524, -0.9693582650304164, -0.1869513636704791, 2.2092637073763917, 1.488229125167454, 2.214050967163112, 0.6384413413698313, -1.9283759167143864, -0.4511610664062786, -0.06721145376013846, -1.8119277914008352, -0.6415871282167186, -0.09212605207912067, -0.11015367934595786, -0.2885730054311169, 0.17257802683078483, -0.34532000564412413, -0.12995888586272972, -0.4377511993519691, -1.876492612806514, -1.718838915583185, 0.0936799439467252, 0.47001537739454224, -2.8410006043336353, 1.704730125268345, 0.20259501783314926, -0.4206312134987387, 0.839068083396662, -0.5043104052179739, 0.4731676005007791, 0.19311114687310646, 0.4716117801712886, 1.8908763742207517, -1.334644125974962, -0.11766425437807593, 1.6565164720427392, -1.5568524437600175, -0.5680816820553658, -0.5344358887477514, 0.1900277548085487, 0.7565155724048774, 1.9865304358054405, -0.3281632782126243, -2.127189864605686, -0.39679487724212614, -0.3050622209272501, -1.2578147927340104, -0.17726760140269482, -1.5401904883006807, -0.5614175852880462, -1.967164616628011, -0.38255077923662584, 1.1503595634830022, 0.2576042608917582, 1.2135540045813504, -0.4161542112158181, 2.1297943647777084, 1.3264977923735735, -0.4404670901208818, 0.48124473164937726, 0.5839900293237509, 1.076803896700854], \"xaxis\": \"x9\", \"y\": [-0.5998922748226837, 1.0401232639605857, -1.3701390540574003, 0.307367401403588, -1.0799042915348378, -0.9813177044008539, 0.4770731548160624, -0.5826732258653297, -0.6035195659833387, -0.0258865493970227, -0.8230608255643124, 1.6943105314625253, -0.9563104649466695, 1.4177953890193729, 1.6273911971295223, -0.2578227224315953, 0.26004100762205856, -1.697537184922374, -0.3812906397479519, 0.1722461009838956, -0.4556650197368004, -2.495653667611221, 1.097080665209218, -0.13077845197865856, 1.1074694634752067, -1.7294470216683682, -0.26705895882833, 0.3251636428314838, 0.5361169732425961, 1.589969134302654, -0.15735546537356165, -0.7995419169077077, 1.8376619277966697, -0.15187825852893375, 0.04374985851141635, -0.23823958694361272, 0.764467916710477, -0.7554188593905685, 0.6921743026950641, 0.03290908332584349, 2.0433745991251198, 0.6102966937575419, -0.17802755313353924, 0.8218065247920904, 0.12142670746890857, 0.09815011007935072, -0.29780293511282513, -0.4526326974716961, -0.12252382350765847, -0.7900818595884559, -1.1008843446675154, -0.07630183113288294, 0.2802494823029372, 1.0161020693800689, -0.071570854643028, -0.5531877476244556, -1.9807446325723932, -0.8091256988385362, -1.7009786854539621, 0.24777396683941133, -0.2699730156670374, 0.7299970552803603, -0.556742101854421, -1.6052585106866015, -0.7802709940324564, 1.0178771189571585, 0.3065709276649882, -1.3304863582651418, -0.2865475537453356, 0.9070300290159293, 0.4843256513077551, 0.17691226867134244, -0.609623055568708, -1.0861291448568933, 0.7194756521047455, 0.6065091377263108, 0.33760317323029176, 0.39774407638368164, -0.7590447844571399, 0.8520210686986877, 0.44533746837968435, 0.4507753644951477, -1.088986892953632, 0.4693496772868247, 1.0556025178684072, -1.4878323098061323, 1.3625106657117196, -1.8917699176948377, 0.4095272296787832, -0.9221182812831743, -1.4542834127024287, -0.18464768530778417, 1.0959242606698392, -0.8935725350190782, 1.4342173284967896, 1.8371179074984076, -0.5299449866725706, 1.2646796592685872, 1.3239105830431595, 0.6861574912304074], \"yaxis\": \"y9\"}, {\"line\": {\"color\": \"rgba(128, 128, 128, 1.0)\", \"dash\": \"solid\", \"shape\": \"linear\", \"width\": 1.3}, \"marker\": {\"size\": 2, \"symbol\": \"circle\"}, \"mode\": \"markers\", \"name\": \"C\", \"text\": \"\", \"type\": \"scatter\", \"x\": [-0.9026182879513235, -0.8429681388249898, 0.9540726979032438, -0.23251275860498477, 0.34349554969697677, -0.6219462410445961, -2.0006622694901433, 1.2051941291240547, -0.13994760501934572, 1.4084984797743516, -1.4406185815567676, 2.203571063939216, -0.7573170225475241, -1.3938894902922006, -1.5080691322024262, -0.14327068342977814, 0.037417546547547115, 1.6462587562862911, -0.09803460519806916, -0.14996665115790409, 0.21163564577514976, 1.0263341563855668, -2.1541928508243413, 0.5266668698269917, -1.55295581817936, -0.1945656521063503, 0.4888954405211421, -1.0860016057795432, 0.6863853333595958, 1.5301495976534594, 0.9766721778910605, 1.336524835836653, -1.2007448477602651, 0.06634015015393542, 1.2366217573413492, -0.8777425551106883, 0.6838574049901874, 1.4325415795887664, -0.9916589198409315, -1.4400899617991463, -1.2559540357374495, 0.6110065450279094, -1.0390703837403927, 0.7226262599610198, -2.676636290627523, -0.7200323899747009, 0.0773058348349942, -1.123920139622418, -1.5943451488747178, 0.09570172620242262, 0.031109758935364544, 0.5486092430934341, -0.9783856846534326, -0.37782591930038695, 2.04289799639152, 2.695461751334061, 0.42866956560443514, 0.06570107039637005, 0.3406308372199238, -0.13963619271339842, 2.08286852359131, -1.2438740075995987, -1.0244756191667646, -1.218721967500244, -0.574858657178294, 2.92238752045327, 0.49989326896154135, -1.228574562429567, 0.96213081663357, -1.7825877071155352, -0.8255838017224469, -0.2647822588269775, 1.3393791985468635, -0.39866530169448894, 0.7530286903232385, 0.702494600097855, -2.9359052065235454, 1.737741342697497, -0.27851189827084305, 2.519831534981045, 0.9039598139975631, -0.11495144416259331, 1.7927453018094415, 1.0292143655851063, 0.9950063877604468, 0.7302318326789189, -1.0215696369523628, 0.3528032997113076, -1.5412449038618279, -0.5806327163073665, 0.5350868251094306, -1.6961570456962733, 0.5796026289085382, -0.30485897618670443, -1.6535985994040143, 1.0991402504723242, 0.5477912575339169, -1.6636610596560424, 0.48997625929201616, -2.015300619743853], \"xaxis\": \"x10\", \"y\": [-0.5998922748226837, 1.0401232639605857, -1.3701390540574003, 0.307367401403588, -1.0799042915348378, -0.9813177044008539, 0.4770731548160624, -0.5826732258653297, -0.6035195659833387, -0.0258865493970227, -0.8230608255643124, 1.6943105314625253, -0.9563104649466695, 1.4177953890193729, 1.6273911971295223, -0.2578227224315953, 0.26004100762205856, -1.697537184922374, -0.3812906397479519, 0.1722461009838956, -0.4556650197368004, -2.495653667611221, 1.097080665209218, -0.13077845197865856, 1.1074694634752067, -1.7294470216683682, -0.26705895882833, 0.3251636428314838, 0.5361169732425961, 1.589969134302654, -0.15735546537356165, -0.7995419169077077, 1.8376619277966697, -0.15187825852893375, 0.04374985851141635, -0.23823958694361272, 0.764467916710477, -0.7554188593905685, 0.6921743026950641, 0.03290908332584349, 2.0433745991251198, 0.6102966937575419, -0.17802755313353924, 0.8218065247920904, 0.12142670746890857, 0.09815011007935072, -0.29780293511282513, -0.4526326974716961, -0.12252382350765847, -0.7900818595884559, -1.1008843446675154, -0.07630183113288294, 0.2802494823029372, 1.0161020693800689, -0.071570854643028, -0.5531877476244556, -1.9807446325723932, -0.8091256988385362, -1.7009786854539621, 0.24777396683941133, -0.2699730156670374, 0.7299970552803603, -0.556742101854421, -1.6052585106866015, -0.7802709940324564, 1.0178771189571585, 0.3065709276649882, -1.3304863582651418, -0.2865475537453356, 0.9070300290159293, 0.4843256513077551, 0.17691226867134244, -0.609623055568708, -1.0861291448568933, 0.7194756521047455, 0.6065091377263108, 0.33760317323029176, 0.39774407638368164, -0.7590447844571399, 0.8520210686986877, 0.44533746837968435, 0.4507753644951477, -1.088986892953632, 0.4693496772868247, 1.0556025178684072, -1.4878323098061323, 1.3625106657117196, -1.8917699176948377, 0.4095272296787832, -0.9221182812831743, -1.4542834127024287, -0.18464768530778417, 1.0959242606698392, -0.8935725350190782, 1.4342173284967896, 1.8371179074984076, -0.5299449866725706, 1.2646796592685872, 1.3239105830431595, 0.6861574912304074], \"yaxis\": \"y10\"}, {\"histfunc\": \"count\", \"histnorm\": \"\", \"marker\": {\"color\": \"rgba(50, 171, 96, 1.0)\", \"line\": {\"color\": \"#4D5663\", \"width\": 1.3}}, \"name\": \"C\", \"nbinsx\": 10, \"opacity\": 0.8, \"orientation\": \"v\", \"type\": \"histogram\", \"x\": [-0.5998922748226837, 1.0401232639605857, -1.3701390540574003, 0.307367401403588, -1.0799042915348378, -0.9813177044008539, 0.4770731548160624, -0.5826732258653297, -0.6035195659833387, -0.0258865493970227, -0.8230608255643124, 1.6943105314625253, -0.9563104649466695, 1.4177953890193729, 1.6273911971295223, -0.2578227224315953, 0.26004100762205856, -1.697537184922374, -0.3812906397479519, 0.1722461009838956, -0.4556650197368004, -2.495653667611221, 1.097080665209218, -0.13077845197865856, 1.1074694634752067, -1.7294470216683682, -0.26705895882833, 0.3251636428314838, 0.5361169732425961, 1.589969134302654, -0.15735546537356165, -0.7995419169077077, 1.8376619277966697, -0.15187825852893375, 0.04374985851141635, -0.23823958694361272, 0.764467916710477, -0.7554188593905685, 0.6921743026950641, 0.03290908332584349, 2.0433745991251198, 0.6102966937575419, -0.17802755313353924, 0.8218065247920904, 0.12142670746890857, 0.09815011007935072, -0.29780293511282513, -0.4526326974716961, -0.12252382350765847, -0.7900818595884559, -1.1008843446675154, -0.07630183113288294, 0.2802494823029372, 1.0161020693800689, -0.071570854643028, -0.5531877476244556, -1.9807446325723932, -0.8091256988385362, -1.7009786854539621, 0.24777396683941133, -0.2699730156670374, 0.7299970552803603, -0.556742101854421, -1.6052585106866015, -0.7802709940324564, 1.0178771189571585, 0.3065709276649882, -1.3304863582651418, -0.2865475537453356, 0.9070300290159293, 0.4843256513077551, 0.17691226867134244, -0.609623055568708, -1.0861291448568933, 0.7194756521047455, 0.6065091377263108, 0.33760317323029176, 0.39774407638368164, -0.7590447844571399, 0.8520210686986877, 0.44533746837968435, 0.4507753644951477, -1.088986892953632, 0.4693496772868247, 1.0556025178684072, -1.4878323098061323, 1.3625106657117196, -1.8917699176948377, 0.4095272296787832, -0.9221182812831743, -1.4542834127024287, -0.18464768530778417, 1.0959242606698392, -0.8935725350190782, 1.4342173284967896, 1.8371179074984076, -0.5299449866725706, 1.2646796592685872, 1.3239105830431595, 0.6861574912304074], \"xaxis\": \"x11\", \"yaxis\": \"y11\"}, {\"line\": {\"color\": \"rgba(128, 128, 128, 1.0)\", \"dash\": \"solid\", \"shape\": \"linear\", \"width\": 1.3}, \"marker\": {\"size\": 2, \"symbol\": \"circle\"}, \"mode\": \"markers\", \"name\": \"C\", \"text\": \"\", \"type\": \"scatter\", \"x\": [-0.3484290193324681, 1.2493318120026027, 0.6195953989316635, -0.10007648659084645, -0.848659613914679, -1.2072222170818043, 0.1331176062784441, -0.01646742972146636, -0.37225133150837864, 0.11229352710673653, 0.6366971125581358, 1.545579307785409, 0.15580916850848148, -0.3314672607660011, 0.7929866166535395, 0.8941052725838416, -0.14329935045522949, 1.3196350077045846, -0.096788026963216, -0.8346083847204316, 1.2032145169230912, -0.38071240368744474, -0.3098611358309325, -1.736361585718667, -2.1199279881649593, -1.5794355446796786, -1.2791643506642554, -1.4992239299870747, -0.03425548013030693, -0.1206142170620143, 0.3451768520894632, 0.6844729058258141, -0.8376759964545056, 1.241591779090792, -1.3881052068053508, 1.1012224452147994, -1.0975287473015383, 0.5041699155349165, 0.7160675347296979, -1.2093109533153736, -0.24711334829147724, -0.5889737991894741, -0.5366652084809301, 0.3310628341514247, 0.06631259446541207, -0.28759721211797773, -1.1155536161178887, -0.11610402773542693, -0.4429351529770189, 1.4270945875382393, 0.6491689023501485, 0.4883187223682674, 0.14973969661131312, 1.3875615203236902, 0.035749576155775536, 0.17155751012655765, -0.08973447587317929, 0.6232701155816891, -0.34499518674366153, -2.1703151733281087, 0.1797106006356278, -0.9074164273981294, -0.531983574715416, -0.8338018217815336, -0.7465538070712631, 0.3789556341758663, 3.075277236055962, -0.19053133737678485, 0.8643667689060618, 2.4980523172364046, -0.04232670805240006, 1.2480572144201294, 1.541103715916894, -1.7373434081652341, 1.4565399138714257, -0.4710155743441887, 0.6801057596111969, 0.18764949278207416, 0.4735916382674086, -3.356995673638782, -0.3019626812744328, -2.2403559426949933, -1.6319267400086224, 0.8824560086615363, 1.1468628425988923, -0.53925633992263, -0.1995850040866459, 0.005847650698243115, 2.410480925201785, -0.44772196459658326, -1.6552711703176686, -0.23346162577694834, -0.06260196282696313, -0.4749436357111602, -1.587230525836392, 0.46603024198579857, -0.003303137021653763, -0.6821232266716004, 0.8182169465651061, -0.6364533045515591], \"xaxis\": \"x12\", \"y\": [-0.5998922748226837, 1.0401232639605857, -1.3701390540574003, 0.307367401403588, -1.0799042915348378, -0.9813177044008539, 0.4770731548160624, -0.5826732258653297, -0.6035195659833387, -0.0258865493970227, -0.8230608255643124, 1.6943105314625253, -0.9563104649466695, 1.4177953890193729, 1.6273911971295223, -0.2578227224315953, 0.26004100762205856, -1.697537184922374, -0.3812906397479519, 0.1722461009838956, -0.4556650197368004, -2.495653667611221, 1.097080665209218, -0.13077845197865856, 1.1074694634752067, -1.7294470216683682, -0.26705895882833, 0.3251636428314838, 0.5361169732425961, 1.589969134302654, -0.15735546537356165, -0.7995419169077077, 1.8376619277966697, -0.15187825852893375, 0.04374985851141635, -0.23823958694361272, 0.764467916710477, -0.7554188593905685, 0.6921743026950641, 0.03290908332584349, 2.0433745991251198, 0.6102966937575419, -0.17802755313353924, 0.8218065247920904, 0.12142670746890857, 0.09815011007935072, -0.29780293511282513, -0.4526326974716961, -0.12252382350765847, -0.7900818595884559, -1.1008843446675154, -0.07630183113288294, 0.2802494823029372, 1.0161020693800689, -0.071570854643028, -0.5531877476244556, -1.9807446325723932, -0.8091256988385362, -1.7009786854539621, 0.24777396683941133, -0.2699730156670374, 0.7299970552803603, -0.556742101854421, -1.6052585106866015, -0.7802709940324564, 1.0178771189571585, 0.3065709276649882, -1.3304863582651418, -0.2865475537453356, 0.9070300290159293, 0.4843256513077551, 0.17691226867134244, -0.609623055568708, -1.0861291448568933, 0.7194756521047455, 0.6065091377263108, 0.33760317323029176, 0.39774407638368164, -0.7590447844571399, 0.8520210686986877, 0.44533746837968435, 0.4507753644951477, -1.088986892953632, 0.4693496772868247, 1.0556025178684072, -1.4878323098061323, 1.3625106657117196, -1.8917699176948377, 0.4095272296787832, -0.9221182812831743, -1.4542834127024287, -0.18464768530778417, 1.0959242606698392, -0.8935725350190782, 1.4342173284967896, 1.8371179074984076, -0.5299449866725706, 1.2646796592685872, 1.3239105830431595, 0.6861574912304074], \"yaxis\": \"y12\"}, {\"line\": {\"color\": \"rgba(128, 128, 128, 1.0)\", \"dash\": \"solid\", \"shape\": \"linear\", \"width\": 1.3}, \"marker\": {\"size\": 2, \"symbol\": \"circle\"}, \"mode\": \"markers\", \"name\": \"D\", \"text\": \"\", \"type\": \"scatter\", \"x\": [0.3705878037577684, -0.6678339547302442, 1.1380918556405002, -0.675580051894025, 1.7262495731372611, -0.7346738962061609, -0.9562145225408256, 0.025148520483188185, -0.11730817837083653, -0.8875635029726676, 0.7878568424078434, 1.1653202219069316, 1.2937559144192385, -1.0658594627738625, -0.09260441995537765, -0.5159981219517672, -0.8327586860733873, -1.3749779091900383, 0.42018431850196075, 0.14709265072578784, 0.25214049237485664, -0.18919730285638245, -2.718182630893289, -2.4871101190238996, -1.0215669673578682, 0.24635506388134681, -0.10770573439041783, 0.3557554224870404, 0.031566456058262665, 0.1700452202575896, -0.9575259626465774, -0.21532599451762865, 0.5236647751886957, 1.94221152756419, 1.0739362417570109, 0.08712867977911695, -0.37107368322293466, -1.1447478368070039, 2.129917673232524, -0.9693582650304164, -0.1869513636704791, 2.2092637073763917, 1.488229125167454, 2.214050967163112, 0.6384413413698313, -1.9283759167143864, -0.4511610664062786, -0.06721145376013846, -1.8119277914008352, -0.6415871282167186, -0.09212605207912067, -0.11015367934595786, -0.2885730054311169, 0.17257802683078483, -0.34532000564412413, -0.12995888586272972, -0.4377511993519691, -1.876492612806514, -1.718838915583185, 0.0936799439467252, 0.47001537739454224, -2.8410006043336353, 1.704730125268345, 0.20259501783314926, -0.4206312134987387, 0.839068083396662, -0.5043104052179739, 0.4731676005007791, 0.19311114687310646, 0.4716117801712886, 1.8908763742207517, -1.334644125974962, -0.11766425437807593, 1.6565164720427392, -1.5568524437600175, -0.5680816820553658, -0.5344358887477514, 0.1900277548085487, 0.7565155724048774, 1.9865304358054405, -0.3281632782126243, -2.127189864605686, -0.39679487724212614, -0.3050622209272501, -1.2578147927340104, -0.17726760140269482, -1.5401904883006807, -0.5614175852880462, -1.967164616628011, -0.38255077923662584, 1.1503595634830022, 0.2576042608917582, 1.2135540045813504, -0.4161542112158181, 2.1297943647777084, 1.3264977923735735, -0.4404670901208818, 0.48124473164937726, 0.5839900293237509, 1.076803896700854], \"xaxis\": \"x13\", \"y\": [-0.3484290193324681, 1.2493318120026027, 0.6195953989316635, -0.10007648659084645, -0.848659613914679, -1.2072222170818043, 0.1331176062784441, -0.01646742972146636, -0.37225133150837864, 0.11229352710673653, 0.6366971125581358, 1.545579307785409, 0.15580916850848148, -0.3314672607660011, 0.7929866166535395, 0.8941052725838416, -0.14329935045522949, 1.3196350077045846, -0.096788026963216, -0.8346083847204316, 1.2032145169230912, -0.38071240368744474, -0.3098611358309325, -1.736361585718667, -2.1199279881649593, -1.5794355446796786, -1.2791643506642554, -1.4992239299870747, -0.03425548013030693, -0.1206142170620143, 0.3451768520894632, 0.6844729058258141, -0.8376759964545056, 1.241591779090792, -1.3881052068053508, 1.1012224452147994, -1.0975287473015383, 0.5041699155349165, 0.7160675347296979, -1.2093109533153736, -0.24711334829147724, -0.5889737991894741, -0.5366652084809301, 0.3310628341514247, 0.06631259446541207, -0.28759721211797773, -1.1155536161178887, -0.11610402773542693, -0.4429351529770189, 1.4270945875382393, 0.6491689023501485, 0.4883187223682674, 0.14973969661131312, 1.3875615203236902, 0.035749576155775536, 0.17155751012655765, -0.08973447587317929, 0.6232701155816891, -0.34499518674366153, -2.1703151733281087, 0.1797106006356278, -0.9074164273981294, -0.531983574715416, -0.8338018217815336, -0.7465538070712631, 0.3789556341758663, 3.075277236055962, -0.19053133737678485, 0.8643667689060618, 2.4980523172364046, -0.04232670805240006, 1.2480572144201294, 1.541103715916894, -1.7373434081652341, 1.4565399138714257, -0.4710155743441887, 0.6801057596111969, 0.18764949278207416, 0.4735916382674086, -3.356995673638782, -0.3019626812744328, -2.2403559426949933, -1.6319267400086224, 0.8824560086615363, 1.1468628425988923, -0.53925633992263, -0.1995850040866459, 0.005847650698243115, 2.410480925201785, -0.44772196459658326, -1.6552711703176686, -0.23346162577694834, -0.06260196282696313, -0.4749436357111602, -1.587230525836392, 0.46603024198579857, -0.003303137021653763, -0.6821232266716004, 0.8182169465651061, -0.6364533045515591], \"yaxis\": \"y13\"}, {\"line\": {\"color\": \"rgba(128, 128, 128, 1.0)\", \"dash\": \"solid\", \"shape\": \"linear\", \"width\": 1.3}, \"marker\": {\"size\": 2, \"symbol\": \"circle\"}, \"mode\": \"markers\", \"name\": \"D\", \"text\": \"\", \"type\": \"scatter\", \"x\": [-0.9026182879513235, -0.8429681388249898, 0.9540726979032438, -0.23251275860498477, 0.34349554969697677, -0.6219462410445961, -2.0006622694901433, 1.2051941291240547, -0.13994760501934572, 1.4084984797743516, -1.4406185815567676, 2.203571063939216, -0.7573170225475241, -1.3938894902922006, -1.5080691322024262, -0.14327068342977814, 0.037417546547547115, 1.6462587562862911, -0.09803460519806916, -0.14996665115790409, 0.21163564577514976, 1.0263341563855668, -2.1541928508243413, 0.5266668698269917, -1.55295581817936, -0.1945656521063503, 0.4888954405211421, -1.0860016057795432, 0.6863853333595958, 1.5301495976534594, 0.9766721778910605, 1.336524835836653, -1.2007448477602651, 0.06634015015393542, 1.2366217573413492, -0.8777425551106883, 0.6838574049901874, 1.4325415795887664, -0.9916589198409315, -1.4400899617991463, -1.2559540357374495, 0.6110065450279094, -1.0390703837403927, 0.7226262599610198, -2.676636290627523, -0.7200323899747009, 0.0773058348349942, -1.123920139622418, -1.5943451488747178, 0.09570172620242262, 0.031109758935364544, 0.5486092430934341, -0.9783856846534326, -0.37782591930038695, 2.04289799639152, 2.695461751334061, 0.42866956560443514, 0.06570107039637005, 0.3406308372199238, -0.13963619271339842, 2.08286852359131, -1.2438740075995987, -1.0244756191667646, -1.218721967500244, -0.574858657178294, 2.92238752045327, 0.49989326896154135, -1.228574562429567, 0.96213081663357, -1.7825877071155352, -0.8255838017224469, -0.2647822588269775, 1.3393791985468635, -0.39866530169448894, 0.7530286903232385, 0.702494600097855, -2.9359052065235454, 1.737741342697497, -0.27851189827084305, 2.519831534981045, 0.9039598139975631, -0.11495144416259331, 1.7927453018094415, 1.0292143655851063, 0.9950063877604468, 0.7302318326789189, -1.0215696369523628, 0.3528032997113076, -1.5412449038618279, -0.5806327163073665, 0.5350868251094306, -1.6961570456962733, 0.5796026289085382, -0.30485897618670443, -1.6535985994040143, 1.0991402504723242, 0.5477912575339169, -1.6636610596560424, 0.48997625929201616, -2.015300619743853], \"xaxis\": \"x14\", \"y\": [-0.3484290193324681, 1.2493318120026027, 0.6195953989316635, -0.10007648659084645, -0.848659613914679, -1.2072222170818043, 0.1331176062784441, -0.01646742972146636, -0.37225133150837864, 0.11229352710673653, 0.6366971125581358, 1.545579307785409, 0.15580916850848148, -0.3314672607660011, 0.7929866166535395, 0.8941052725838416, -0.14329935045522949, 1.3196350077045846, -0.096788026963216, -0.8346083847204316, 1.2032145169230912, -0.38071240368744474, -0.3098611358309325, -1.736361585718667, -2.1199279881649593, -1.5794355446796786, -1.2791643506642554, -1.4992239299870747, -0.03425548013030693, -0.1206142170620143, 0.3451768520894632, 0.6844729058258141, -0.8376759964545056, 1.241591779090792, -1.3881052068053508, 1.1012224452147994, -1.0975287473015383, 0.5041699155349165, 0.7160675347296979, -1.2093109533153736, -0.24711334829147724, -0.5889737991894741, -0.5366652084809301, 0.3310628341514247, 0.06631259446541207, -0.28759721211797773, -1.1155536161178887, -0.11610402773542693, -0.4429351529770189, 1.4270945875382393, 0.6491689023501485, 0.4883187223682674, 0.14973969661131312, 1.3875615203236902, 0.035749576155775536, 0.17155751012655765, -0.08973447587317929, 0.6232701155816891, -0.34499518674366153, -2.1703151733281087, 0.1797106006356278, -0.9074164273981294, -0.531983574715416, -0.8338018217815336, -0.7465538070712631, 0.3789556341758663, 3.075277236055962, -0.19053133737678485, 0.8643667689060618, 2.4980523172364046, -0.04232670805240006, 1.2480572144201294, 1.541103715916894, -1.7373434081652341, 1.4565399138714257, -0.4710155743441887, 0.6801057596111969, 0.18764949278207416, 0.4735916382674086, -3.356995673638782, -0.3019626812744328, -2.2403559426949933, -1.6319267400086224, 0.8824560086615363, 1.1468628425988923, -0.53925633992263, -0.1995850040866459, 0.005847650698243115, 2.410480925201785, -0.44772196459658326, -1.6552711703176686, -0.23346162577694834, -0.06260196282696313, -0.4749436357111602, -1.587230525836392, 0.46603024198579857, -0.003303137021653763, -0.6821232266716004, 0.8182169465651061, -0.6364533045515591], \"yaxis\": \"y14\"}, {\"line\": {\"color\": \"rgba(128, 128, 128, 1.0)\", \"dash\": \"solid\", \"shape\": \"linear\", \"width\": 1.3}, \"marker\": {\"size\": 2, \"symbol\": \"circle\"}, \"mode\": \"markers\", \"name\": \"D\", \"text\": \"\", \"type\": \"scatter\", \"x\": [-0.5998922748226837, 1.0401232639605857, -1.3701390540574003, 0.307367401403588, -1.0799042915348378, -0.9813177044008539, 0.4770731548160624, -0.5826732258653297, -0.6035195659833387, -0.0258865493970227, -0.8230608255643124, 1.6943105314625253, -0.9563104649466695, 1.4177953890193729, 1.6273911971295223, -0.2578227224315953, 0.26004100762205856, -1.697537184922374, -0.3812906397479519, 0.1722461009838956, -0.4556650197368004, -2.495653667611221, 1.097080665209218, -0.13077845197865856, 1.1074694634752067, -1.7294470216683682, -0.26705895882833, 0.3251636428314838, 0.5361169732425961, 1.589969134302654, -0.15735546537356165, -0.7995419169077077, 1.8376619277966697, -0.15187825852893375, 0.04374985851141635, -0.23823958694361272, 0.764467916710477, -0.7554188593905685, 0.6921743026950641, 0.03290908332584349, 2.0433745991251198, 0.6102966937575419, -0.17802755313353924, 0.8218065247920904, 0.12142670746890857, 0.09815011007935072, -0.29780293511282513, -0.4526326974716961, -0.12252382350765847, -0.7900818595884559, -1.1008843446675154, -0.07630183113288294, 0.2802494823029372, 1.0161020693800689, -0.071570854643028, -0.5531877476244556, -1.9807446325723932, -0.8091256988385362, -1.7009786854539621, 0.24777396683941133, -0.2699730156670374, 0.7299970552803603, -0.556742101854421, -1.6052585106866015, -0.7802709940324564, 1.0178771189571585, 0.3065709276649882, -1.3304863582651418, -0.2865475537453356, 0.9070300290159293, 0.4843256513077551, 0.17691226867134244, -0.609623055568708, -1.0861291448568933, 0.7194756521047455, 0.6065091377263108, 0.33760317323029176, 0.39774407638368164, -0.7590447844571399, 0.8520210686986877, 0.44533746837968435, 0.4507753644951477, -1.088986892953632, 0.4693496772868247, 1.0556025178684072, -1.4878323098061323, 1.3625106657117196, -1.8917699176948377, 0.4095272296787832, -0.9221182812831743, -1.4542834127024287, -0.18464768530778417, 1.0959242606698392, -0.8935725350190782, 1.4342173284967896, 1.8371179074984076, -0.5299449866725706, 1.2646796592685872, 1.3239105830431595, 0.6861574912304074], \"xaxis\": \"x15\", \"y\": [-0.3484290193324681, 1.2493318120026027, 0.6195953989316635, -0.10007648659084645, -0.848659613914679, -1.2072222170818043, 0.1331176062784441, -0.01646742972146636, -0.37225133150837864, 0.11229352710673653, 0.6366971125581358, 1.545579307785409, 0.15580916850848148, -0.3314672607660011, 0.7929866166535395, 0.8941052725838416, -0.14329935045522949, 1.3196350077045846, -0.096788026963216, -0.8346083847204316, 1.2032145169230912, -0.38071240368744474, -0.3098611358309325, -1.736361585718667, -2.1199279881649593, -1.5794355446796786, -1.2791643506642554, -1.4992239299870747, -0.03425548013030693, -0.1206142170620143, 0.3451768520894632, 0.6844729058258141, -0.8376759964545056, 1.241591779090792, -1.3881052068053508, 1.1012224452147994, -1.0975287473015383, 0.5041699155349165, 0.7160675347296979, -1.2093109533153736, -0.24711334829147724, -0.5889737991894741, -0.5366652084809301, 0.3310628341514247, 0.06631259446541207, -0.28759721211797773, -1.1155536161178887, -0.11610402773542693, -0.4429351529770189, 1.4270945875382393, 0.6491689023501485, 0.4883187223682674, 0.14973969661131312, 1.3875615203236902, 0.035749576155775536, 0.17155751012655765, -0.08973447587317929, 0.6232701155816891, -0.34499518674366153, -2.1703151733281087, 0.1797106006356278, -0.9074164273981294, -0.531983574715416, -0.8338018217815336, -0.7465538070712631, 0.3789556341758663, 3.075277236055962, -0.19053133737678485, 0.8643667689060618, 2.4980523172364046, -0.04232670805240006, 1.2480572144201294, 1.541103715916894, -1.7373434081652341, 1.4565399138714257, -0.4710155743441887, 0.6801057596111969, 0.18764949278207416, 0.4735916382674086, -3.356995673638782, -0.3019626812744328, -2.2403559426949933, -1.6319267400086224, 0.8824560086615363, 1.1468628425988923, -0.53925633992263, -0.1995850040866459, 0.005847650698243115, 2.410480925201785, -0.44772196459658326, -1.6552711703176686, -0.23346162577694834, -0.06260196282696313, -0.4749436357111602, -1.587230525836392, 0.46603024198579857, -0.003303137021653763, -0.6821232266716004, 0.8182169465651061, -0.6364533045515591], \"yaxis\": \"y15\"}, {\"histfunc\": \"count\", \"histnorm\": \"\", \"marker\": {\"color\": \"rgba(128, 0, 128, 1.0)\", \"line\": {\"color\": \"#4D5663\", \"width\": 1.3}}, \"name\": \"D\", \"nbinsx\": 10, \"opacity\": 0.8, \"orientation\": \"v\", \"type\": \"histogram\", \"x\": [-0.3484290193324681, 1.2493318120026027, 0.6195953989316635, -0.10007648659084645, -0.848659613914679, -1.2072222170818043, 0.1331176062784441, -0.01646742972146636, -0.37225133150837864, 0.11229352710673653, 0.6366971125581358, 1.545579307785409, 0.15580916850848148, -0.3314672607660011, 0.7929866166535395, 0.8941052725838416, -0.14329935045522949, 1.3196350077045846, -0.096788026963216, -0.8346083847204316, 1.2032145169230912, -0.38071240368744474, -0.3098611358309325, -1.736361585718667, -2.1199279881649593, -1.5794355446796786, -1.2791643506642554, -1.4992239299870747, -0.03425548013030693, -0.1206142170620143, 0.3451768520894632, 0.6844729058258141, -0.8376759964545056, 1.241591779090792, -1.3881052068053508, 1.1012224452147994, -1.0975287473015383, 0.5041699155349165, 0.7160675347296979, -1.2093109533153736, -0.24711334829147724, -0.5889737991894741, -0.5366652084809301, 0.3310628341514247, 0.06631259446541207, -0.28759721211797773, -1.1155536161178887, -0.11610402773542693, -0.4429351529770189, 1.4270945875382393, 0.6491689023501485, 0.4883187223682674, 0.14973969661131312, 1.3875615203236902, 0.035749576155775536, 0.17155751012655765, -0.08973447587317929, 0.6232701155816891, -0.34499518674366153, -2.1703151733281087, 0.1797106006356278, -0.9074164273981294, -0.531983574715416, -0.8338018217815336, -0.7465538070712631, 0.3789556341758663, 3.075277236055962, -0.19053133737678485, 0.8643667689060618, 2.4980523172364046, -0.04232670805240006, 1.2480572144201294, 1.541103715916894, -1.7373434081652341, 1.4565399138714257, -0.4710155743441887, 0.6801057596111969, 0.18764949278207416, 0.4735916382674086, -3.356995673638782, -0.3019626812744328, -2.2403559426949933, -1.6319267400086224, 0.8824560086615363, 1.1468628425988923, -0.53925633992263, -0.1995850040866459, 0.005847650698243115, 2.410480925201785, -0.44772196459658326, -1.6552711703176686, -0.23346162577694834, -0.06260196282696313, -0.4749436357111602, -1.587230525836392, 0.46603024198579857, -0.003303137021653763, -0.6821232266716004, 0.8182169465651061, -0.6364533045515591], \"xaxis\": \"x16\", \"yaxis\": \"y16\"}],\n",
       "                        {\"bargap\": 0.02, \"legend\": {\"bgcolor\": \"#F5F6F9\", \"font\": {\"color\": \"#4D5663\"}}, \"paper_bgcolor\": \"#F5F6F9\", \"plot_bgcolor\": \"#F5F6F9\", \"showlegend\": false, \"template\": {\"data\": {\"bar\": [{\"error_x\": {\"color\": \"#2a3f5f\"}, \"error_y\": {\"color\": \"#2a3f5f\"}, \"marker\": {\"line\": {\"color\": \"#E5ECF6\", \"width\": 0.5}}, \"type\": \"bar\"}], \"barpolar\": [{\"marker\": {\"line\": {\"color\": \"#E5ECF6\", \"width\": 0.5}}, \"type\": \"barpolar\"}], \"carpet\": [{\"aaxis\": {\"endlinecolor\": \"#2a3f5f\", \"gridcolor\": \"white\", \"linecolor\": \"white\", \"minorgridcolor\": \"white\", \"startlinecolor\": \"#2a3f5f\"}, \"baxis\": {\"endlinecolor\": \"#2a3f5f\", \"gridcolor\": \"white\", \"linecolor\": \"white\", \"minorgridcolor\": \"white\", \"startlinecolor\": \"#2a3f5f\"}, \"type\": \"carpet\"}], \"choropleth\": [{\"colorbar\": {\"outlinewidth\": 0, \"ticks\": \"\"}, \"type\": \"choropleth\"}], \"contour\": [{\"colorbar\": {\"outlinewidth\": 0, \"ticks\": \"\"}, \"colorscale\": [[0.0, \"#0d0887\"], [0.1111111111111111, \"#46039f\"], [0.2222222222222222, \"#7201a8\"], [0.3333333333333333, \"#9c179e\"], [0.4444444444444444, \"#bd3786\"], [0.5555555555555556, \"#d8576b\"], [0.6666666666666666, \"#ed7953\"], [0.7777777777777778, \"#fb9f3a\"], [0.8888888888888888, \"#fdca26\"], [1.0, \"#f0f921\"]], \"type\": \"contour\"}], \"contourcarpet\": [{\"colorbar\": {\"outlinewidth\": 0, \"ticks\": \"\"}, \"type\": \"contourcarpet\"}], \"heatmap\": [{\"colorbar\": {\"outlinewidth\": 0, \"ticks\": \"\"}, \"colorscale\": [[0.0, \"#0d0887\"], [0.1111111111111111, \"#46039f\"], [0.2222222222222222, \"#7201a8\"], [0.3333333333333333, \"#9c179e\"], [0.4444444444444444, \"#bd3786\"], [0.5555555555555556, \"#d8576b\"], [0.6666666666666666, \"#ed7953\"], [0.7777777777777778, \"#fb9f3a\"], [0.8888888888888888, \"#fdca26\"], [1.0, \"#f0f921\"]], \"type\": \"heatmap\"}], \"heatmapgl\": [{\"colorbar\": {\"outlinewidth\": 0, \"ticks\": \"\"}, \"colorscale\": [[0.0, \"#0d0887\"], [0.1111111111111111, \"#46039f\"], [0.2222222222222222, \"#7201a8\"], [0.3333333333333333, \"#9c179e\"], [0.4444444444444444, \"#bd3786\"], [0.5555555555555556, \"#d8576b\"], [0.6666666666666666, \"#ed7953\"], [0.7777777777777778, \"#fb9f3a\"], [0.8888888888888888, \"#fdca26\"], [1.0, \"#f0f921\"]], \"type\": \"heatmapgl\"}], \"histogram\": [{\"marker\": {\"colorbar\": {\"outlinewidth\": 0, \"ticks\": \"\"}}, \"type\": \"histogram\"}], \"histogram2d\": [{\"colorbar\": {\"outlinewidth\": 0, \"ticks\": \"\"}, \"colorscale\": [[0.0, \"#0d0887\"], [0.1111111111111111, \"#46039f\"], [0.2222222222222222, \"#7201a8\"], [0.3333333333333333, \"#9c179e\"], [0.4444444444444444, \"#bd3786\"], [0.5555555555555556, \"#d8576b\"], [0.6666666666666666, \"#ed7953\"], [0.7777777777777778, \"#fb9f3a\"], [0.8888888888888888, \"#fdca26\"], [1.0, \"#f0f921\"]], \"type\": \"histogram2d\"}], \"histogram2dcontour\": [{\"colorbar\": {\"outlinewidth\": 0, \"ticks\": \"\"}, \"colorscale\": [[0.0, \"#0d0887\"], [0.1111111111111111, \"#46039f\"], [0.2222222222222222, \"#7201a8\"], [0.3333333333333333, \"#9c179e\"], [0.4444444444444444, \"#bd3786\"], [0.5555555555555556, \"#d8576b\"], [0.6666666666666666, \"#ed7953\"], [0.7777777777777778, \"#fb9f3a\"], [0.8888888888888888, \"#fdca26\"], [1.0, \"#f0f921\"]], \"type\": \"histogram2dcontour\"}], \"mesh3d\": [{\"colorbar\": {\"outlinewidth\": 0, \"ticks\": \"\"}, \"type\": \"mesh3d\"}], \"parcoords\": [{\"line\": {\"colorbar\": {\"outlinewidth\": 0, \"ticks\": \"\"}}, \"type\": \"parcoords\"}], \"pie\": [{\"automargin\": true, \"type\": \"pie\"}], \"scatter\": [{\"marker\": {\"colorbar\": {\"outlinewidth\": 0, \"ticks\": \"\"}}, \"type\": \"scatter\"}], \"scatter3d\": [{\"line\": {\"colorbar\": {\"outlinewidth\": 0, \"ticks\": \"\"}}, \"marker\": {\"colorbar\": {\"outlinewidth\": 0, \"ticks\": \"\"}}, \"type\": \"scatter3d\"}], \"scattercarpet\": [{\"marker\": {\"colorbar\": {\"outlinewidth\": 0, \"ticks\": \"\"}}, \"type\": \"scattercarpet\"}], \"scattergeo\": [{\"marker\": {\"colorbar\": {\"outlinewidth\": 0, \"ticks\": \"\"}}, \"type\": \"scattergeo\"}], \"scattergl\": [{\"marker\": {\"colorbar\": {\"outlinewidth\": 0, \"ticks\": \"\"}}, \"type\": \"scattergl\"}], \"scattermapbox\": [{\"marker\": {\"colorbar\": {\"outlinewidth\": 0, \"ticks\": \"\"}}, \"type\": \"scattermapbox\"}], \"scatterpolar\": [{\"marker\": {\"colorbar\": {\"outlinewidth\": 0, \"ticks\": \"\"}}, \"type\": \"scatterpolar\"}], \"scatterpolargl\": [{\"marker\": {\"colorbar\": {\"outlinewidth\": 0, \"ticks\": \"\"}}, \"type\": \"scatterpolargl\"}], \"scatterternary\": [{\"marker\": {\"colorbar\": {\"outlinewidth\": 0, \"ticks\": \"\"}}, \"type\": \"scatterternary\"}], \"surface\": [{\"colorbar\": {\"outlinewidth\": 0, \"ticks\": \"\"}, \"colorscale\": [[0.0, \"#0d0887\"], [0.1111111111111111, \"#46039f\"], [0.2222222222222222, \"#7201a8\"], [0.3333333333333333, \"#9c179e\"], [0.4444444444444444, \"#bd3786\"], [0.5555555555555556, \"#d8576b\"], [0.6666666666666666, \"#ed7953\"], [0.7777777777777778, \"#fb9f3a\"], [0.8888888888888888, \"#fdca26\"], [1.0, \"#f0f921\"]], \"type\": \"surface\"}], \"table\": [{\"cells\": {\"fill\": {\"color\": \"#EBF0F8\"}, \"line\": {\"color\": \"white\"}}, \"header\": {\"fill\": {\"color\": \"#C8D4E3\"}, \"line\": {\"color\": \"white\"}}, \"type\": \"table\"}]}, \"layout\": {\"annotationdefaults\": {\"arrowcolor\": \"#2a3f5f\", \"arrowhead\": 0, \"arrowwidth\": 1}, \"coloraxis\": {\"colorbar\": {\"outlinewidth\": 0, \"ticks\": \"\"}}, \"colorscale\": {\"diverging\": [[0, \"#8e0152\"], [0.1, \"#c51b7d\"], [0.2, \"#de77ae\"], [0.3, \"#f1b6da\"], [0.4, \"#fde0ef\"], [0.5, \"#f7f7f7\"], [0.6, \"#e6f5d0\"], [0.7, \"#b8e186\"], [0.8, \"#7fbc41\"], [0.9, \"#4d9221\"], [1, \"#276419\"]], \"sequential\": [[0.0, \"#0d0887\"], [0.1111111111111111, \"#46039f\"], [0.2222222222222222, \"#7201a8\"], [0.3333333333333333, \"#9c179e\"], [0.4444444444444444, \"#bd3786\"], [0.5555555555555556, \"#d8576b\"], [0.6666666666666666, \"#ed7953\"], [0.7777777777777778, \"#fb9f3a\"], [0.8888888888888888, \"#fdca26\"], [1.0, \"#f0f921\"]], \"sequentialminus\": [[0.0, \"#0d0887\"], [0.1111111111111111, \"#46039f\"], [0.2222222222222222, \"#7201a8\"], [0.3333333333333333, \"#9c179e\"], [0.4444444444444444, \"#bd3786\"], [0.5555555555555556, \"#d8576b\"], [0.6666666666666666, \"#ed7953\"], [0.7777777777777778, \"#fb9f3a\"], [0.8888888888888888, \"#fdca26\"], [1.0, \"#f0f921\"]]}, \"colorway\": [\"#636efa\", \"#EF553B\", \"#00cc96\", \"#ab63fa\", \"#FFA15A\", \"#19d3f3\", \"#FF6692\", \"#B6E880\", \"#FF97FF\", \"#FECB52\"], \"font\": {\"color\": \"#2a3f5f\"}, \"geo\": {\"bgcolor\": \"white\", \"lakecolor\": \"white\", \"landcolor\": \"#E5ECF6\", \"showlakes\": true, \"showland\": true, \"subunitcolor\": \"white\"}, \"hoverlabel\": {\"align\": \"left\"}, \"hovermode\": \"closest\", \"mapbox\": {\"style\": \"light\"}, \"paper_bgcolor\": \"white\", \"plot_bgcolor\": \"#E5ECF6\", \"polar\": {\"angularaxis\": {\"gridcolor\": \"white\", \"linecolor\": \"white\", \"ticks\": \"\"}, \"bgcolor\": \"#E5ECF6\", \"radialaxis\": {\"gridcolor\": \"white\", \"linecolor\": \"white\", \"ticks\": \"\"}}, \"scene\": {\"xaxis\": {\"backgroundcolor\": \"#E5ECF6\", \"gridcolor\": \"white\", \"gridwidth\": 2, \"linecolor\": \"white\", \"showbackground\": true, \"ticks\": \"\", \"zerolinecolor\": \"white\"}, \"yaxis\": {\"backgroundcolor\": \"#E5ECF6\", \"gridcolor\": \"white\", \"gridwidth\": 2, \"linecolor\": \"white\", \"showbackground\": true, \"ticks\": \"\", \"zerolinecolor\": \"white\"}, \"zaxis\": {\"backgroundcolor\": \"#E5ECF6\", \"gridcolor\": \"white\", \"gridwidth\": 2, \"linecolor\": \"white\", \"showbackground\": true, \"ticks\": \"\", \"zerolinecolor\": \"white\"}}, \"shapedefaults\": {\"line\": {\"color\": \"#2a3f5f\"}}, \"ternary\": {\"aaxis\": {\"gridcolor\": \"white\", \"linecolor\": \"white\", \"ticks\": \"\"}, \"baxis\": {\"gridcolor\": \"white\", \"linecolor\": \"white\", \"ticks\": \"\"}, \"bgcolor\": \"#E5ECF6\", \"caxis\": {\"gridcolor\": \"white\", \"linecolor\": \"white\", \"ticks\": \"\"}}, \"title\": {\"x\": 0.05}, \"xaxis\": {\"automargin\": true, \"gridcolor\": \"white\", \"linecolor\": \"white\", \"ticks\": \"\", \"title\": {\"standoff\": 15}, \"zerolinecolor\": \"white\", \"zerolinewidth\": 2}, \"yaxis\": {\"automargin\": true, \"gridcolor\": \"white\", \"linecolor\": \"white\", \"ticks\": \"\", \"title\": {\"standoff\": 15}, \"zerolinecolor\": \"white\", \"zerolinewidth\": 2}}}, \"title\": {\"font\": {\"color\": \"#4D5663\"}}, \"xaxis\": {\"anchor\": \"y\", \"domain\": [0.0, 0.2125], \"gridcolor\": \"#E1E5ED\", \"showgrid\": false, \"tickfont\": {\"color\": \"#4D5663\"}, \"title\": {\"font\": {\"color\": \"#4D5663\"}, \"text\": \"\"}, \"zerolinecolor\": \"#E1E5ED\"}, \"xaxis10\": {\"anchor\": \"y10\", \"domain\": [0.2625, 0.475], \"gridcolor\": \"#E1E5ED\", \"showgrid\": false, \"tickfont\": {\"color\": \"#4D5663\"}, \"title\": {\"font\": {\"color\": \"#4D5663\"}, \"text\": \"\"}, \"zerolinecolor\": \"#E1E5ED\"}, \"xaxis11\": {\"anchor\": \"y11\", \"domain\": [0.525, 0.7375], \"gridcolor\": \"#E1E5ED\", \"showgrid\": false, \"tickfont\": {\"color\": \"#4D5663\"}, \"title\": {\"font\": {\"color\": \"#4D5663\"}, \"text\": \"\"}, \"zerolinecolor\": \"#E1E5ED\"}, \"xaxis12\": {\"anchor\": \"y12\", \"domain\": [0.7875, 1.0], \"gridcolor\": \"#E1E5ED\", \"showgrid\": false, \"tickfont\": {\"color\": \"#4D5663\"}, \"title\": {\"font\": {\"color\": \"#4D5663\"}, \"text\": \"\"}, \"zerolinecolor\": \"#E1E5ED\"}, \"xaxis13\": {\"anchor\": \"y13\", \"domain\": [0.0, 0.2125], \"gridcolor\": \"#E1E5ED\", \"showgrid\": false, \"tickfont\": {\"color\": \"#4D5663\"}, \"title\": {\"font\": {\"color\": \"#4D5663\"}, \"text\": \"\"}, \"zerolinecolor\": \"#E1E5ED\"}, \"xaxis14\": {\"anchor\": \"y14\", \"domain\": [0.2625, 0.475], \"gridcolor\": \"#E1E5ED\", \"showgrid\": false, \"tickfont\": {\"color\": \"#4D5663\"}, \"title\": {\"font\": {\"color\": \"#4D5663\"}, \"text\": \"\"}, \"zerolinecolor\": \"#E1E5ED\"}, \"xaxis15\": {\"anchor\": \"y15\", \"domain\": [0.525, 0.7375], \"gridcolor\": \"#E1E5ED\", \"showgrid\": false, \"tickfont\": {\"color\": \"#4D5663\"}, \"title\": {\"font\": {\"color\": \"#4D5663\"}, \"text\": \"\"}, \"zerolinecolor\": \"#E1E5ED\"}, \"xaxis16\": {\"anchor\": \"y16\", \"domain\": [0.7875, 1.0], \"gridcolor\": \"#E1E5ED\", \"showgrid\": false, \"tickfont\": {\"color\": \"#4D5663\"}, \"title\": {\"font\": {\"color\": \"#4D5663\"}, \"text\": \"\"}, \"zerolinecolor\": \"#E1E5ED\"}, \"xaxis2\": {\"anchor\": \"y2\", \"domain\": [0.2625, 0.475], \"gridcolor\": \"#E1E5ED\", \"showgrid\": false, \"tickfont\": {\"color\": \"#4D5663\"}, \"title\": {\"font\": {\"color\": \"#4D5663\"}, \"text\": \"\"}, \"zerolinecolor\": \"#E1E5ED\"}, \"xaxis3\": {\"anchor\": \"y3\", \"domain\": [0.525, 0.7375], \"gridcolor\": \"#E1E5ED\", \"showgrid\": false, \"tickfont\": {\"color\": \"#4D5663\"}, \"title\": {\"font\": {\"color\": \"#4D5663\"}, \"text\": \"\"}, \"zerolinecolor\": \"#E1E5ED\"}, \"xaxis4\": {\"anchor\": \"y4\", \"domain\": [0.7875, 1.0], \"gridcolor\": \"#E1E5ED\", \"showgrid\": false, \"tickfont\": {\"color\": \"#4D5663\"}, \"title\": {\"font\": {\"color\": \"#4D5663\"}, \"text\": \"\"}, \"zerolinecolor\": \"#E1E5ED\"}, \"xaxis5\": {\"anchor\": \"y5\", \"domain\": [0.0, 0.2125], \"gridcolor\": \"#E1E5ED\", \"showgrid\": false, \"tickfont\": {\"color\": \"#4D5663\"}, \"title\": {\"font\": {\"color\": \"#4D5663\"}, \"text\": \"\"}, \"zerolinecolor\": \"#E1E5ED\"}, \"xaxis6\": {\"anchor\": \"y6\", \"domain\": [0.2625, 0.475], \"gridcolor\": \"#E1E5ED\", \"showgrid\": false, \"tickfont\": {\"color\": \"#4D5663\"}, \"title\": {\"font\": {\"color\": \"#4D5663\"}, \"text\": \"\"}, \"zerolinecolor\": \"#E1E5ED\"}, \"xaxis7\": {\"anchor\": \"y7\", \"domain\": [0.525, 0.7375], \"gridcolor\": \"#E1E5ED\", \"showgrid\": false, \"tickfont\": {\"color\": \"#4D5663\"}, \"title\": {\"font\": {\"color\": \"#4D5663\"}, \"text\": \"\"}, \"zerolinecolor\": \"#E1E5ED\"}, \"xaxis8\": {\"anchor\": \"y8\", \"domain\": [0.7875, 1.0], \"gridcolor\": \"#E1E5ED\", \"showgrid\": false, \"tickfont\": {\"color\": \"#4D5663\"}, \"title\": {\"font\": {\"color\": \"#4D5663\"}, \"text\": \"\"}, \"zerolinecolor\": \"#E1E5ED\"}, \"xaxis9\": {\"anchor\": \"y9\", \"domain\": [0.0, 0.2125], \"gridcolor\": \"#E1E5ED\", \"showgrid\": false, \"tickfont\": {\"color\": \"#4D5663\"}, \"title\": {\"font\": {\"color\": \"#4D5663\"}, \"text\": \"\"}, \"zerolinecolor\": \"#E1E5ED\"}, \"yaxis\": {\"anchor\": \"x\", \"domain\": [0.8025, 1.0], \"gridcolor\": \"#E1E5ED\", \"showgrid\": false, \"tickfont\": {\"color\": \"#4D5663\"}, \"title\": {\"font\": {\"color\": \"#4D5663\"}, \"text\": \"\"}, \"zerolinecolor\": \"#E1E5ED\"}, \"yaxis10\": {\"anchor\": \"x10\", \"domain\": [0.2675, 0.465], \"gridcolor\": \"#E1E5ED\", \"showgrid\": false, \"tickfont\": {\"color\": \"#4D5663\"}, \"title\": {\"font\": {\"color\": \"#4D5663\"}, \"text\": \"\"}, \"zerolinecolor\": \"#E1E5ED\"}, \"yaxis11\": {\"anchor\": \"x11\", \"domain\": [0.2675, 0.465], \"gridcolor\": \"#E1E5ED\", \"showgrid\": false, \"tickfont\": {\"color\": \"#4D5663\"}, \"title\": {\"font\": {\"color\": \"#4D5663\"}, \"text\": \"\"}, \"zerolinecolor\": \"#E1E5ED\"}, \"yaxis12\": {\"anchor\": \"x12\", \"domain\": [0.2675, 0.465], \"gridcolor\": \"#E1E5ED\", \"showgrid\": false, \"tickfont\": {\"color\": \"#4D5663\"}, \"title\": {\"font\": {\"color\": \"#4D5663\"}, \"text\": \"\"}, \"zerolinecolor\": \"#E1E5ED\"}, \"yaxis13\": {\"anchor\": \"x13\", \"domain\": [0.0, 0.1975], \"gridcolor\": \"#E1E5ED\", \"showgrid\": false, \"tickfont\": {\"color\": \"#4D5663\"}, \"title\": {\"font\": {\"color\": \"#4D5663\"}, \"text\": \"\"}, \"zerolinecolor\": \"#E1E5ED\"}, \"yaxis14\": {\"anchor\": \"x14\", \"domain\": [0.0, 0.1975], \"gridcolor\": \"#E1E5ED\", \"showgrid\": false, \"tickfont\": {\"color\": \"#4D5663\"}, \"title\": {\"font\": {\"color\": \"#4D5663\"}, \"text\": \"\"}, \"zerolinecolor\": \"#E1E5ED\"}, \"yaxis15\": {\"anchor\": \"x15\", \"domain\": [0.0, 0.1975], \"gridcolor\": \"#E1E5ED\", \"showgrid\": false, \"tickfont\": {\"color\": \"#4D5663\"}, \"title\": {\"font\": {\"color\": \"#4D5663\"}, \"text\": \"\"}, \"zerolinecolor\": \"#E1E5ED\"}, \"yaxis16\": {\"anchor\": \"x16\", \"domain\": [0.0, 0.1975], \"gridcolor\": \"#E1E5ED\", \"showgrid\": false, \"tickfont\": {\"color\": \"#4D5663\"}, \"title\": {\"font\": {\"color\": \"#4D5663\"}, \"text\": \"\"}, \"zerolinecolor\": \"#E1E5ED\"}, \"yaxis2\": {\"anchor\": \"x2\", \"domain\": [0.8025, 1.0], \"gridcolor\": \"#E1E5ED\", \"showgrid\": false, \"tickfont\": {\"color\": \"#4D5663\"}, \"title\": {\"font\": {\"color\": \"#4D5663\"}, \"text\": \"\"}, \"zerolinecolor\": \"#E1E5ED\"}, \"yaxis3\": {\"anchor\": \"x3\", \"domain\": [0.8025, 1.0], \"gridcolor\": \"#E1E5ED\", \"showgrid\": false, \"tickfont\": {\"color\": \"#4D5663\"}, \"title\": {\"font\": {\"color\": \"#4D5663\"}, \"text\": \"\"}, \"zerolinecolor\": \"#E1E5ED\"}, \"yaxis4\": {\"anchor\": \"x4\", \"domain\": [0.8025, 1.0], \"gridcolor\": \"#E1E5ED\", \"showgrid\": false, \"tickfont\": {\"color\": \"#4D5663\"}, \"title\": {\"font\": {\"color\": \"#4D5663\"}, \"text\": \"\"}, \"zerolinecolor\": \"#E1E5ED\"}, \"yaxis5\": {\"anchor\": \"x5\", \"domain\": [0.535, 0.7325], \"gridcolor\": \"#E1E5ED\", \"showgrid\": false, \"tickfont\": {\"color\": \"#4D5663\"}, \"title\": {\"font\": {\"color\": \"#4D5663\"}, \"text\": \"\"}, \"zerolinecolor\": \"#E1E5ED\"}, \"yaxis6\": {\"anchor\": \"x6\", \"domain\": [0.535, 0.7325], \"gridcolor\": \"#E1E5ED\", \"showgrid\": false, \"tickfont\": {\"color\": \"#4D5663\"}, \"title\": {\"font\": {\"color\": \"#4D5663\"}, \"text\": \"\"}, \"zerolinecolor\": \"#E1E5ED\"}, \"yaxis7\": {\"anchor\": \"x7\", \"domain\": [0.535, 0.7325], \"gridcolor\": \"#E1E5ED\", \"showgrid\": false, \"tickfont\": {\"color\": \"#4D5663\"}, \"title\": {\"font\": {\"color\": \"#4D5663\"}, \"text\": \"\"}, \"zerolinecolor\": \"#E1E5ED\"}, \"yaxis8\": {\"anchor\": \"x8\", \"domain\": [0.535, 0.7325], \"gridcolor\": \"#E1E5ED\", \"showgrid\": false, \"tickfont\": {\"color\": \"#4D5663\"}, \"title\": {\"font\": {\"color\": \"#4D5663\"}, \"text\": \"\"}, \"zerolinecolor\": \"#E1E5ED\"}, \"yaxis9\": {\"anchor\": \"x9\", \"domain\": [0.2675, 0.465], \"gridcolor\": \"#E1E5ED\", \"showgrid\": false, \"tickfont\": {\"color\": \"#4D5663\"}, \"title\": {\"font\": {\"color\": \"#4D5663\"}, \"text\": \"\"}, \"zerolinecolor\": \"#E1E5ED\"}},\n",
       "                        {\"showLink\": true, \"linkText\": \"Export to plot.ly\", \"plotlyServerURL\": \"https://plot.ly\", \"responsive\": true}\n",
       "                    ).then(function(){\n",
       "                            \n",
       "var gd = document.getElementById('0b25c95b-64a1-49cc-b118-b947fc82cf27');\n",
       "var x = new MutationObserver(function (mutations, observer) {{\n",
       "        var display = window.getComputedStyle(gd).display;\n",
       "        if (!display || display === 'none') {{\n",
       "            console.log([gd, 'removed!']);\n",
       "            Plotly.purge(gd);\n",
       "            observer.disconnect();\n",
       "        }}\n",
       "}});\n",
       "\n",
       "// Listen for the removal of the full notebook cells\n",
       "var notebookContainer = gd.closest('#notebook-container');\n",
       "if (notebookContainer) {{\n",
       "    x.observe(notebookContainer, {childList: true});\n",
       "}}\n",
       "\n",
       "// Listen for the clearing of the current output cell\n",
       "var outputEl = gd.closest('.output');\n",
       "if (outputEl) {{\n",
       "    x.observe(outputEl, {childList: true});\n",
       "}}\n",
       "\n",
       "                        })\n",
       "                };\n",
       "                });\n",
       "            </script>\n",
       "        </div>"
      ]
     },
     "metadata": {},
     "output_type": "display_data"
    }
   ],
   "source": [
    "df.scatter_matrix()"
   ]
  },
  {
   "cell_type": "markdown",
   "metadata": {
    "collapsed": true
   },
   "source": [
    "# Great Job!"
   ]
  }
 ],
 "metadata": {
  "kernelspec": {
   "display_name": "Python 3",
   "language": "python",
   "name": "python3"
  },
  "language_info": {
   "codemirror_mode": {
    "name": "ipython",
    "version": 3
   },
   "file_extension": ".py",
   "mimetype": "text/x-python",
   "name": "python",
   "nbconvert_exporter": "python",
   "pygments_lexer": "ipython3",
   "version": "3.8.3"
  }
 },
 "nbformat": 4,
 "nbformat_minor": 1
}
