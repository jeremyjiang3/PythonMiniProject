{
 "cells": [
  {
   "cell_type": "markdown",
   "metadata": {},
   "source": [
    "<a href=\"https://www.pieriandata.com\"><img src=\"../Pierian_Data_Logo.PNG\"></a>\n",
    "<strong><center>Copyright by Pierian Data Inc.</center></strong> \n",
    "<strong><center>Created by Jose Marcial Portilla.</center></strong>"
   ]
  },
  {
   "cell_type": "markdown",
   "metadata": {},
   "source": [
    "# Tensorboard\n",
    "\n",
    "---\n",
    "---\n",
    "\n",
    "**NOTE: You must watch the corresponding video to understand this lecture. This notebook can't serve as a full guide. Please watch the video BEFORE posting questions to the QA forum.**\n",
    "\n",
    "---\n",
    "---\n",
    "\n",
    "Let's explore the built in data visualization capabilities that come with Tensorboard.\n",
    "\n",
    "Full official tutorial available here: https://www.tensorflow.org/tensorboard/get_started\n",
    "\n",
    "## Data"
   ]
  },
  {
   "cell_type": "code",
   "execution_count": 22,
   "metadata": {},
   "outputs": [],
   "source": [
    "import pandas as pd\n",
    "import numpy as np"
   ]
  },
  {
   "cell_type": "code",
   "execution_count": 23,
   "metadata": {},
   "outputs": [],
   "source": [
    "df = pd.read_csv('../DATA/cancer_classification.csv')"
   ]
  },
  {
   "cell_type": "markdown",
   "metadata": {},
   "source": [
    "### Train Test Split"
   ]
  },
  {
   "cell_type": "code",
   "execution_count": 24,
   "metadata": {},
   "outputs": [],
   "source": [
    "X = df.drop('benign_0__mal_1',axis=1).values\n",
    "y = df['benign_0__mal_1'].values"
   ]
  },
  {
   "cell_type": "code",
   "execution_count": 25,
   "metadata": {},
   "outputs": [],
   "source": [
    "from sklearn.model_selection import train_test_split"
   ]
  },
  {
   "cell_type": "code",
   "execution_count": 26,
   "metadata": {},
   "outputs": [],
   "source": [
    "X_train, X_test, y_train, y_test = train_test_split(X,y,test_size=0.25,random_state=101)"
   ]
  },
  {
   "cell_type": "markdown",
   "metadata": {},
   "source": [
    "\n",
    "### Scaling Data"
   ]
  },
  {
   "cell_type": "code",
   "execution_count": 27,
   "metadata": {},
   "outputs": [],
   "source": [
    "from sklearn.preprocessing import MinMaxScaler"
   ]
  },
  {
   "cell_type": "code",
   "execution_count": 28,
   "metadata": {},
   "outputs": [],
   "source": [
    "scaler = MinMaxScaler()"
   ]
  },
  {
   "cell_type": "code",
   "execution_count": 29,
   "metadata": {},
   "outputs": [
    {
     "data": {
      "text/plain": [
       "MinMaxScaler()"
      ]
     },
     "execution_count": 29,
     "metadata": {},
     "output_type": "execute_result"
    }
   ],
   "source": [
    "scaler.fit(X_train)"
   ]
  },
  {
   "cell_type": "code",
   "execution_count": 30,
   "metadata": {},
   "outputs": [],
   "source": [
    "X_train = scaler.transform(X_train)\n",
    "X_test = scaler.transform(X_test)"
   ]
  },
  {
   "cell_type": "markdown",
   "metadata": {},
   "source": [
    "## Creating the Model"
   ]
  },
  {
   "cell_type": "code",
   "execution_count": 31,
   "metadata": {},
   "outputs": [],
   "source": [
    "import tensorflow as tf\n",
    "from tensorflow.keras.models import Sequential\n",
    "from tensorflow.keras.layers import Dense, Activation,Dropout"
   ]
  },
  {
   "cell_type": "code",
   "execution_count": 32,
   "metadata": {},
   "outputs": [],
   "source": [
    "from tensorflow.keras.callbacks import EarlyStopping,TensorBoard"
   ]
  },
  {
   "cell_type": "code",
   "execution_count": 33,
   "metadata": {},
   "outputs": [],
   "source": [
    "early_stop = EarlyStopping(monitor='val_loss', mode='min', verbose=1, patience=25)"
   ]
  },
  {
   "cell_type": "code",
   "execution_count": 34,
   "metadata": {},
   "outputs": [
    {
     "data": {
      "text/plain": [
       "'/Users/JS 1/Documents/PythonMLBootcamp/TensorFlow_FILES/ANNs'"
      ]
     },
     "execution_count": 34,
     "metadata": {},
     "output_type": "execute_result"
    }
   ],
   "source": [
    "pwd"
   ]
  },
  {
   "cell_type": "markdown",
   "metadata": {},
   "source": [
    "## Creating the Tensorboard Callback\n",
    "\n",
    "TensorBoard is a visualization tool provided with TensorFlow.\n",
    "\n",
    "This callback logs events for TensorBoard, including:\n",
    "* Metrics summary plots\n",
    "* Training graph visualization\n",
    "* Activation histograms\n",
    "* Sampled profiling\n",
    "\n",
    "If you have installed TensorFlow with pip, you should be able\n",
    "to launch TensorBoard from the command line:\n",
    "\n",
    "```sh\n",
    "tensorboard --logdir=path_to_your_logs\n",
    "```\n",
    "\n",
    "You can find more information about TensorBoard\n",
    "[here](https://www.tensorflow.org/tensorboard/).\n",
    "\n",
    "    Arguments:\n",
    "        log_dir: the path of the directory where to save the log files to be\n",
    "          parsed by TensorBoard.\n",
    "        histogram_freq: frequency (in epochs) at which to compute activation and\n",
    "          weight histograms for the layers of the model. If set to 0, histograms\n",
    "          won't be computed. Validation data (or split) must be specified for\n",
    "          histogram visualizations.\n",
    "        write_graph: whether to visualize the graph in TensorBoard. The log file\n",
    "          can become quite large when write_graph is set to True.\n",
    "        write_images: whether to write model weights to visualize as image in\n",
    "          TensorBoard.\n",
    "        update_freq: `'batch'` or `'epoch'` or integer. When using `'batch'`,\n",
    "          writes the losses and metrics to TensorBoard after each batch. The same\n",
    "          applies for `'epoch'`. If using an integer, let's say `1000`, the\n",
    "          callback will write the metrics and losses to TensorBoard every 1000\n",
    "          samples. Note that writing too frequently to TensorBoard can slow down\n",
    "          your training.\n",
    "        profile_batch: Profile the batch to sample compute characteristics. By\n",
    "          default, it will profile the second batch. Set profile_batch=0 to\n",
    "          disable profiling. Must run in TensorFlow eager mode.\n",
    "        embeddings_freq: frequency (in epochs) at which embedding layers will\n",
    "          be visualized. If set to 0, embeddings won't be visualized.\n",
    "       "
   ]
  },
  {
   "cell_type": "code",
   "execution_count": 35,
   "metadata": {},
   "outputs": [],
   "source": [
    "from datetime import datetime"
   ]
  },
  {
   "cell_type": "code",
   "execution_count": 36,
   "metadata": {},
   "outputs": [
    {
     "data": {
      "text/plain": [
       "'2020-11-08--1820'"
      ]
     },
     "execution_count": 36,
     "metadata": {},
     "output_type": "execute_result"
    }
   ],
   "source": [
    "datetime.now().strftime(\"%Y-%m-%d--%H%M\")"
   ]
  },
  {
   "cell_type": "code",
   "execution_count": 37,
   "metadata": {},
   "outputs": [],
   "source": [
    "# WINDOWS: Use \"logs\\\\fit\"\n",
    "# MACOS/LINUX: Use \"logs\\fit\"\n",
    "\n",
    "log_directory = 'logs/fit'\n",
    "\n",
    "# OPTIONAL: ADD A TIMESTAMP FOR UNIQUE FOLDER\n",
    "# timestamp = datetime.now().strftime(\"%Y-%m-%d--%H%M\")\n",
    "# log_directory = log_directory + '\\\\' + timestamp\n",
    "\n",
    "\n",
    "board = TensorBoard(log_dir=log_directory,histogram_freq=1,\n",
    "    write_graph=True,\n",
    "    write_images=True,\n",
    "    update_freq='epoch',\n",
    "    profile_batch=2,\n",
    "    embeddings_freq=1)"
   ]
  },
  {
   "cell_type": "markdown",
   "metadata": {},
   "source": [
    "Now create the model layers:"
   ]
  },
  {
   "cell_type": "code",
   "execution_count": 38,
   "metadata": {},
   "outputs": [],
   "source": [
    "model = Sequential()\n",
    "model.add(Dense(units=30,activation='relu'))\n",
    "model.add(Dropout(0.5))\n",
    "model.add(Dense(units=15,activation='relu'))\n",
    "model.add(Dropout(0.5))\n",
    "model.add(Dense(units=1,activation='sigmoid'))\n",
    "model.compile(loss='binary_crossentropy', optimizer='adam')"
   ]
  },
  {
   "cell_type": "markdown",
   "metadata": {},
   "source": [
    "## Train the Model"
   ]
  },
  {
   "cell_type": "code",
   "execution_count": 39,
   "metadata": {},
   "outputs": [
    {
     "name": "stdout",
     "output_type": "stream",
     "text": [
      "Epoch 1/600\n",
      " 1/14 [=>............................] - ETA: 0s - loss: 0.7754WARNING:tensorflow:Callbacks method `on_train_batch_end` is slow compared to the batch time (batch time: 0.0009s vs `on_train_batch_end` time: 0.0290s). Check your callbacks.\n",
      "14/14 [==============================] - 0s 9ms/step - loss: 0.7319 - val_loss: 0.7011\n",
      "Epoch 2/600\n",
      "14/14 [==============================] - 0s 3ms/step - loss: 0.7154 - val_loss: 0.6846\n",
      "Epoch 3/600\n",
      "14/14 [==============================] - 0s 3ms/step - loss: 0.6960 - val_loss: 0.6758\n",
      "Epoch 4/600\n",
      "14/14 [==============================] - 0s 3ms/step - loss: 0.6989 - val_loss: 0.6607\n",
      "Epoch 5/600\n",
      "14/14 [==============================] - 0s 3ms/step - loss: 0.6707 - val_loss: 0.6426\n",
      "Epoch 6/600\n",
      "14/14 [==============================] - 0s 3ms/step - loss: 0.6621 - val_loss: 0.6254\n",
      "Epoch 7/600\n",
      "14/14 [==============================] - 0s 3ms/step - loss: 0.6474 - val_loss: 0.6100\n",
      "Epoch 8/600\n",
      "14/14 [==============================] - 0s 3ms/step - loss: 0.6281 - val_loss: 0.5911\n",
      "Epoch 9/600\n",
      "14/14 [==============================] - 0s 3ms/step - loss: 0.6152 - val_loss: 0.5640\n",
      "Epoch 10/600\n",
      "14/14 [==============================] - 0s 3ms/step - loss: 0.5869 - val_loss: 0.5353\n",
      "Epoch 11/600\n",
      "14/14 [==============================] - 0s 3ms/step - loss: 0.5639 - val_loss: 0.5035\n",
      "Epoch 12/600\n",
      "14/14 [==============================] - 0s 3ms/step - loss: 0.5351 - val_loss: 0.4767\n",
      "Epoch 13/600\n",
      "14/14 [==============================] - 0s 3ms/step - loss: 0.4933 - val_loss: 0.4464\n",
      "Epoch 14/600\n",
      "14/14 [==============================] - 0s 3ms/step - loss: 0.4902 - val_loss: 0.4202\n",
      "Epoch 15/600\n",
      "14/14 [==============================] - 0s 3ms/step - loss: 0.4896 - val_loss: 0.3932\n",
      "Epoch 16/600\n",
      "14/14 [==============================] - 0s 3ms/step - loss: 0.4665 - val_loss: 0.3715\n",
      "Epoch 17/600\n",
      "14/14 [==============================] - 0s 3ms/step - loss: 0.4346 - val_loss: 0.3455\n",
      "Epoch 18/600\n",
      "14/14 [==============================] - 0s 3ms/step - loss: 0.4215 - val_loss: 0.3228\n",
      "Epoch 19/600\n",
      "14/14 [==============================] - 0s 3ms/step - loss: 0.4070 - val_loss: 0.3098\n",
      "Epoch 20/600\n",
      "14/14 [==============================] - 0s 3ms/step - loss: 0.3965 - val_loss: 0.2868\n",
      "Epoch 21/600\n",
      "14/14 [==============================] - 0s 3ms/step - loss: 0.3800 - val_loss: 0.2729\n",
      "Epoch 22/600\n",
      "14/14 [==============================] - 0s 3ms/step - loss: 0.3499 - val_loss: 0.2583\n",
      "Epoch 23/600\n",
      "14/14 [==============================] - 0s 3ms/step - loss: 0.3619 - val_loss: 0.2446\n",
      "Epoch 24/600\n",
      "14/14 [==============================] - 0s 3ms/step - loss: 0.3374 - val_loss: 0.2245\n",
      "Epoch 25/600\n",
      "14/14 [==============================] - 0s 3ms/step - loss: 0.3230 - val_loss: 0.2185\n",
      "Epoch 26/600\n",
      "14/14 [==============================] - 0s 3ms/step - loss: 0.2998 - val_loss: 0.2031\n",
      "Epoch 27/600\n",
      "14/14 [==============================] - 0s 3ms/step - loss: 0.3003 - val_loss: 0.1931\n",
      "Epoch 28/600\n",
      "14/14 [==============================] - 0s 3ms/step - loss: 0.3056 - val_loss: 0.1904\n",
      "Epoch 29/600\n",
      "14/14 [==============================] - 0s 3ms/step - loss: 0.2822 - val_loss: 0.1816\n",
      "Epoch 30/600\n",
      "14/14 [==============================] - 0s 3ms/step - loss: 0.2713 - val_loss: 0.1715\n",
      "Epoch 31/600\n",
      "14/14 [==============================] - 0s 3ms/step - loss: 0.2780 - val_loss: 0.1616\n",
      "Epoch 32/600\n",
      "14/14 [==============================] - 0s 3ms/step - loss: 0.2684 - val_loss: 0.1591\n",
      "Epoch 33/600\n",
      "14/14 [==============================] - 0s 3ms/step - loss: 0.2586 - val_loss: 0.1550\n",
      "Epoch 34/600\n",
      "14/14 [==============================] - 0s 3ms/step - loss: 0.2307 - val_loss: 0.1499\n",
      "Epoch 35/600\n",
      "14/14 [==============================] - 0s 3ms/step - loss: 0.2200 - val_loss: 0.1395\n",
      "Epoch 36/600\n",
      "14/14 [==============================] - 0s 3ms/step - loss: 0.2444 - val_loss: 0.1340\n",
      "Epoch 37/600\n",
      "14/14 [==============================] - 0s 3ms/step - loss: 0.2119 - val_loss: 0.1477\n",
      "Epoch 38/600\n",
      "14/14 [==============================] - 0s 3ms/step - loss: 0.2548 - val_loss: 0.1335\n",
      "Epoch 39/600\n",
      "14/14 [==============================] - 0s 3ms/step - loss: 0.2322 - val_loss: 0.1307\n",
      "Epoch 40/600\n",
      "14/14 [==============================] - 0s 3ms/step - loss: 0.2129 - val_loss: 0.1381\n",
      "Epoch 41/600\n",
      "14/14 [==============================] - 0s 3ms/step - loss: 0.2229 - val_loss: 0.1260\n",
      "Epoch 42/600\n",
      "14/14 [==============================] - 0s 3ms/step - loss: 0.2035 - val_loss: 0.1228\n",
      "Epoch 43/600\n",
      "14/14 [==============================] - 0s 3ms/step - loss: 0.1974 - val_loss: 0.1180\n",
      "Epoch 44/600\n",
      "14/14 [==============================] - 0s 3ms/step - loss: 0.1914 - val_loss: 0.1186\n",
      "Epoch 45/600\n",
      "14/14 [==============================] - 0s 3ms/step - loss: 0.2030 - val_loss: 0.1134\n",
      "Epoch 46/600\n",
      "14/14 [==============================] - 0s 3ms/step - loss: 0.2201 - val_loss: 0.1133\n",
      "Epoch 47/600\n",
      "14/14 [==============================] - 0s 2ms/step - loss: 0.2040 - val_loss: 0.1168\n",
      "Epoch 48/600\n",
      "14/14 [==============================] - 0s 3ms/step - loss: 0.1967 - val_loss: 0.1131\n",
      "Epoch 49/600\n",
      "14/14 [==============================] - 0s 3ms/step - loss: 0.1819 - val_loss: 0.1214\n",
      "Epoch 50/600\n",
      "14/14 [==============================] - 0s 3ms/step - loss: 0.1985 - val_loss: 0.1123\n",
      "Epoch 51/600\n",
      "14/14 [==============================] - 0s 3ms/step - loss: 0.1746 - val_loss: 0.1100\n",
      "Epoch 52/600\n",
      "14/14 [==============================] - 0s 3ms/step - loss: 0.1654 - val_loss: 0.1051\n",
      "Epoch 53/600\n",
      "14/14 [==============================] - 0s 3ms/step - loss: 0.1694 - val_loss: 0.1076\n",
      "Epoch 54/600\n",
      "14/14 [==============================] - 0s 3ms/step - loss: 0.1683 - val_loss: 0.1030\n",
      "Epoch 55/600\n",
      "14/14 [==============================] - 0s 3ms/step - loss: 0.1757 - val_loss: 0.1043\n",
      "Epoch 56/600\n",
      "14/14 [==============================] - 0s 3ms/step - loss: 0.1837 - val_loss: 0.1038\n",
      "Epoch 57/600\n",
      "14/14 [==============================] - 0s 3ms/step - loss: 0.1754 - val_loss: 0.1012\n",
      "Epoch 58/600\n",
      "14/14 [==============================] - 0s 3ms/step - loss: 0.1418 - val_loss: 0.0998\n",
      "Epoch 59/600\n",
      "14/14 [==============================] - 0s 3ms/step - loss: 0.1759 - val_loss: 0.0981\n",
      "Epoch 60/600\n",
      "14/14 [==============================] - 0s 3ms/step - loss: 0.1566 - val_loss: 0.0979\n",
      "Epoch 61/600\n",
      "14/14 [==============================] - 0s 3ms/step - loss: 0.1609 - val_loss: 0.0971\n",
      "Epoch 62/600\n",
      "14/14 [==============================] - 0s 3ms/step - loss: 0.1556 - val_loss: 0.0949\n",
      "Epoch 63/600\n",
      "14/14 [==============================] - 0s 3ms/step - loss: 0.1526 - val_loss: 0.0947\n",
      "Epoch 64/600\n",
      "14/14 [==============================] - 0s 3ms/step - loss: 0.1444 - val_loss: 0.0952\n",
      "Epoch 65/600\n",
      "14/14 [==============================] - 0s 3ms/step - loss: 0.1723 - val_loss: 0.1036\n",
      "Epoch 66/600\n",
      "14/14 [==============================] - 0s 3ms/step - loss: 0.1448 - val_loss: 0.0982\n",
      "Epoch 67/600\n",
      "14/14 [==============================] - 0s 3ms/step - loss: 0.1424 - val_loss: 0.0961\n",
      "Epoch 68/600\n",
      "14/14 [==============================] - 0s 3ms/step - loss: 0.1355 - val_loss: 0.0915\n",
      "Epoch 69/600\n",
      "14/14 [==============================] - 0s 3ms/step - loss: 0.1459 - val_loss: 0.0899\n",
      "Epoch 70/600\n",
      "14/14 [==============================] - 0s 3ms/step - loss: 0.1464 - val_loss: 0.0943\n",
      "Epoch 71/600\n",
      "14/14 [==============================] - 0s 3ms/step - loss: 0.1231 - val_loss: 0.0938\n",
      "Epoch 72/600\n",
      "14/14 [==============================] - 0s 3ms/step - loss: 0.1476 - val_loss: 0.0897\n",
      "Epoch 73/600\n",
      "14/14 [==============================] - 0s 3ms/step - loss: 0.1199 - val_loss: 0.0877\n",
      "Epoch 74/600\n",
      "14/14 [==============================] - 0s 2ms/step - loss: 0.1519 - val_loss: 0.0920\n",
      "Epoch 75/600\n",
      "14/14 [==============================] - 0s 2ms/step - loss: 0.1383 - val_loss: 0.0909\n",
      "Epoch 76/600\n",
      "14/14 [==============================] - 0s 3ms/step - loss: 0.1206 - val_loss: 0.0945\n",
      "Epoch 77/600\n",
      "14/14 [==============================] - 0s 3ms/step - loss: 0.1414 - val_loss: 0.0912\n",
      "Epoch 78/600\n",
      "14/14 [==============================] - 0s 3ms/step - loss: 0.1220 - val_loss: 0.0846\n",
      "Epoch 79/600\n",
      "14/14 [==============================] - 0s 3ms/step - loss: 0.1284 - val_loss: 0.0931\n",
      "Epoch 80/600\n"
     ]
    },
    {
     "name": "stdout",
     "output_type": "stream",
     "text": [
      "14/14 [==============================] - 0s 3ms/step - loss: 0.1304 - val_loss: 0.0928\n",
      "Epoch 81/600\n",
      "14/14 [==============================] - 0s 2ms/step - loss: 0.1187 - val_loss: 0.0859\n",
      "Epoch 82/600\n",
      "14/14 [==============================] - 0s 2ms/step - loss: 0.1287 - val_loss: 0.0891\n",
      "Epoch 83/600\n",
      "14/14 [==============================] - 0s 2ms/step - loss: 0.1251 - val_loss: 0.0877\n",
      "Epoch 84/600\n",
      "14/14 [==============================] - 0s 2ms/step - loss: 0.1206 - val_loss: 0.0928\n",
      "Epoch 85/600\n",
      "14/14 [==============================] - 0s 2ms/step - loss: 0.1418 - val_loss: 0.0842\n",
      "Epoch 86/600\n",
      "14/14 [==============================] - 0s 2ms/step - loss: 0.1261 - val_loss: 0.0841\n",
      "Epoch 87/600\n",
      "14/14 [==============================] - 0s 2ms/step - loss: 0.1374 - val_loss: 0.1038\n",
      "Epoch 88/600\n",
      "14/14 [==============================] - 0s 2ms/step - loss: 0.1292 - val_loss: 0.0883\n",
      "Epoch 89/600\n",
      "14/14 [==============================] - 0s 2ms/step - loss: 0.1200 - val_loss: 0.0922\n",
      "Epoch 90/600\n",
      "14/14 [==============================] - 0s 2ms/step - loss: 0.1069 - val_loss: 0.0878\n",
      "Epoch 91/600\n",
      "14/14 [==============================] - 0s 3ms/step - loss: 0.1158 - val_loss: 0.0824\n",
      "Epoch 92/600\n",
      "14/14 [==============================] - 0s 2ms/step - loss: 0.1445 - val_loss: 0.0817\n",
      "Epoch 93/600\n",
      "14/14 [==============================] - 0s 2ms/step - loss: 0.1152 - val_loss: 0.1016\n",
      "Epoch 94/600\n",
      "14/14 [==============================] - 0s 3ms/step - loss: 0.1271 - val_loss: 0.0860\n",
      "Epoch 95/600\n",
      "14/14 [==============================] - 0s 2ms/step - loss: 0.1006 - val_loss: 0.0849\n",
      "Epoch 96/600\n",
      "14/14 [==============================] - 0s 2ms/step - loss: 0.1317 - val_loss: 0.0883\n",
      "Epoch 97/600\n",
      "14/14 [==============================] - 0s 2ms/step - loss: 0.1084 - val_loss: 0.0836\n",
      "Epoch 98/600\n",
      "14/14 [==============================] - 0s 2ms/step - loss: 0.1176 - val_loss: 0.0877\n",
      "Epoch 99/600\n",
      "14/14 [==============================] - 0s 2ms/step - loss: 0.0962 - val_loss: 0.0848\n",
      "Epoch 100/600\n",
      "14/14 [==============================] - 0s 2ms/step - loss: 0.1039 - val_loss: 0.0858\n",
      "Epoch 101/600\n",
      "14/14 [==============================] - 0s 2ms/step - loss: 0.1236 - val_loss: 0.0843\n",
      "Epoch 102/600\n",
      "14/14 [==============================] - 0s 2ms/step - loss: 0.1051 - val_loss: 0.0886\n",
      "Epoch 103/600\n",
      "14/14 [==============================] - 0s 2ms/step - loss: 0.1168 - val_loss: 0.0851\n",
      "Epoch 104/600\n",
      "14/14 [==============================] - 0s 2ms/step - loss: 0.1026 - val_loss: 0.0826\n",
      "Epoch 105/600\n",
      "14/14 [==============================] - 0s 2ms/step - loss: 0.1101 - val_loss: 0.0866\n",
      "Epoch 106/600\n",
      "14/14 [==============================] - 0s 2ms/step - loss: 0.1163 - val_loss: 0.0902\n",
      "Epoch 107/600\n",
      "14/14 [==============================] - 0s 2ms/step - loss: 0.1259 - val_loss: 0.0841\n",
      "Epoch 108/600\n",
      "14/14 [==============================] - 0s 2ms/step - loss: 0.1028 - val_loss: 0.0861\n",
      "Epoch 109/600\n",
      "14/14 [==============================] - 0s 2ms/step - loss: 0.1099 - val_loss: 0.0829\n",
      "Epoch 110/600\n",
      "14/14 [==============================] - 0s 2ms/step - loss: 0.1101 - val_loss: 0.0854\n",
      "Epoch 111/600\n",
      "14/14 [==============================] - 0s 2ms/step - loss: 0.1081 - val_loss: 0.0786\n",
      "Epoch 112/600\n",
      "14/14 [==============================] - 0s 2ms/step - loss: 0.0903 - val_loss: 0.0781\n",
      "Epoch 113/600\n",
      "14/14 [==============================] - 0s 2ms/step - loss: 0.1076 - val_loss: 0.0916\n",
      "Epoch 114/600\n",
      "14/14 [==============================] - 0s 2ms/step - loss: 0.0953 - val_loss: 0.0809\n",
      "Epoch 115/600\n",
      "14/14 [==============================] - 0s 2ms/step - loss: 0.0974 - val_loss: 0.0819\n",
      "Epoch 116/600\n",
      "14/14 [==============================] - 0s 2ms/step - loss: 0.0843 - val_loss: 0.0837\n",
      "Epoch 117/600\n",
      "14/14 [==============================] - 0s 2ms/step - loss: 0.1070 - val_loss: 0.0877\n",
      "Epoch 118/600\n",
      "14/14 [==============================] - 0s 2ms/step - loss: 0.1010 - val_loss: 0.0841\n",
      "Epoch 119/600\n",
      "14/14 [==============================] - 0s 2ms/step - loss: 0.1032 - val_loss: 0.0834\n",
      "Epoch 120/600\n",
      "14/14 [==============================] - 0s 2ms/step - loss: 0.0931 - val_loss: 0.0842\n",
      "Epoch 121/600\n",
      "14/14 [==============================] - 0s 2ms/step - loss: 0.0851 - val_loss: 0.0836\n",
      "Epoch 122/600\n",
      "14/14 [==============================] - 0s 2ms/step - loss: 0.0880 - val_loss: 0.0782\n",
      "Epoch 123/600\n",
      "14/14 [==============================] - 0s 2ms/step - loss: 0.0979 - val_loss: 0.0786\n",
      "Epoch 124/600\n",
      "14/14 [==============================] - 0s 3ms/step - loss: 0.1050 - val_loss: 0.0922\n",
      "Epoch 125/600\n",
      "14/14 [==============================] - 0s 2ms/step - loss: 0.0941 - val_loss: 0.0856\n",
      "Epoch 126/600\n",
      "14/14 [==============================] - 0s 2ms/step - loss: 0.0918 - val_loss: 0.0855\n",
      "Epoch 127/600\n",
      "14/14 [==============================] - 0s 2ms/step - loss: 0.0904 - val_loss: 0.0835\n",
      "Epoch 128/600\n",
      "14/14 [==============================] - 0s 2ms/step - loss: 0.0917 - val_loss: 0.0932\n",
      "Epoch 129/600\n",
      "14/14 [==============================] - 0s 2ms/step - loss: 0.0913 - val_loss: 0.0878\n",
      "Epoch 130/600\n",
      "14/14 [==============================] - 0s 2ms/step - loss: 0.0975 - val_loss: 0.0800\n",
      "Epoch 131/600\n",
      "14/14 [==============================] - 0s 2ms/step - loss: 0.1025 - val_loss: 0.0803\n",
      "Epoch 132/600\n",
      "14/14 [==============================] - 0s 2ms/step - loss: 0.1005 - val_loss: 0.0880\n",
      "Epoch 133/600\n",
      "14/14 [==============================] - 0s 2ms/step - loss: 0.0852 - val_loss: 0.0905\n",
      "Epoch 134/600\n",
      "14/14 [==============================] - 0s 2ms/step - loss: 0.0910 - val_loss: 0.0796\n",
      "Epoch 135/600\n",
      "14/14 [==============================] - 0s 2ms/step - loss: 0.0927 - val_loss: 0.0940\n",
      "Epoch 136/600\n",
      "14/14 [==============================] - 0s 2ms/step - loss: 0.1112 - val_loss: 0.0816\n",
      "Epoch 137/600\n",
      "14/14 [==============================] - 0s 2ms/step - loss: 0.0890 - val_loss: 0.0810\n",
      "Epoch 00137: early stopping\n"
     ]
    },
    {
     "data": {
      "text/plain": [
       "<tensorflow.python.keras.callbacks.History at 0x7fea0500b430>"
      ]
     },
     "execution_count": 39,
     "metadata": {},
     "output_type": "execute_result"
    }
   ],
   "source": [
    "model.fit(x=X_train, \n",
    "          y=y_train, \n",
    "          epochs=600,\n",
    "          validation_data=(X_test, y_test), verbose=1,\n",
    "          callbacks=[early_stop,board]\n",
    "          )"
   ]
  },
  {
   "cell_type": "markdown",
   "metadata": {},
   "source": [
    "# Running Tensorboard\n"
   ]
  },
  {
   "cell_type": "markdown",
   "metadata": {},
   "source": [
    "## Running through the Command Line\n",
    "\n",
    "**Watch video to see how to run Tensorboard through a command line call.**"
   ]
  },
  {
   "cell_type": "markdown",
   "metadata": {},
   "source": [
    "Tensorboard will run locally in your browser at [http://localhost:6006/](http://localhost:6006/)\n"
   ]
  },
  {
   "cell_type": "code",
   "execution_count": 40,
   "metadata": {},
   "outputs": [
    {
     "name": "stdout",
     "output_type": "stream",
     "text": [
      "logs/fit\n"
     ]
    }
   ],
   "source": [
    "print(log_directory)"
   ]
  },
  {
   "cell_type": "code",
   "execution_count": 41,
   "metadata": {},
   "outputs": [
    {
     "data": {
      "text/plain": [
       "'/Users/JS 1/Documents/PythonMLBootcamp/TensorFlow_FILES/ANNs'"
      ]
     },
     "execution_count": 41,
     "metadata": {},
     "output_type": "execute_result"
    }
   ],
   "source": [
    "pwd"
   ]
  },
  {
   "cell_type": "markdown",
   "metadata": {},
   "source": [
    "### Use cd at your command line to change directory to the file path reported back by pwd or your current .py file location.\n",
    "### Then run this code at your command line or terminal"
   ]
  },
  {
   "cell_type": "code",
   "execution_count": 21,
   "metadata": {},
   "outputs": [
    {
     "ename": "SyntaxError",
     "evalue": "invalid syntax (<ipython-input-21-f1f15e2adad4>, line 1)",
     "output_type": "error",
     "traceback": [
      "\u001b[0;36m  File \u001b[0;32m\"<ipython-input-21-f1f15e2adad4>\"\u001b[0;36m, line \u001b[0;32m1\u001b[0m\n\u001b[0;31m    tensorboard --logdir logs\\fit\u001b[0m\n\u001b[0m                         ^\u001b[0m\n\u001b[0;31mSyntaxError\u001b[0m\u001b[0;31m:\u001b[0m invalid syntax\n"
     ]
    }
   ],
   "source": [
    "tensorboard --logdir logs/fit "
   ]
  },
  {
   "cell_type": "code",
   "execution_count": null,
   "metadata": {},
   "outputs": [],
   "source": []
  }
 ],
 "metadata": {
  "kernelspec": {
   "display_name": "Python 3",
   "language": "python",
   "name": "python3"
  },
  "language_info": {
   "codemirror_mode": {
    "name": "ipython",
    "version": 3
   },
   "file_extension": ".py",
   "mimetype": "text/x-python",
   "name": "python",
   "nbconvert_exporter": "python",
   "pygments_lexer": "ipython3",
   "version": "3.8.3"
  }
 },
 "nbformat": 4,
 "nbformat_minor": 2
}
